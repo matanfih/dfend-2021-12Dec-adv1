{
 "cells": [
  {
   "cell_type": "markdown",
   "id": "11b6a811",
   "metadata": {},
   "source": [
    "# Agenda\n",
    "\n",
    "1. Functions\n",
    "    - Parameters: `**kwargs`, `*`, positional-only\n",
    "    - Scoping (LEGB)\n",
    "    - Inner functions\n",
    "    - Dispatch tables\n",
    "2. Comprehensions\n",
    "    - List\n",
    "    - Set\n",
    "    - Dict\n",
    "    - Nested\n",
    "3. Functional programming\n",
    "    - Functions as arguments\n",
    "    - `lambda`\n",
    "4. Modules and packages"
   ]
  },
  {
   "cell_type": "code",
   "execution_count": 1,
   "id": "c99fb219",
   "metadata": {},
   "outputs": [],
   "source": [
    "# https://github.com/reuven\n",
    "# https://github.com/reuven/dfend-2021-12Dec-adv1/blob/main/2021-12Dec-23.ipynb"
   ]
  },
  {
   "cell_type": "code",
   "execution_count": 3,
   "id": "4ca5ce14",
   "metadata": {},
   "outputs": [
    {
     "data": {
      "text/plain": [
       "13"
      ]
     },
     "execution_count": 3,
     "metadata": {},
     "output_type": "execute_result"
    }
   ],
   "source": [
    "# positional -- 10, 20,30\n",
    "# keyword  -- always in the form name=value\n",
    "#     a=10, b=20 -- keyword arguments\n",
    "\n",
    "def add(first, second):\n",
    "    return first + second\n",
    "\n",
    "add(10, 3)   # both positional"
   ]
  },
  {
   "cell_type": "code",
   "execution_count": 4,
   "id": "dc4fe1bf",
   "metadata": {},
   "outputs": [
    {
     "data": {
      "text/plain": [
       "3"
      ]
     },
     "execution_count": 4,
     "metadata": {},
     "output_type": "execute_result"
    }
   ],
   "source": [
    "add(first=1, second=2)   # both keyword"
   ]
  },
  {
   "cell_type": "code",
   "execution_count": 5,
   "id": "7bf83a38",
   "metadata": {},
   "outputs": [
    {
     "data": {
      "text/plain": [
       "3"
      ]
     },
     "execution_count": 5,
     "metadata": {},
     "output_type": "execute_result"
    }
   ],
   "source": [
    "add(1, second=2)   # first positional, then keyword"
   ]
  },
  {
   "cell_type": "code",
   "execution_count": 6,
   "id": "869df9eb",
   "metadata": {},
   "outputs": [
    {
     "data": {
      "text/plain": [
       "70"
      ]
     },
     "execution_count": 6,
     "metadata": {},
     "output_type": "execute_result"
    }
   ],
   "source": [
    "\n",
    "def mysum(start, *args):\n",
    "    total = start\n",
    "    for one_number in args:\n",
    "        total += one_number\n",
    "    return total\n",
    "\n",
    "mysum(10, 10, 20, 30)   # 10-> start, (10,20,30)->args"
   ]
  },
  {
   "cell_type": "code",
   "execution_count": 8,
   "id": "4ba907cd",
   "metadata": {},
   "outputs": [
    {
     "ename": "TypeError",
     "evalue": "mysum() missing 1 required keyword-only argument: 'start'",
     "output_type": "error",
     "traceback": [
      "\u001b[0;31m---------------------------------------------------------------------------\u001b[0m",
      "\u001b[0;31mTypeError\u001b[0m                                 Traceback (most recent call last)",
      "\u001b[0;32m/var/folders/d9/v8tsklln4477fll05wkgcpth0000gn/T/ipykernel_3260/1533741639.py\u001b[0m in \u001b[0;36m<module>\u001b[0;34m\u001b[0m\n\u001b[1;32m      7\u001b[0m     \u001b[0;32mreturn\u001b[0m \u001b[0mtotal\u001b[0m\u001b[0;34m\u001b[0m\u001b[0;34m\u001b[0m\u001b[0m\n\u001b[1;32m      8\u001b[0m \u001b[0;34m\u001b[0m\u001b[0m\n\u001b[0;32m----> 9\u001b[0;31m \u001b[0mmysum\u001b[0m\u001b[0;34m(\u001b[0m\u001b[0;36m10\u001b[0m\u001b[0;34m,\u001b[0m \u001b[0;36m20\u001b[0m\u001b[0;34m,\u001b[0m \u001b[0;36m30\u001b[0m\u001b[0;34m)\u001b[0m   \u001b[0;31m# error!\u001b[0m\u001b[0;34m\u001b[0m\u001b[0;34m\u001b[0m\u001b[0m\n\u001b[0m",
      "\u001b[0;31mTypeError\u001b[0m: mysum() missing 1 required keyword-only argument: 'start'"
     ]
    }
   ],
   "source": [
    "# make start a keyword-only parameter\n",
    "\n",
    "def mysum(*args, start):  # args gets all positional, start is keyword only\n",
    "    total = start\n",
    "    for one_number in args:\n",
    "        total += one_number\n",
    "    return total\n",
    "\n",
    "mysum(10, 20, 30)   # error!  "
   ]
  },
  {
   "cell_type": "code",
   "execution_count": 9,
   "id": "a271a294",
   "metadata": {},
   "outputs": [
    {
     "data": {
      "text/plain": [
       "75"
      ]
     },
     "execution_count": 9,
     "metadata": {},
     "output_type": "execute_result"
    }
   ],
   "source": [
    "mysum(10, 20, 30, start=15)"
   ]
  },
  {
   "cell_type": "code",
   "execution_count": 10,
   "id": "9aa63e58",
   "metadata": {},
   "outputs": [
    {
     "data": {
      "text/plain": [
       "[100, 200, 10, 20, 30, 40]"
      ]
     },
     "execution_count": 10,
     "metadata": {},
     "output_type": "execute_result"
    }
   ],
   "source": [
    "mysum([100, 200], [10, 20, 30], [40], start=[])"
   ]
  },
  {
   "cell_type": "code",
   "execution_count": 12,
   "id": "6db3554f",
   "metadata": {},
   "outputs": [
    {
     "data": {
      "text/plain": [
       "60"
      ]
     },
     "execution_count": 12,
     "metadata": {},
     "output_type": "execute_result"
    }
   ],
   "source": [
    "# make start a keyword-only parameter\n",
    "\n",
    "def mysum(*args, start=0):  # args gets all positional, start is keyword only with a default\n",
    "    total = start\n",
    "    for one_number in args:\n",
    "        total += one_number\n",
    "    return total\n",
    "\n",
    "mysum(10, 20, 30)  "
   ]
  },
  {
   "cell_type": "code",
   "execution_count": 13,
   "id": "ac587e4e",
   "metadata": {},
   "outputs": [
    {
     "name": "stdout",
     "output_type": "stream",
     "text": [
      "Help on built-in function sum in module builtins:\n",
      "\n",
      "sum(iterable, /, start=0)\n",
      "    Return the sum of a 'start' value (default: 0) plus an iterable of numbers\n",
      "    \n",
      "    When the iterable is empty, return the start value.\n",
      "    This function is intended specifically for use with numeric values and may\n",
      "    reject non-numeric types.\n",
      "\n"
     ]
    }
   ],
   "source": [
    "help(sum)"
   ]
  },
  {
   "cell_type": "code",
   "execution_count": 14,
   "id": "353e6974",
   "metadata": {},
   "outputs": [
    {
     "data": {
      "text/plain": [
       "'a=100, b=200, c=300'"
      ]
     },
     "execution_count": 14,
     "metadata": {},
     "output_type": "execute_result"
    }
   ],
   "source": [
    "def myfunc(a, b, c):\n",
    "    return f'{a=}, {b=}, {c=}'\n",
    "\n",
    "myfunc(a=100, b=200, c=300)"
   ]
  },
  {
   "cell_type": "code",
   "execution_count": 15,
   "id": "d0d999fe",
   "metadata": {},
   "outputs": [
    {
     "ename": "TypeError",
     "evalue": "myfunc() got an unexpected keyword argument 'd'",
     "output_type": "error",
     "traceback": [
      "\u001b[0;31m---------------------------------------------------------------------------\u001b[0m",
      "\u001b[0;31mTypeError\u001b[0m                                 Traceback (most recent call last)",
      "\u001b[0;32m/var/folders/d9/v8tsklln4477fll05wkgcpth0000gn/T/ipykernel_3260/2069549332.py\u001b[0m in \u001b[0;36m<module>\u001b[0;34m\u001b[0m\n\u001b[0;32m----> 1\u001b[0;31m \u001b[0mmyfunc\u001b[0m\u001b[0;34m(\u001b[0m\u001b[0ma\u001b[0m\u001b[0;34m=\u001b[0m\u001b[0;36m100\u001b[0m\u001b[0;34m,\u001b[0m \u001b[0mb\u001b[0m\u001b[0;34m=\u001b[0m\u001b[0;36m200\u001b[0m\u001b[0;34m,\u001b[0m \u001b[0mc\u001b[0m\u001b[0;34m=\u001b[0m\u001b[0;36m300\u001b[0m\u001b[0;34m,\u001b[0m \u001b[0md\u001b[0m\u001b[0;34m=\u001b[0m\u001b[0;36m400\u001b[0m\u001b[0;34m)\u001b[0m\u001b[0;34m\u001b[0m\u001b[0;34m\u001b[0m\u001b[0m\n\u001b[0m",
      "\u001b[0;31mTypeError\u001b[0m: myfunc() got an unexpected keyword argument 'd'"
     ]
    }
   ],
   "source": [
    "myfunc(a=100, b=200, c=300, d=400)"
   ]
  },
  {
   "cell_type": "code",
   "execution_count": 16,
   "id": "19a1e6a7",
   "metadata": {},
   "outputs": [
    {
     "data": {
      "text/plain": [
       "\"a=100, b=200, c=300, kwargs={'d': 400, 'e': [10, 20, 30]}\""
      ]
     },
     "execution_count": 16,
     "metadata": {},
     "output_type": "execute_result"
    }
   ],
   "source": [
    "# **kwargs -- keyword arguments -- kwargs always a dict!\n",
    "# kwargs has all keyword pairs that no other parameter got\n",
    "\n",
    "def myfunc(a, b, c, **kwargs):\n",
    "    return f'{a=}, {b=}, {c=}, {kwargs=}'\n",
    "\n",
    "myfunc(a=100, b=200, c=300, d=400, e=[10, 20, 30])"
   ]
  },
  {
   "cell_type": "code",
   "execution_count": 17,
   "id": "2c34695b",
   "metadata": {},
   "outputs": [],
   "source": [
    "def write_config(filename, **kwargs):\n",
    "    with open(filename, 'w') as f:\n",
    "        for key, value in kwargs.items():\n",
    "            f.write(f'{key}:{value}\\n')"
   ]
  },
  {
   "cell_type": "code",
   "execution_count": 18,
   "id": "755cc48b",
   "metadata": {},
   "outputs": [],
   "source": [
    "write_config('myconfig.txt', a=100, b=[20, 30, 40], c=123.456, d='hello')"
   ]
  },
  {
   "cell_type": "code",
   "execution_count": 19,
   "id": "4c939405",
   "metadata": {},
   "outputs": [
    {
     "name": "stdout",
     "output_type": "stream",
     "text": [
      "a:100\r\n",
      "b:[20, 30, 40]\r\n",
      "c:123.456\r\n",
      "d:hello\r\n"
     ]
    }
   ],
   "source": [
    "!cat myconfig.txt"
   ]
  },
  {
   "cell_type": "code",
   "execution_count": 22,
   "id": "d99020a3",
   "metadata": {},
   "outputs": [
    {
     "ename": "TypeError",
     "evalue": "write_config() got multiple values for argument 'filename'",
     "output_type": "error",
     "traceback": [
      "\u001b[0;31m---------------------------------------------------------------------------\u001b[0m",
      "\u001b[0;31mTypeError\u001b[0m                                 Traceback (most recent call last)",
      "\u001b[0;32m/var/folders/d9/v8tsklln4477fll05wkgcpth0000gn/T/ipykernel_3260/3410723054.py\u001b[0m in \u001b[0;36m<module>\u001b[0;34m\u001b[0m\n\u001b[1;32m      1\u001b[0m \u001b[0;31m#           positional->filename\u001b[0m\u001b[0;34m\u001b[0m\u001b[0;34m\u001b[0m\u001b[0m\n\u001b[0;32m----> 2\u001b[0;31m \u001b[0mwrite_config\u001b[0m\u001b[0;34m(\u001b[0m\u001b[0;34m'myconfig.txt'\u001b[0m\u001b[0;34m,\u001b[0m \u001b[0mfilename\u001b[0m\u001b[0;34m=\u001b[0m\u001b[0;34m'a'\u001b[0m\u001b[0;34m,\u001b[0m \u001b[0mx\u001b[0m\u001b[0;34m=\u001b[0m\u001b[0;36m100\u001b[0m\u001b[0;34m)\u001b[0m\u001b[0;34m\u001b[0m\u001b[0;34m\u001b[0m\u001b[0m\n\u001b[0m",
      "\u001b[0;31mTypeError\u001b[0m: write_config() got multiple values for argument 'filename'"
     ]
    }
   ],
   "source": [
    "#           positional->filename\n",
    "write_config('myconfig.txt', filename='a', x=100)"
   ]
  },
  {
   "cell_type": "markdown",
   "id": "88c67d44",
   "metadata": {},
   "source": [
    "# Exercise: XML writer\n",
    "\n",
    "1. Write a function called `xml` that takes several arguments:\n",
    "    - tag name\n",
    "    - text content between the open-close tags\n",
    "    - keyword arguments with attributes\n",
    "2. The function should return a string with valid XML.\n",
    "\n",
    "Example:\n",
    "\n",
    "```python\n",
    "xml('tagname')                   # <tagname></tagname>\n",
    "xml('tagname', 'a')              # <tagname>a</tagname>\n",
    "xml('tagname', 'a', x=100)       # <tagname x=\"100\">a</tagname>\n",
    "xml('tagname', 'a', x=1, b=2)    # <tagname x=\"1\" b=\"2\">a</tagname>\n",
    "```"
   ]
  },
  {
   "cell_type": "code",
   "execution_count": 23,
   "id": "3a834516",
   "metadata": {},
   "outputs": [
    {
     "name": "stdout",
     "output_type": "stream",
     "text": [
      "abc\n",
      "def\n"
     ]
    }
   ],
   "source": [
    "print('abc')\n",
    "print('def')"
   ]
  },
  {
   "cell_type": "code",
   "execution_count": 24,
   "id": "c0181aab",
   "metadata": {},
   "outputs": [
    {
     "name": "stdout",
     "output_type": "stream",
     "text": [
      "abc***def\n"
     ]
    }
   ],
   "source": [
    "print('abc', end='***')\n",
    "print('def')"
   ]
  },
  {
   "cell_type": "code",
   "execution_count": 32,
   "id": "738a246d",
   "metadata": {},
   "outputs": [
    {
     "data": {
      "text/plain": [
       "'<a></a>'"
      ]
     },
     "execution_count": 32,
     "metadata": {},
     "output_type": "execute_result"
    }
   ],
   "source": [
    "def xml(tagname, text='', **kwargs):\n",
    "    attributes = ''\n",
    "    \n",
    "    for key, value in kwargs.items():\n",
    "        attributes += f' {key}=\"{value}\"'\n",
    "    \n",
    "    return f'<{tagname}{attributes}>{text}</{tagname}>'\n",
    "\n",
    "xml('a')"
   ]
  },
  {
   "cell_type": "code",
   "execution_count": 33,
   "id": "d7fc9e05",
   "metadata": {},
   "outputs": [
    {
     "data": {
      "text/plain": [
       "'<a>b</a>'"
      ]
     },
     "execution_count": 33,
     "metadata": {},
     "output_type": "execute_result"
    }
   ],
   "source": [
    "xml('a', 'b')"
   ]
  },
  {
   "cell_type": "code",
   "execution_count": 34,
   "id": "98953174",
   "metadata": {},
   "outputs": [
    {
     "data": {
      "text/plain": [
       "'<a><b><c>hello</c></b></a>'"
      ]
     },
     "execution_count": 34,
     "metadata": {},
     "output_type": "execute_result"
    }
   ],
   "source": [
    "xml('a' ,(xml('b', xml('c', 'hello'))))"
   ]
  },
  {
   "cell_type": "code",
   "execution_count": 35,
   "id": "5f95ae09",
   "metadata": {},
   "outputs": [
    {
     "data": {
      "text/plain": [
       "'<a x=\"100\" y=\"200\">b</a>'"
      ]
     },
     "execution_count": 35,
     "metadata": {},
     "output_type": "execute_result"
    }
   ],
   "source": [
    "xml('a', 'b', x=100, y=200)"
   ]
  },
  {
   "cell_type": "markdown",
   "id": "51fdc0ac",
   "metadata": {},
   "source": [
    "# Parameter types\n",
    "\n",
    "1. Mandatory (positional or keyword)\n",
    "2. Optional (positional or keyword)\n",
    "3. `*args` (all remaining positional)  **OR** `*` if we don't want `*args`\n",
    "4. Keyword-only (mandatory)\n",
    "5. Keyword-only (optional)\n",
    "6. `**kwargs` (all remaining keywords)"
   ]
  },
  {
   "cell_type": "code",
   "execution_count": 39,
   "id": "77de8a13",
   "metadata": {},
   "outputs": [
    {
     "data": {
      "text/plain": [
       "13"
      ]
     },
     "execution_count": 39,
     "metadata": {},
     "output_type": "execute_result"
    }
   ],
   "source": [
    "def add(*args, first, second):\n",
    "    return first + second\n",
    "\n",
    "add(first=10, second=3)   # all must be keyword-only!"
   ]
  },
  {
   "cell_type": "code",
   "execution_count": 40,
   "id": "a6b93746",
   "metadata": {},
   "outputs": [
    {
     "ename": "TypeError",
     "evalue": "add() missing 2 required keyword-only arguments: 'first' and 'second'",
     "output_type": "error",
     "traceback": [
      "\u001b[0;31m---------------------------------------------------------------------------\u001b[0m",
      "\u001b[0;31mTypeError\u001b[0m                                 Traceback (most recent call last)",
      "\u001b[0;32m/var/folders/d9/v8tsklln4477fll05wkgcpth0000gn/T/ipykernel_3260/1097133340.py\u001b[0m in \u001b[0;36m<module>\u001b[0;34m\u001b[0m\n\u001b[0;32m----> 1\u001b[0;31m \u001b[0madd\u001b[0m\u001b[0;34m(\u001b[0m\u001b[0;36m10\u001b[0m\u001b[0;34m,\u001b[0m \u001b[0;36m3\u001b[0m\u001b[0;34m)\u001b[0m\u001b[0;34m\u001b[0m\u001b[0;34m\u001b[0m\u001b[0m\n\u001b[0m",
      "\u001b[0;31mTypeError\u001b[0m: add() missing 2 required keyword-only arguments: 'first' and 'second'"
     ]
    }
   ],
   "source": [
    "add(10, 3)"
   ]
  },
  {
   "cell_type": "code",
   "execution_count": 41,
   "id": "092d48ba",
   "metadata": {},
   "outputs": [
    {
     "data": {
      "text/plain": [
       "13"
      ]
     },
     "execution_count": 41,
     "metadata": {},
     "output_type": "execute_result"
    }
   ],
   "source": [
    "def add(*, first, second):    # just a * means: after here, all are keyword-only\n",
    "    return first + second\n",
    "\n",
    "add(first=10, second=3)   # all must be keyword-only!"
   ]
  },
  {
   "cell_type": "code",
   "execution_count": null,
   "id": "81238e4e",
   "metadata": {},
   "outputs": [],
   "source": []
  },
  {
   "cell_type": "markdown",
   "id": "66795533",
   "metadata": {},
   "source": [
    "# Parameter types\n",
    "\n",
    "0. Positional-only before `/`\n",
    "1. Mandatory (positional or keyword)\n",
    "2. Optional (positional or keyword)\n",
    "3. `*args` (all remaining positional)  **OR** `*` if we don't want `*args`\n",
    "4. Keyword-only (mandatory)\n",
    "5. Keyword-only (optional)\n",
    "6. `**kwargs` (all remaining keywords)"
   ]
  },
  {
   "cell_type": "code",
   "execution_count": 43,
   "id": "0ea4b2a7",
   "metadata": {},
   "outputs": [
    {
     "name": "stdout",
     "output_type": "stream",
     "text": [
      "Help on built-in function sum in module builtins:\n",
      "\n",
      "sum(iterable, /, start=0)\n",
      "    Return the sum of a 'start' value (default: 0) plus an iterable of numbers\n",
      "    \n",
      "    When the iterable is empty, return the start value.\n",
      "    This function is intended specifically for use with numeric values and may\n",
      "    reject non-numeric types.\n",
      "\n"
     ]
    }
   ],
   "source": [
    "help(sum)"
   ]
  },
  {
   "cell_type": "code",
   "execution_count": 44,
   "id": "992e5d8d",
   "metadata": {},
   "outputs": [
    {
     "name": "stdout",
     "output_type": "stream",
     "text": [
      "Help on built-in function len in module builtins:\n",
      "\n",
      "len(obj, /)\n",
      "    Return the number of items in a container.\n",
      "\n"
     ]
    }
   ],
   "source": [
    "help(len)"
   ]
  },
  {
   "cell_type": "code",
   "execution_count": 45,
   "id": "ca8ee1b7",
   "metadata": {},
   "outputs": [
    {
     "ename": "TypeError",
     "evalue": "sum() takes at least 1 positional argument (0 given)",
     "output_type": "error",
     "traceback": [
      "\u001b[0;31m---------------------------------------------------------------------------\u001b[0m",
      "\u001b[0;31mTypeError\u001b[0m                                 Traceback (most recent call last)",
      "\u001b[0;32m/var/folders/d9/v8tsklln4477fll05wkgcpth0000gn/T/ipykernel_3260/2493439120.py\u001b[0m in \u001b[0;36m<module>\u001b[0;34m\u001b[0m\n\u001b[0;32m----> 1\u001b[0;31m \u001b[0msum\u001b[0m\u001b[0;34m(\u001b[0m\u001b[0miterable\u001b[0m\u001b[0;34m=\u001b[0m\u001b[0;34m[\u001b[0m\u001b[0;36m10\u001b[0m\u001b[0;34m,\u001b[0m \u001b[0;36m20\u001b[0m\u001b[0;34m,\u001b[0m \u001b[0;36m30\u001b[0m\u001b[0;34m]\u001b[0m\u001b[0;34m)\u001b[0m\u001b[0;34m\u001b[0m\u001b[0;34m\u001b[0m\u001b[0m\n\u001b[0m",
      "\u001b[0;31mTypeError\u001b[0m: sum() takes at least 1 positional argument (0 given)"
     ]
    }
   ],
   "source": [
    "sum(iterable=[10, 20, 30])"
   ]
  },
  {
   "cell_type": "code",
   "execution_count": 47,
   "id": "0c1b3fde",
   "metadata": {},
   "outputs": [
    {
     "data": {
      "text/plain": [
       "'<a tagname=\"thing\"></a>'"
      ]
     },
     "execution_count": 47,
     "metadata": {},
     "output_type": "execute_result"
    }
   ],
   "source": [
    "def xml(tagname, text='', /, **kwargs):\n",
    "    attributes = ''\n",
    "    \n",
    "    for key, value in kwargs.items():\n",
    "        attributes += f' {key}=\"{value}\"'\n",
    "    \n",
    "    return f'<{tagname}{attributes}>{text}</{tagname}>'\n",
    "\n",
    "xml('a', tagname='thing')"
   ]
  },
  {
   "cell_type": "code",
   "execution_count": 49,
   "id": "a95acee8",
   "metadata": {},
   "outputs": [
    {
     "data": {
      "text/plain": [
       "12"
      ]
     },
     "execution_count": 49,
     "metadata": {},
     "output_type": "execute_result"
    }
   ],
   "source": [
    "def add(first, second):\n",
    "    return first + second\n",
    "\n",
    "t = (10, 2)\n",
    "\n",
    "add(*t)    # unrolling"
   ]
  },
  {
   "cell_type": "code",
   "execution_count": 52,
   "id": "092aa55c",
   "metadata": {},
   "outputs": [
    {
     "data": {
      "text/plain": [
       "'<mytag a=\"1\" b=\"2\" c=\"3\">mytext</mytag>'"
      ]
     },
     "execution_count": 52,
     "metadata": {},
     "output_type": "execute_result"
    }
   ],
   "source": [
    "d = {'a':1, 'b':2, 'c':3}\n",
    "\n",
    "xml('mytag', 'mytext', **d)    # turns the dict into keyword arguments"
   ]
  },
  {
   "cell_type": "code",
   "execution_count": 54,
   "id": "ebac46a8",
   "metadata": {},
   "outputs": [
    {
     "data": {
      "text/plain": [
       "['a', 'b', 'c']"
      ]
     },
     "execution_count": 54,
     "metadata": {},
     "output_type": "execute_result"
    }
   ],
   "source": [
    "list(d)"
   ]
  },
  {
   "cell_type": "code",
   "execution_count": 55,
   "id": "ff54ddf4",
   "metadata": {},
   "outputs": [
    {
     "ename": "TypeError",
     "evalue": "xml() takes from 1 to 2 positional arguments but 5 were given",
     "output_type": "error",
     "traceback": [
      "\u001b[0;31m---------------------------------------------------------------------------\u001b[0m",
      "\u001b[0;31mTypeError\u001b[0m                                 Traceback (most recent call last)",
      "\u001b[0;32m/var/folders/d9/v8tsklln4477fll05wkgcpth0000gn/T/ipykernel_3260/3420472554.py\u001b[0m in \u001b[0;36m<module>\u001b[0;34m\u001b[0m\n\u001b[0;32m----> 1\u001b[0;31m \u001b[0mxml\u001b[0m\u001b[0;34m(\u001b[0m\u001b[0;34m'mytag'\u001b[0m\u001b[0;34m,\u001b[0m \u001b[0;34m'mytext'\u001b[0m\u001b[0;34m,\u001b[0m \u001b[0;34m*\u001b[0m\u001b[0md\u001b[0m\u001b[0;34m)\u001b[0m\u001b[0;34m\u001b[0m\u001b[0;34m\u001b[0m\u001b[0m\n\u001b[0m",
      "\u001b[0;31mTypeError\u001b[0m: xml() takes from 1 to 2 positional arguments but 5 were given"
     ]
    }
   ],
   "source": [
    "xml('mytag', 'mytext', *d) "
   ]
  },
  {
   "cell_type": "markdown",
   "id": "8ea43a60",
   "metadata": {},
   "source": [
    "# Scoping"
   ]
  },
  {
   "cell_type": "code",
   "execution_count": 57,
   "id": "0e139d5f",
   "metadata": {},
   "outputs": [
    {
     "name": "stdout",
     "output_type": "stream",
     "text": [
      "0 1 2 3 4 5 6 7 8 9 "
     ]
    }
   ],
   "source": [
    "for i in range(10):\n",
    "    print(i, end=' ')\n",
    "    x = i"
   ]
  },
  {
   "cell_type": "code",
   "execution_count": 58,
   "id": "9bec74f0",
   "metadata": {},
   "outputs": [
    {
     "data": {
      "text/plain": [
       "9"
      ]
     },
     "execution_count": 58,
     "metadata": {},
     "output_type": "execute_result"
    }
   ],
   "source": [
    "x"
   ]
  },
  {
   "cell_type": "code",
   "execution_count": 59,
   "id": "a2e7c7c9",
   "metadata": {},
   "outputs": [
    {
     "data": {
      "text/plain": [
       "9"
      ]
     },
     "execution_count": 59,
     "metadata": {},
     "output_type": "execute_result"
    }
   ],
   "source": [
    "i"
   ]
  },
  {
   "cell_type": "code",
   "execution_count": 60,
   "id": "aa1f60e9",
   "metadata": {},
   "outputs": [
    {
     "name": "stdout",
     "output_type": "stream",
     "text": [
      "x = 100\n"
     ]
    }
   ],
   "source": [
    "x = 100\n",
    "\n",
    "print(f'x = {x}')  # is x global? YES, 100"
   ]
  },
  {
   "cell_type": "markdown",
   "id": "9a874763",
   "metadata": {},
   "source": [
    "# Python has 4 scopes:\n",
    "\n",
    "- `L` Local (start here, if we're in a function body)\n",
    "- `E` Enclosing\n",
    "- `G` Global (start here if *not* in a function body)\n",
    "- `B` Builtin"
   ]
  },
  {
   "cell_type": "code",
   "execution_count": 61,
   "id": "c6df566e",
   "metadata": {},
   "outputs": [
    {
     "data": {
      "text/plain": [
       "True"
      ]
     },
     "execution_count": 61,
     "metadata": {},
     "output_type": "execute_result"
    }
   ],
   "source": [
    "'x' in globals() "
   ]
  },
  {
   "cell_type": "code",
   "execution_count": 64,
   "id": "6e595902",
   "metadata": {},
   "outputs": [
    {
     "name": "stdout",
     "output_type": "stream",
     "text": [
      "Before, x = 100\n",
      "In myfunc, x = 100\n",
      "After, x = 100\n"
     ]
    }
   ],
   "source": [
    "x = 100\n",
    "\n",
    "def myfunc():\n",
    "    print(f'In myfunc, x = {x}') # is x local? NO.  is x global? YES, 100\n",
    "\n",
    "print(f'Before, x = {x}')  # is x global? YES, 100\n",
    "myfunc()\n",
    "print(f'After, x = {x}')  # is x global? YES, 100"
   ]
  },
  {
   "cell_type": "code",
   "execution_count": 63,
   "id": "154a55e0",
   "metadata": {},
   "outputs": [
    {
     "data": {
      "text/plain": [
       "()"
      ]
     },
     "execution_count": 63,
     "metadata": {},
     "output_type": "execute_result"
    }
   ],
   "source": [
    "myfunc.__code__.co_varnames"
   ]
  },
  {
   "cell_type": "code",
   "execution_count": 65,
   "id": "6e38ac69",
   "metadata": {},
   "outputs": [
    {
     "name": "stdout",
     "output_type": "stream",
     "text": [
      "In myfunc, x = 100\n"
     ]
    }
   ],
   "source": [
    "def otherfunc():\n",
    "    myfunc()   # is myfunc local? NO. is myfunc global? YES\n",
    "    \n",
    "otherfunc()    "
   ]
  },
  {
   "cell_type": "code",
   "execution_count": 66,
   "id": "8fb2bf11",
   "metadata": {},
   "outputs": [
    {
     "name": "stdout",
     "output_type": "stream",
     "text": [
      "Before, x = 100\n",
      "In myfunc, x = 200\n",
      "After, x = 100\n"
     ]
    }
   ],
   "source": [
    "x = 100\n",
    "\n",
    "def myfunc():\n",
    "    x = 200\n",
    "    print(f'In myfunc, x = {x}')  # is x local? YES, 200\n",
    "\n",
    "print(f'Before, x = {x}')  # is x global? YES, 100\n",
    "myfunc()\n",
    "print(f'After, x = {x}')  # is x global? YES, 100"
   ]
  },
  {
   "cell_type": "code",
   "execution_count": 67,
   "id": "84cbebcc",
   "metadata": {},
   "outputs": [
    {
     "data": {
      "text/plain": [
       "('x',)"
      ]
     },
     "execution_count": 67,
     "metadata": {},
     "output_type": "execute_result"
    }
   ],
   "source": [
    "myfunc.__code__.co_varnames"
   ]
  },
  {
   "cell_type": "code",
   "execution_count": 68,
   "id": "74711e83",
   "metadata": {},
   "outputs": [
    {
     "name": "stdout",
     "output_type": "stream",
     "text": [
      "Before, x = 100\n"
     ]
    },
    {
     "ename": "UnboundLocalError",
     "evalue": "local variable 'x' referenced before assignment",
     "output_type": "error",
     "traceback": [
      "\u001b[0;31m---------------------------------------------------------------------------\u001b[0m",
      "\u001b[0;31mUnboundLocalError\u001b[0m                         Traceback (most recent call last)",
      "\u001b[0;32m/var/folders/d9/v8tsklln4477fll05wkgcpth0000gn/T/ipykernel_3260/1680296173.py\u001b[0m in \u001b[0;36m<module>\u001b[0;34m\u001b[0m\n\u001b[1;32m      6\u001b[0m \u001b[0;34m\u001b[0m\u001b[0m\n\u001b[1;32m      7\u001b[0m \u001b[0mprint\u001b[0m\u001b[0;34m(\u001b[0m\u001b[0;34mf'Before, x = {x}'\u001b[0m\u001b[0;34m)\u001b[0m\u001b[0;34m\u001b[0m\u001b[0;34m\u001b[0m\u001b[0m\n\u001b[0;32m----> 8\u001b[0;31m \u001b[0mmyfunc\u001b[0m\u001b[0;34m(\u001b[0m\u001b[0;34m)\u001b[0m\u001b[0;34m\u001b[0m\u001b[0;34m\u001b[0m\u001b[0m\n\u001b[0m\u001b[1;32m      9\u001b[0m \u001b[0mprint\u001b[0m\u001b[0;34m(\u001b[0m\u001b[0;34mf'After, x = {x}'\u001b[0m\u001b[0;34m)\u001b[0m\u001b[0;34m\u001b[0m\u001b[0;34m\u001b[0m\u001b[0m\n",
      "\u001b[0;32m/var/folders/d9/v8tsklln4477fll05wkgcpth0000gn/T/ipykernel_3260/1680296173.py\u001b[0m in \u001b[0;36mmyfunc\u001b[0;34m()\u001b[0m\n\u001b[1;32m      2\u001b[0m \u001b[0;34m\u001b[0m\u001b[0m\n\u001b[1;32m      3\u001b[0m \u001b[0;32mdef\u001b[0m \u001b[0mmyfunc\u001b[0m\u001b[0;34m(\u001b[0m\u001b[0;34m)\u001b[0m\u001b[0;34m:\u001b[0m\u001b[0;34m\u001b[0m\u001b[0;34m\u001b[0m\u001b[0m\n\u001b[0;32m----> 4\u001b[0;31m     \u001b[0mprint\u001b[0m\u001b[0;34m(\u001b[0m\u001b[0;34mf'In myfunc, x = {x}'\u001b[0m\u001b[0;34m)\u001b[0m\u001b[0;34m\u001b[0m\u001b[0;34m\u001b[0m\u001b[0m\n\u001b[0m\u001b[1;32m      5\u001b[0m     \u001b[0mx\u001b[0m \u001b[0;34m=\u001b[0m \u001b[0;36m200\u001b[0m\u001b[0;34m\u001b[0m\u001b[0;34m\u001b[0m\u001b[0m\n\u001b[1;32m      6\u001b[0m \u001b[0;34m\u001b[0m\u001b[0m\n",
      "\u001b[0;31mUnboundLocalError\u001b[0m: local variable 'x' referenced before assignment"
     ]
    }
   ],
   "source": [
    "x = 100\n",
    "\n",
    "def myfunc():\n",
    "    print(f'In myfunc, x = {x}') # is x local? YES\n",
    "    x = 200   # hoisting problem\n",
    "\n",
    "print(f'Before, x = {x}')  \n",
    "myfunc()\n",
    "print(f'After, x = {x}')  "
   ]
  },
  {
   "cell_type": "code",
   "execution_count": 69,
   "id": "6f8b4bab",
   "metadata": {},
   "outputs": [
    {
     "name": "stdout",
     "output_type": "stream",
     "text": [
      "Before, x = 100\n"
     ]
    },
    {
     "ename": "UnboundLocalError",
     "evalue": "local variable 'x' referenced before assignment",
     "output_type": "error",
     "traceback": [
      "\u001b[0;31m---------------------------------------------------------------------------\u001b[0m",
      "\u001b[0;31mUnboundLocalError\u001b[0m                         Traceback (most recent call last)",
      "\u001b[0;32m/var/folders/d9/v8tsklln4477fll05wkgcpth0000gn/T/ipykernel_3260/3588748996.py\u001b[0m in \u001b[0;36m<module>\u001b[0;34m\u001b[0m\n\u001b[1;32m      6\u001b[0m \u001b[0;34m\u001b[0m\u001b[0m\n\u001b[1;32m      7\u001b[0m \u001b[0mprint\u001b[0m\u001b[0;34m(\u001b[0m\u001b[0;34mf'Before, x = {x}'\u001b[0m\u001b[0;34m)\u001b[0m\u001b[0;34m\u001b[0m\u001b[0;34m\u001b[0m\u001b[0m\n\u001b[0;32m----> 8\u001b[0;31m \u001b[0mmyfunc\u001b[0m\u001b[0;34m(\u001b[0m\u001b[0;34m)\u001b[0m\u001b[0;34m\u001b[0m\u001b[0;34m\u001b[0m\u001b[0m\n\u001b[0m\u001b[1;32m      9\u001b[0m \u001b[0mprint\u001b[0m\u001b[0;34m(\u001b[0m\u001b[0;34mf'After, x = {x}'\u001b[0m\u001b[0;34m)\u001b[0m\u001b[0;34m\u001b[0m\u001b[0;34m\u001b[0m\u001b[0m\n",
      "\u001b[0;32m/var/folders/d9/v8tsklln4477fll05wkgcpth0000gn/T/ipykernel_3260/3588748996.py\u001b[0m in \u001b[0;36mmyfunc\u001b[0;34m()\u001b[0m\n\u001b[1;32m      2\u001b[0m \u001b[0;34m\u001b[0m\u001b[0m\n\u001b[1;32m      3\u001b[0m \u001b[0;32mdef\u001b[0m \u001b[0mmyfunc\u001b[0m\u001b[0;34m(\u001b[0m\u001b[0;34m)\u001b[0m\u001b[0;34m:\u001b[0m\u001b[0;34m\u001b[0m\u001b[0;34m\u001b[0m\u001b[0m\n\u001b[0;32m----> 4\u001b[0;31m     \u001b[0mx\u001b[0m \u001b[0;34m+=\u001b[0m \u001b[0;36m1\u001b[0m\u001b[0;34m\u001b[0m\u001b[0;34m\u001b[0m\u001b[0m\n\u001b[0m\u001b[1;32m      5\u001b[0m     \u001b[0mprint\u001b[0m\u001b[0;34m(\u001b[0m\u001b[0;34mf'In myfunc, x = {x}'\u001b[0m\u001b[0;34m)\u001b[0m\u001b[0;34m\u001b[0m\u001b[0;34m\u001b[0m\u001b[0m\n\u001b[1;32m      6\u001b[0m \u001b[0;34m\u001b[0m\u001b[0m\n",
      "\u001b[0;31mUnboundLocalError\u001b[0m: local variable 'x' referenced before assignment"
     ]
    }
   ],
   "source": [
    "x = 100\n",
    "\n",
    "def myfunc():\n",
    "    x += 1   # x = x + 1\n",
    "    print(f'In myfunc, x = {x}') \n",
    "\n",
    "print(f'Before, x = {x}')  \n",
    "myfunc()\n",
    "print(f'After, x = {x}')  "
   ]
  },
  {
   "cell_type": "code",
   "execution_count": 70,
   "id": "aabe8f58",
   "metadata": {},
   "outputs": [
    {
     "data": {
      "text/plain": [
       "[10, 20, 30, 1]"
      ]
     },
     "execution_count": 70,
     "metadata": {},
     "output_type": "execute_result"
    }
   ],
   "source": [
    "def add_one(x):\n",
    "    x.append(1)\n",
    "\n",
    "mylist = [10, 20, 30]\n",
    "add_one(mylist)\n",
    "mylist"
   ]
  },
  {
   "cell_type": "code",
   "execution_count": 75,
   "id": "037b5697",
   "metadata": {},
   "outputs": [
    {
     "name": "stdout",
     "output_type": "stream",
     "text": [
      "Before, x = 100\n",
      "In myfunc, x = 200\n",
      "After, x = 200\n",
      "After, y = ['!', 20, 30]\n"
     ]
    }
   ],
   "source": [
    "x = 100\n",
    "y = [10, 20, 30]\n",
    "\n",
    "def myfunc():\n",
    "    global x\n",
    "    x = 200\n",
    "    y[0] = '!'\n",
    "    print(f'In myfunc, x = {x}') \n",
    "\n",
    "print(f'Before, x = {x}')    \n",
    "myfunc()\n",
    "print(f'After, x = {x}') \n",
    "print(f'After, y = {y}')"
   ]
  },
  {
   "cell_type": "code",
   "execution_count": 72,
   "id": "e44a7e1a",
   "metadata": {},
   "outputs": [
    {
     "data": {
      "text/plain": [
       "()"
      ]
     },
     "execution_count": 72,
     "metadata": {},
     "output_type": "execute_result"
    }
   ],
   "source": [
    "myfunc.__code__.co_varnames"
   ]
  },
  {
   "cell_type": "code",
   "execution_count": 77,
   "id": "b3d1eb3b",
   "metadata": {},
   "outputs": [
    {
     "name": "stdout",
     "output_type": "stream",
     "text": [
      "Before, x = 100\n",
      "In myfunc, x = 200\n",
      "After, x = 200\n"
     ]
    }
   ],
   "source": [
    "import __main__ \n",
    "\n",
    "x = 100\n",
    "\n",
    "def myfunc():\n",
    "    __main__.x = 200     # instead of global!\n",
    "    print(f'In myfunc, x = {x}') \n",
    "\n",
    "print(f'Before, x = {x}')    \n",
    "myfunc()\n",
    "print(f'After, x = {x}') "
   ]
  },
  {
   "cell_type": "code",
   "execution_count": 78,
   "id": "b35ddf75",
   "metadata": {},
   "outputs": [
    {
     "data": {
      "text/plain": [
       "['a', 'b', 'c', 'd']"
      ]
     },
     "execution_count": 78,
     "metadata": {},
     "output_type": "execute_result"
    }
   ],
   "source": [
    "list('abcd')"
   ]
  },
  {
   "cell_type": "code",
   "execution_count": 79,
   "id": "f51bc4ed",
   "metadata": {},
   "outputs": [
    {
     "data": {
      "text/plain": [
       "{'a': 1, 'b': 2}"
      ]
     },
     "execution_count": 79,
     "metadata": {},
     "output_type": "execute_result"
    }
   ],
   "source": [
    "dict(a=1, b=2)"
   ]
  },
  {
   "cell_type": "code",
   "execution_count": 80,
   "id": "a94cb9ea",
   "metadata": {},
   "outputs": [
    {
     "data": {
      "text/plain": [
       "60"
      ]
     },
     "execution_count": 80,
     "metadata": {},
     "output_type": "execute_result"
    }
   ],
   "source": [
    "sum([10, 20, 30])"
   ]
  },
  {
   "cell_type": "code",
   "execution_count": 81,
   "id": "d94d416e",
   "metadata": {},
   "outputs": [],
   "source": [
    "sum = 5   # I create a new global variable, sum!  blocks access to __builtins__.sum"
   ]
  },
  {
   "cell_type": "code",
   "execution_count": 82,
   "id": "ff804e3d",
   "metadata": {},
   "outputs": [
    {
     "ename": "TypeError",
     "evalue": "'int' object is not callable",
     "output_type": "error",
     "traceback": [
      "\u001b[0;31m---------------------------------------------------------------------------\u001b[0m",
      "\u001b[0;31mTypeError\u001b[0m                                 Traceback (most recent call last)",
      "\u001b[0;32m/var/folders/d9/v8tsklln4477fll05wkgcpth0000gn/T/ipykernel_3260/2524997481.py\u001b[0m in \u001b[0;36m<module>\u001b[0;34m\u001b[0m\n\u001b[0;32m----> 1\u001b[0;31m \u001b[0msum\u001b[0m\u001b[0;34m(\u001b[0m\u001b[0;34m[\u001b[0m\u001b[0;36m10\u001b[0m\u001b[0;34m,\u001b[0m \u001b[0;36m20\u001b[0m\u001b[0;34m,\u001b[0m \u001b[0;36m30\u001b[0m\u001b[0;34m]\u001b[0m\u001b[0;34m)\u001b[0m\u001b[0;34m\u001b[0m\u001b[0;34m\u001b[0m\u001b[0m\n\u001b[0m",
      "\u001b[0;31mTypeError\u001b[0m: 'int' object is not callable"
     ]
    }
   ],
   "source": [
    "sum([10, 20, 30])"
   ]
  },
  {
   "cell_type": "code",
   "execution_count": 85,
   "id": "14953fe7",
   "metadata": {
    "collapsed": true
   },
   "outputs": [
    {
     "data": {
      "text/plain": [
       "['ArithmeticError',\n",
       " 'AssertionError',\n",
       " 'AttributeError',\n",
       " 'BaseException',\n",
       " 'BlockingIOError',\n",
       " 'BrokenPipeError',\n",
       " 'BufferError',\n",
       " 'BytesWarning',\n",
       " 'ChildProcessError',\n",
       " 'ConnectionAbortedError',\n",
       " 'ConnectionError',\n",
       " 'ConnectionRefusedError',\n",
       " 'ConnectionResetError',\n",
       " 'DeprecationWarning',\n",
       " 'EOFError',\n",
       " 'Ellipsis',\n",
       " 'EncodingWarning',\n",
       " 'EnvironmentError',\n",
       " 'Exception',\n",
       " 'False',\n",
       " 'FileExistsError',\n",
       " 'FileNotFoundError',\n",
       " 'FloatingPointError',\n",
       " 'FutureWarning',\n",
       " 'GeneratorExit',\n",
       " 'IOError',\n",
       " 'ImportError',\n",
       " 'ImportWarning',\n",
       " 'IndentationError',\n",
       " 'IndexError',\n",
       " 'InterruptedError',\n",
       " 'IsADirectoryError',\n",
       " 'KeyError',\n",
       " 'KeyboardInterrupt',\n",
       " 'LookupError',\n",
       " 'MemoryError',\n",
       " 'ModuleNotFoundError',\n",
       " 'NameError',\n",
       " 'None',\n",
       " 'NotADirectoryError',\n",
       " 'NotImplemented',\n",
       " 'NotImplementedError',\n",
       " 'OSError',\n",
       " 'OverflowError',\n",
       " 'PendingDeprecationWarning',\n",
       " 'PermissionError',\n",
       " 'ProcessLookupError',\n",
       " 'RecursionError',\n",
       " 'ReferenceError',\n",
       " 'ResourceWarning',\n",
       " 'RuntimeError',\n",
       " 'RuntimeWarning',\n",
       " 'StopAsyncIteration',\n",
       " 'StopIteration',\n",
       " 'SyntaxError',\n",
       " 'SyntaxWarning',\n",
       " 'SystemError',\n",
       " 'SystemExit',\n",
       " 'TabError',\n",
       " 'TimeoutError',\n",
       " 'True',\n",
       " 'TypeError',\n",
       " 'UnboundLocalError',\n",
       " 'UnicodeDecodeError',\n",
       " 'UnicodeEncodeError',\n",
       " 'UnicodeError',\n",
       " 'UnicodeTranslateError',\n",
       " 'UnicodeWarning',\n",
       " 'UserWarning',\n",
       " 'ValueError',\n",
       " 'Warning',\n",
       " 'ZeroDivisionError',\n",
       " '__IPYTHON__',\n",
       " '__build_class__',\n",
       " '__debug__',\n",
       " '__doc__',\n",
       " '__import__',\n",
       " '__loader__',\n",
       " '__name__',\n",
       " '__package__',\n",
       " '__spec__',\n",
       " 'abs',\n",
       " 'aiter',\n",
       " 'all',\n",
       " 'anext',\n",
       " 'any',\n",
       " 'ascii',\n",
       " 'bin',\n",
       " 'bool',\n",
       " 'breakpoint',\n",
       " 'bytearray',\n",
       " 'bytes',\n",
       " 'callable',\n",
       " 'chr',\n",
       " 'classmethod',\n",
       " 'compile',\n",
       " 'complex',\n",
       " 'copyright',\n",
       " 'credits',\n",
       " 'delattr',\n",
       " 'dict',\n",
       " 'dir',\n",
       " 'display',\n",
       " 'divmod',\n",
       " 'enumerate',\n",
       " 'eval',\n",
       " 'exec',\n",
       " 'execfile',\n",
       " 'filter',\n",
       " 'float',\n",
       " 'format',\n",
       " 'frozenset',\n",
       " 'get_ipython',\n",
       " 'getattr',\n",
       " 'globals',\n",
       " 'hasattr',\n",
       " 'hash',\n",
       " 'help',\n",
       " 'hex',\n",
       " 'id',\n",
       " 'input',\n",
       " 'int',\n",
       " 'isinstance',\n",
       " 'issubclass',\n",
       " 'iter',\n",
       " 'len',\n",
       " 'license',\n",
       " 'list',\n",
       " 'locals',\n",
       " 'map',\n",
       " 'max',\n",
       " 'memoryview',\n",
       " 'min',\n",
       " 'next',\n",
       " 'object',\n",
       " 'oct',\n",
       " 'open',\n",
       " 'ord',\n",
       " 'pow',\n",
       " 'print',\n",
       " 'property',\n",
       " 'range',\n",
       " 'repr',\n",
       " 'reversed',\n",
       " 'round',\n",
       " 'runfile',\n",
       " 'set',\n",
       " 'setattr',\n",
       " 'slice',\n",
       " 'sorted',\n",
       " 'staticmethod',\n",
       " 'str',\n",
       " 'sum',\n",
       " 'super',\n",
       " 'tuple',\n",
       " 'type',\n",
       " 'vars',\n",
       " 'zip']"
      ]
     },
     "execution_count": 85,
     "metadata": {},
     "output_type": "execute_result"
    }
   ],
   "source": [
    "dir(__builtin__)"
   ]
  },
  {
   "cell_type": "code",
   "execution_count": 88,
   "id": "7a1f5a0d",
   "metadata": {},
   "outputs": [
    {
     "data": {
      "text/plain": [
       "60"
      ]
     },
     "execution_count": 88,
     "metadata": {},
     "output_type": "execute_result"
    }
   ],
   "source": [
    "__builtins__.sum([10, 20, 30])"
   ]
  },
  {
   "cell_type": "code",
   "execution_count": 89,
   "id": "d410ba02",
   "metadata": {},
   "outputs": [],
   "source": [
    "del(sum)  # delete the global sum"
   ]
  },
  {
   "cell_type": "code",
   "execution_count": 90,
   "id": "34855cb3",
   "metadata": {},
   "outputs": [
    {
     "data": {
      "text/plain": [
       "60"
      ]
     },
     "execution_count": 90,
     "metadata": {},
     "output_type": "execute_result"
    }
   ],
   "source": [
    "sum([10, 20, 30])"
   ]
  },
  {
   "cell_type": "code",
   "execution_count": 91,
   "id": "e2b307dd",
   "metadata": {},
   "outputs": [
    {
     "ename": "NameError",
     "evalue": "name 'sum' is not defined",
     "output_type": "error",
     "traceback": [
      "\u001b[0;31m---------------------------------------------------------------------------\u001b[0m",
      "\u001b[0;31mNameError\u001b[0m                                 Traceback (most recent call last)",
      "\u001b[0;32m/var/folders/d9/v8tsklln4477fll05wkgcpth0000gn/T/ipykernel_3260/2522137463.py\u001b[0m in \u001b[0;36m<module>\u001b[0;34m\u001b[0m\n\u001b[0;32m----> 1\u001b[0;31m \u001b[0;32mdel\u001b[0m\u001b[0;34m(\u001b[0m\u001b[0msum\u001b[0m\u001b[0;34m)\u001b[0m\u001b[0;34m\u001b[0m\u001b[0;34m\u001b[0m\u001b[0m\n\u001b[0m",
      "\u001b[0;31mNameError\u001b[0m: name 'sum' is not defined"
     ]
    }
   ],
   "source": [
    "del(sum)"
   ]
  },
  {
   "cell_type": "code",
   "execution_count": 92,
   "id": "29d1d472",
   "metadata": {},
   "outputs": [
    {
     "data": {
      "text/plain": [
       "(10, 20)"
      ]
     },
     "execution_count": 92,
     "metadata": {},
     "output_type": "execute_result"
    }
   ],
   "source": [
    "t = (10, 20)\n",
    "t"
   ]
  },
  {
   "cell_type": "code",
   "execution_count": 93,
   "id": "44ac7d4e",
   "metadata": {},
   "outputs": [
    {
     "data": {
      "text/plain": [
       "(10, 20)"
      ]
     },
     "execution_count": 93,
     "metadata": {},
     "output_type": "execute_result"
    }
   ],
   "source": [
    "t = 10, 20\n",
    "t"
   ]
  },
  {
   "cell_type": "code",
   "execution_count": 94,
   "id": "cc3caca8",
   "metadata": {},
   "outputs": [],
   "source": [
    "x = 100\n",
    "y = 200\n",
    "\n",
    "x,y = y,x"
   ]
  },
  {
   "cell_type": "code",
   "execution_count": 95,
   "id": "01191c38",
   "metadata": {},
   "outputs": [
    {
     "data": {
      "text/plain": [
       "200"
      ]
     },
     "execution_count": 95,
     "metadata": {},
     "output_type": "execute_result"
    }
   ],
   "source": [
    "x"
   ]
  },
  {
   "cell_type": "code",
   "execution_count": 96,
   "id": "504497b1",
   "metadata": {},
   "outputs": [
    {
     "data": {
      "text/plain": [
       "100"
      ]
     },
     "execution_count": 96,
     "metadata": {},
     "output_type": "execute_result"
    }
   ],
   "source": [
    "y"
   ]
  },
  {
   "cell_type": "code",
   "execution_count": 97,
   "id": "536f91de",
   "metadata": {},
   "outputs": [],
   "source": [
    "def outer():\n",
    "    def inner():\n",
    "        return 'Hello from inner!'\n",
    "    return inner\n",
    "\n",
    "func = outer() "
   ]
  },
  {
   "cell_type": "code",
   "execution_count": 98,
   "id": "a40b899c",
   "metadata": {},
   "outputs": [
    {
     "data": {
      "text/plain": [
       "function"
      ]
     },
     "execution_count": 98,
     "metadata": {},
     "output_type": "execute_result"
    }
   ],
   "source": [
    "type(func)"
   ]
  },
  {
   "cell_type": "code",
   "execution_count": 99,
   "id": "eda4240c",
   "metadata": {},
   "outputs": [
    {
     "data": {
      "text/plain": [
       "'Hello from inner!'"
      ]
     },
     "execution_count": 99,
     "metadata": {},
     "output_type": "execute_result"
    }
   ],
   "source": [
    "func()"
   ]
  },
  {
   "cell_type": "code",
   "execution_count": 100,
   "id": "77b54896",
   "metadata": {},
   "outputs": [
    {
     "data": {
      "text/plain": [
       "4472275152"
      ]
     },
     "execution_count": 100,
     "metadata": {},
     "output_type": "execute_result"
    }
   ],
   "source": [
    "id(func)"
   ]
  },
  {
   "cell_type": "code",
   "execution_count": 101,
   "id": "9db8384a",
   "metadata": {},
   "outputs": [
    {
     "data": {
      "text/plain": [
       "4472277600"
      ]
     },
     "execution_count": 101,
     "metadata": {},
     "output_type": "execute_result"
    }
   ],
   "source": [
    "func = outer()\n",
    "id(func)"
   ]
  },
  {
   "cell_type": "code",
   "execution_count": 102,
   "id": "11b0aa28",
   "metadata": {},
   "outputs": [
    {
     "data": {
      "text/plain": [
       "('inner',)"
      ]
     },
     "execution_count": 102,
     "metadata": {},
     "output_type": "execute_result"
    }
   ],
   "source": [
    "outer.__code__.co_varnames"
   ]
  },
  {
   "cell_type": "code",
   "execution_count": 103,
   "id": "771c165a",
   "metadata": {},
   "outputs": [],
   "source": [
    "def outer(x):        # closure\n",
    "    def inner(y):\n",
    "        return f'Hello from inner, {x=}, {y=}'\n",
    "    return inner\n",
    "\n",
    "func = outer(10)    # x is 10"
   ]
  },
  {
   "cell_type": "code",
   "execution_count": 105,
   "id": "21340cae",
   "metadata": {},
   "outputs": [
    {
     "data": {
      "text/plain": [
       "'Hello from inner, x=10, y=20'"
      ]
     },
     "execution_count": 105,
     "metadata": {},
     "output_type": "execute_result"
    }
   ],
   "source": [
    "func(20) "
   ]
  },
  {
   "cell_type": "code",
   "execution_count": 107,
   "id": "7ba38d9c",
   "metadata": {},
   "outputs": [
    {
     "data": {
      "text/plain": [
       "'1 Hello from inner, x=10, y=5'"
      ]
     },
     "execution_count": 107,
     "metadata": {},
     "output_type": "execute_result"
    }
   ],
   "source": [
    "def outer(x):        # closure\n",
    "    counter = 0\n",
    "\n",
    "    def inner(y):\n",
    "        nonlocal counter\n",
    "        counter += 1\n",
    "        return f'{counter} Hello from inner, {x=}, {y=}'\n",
    "    return inner\n",
    "\n",
    "func = outer(10)\n",
    "func(5)"
   ]
  },
  {
   "cell_type": "code",
   "execution_count": 108,
   "id": "370980d6",
   "metadata": {},
   "outputs": [
    {
     "data": {
      "text/plain": [
       "'2 Hello from inner, x=10, y=6'"
      ]
     },
     "execution_count": 108,
     "metadata": {},
     "output_type": "execute_result"
    }
   ],
   "source": [
    "func(6)"
   ]
  },
  {
   "cell_type": "code",
   "execution_count": 109,
   "id": "bfce27bf",
   "metadata": {},
   "outputs": [
    {
     "data": {
      "text/plain": [
       "'3 Hello from inner, x=10, y=7'"
      ]
     },
     "execution_count": 109,
     "metadata": {},
     "output_type": "execute_result"
    }
   ],
   "source": [
    "func(7)"
   ]
  },
  {
   "cell_type": "code",
   "execution_count": 110,
   "id": "90ac08ef",
   "metadata": {},
   "outputs": [],
   "source": [
    "func1 = outer(10)\n",
    "func2 = outer(20)"
   ]
  },
  {
   "cell_type": "code",
   "execution_count": 111,
   "id": "393eea7f",
   "metadata": {},
   "outputs": [
    {
     "data": {
      "text/plain": [
       "'1 Hello from inner, x=10, y=100'"
      ]
     },
     "execution_count": 111,
     "metadata": {},
     "output_type": "execute_result"
    }
   ],
   "source": [
    "func1(100)"
   ]
  },
  {
   "cell_type": "code",
   "execution_count": 112,
   "id": "1e953be1",
   "metadata": {},
   "outputs": [
    {
     "data": {
      "text/plain": [
       "'2 Hello from inner, x=10, y=200'"
      ]
     },
     "execution_count": 112,
     "metadata": {},
     "output_type": "execute_result"
    }
   ],
   "source": [
    "func1(200)"
   ]
  },
  {
   "cell_type": "code",
   "execution_count": 113,
   "id": "8e04b605",
   "metadata": {},
   "outputs": [
    {
     "data": {
      "text/plain": [
       "'4 Hello from inner, x=10, y=300'"
      ]
     },
     "execution_count": 113,
     "metadata": {},
     "output_type": "execute_result"
    }
   ],
   "source": [
    "func(300)"
   ]
  },
  {
   "cell_type": "code",
   "execution_count": 114,
   "id": "c2703780",
   "metadata": {},
   "outputs": [
    {
     "data": {
      "text/plain": [
       "'3 Hello from inner, x=10, y=400'"
      ]
     },
     "execution_count": 114,
     "metadata": {},
     "output_type": "execute_result"
    }
   ],
   "source": [
    "func1(400)"
   ]
  },
  {
   "cell_type": "code",
   "execution_count": 115,
   "id": "0fb0942e",
   "metadata": {},
   "outputs": [
    {
     "data": {
      "text/plain": [
       "'1 Hello from inner, x=20, y=555'"
      ]
     },
     "execution_count": 115,
     "metadata": {},
     "output_type": "execute_result"
    }
   ],
   "source": [
    "func2(555)"
   ]
  },
  {
   "cell_type": "code",
   "execution_count": 118,
   "id": "7cd54d1f",
   "metadata": {},
   "outputs": [
    {
     "data": {
      "text/plain": [
       "('counter', 'x')"
      ]
     },
     "execution_count": 118,
     "metadata": {},
     "output_type": "execute_result"
    }
   ],
   "source": [
    "outer.__code__.co_cellvars  # what variables does the outer function need to store/keep?"
   ]
  },
  {
   "cell_type": "code",
   "execution_count": 117,
   "id": "9714cf4f",
   "metadata": {},
   "outputs": [
    {
     "data": {
      "text/plain": [
       "('counter', 'x')"
      ]
     },
     "execution_count": 117,
     "metadata": {},
     "output_type": "execute_result"
    }
   ],
   "source": [
    "func1.__code__.co_freevars   # what variables are in the enclosing/outer function?"
   ]
  },
  {
   "cell_type": "code",
   "execution_count": 119,
   "id": "68435b84",
   "metadata": {},
   "outputs": [
    {
     "ename": "SyntaxError",
     "evalue": "nonlocal declaration not allowed at module level (2466344330.py, line 1)",
     "output_type": "error",
     "traceback": [
      "\u001b[0;36m  File \u001b[0;32m\"/var/folders/d9/v8tsklln4477fll05wkgcpth0000gn/T/ipykernel_3260/2466344330.py\"\u001b[0;36m, line \u001b[0;32m1\u001b[0m\n\u001b[0;31m    nonlocal x\u001b[0m\n\u001b[0m    ^\u001b[0m\n\u001b[0;31mSyntaxError\u001b[0m\u001b[0;31m:\u001b[0m nonlocal declaration not allowed at module level\n"
     ]
    }
   ],
   "source": [
    "nonlocal x"
   ]
  },
  {
   "cell_type": "code",
   "execution_count": 120,
   "id": "1db9b5a7",
   "metadata": {},
   "outputs": [
    {
     "ename": "SyntaxError",
     "evalue": "no binding for nonlocal 'x' found (1581669044.py, line 2)",
     "output_type": "error",
     "traceback": [
      "\u001b[0;36m  File \u001b[0;32m\"/var/folders/d9/v8tsklln4477fll05wkgcpth0000gn/T/ipykernel_3260/1581669044.py\"\u001b[0;36m, line \u001b[0;32m2\u001b[0m\n\u001b[0;31m    nonlocal x\u001b[0m\n\u001b[0m    ^\u001b[0m\n\u001b[0;31mSyntaxError\u001b[0m\u001b[0;31m:\u001b[0m no binding for nonlocal 'x' found\n"
     ]
    }
   ],
   "source": [
    "def foo():\n",
    "    nonlocal x\n",
    "    x = 5"
   ]
  },
  {
   "cell_type": "markdown",
   "id": "2e7b7b25",
   "metadata": {},
   "source": [
    "# Exercise: make_password_maker\n",
    "\n",
    "1. Write `make_password_maker`, which takes a string, and returns a function\n",
    "2. The returned function takes an int argument, and returns a string\n",
    "\n",
    "`random.choice` \n",
    "\n",
    "\n",
    "```python\n",
    "make_alpha_password = make_password_maker('abcdefg')\n",
    "make_alpha_password(5)   # returns 5 random characters from 'abcdefg'\n",
    "make_alpha_password(10)  # returns 10 random characters from 'abcdefg'\n",
    "\n",
    "make_symbol_password = make_symbol_password('!@#$%^&*()')\n",
    "make_symbol_password(5)   # returns 5 random characters from the above\n",
    "```"
   ]
  },
  {
   "cell_type": "code",
   "execution_count": 122,
   "id": "376998b9",
   "metadata": {},
   "outputs": [
    {
     "data": {
      "text/plain": [
       "['c', 'c', 'b', 'c', 'c', 'a', 'c', 'b', 'a', 'a']"
      ]
     },
     "execution_count": 122,
     "metadata": {},
     "output_type": "execute_result"
    }
   ],
   "source": [
    "import random\n",
    "random.choices('abc', k=10)"
   ]
  },
  {
   "cell_type": "code",
   "execution_count": 125,
   "id": "749ebfda",
   "metadata": {},
   "outputs": [
    {
     "data": {
      "text/plain": [
       "'eaeaeffcab'"
      ]
     },
     "execution_count": 125,
     "metadata": {},
     "output_type": "execute_result"
    }
   ],
   "source": [
    "import random\n",
    "\n",
    "def make_password_maker(s):\n",
    "    def make_password(n):\n",
    "        return ''.join(random.choices(s, k=n))\n",
    "    return make_password\n",
    "\n",
    "make_alpha_password = make_password_maker('abcdefg')\n",
    "make_alpha_password(10)   # returns 10 random characters from 'abcdefg'"
   ]
  },
  {
   "cell_type": "code",
   "execution_count": 126,
   "id": "404845ef",
   "metadata": {},
   "outputs": [
    {
     "ename": "ValueError",
     "evalue": "Pool of character s contains e",
     "output_type": "error",
     "traceback": [
      "\u001b[0;31m---------------------------------------------------------------------------\u001b[0m",
      "\u001b[0;31mValueError\u001b[0m                                Traceback (most recent call last)",
      "\u001b[0;32m/var/folders/d9/v8tsklln4477fll05wkgcpth0000gn/T/ipykernel_3260/3906706519.py\u001b[0m in \u001b[0;36m<module>\u001b[0;34m\u001b[0m\n\u001b[1;32m     10\u001b[0m     \u001b[0;32mreturn\u001b[0m \u001b[0mmake_password\u001b[0m\u001b[0;34m\u001b[0m\u001b[0;34m\u001b[0m\u001b[0m\n\u001b[1;32m     11\u001b[0m \u001b[0;34m\u001b[0m\u001b[0m\n\u001b[0;32m---> 12\u001b[0;31m \u001b[0mmake_alpha_password\u001b[0m \u001b[0;34m=\u001b[0m \u001b[0mmake_password_maker\u001b[0m\u001b[0;34m(\u001b[0m\u001b[0;34m'abcdefg'\u001b[0m\u001b[0;34m,\u001b[0m \u001b[0mforbidden\u001b[0m\u001b[0;34m=\u001b[0m\u001b[0;34m'efg'\u001b[0m\u001b[0;34m)\u001b[0m\u001b[0;34m\u001b[0m\u001b[0;34m\u001b[0m\u001b[0m\n\u001b[0m",
      "\u001b[0;32m/var/folders/d9/v8tsklln4477fll05wkgcpth0000gn/T/ipykernel_3260/3906706519.py\u001b[0m in \u001b[0;36mmake_password_maker\u001b[0;34m(s, forbidden)\u001b[0m\n\u001b[1;32m      4\u001b[0m     \u001b[0;32mfor\u001b[0m \u001b[0mone_character\u001b[0m \u001b[0;32min\u001b[0m \u001b[0mforbidden\u001b[0m\u001b[0;34m:\u001b[0m\u001b[0;34m\u001b[0m\u001b[0;34m\u001b[0m\u001b[0m\n\u001b[1;32m      5\u001b[0m         \u001b[0;32mif\u001b[0m \u001b[0mone_character\u001b[0m \u001b[0;32min\u001b[0m \u001b[0ms\u001b[0m\u001b[0;34m:\u001b[0m\u001b[0;34m\u001b[0m\u001b[0;34m\u001b[0m\u001b[0m\n\u001b[0;32m----> 6\u001b[0;31m             \u001b[0;32mraise\u001b[0m \u001b[0mValueError\u001b[0m\u001b[0;34m(\u001b[0m\u001b[0;34mf'Pool of character s contains {one_character}'\u001b[0m\u001b[0;34m)\u001b[0m\u001b[0;34m\u001b[0m\u001b[0;34m\u001b[0m\u001b[0m\n\u001b[0m\u001b[1;32m      7\u001b[0m \u001b[0;34m\u001b[0m\u001b[0m\n\u001b[1;32m      8\u001b[0m     \u001b[0;32mdef\u001b[0m \u001b[0mmake_password\u001b[0m\u001b[0;34m(\u001b[0m\u001b[0mn\u001b[0m\u001b[0;34m)\u001b[0m\u001b[0;34m:\u001b[0m\u001b[0;34m\u001b[0m\u001b[0;34m\u001b[0m\u001b[0m\n",
      "\u001b[0;31mValueError\u001b[0m: Pool of character s contains e"
     ]
    }
   ],
   "source": [
    "import random\n",
    "\n",
    "def make_password_maker(s, forbidden=''):\n",
    "    for one_character in forbidden:\n",
    "        if one_character in s:\n",
    "            raise ValueError(f'Pool of character s contains {one_character}')\n",
    "\n",
    "    def make_password(n):\n",
    "        return ''.join(random.choices(s, k=n))\n",
    "    return make_password\n",
    "\n",
    "make_alpha_password = make_password_maker('abcdefg', forbidden='efg')"
   ]
  },
  {
   "cell_type": "code",
   "execution_count": 127,
   "id": "e238aeb0",
   "metadata": {},
   "outputs": [
    {
     "ename": "TypeError",
     "evalue": "make_password_maker() got an unexpected keyword argument 'forbidden'",
     "output_type": "error",
     "traceback": [
      "\u001b[0;31m---------------------------------------------------------------------------\u001b[0m",
      "\u001b[0;31mTypeError\u001b[0m                                 Traceback (most recent call last)",
      "\u001b[0;32m/var/folders/d9/v8tsklln4477fll05wkgcpth0000gn/T/ipykernel_3260/82619783.py\u001b[0m in \u001b[0;36m<module>\u001b[0;34m\u001b[0m\n\u001b[1;32m     23\u001b[0m     \u001b[0;32mreturn\u001b[0m \u001b[0mmake_password\u001b[0m\u001b[0;34m\u001b[0m\u001b[0;34m\u001b[0m\u001b[0m\n\u001b[1;32m     24\u001b[0m \u001b[0;34m\u001b[0m\u001b[0m\n\u001b[0;32m---> 25\u001b[0;31m \u001b[0mmake_alpha_password\u001b[0m \u001b[0;34m=\u001b[0m \u001b[0mmake_password_maker\u001b[0m\u001b[0;34m(\u001b[0m\u001b[0;34m'abcdefg'\u001b[0m\u001b[0;34m,\u001b[0m \u001b[0mforbidden\u001b[0m\u001b[0;34m=\u001b[0m\u001b[0;34m'efg'\u001b[0m\u001b[0;34m)\u001b[0m\u001b[0;34m\u001b[0m\u001b[0;34m\u001b[0m\u001b[0m\n\u001b[0m",
      "\u001b[0;31mTypeError\u001b[0m: make_password_maker() got an unexpected keyword argument 'forbidden'"
     ]
    }
   ],
   "source": [
    "import random\n",
    "\n",
    "def make_password_maker(s, min_digits=0, min_symbols=0):\n",
    "\n",
    "    def make_password(n):\n",
    "        new_password = ''.join(random.choices(s, k=n))\n",
    "        \n",
    "        # check digits\n",
    "        digit_count = 0\n",
    "        symbol_count = 0\n",
    "        for one_character in new_password:\n",
    "            if one_character.isdigit():\n",
    "                digit_count += 1\n",
    "            if one_character in '!@#$%':\n",
    "                symbol_count += 1\n",
    "                \n",
    "        if digit_count < min_digits:\n",
    "            raise ValueError('Illegal password; not enough digits')\n",
    "            \n",
    "        if symbol_count < min_symbols:\n",
    "            raise ValueError('ILlegal password: not enough symbols')\n",
    "        \n",
    "    return make_password\n",
    "\n",
    "make_alpha_password = make_password_maker('abcdefg', forbidden='efg')"
   ]
  },
  {
   "cell_type": "code",
   "execution_count": 128,
   "id": "169f1205",
   "metadata": {},
   "outputs": [
    {
     "name": "stdout",
     "output_type": "stream",
     "text": [
      "Enter choice: a\n",
      "A!\n",
      "Enter choice: b\n",
      "B!\n",
      "Enter choice: c\n",
      "Unknown c\n",
      "Enter choice: \n"
     ]
    }
   ],
   "source": [
    "def a():\n",
    "    return 'A!'\n",
    "\n",
    "def b():\n",
    "    return 'B!'\n",
    "\n",
    "while True:\n",
    "    s = input('Enter choice: ').strip()\n",
    "    \n",
    "    if not s:\n",
    "        break\n",
    "        \n",
    "    elif s == 'a':\n",
    "        print(a())\n",
    "        \n",
    "    elif s == 'b':\n",
    "        print(b())\n",
    "        \n",
    "    else:\n",
    "        print(f'Unknown {s}')"
   ]
  },
  {
   "cell_type": "code",
   "execution_count": 129,
   "id": "21ee54d7",
   "metadata": {},
   "outputs": [
    {
     "name": "stdout",
     "output_type": "stream",
     "text": [
      "Enter choice: a\n",
      "A!\n",
      "Enter choice: b\n",
      "B!\n",
      "Enter choice: \n"
     ]
    }
   ],
   "source": [
    "def a():\n",
    "    return 'A!'\n",
    "\n",
    "def b():\n",
    "    return 'B!'\n",
    "\n",
    "# dispatch table\n",
    "funcs = {'a':a,\n",
    "         'b':b}\n",
    "\n",
    "while True:\n",
    "    s = input('Enter choice: ').strip()\n",
    "    \n",
    "    if not s:\n",
    "        break\n",
    "        \n",
    "    elif s in funcs:\n",
    "        print(funcs[s]())\n",
    "\n",
    "    else:\n",
    "        print(f'Unknown {s}')"
   ]
  },
  {
   "cell_type": "markdown",
   "id": "9c9fb2e5",
   "metadata": {},
   "source": [
    "# Exercise: Calculator\n",
    "\n",
    "1. Write two functions, `add` and `mul`, that perform addition and multiplications.  Put them in a dispatch table dict.\n",
    "2. Ask the user, repeatedly, to enter a math expression, with two numbers and an operator.\n",
    "3. If the user gives us an empty string, exit.\n",
    "4. Otherwise, look up, and execute, the appropriate function from the dict.\n",
    "\n",
    "Example:\n",
    "\n",
    "    Enter expression: 2 + 2\n",
    "    2 + 2 = 4\n",
    "    Enter expression: 10 * 5\n",
    "    10 * 5 = 50\n",
    "    Enter expression: 10 / 2\n",
    "    10 / 2 is not recognized\n",
    "    Enter expression: [ENTER]\n",
    "    [exits]"
   ]
  },
  {
   "cell_type": "code",
   "execution_count": 132,
   "id": "3f0e5d28",
   "metadata": {},
   "outputs": [
    {
     "name": "stdout",
     "output_type": "stream",
     "text": [
      "Enter expression: 2+2\n",
      "Enter a valid expression!\n",
      "Enter expression: 2 +\n",
      "Enter a valid expression!\n",
      "Enter expression: 2 + 2\n",
      "2 + 2 = 4\n",
      "Enter expression: 2 / 3\n",
      "2 / 3 = Unsupported\n",
      "Enter expression: \n"
     ]
    }
   ],
   "source": [
    "def add(first, second):\n",
    "    return first + second\n",
    "\n",
    "def mul(first, second):\n",
    "    return first * second\n",
    "\n",
    "funcs = {'+':add,\n",
    "        '*':mul}\n",
    "\n",
    "while s := input('Enter expression: ').strip():\n",
    "        \n",
    "    if s.count(' ') != 2:\n",
    "        print('Enter a valid expression!')\n",
    "        continue\n",
    "\n",
    "    first, op, second = s.split()  # splits on ' ', \\t, \\n, \\r, \\v\n",
    "    \n",
    "    if op in funcs:\n",
    "        result = funcs[op](int(first), int(second))\n",
    "        \n",
    "    else:\n",
    "        result = 'Unsupported'\n",
    "        \n",
    "    print(f'{first} {op} {second} = {result}')\n",
    "        "
   ]
  },
  {
   "cell_type": "markdown",
   "id": "bf4c06ad",
   "metadata": {},
   "source": [
    "# Comprehensions"
   ]
  },
  {
   "cell_type": "code",
   "execution_count": 133,
   "id": "2c5296a4",
   "metadata": {},
   "outputs": [
    {
     "data": {
      "text/plain": [
       "[0, 1, 4, 9, 16, 25, 36, 49, 64, 81]"
      ]
     },
     "execution_count": 133,
     "metadata": {},
     "output_type": "execute_result"
    }
   ],
   "source": [
    "numbers = range(10)\n",
    "\n",
    "squares = []\n",
    "\n",
    "for one_number in numbers:\n",
    "    squares.append(one_number ** 2)\n",
    "    \n",
    "squares    "
   ]
  },
  {
   "cell_type": "code",
   "execution_count": 134,
   "id": "5fe82e8d",
   "metadata": {},
   "outputs": [
    {
     "data": {
      "text/plain": [
       "[0, 1, 4, 9, 16, 25, 36, 49, 64, 81]"
      ]
     },
     "execution_count": 134,
     "metadata": {},
     "output_type": "execute_result"
    }
   ],
   "source": [
    "# list comprehension\n",
    "\n",
    "[one_number ** 2 \n",
    " for one_number in numbers]"
   ]
  },
  {
   "cell_type": "code",
   "execution_count": null,
   "id": "c1c217bc",
   "metadata": {},
   "outputs": [],
   "source": []
  }
 ],
 "metadata": {
  "kernelspec": {
   "display_name": "Python 3 (ipykernel)",
   "language": "python",
   "name": "python3"
  },
  "language_info": {
   "codemirror_mode": {
    "name": "ipython",
    "version": 3
   },
   "file_extension": ".py",
   "mimetype": "text/x-python",
   "name": "python",
   "nbconvert_exporter": "python",
   "pygments_lexer": "ipython3",
   "version": "3.10.1"
  }
 },
 "nbformat": 4,
 "nbformat_minor": 5
}
