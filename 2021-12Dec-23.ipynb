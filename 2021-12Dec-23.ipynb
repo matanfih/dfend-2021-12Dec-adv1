{
 "cells": [
  {
   "cell_type": "markdown",
   "id": "54ce86ab",
   "metadata": {},
   "source": [
    "# Agenda\n",
    "\n",
    "1. Functions\n",
    "    - Parameters: `**kwargs`, `*`, positional-only\n",
    "    - Scoping (LEGB)\n",
    "    - Inner functions\n",
    "    - Dispatch tables\n",
    "2. Comprehensions\n",
    "    - List\n",
    "    - Set\n",
    "    - Dict\n",
    "    - Nested\n",
    "3. Functional programming\n",
    "    - Functions as arguments\n",
    "    - `lambda`\n",
    "4. Modules and packages"
   ]
  },
  {
   "cell_type": "code",
   "execution_count": 1,
   "id": "691c8623",
   "metadata": {},
   "outputs": [],
   "source": [
    "# https://github.com/reuven\n",
    "# https://github.com/reuven/dfend-2021-12Dec-adv1/blob/main/2021-12Dec-23.ipynb"
   ]
  },
  {
   "cell_type": "code",
   "execution_count": 3,
   "id": "1546700e",
   "metadata": {},
   "outputs": [
    {
     "data": {
      "text/plain": [
       "13"
      ]
     },
     "execution_count": 3,
     "metadata": {},
     "output_type": "execute_result"
    }
   ],
   "source": [
    "# positional -- 10, 20,30\n",
    "# keyword  -- always in the form name=value\n",
    "#     a=10, b=20 -- keyword arguments\n",
    "\n",
    "def add(first, second):\n",
    "    return first + second\n",
    "\n",
    "add(10, 3)   # both positional"
   ]
  },
  {
   "cell_type": "code",
   "execution_count": 4,
   "id": "150cbf80",
   "metadata": {},
   "outputs": [
    {
     "data": {
      "text/plain": [
       "3"
      ]
     },
     "execution_count": 4,
     "metadata": {},
     "output_type": "execute_result"
    }
   ],
   "source": [
    "add(first=1, second=2)   # both keyword"
   ]
  },
  {
   "cell_type": "code",
   "execution_count": 5,
   "id": "aa3fd30f",
   "metadata": {},
   "outputs": [
    {
     "data": {
      "text/plain": [
       "3"
      ]
     },
     "execution_count": 5,
     "metadata": {},
     "output_type": "execute_result"
    }
   ],
   "source": [
    "add(1, second=2)   # first positional, then keyword"
   ]
  },
  {
   "cell_type": "code",
   "execution_count": 6,
   "id": "c5ed9721",
   "metadata": {},
   "outputs": [
    {
     "data": {
      "text/plain": [
       "70"
      ]
     },
     "execution_count": 6,
     "metadata": {},
     "output_type": "execute_result"
    }
   ],
   "source": [
    "\n",
    "def mysum(start, *args):\n",
    "    total = start\n",
    "    for one_number in args:\n",
    "        total += one_number\n",
    "    return total\n",
    "\n",
    "mysum(10, 10, 20, 30)   # 10-> start, (10,20,30)->args"
   ]
  },
  {
   "cell_type": "code",
   "execution_count": 8,
   "id": "67cdb40d",
   "metadata": {},
   "outputs": [
    {
     "ename": "TypeError",
     "evalue": "mysum() missing 1 required keyword-only argument: 'start'",
     "output_type": "error",
     "traceback": [
      "\u001b[0;31m---------------------------------------------------------------------------\u001b[0m",
      "\u001b[0;31mTypeError\u001b[0m                                 Traceback (most recent call last)",
      "\u001b[0;32m/var/folders/d9/v8tsklln4477fll05wkgcpth0000gn/T/ipykernel_3260/1533741639.py\u001b[0m in \u001b[0;36m<module>\u001b[0;34m\u001b[0m\n\u001b[1;32m      7\u001b[0m     \u001b[0;32mreturn\u001b[0m \u001b[0mtotal\u001b[0m\u001b[0;34m\u001b[0m\u001b[0;34m\u001b[0m\u001b[0m\n\u001b[1;32m      8\u001b[0m \u001b[0;34m\u001b[0m\u001b[0m\n\u001b[0;32m----> 9\u001b[0;31m \u001b[0mmysum\u001b[0m\u001b[0;34m(\u001b[0m\u001b[0;36m10\u001b[0m\u001b[0;34m,\u001b[0m \u001b[0;36m20\u001b[0m\u001b[0;34m,\u001b[0m \u001b[0;36m30\u001b[0m\u001b[0;34m)\u001b[0m   \u001b[0;31m# error!\u001b[0m\u001b[0;34m\u001b[0m\u001b[0;34m\u001b[0m\u001b[0m\n\u001b[0m",
      "\u001b[0;31mTypeError\u001b[0m: mysum() missing 1 required keyword-only argument: 'start'"
     ]
    }
   ],
   "source": [
    "# make start a keyword-only parameter\n",
    "\n",
    "def mysum(*args, start):  # args gets all positional, start is keyword only\n",
    "    total = start\n",
    "    for one_number in args:\n",
    "        total += one_number\n",
    "    return total\n",
    "\n",
    "mysum(10, 20, 30)   # error!  "
   ]
  },
  {
   "cell_type": "code",
   "execution_count": 9,
   "id": "ac36982c",
   "metadata": {},
   "outputs": [
    {
     "data": {
      "text/plain": [
       "75"
      ]
     },
     "execution_count": 9,
     "metadata": {},
     "output_type": "execute_result"
    }
   ],
   "source": [
    "mysum(10, 20, 30, start=15)"
   ]
  },
  {
   "cell_type": "code",
   "execution_count": 10,
   "id": "89cd7983",
   "metadata": {},
   "outputs": [
    {
     "data": {
      "text/plain": [
       "[100, 200, 10, 20, 30, 40]"
      ]
     },
     "execution_count": 10,
     "metadata": {},
     "output_type": "execute_result"
    }
   ],
   "source": [
    "mysum([100, 200], [10, 20, 30], [40], start=[])"
   ]
  },
  {
   "cell_type": "code",
   "execution_count": 12,
   "id": "59e6a9aa",
   "metadata": {},
   "outputs": [
    {
     "data": {
      "text/plain": [
       "60"
      ]
     },
     "execution_count": 12,
     "metadata": {},
     "output_type": "execute_result"
    }
   ],
   "source": [
    "# make start a keyword-only parameter\n",
    "\n",
    "def mysum(*args, start=0):  # args gets all positional, start is keyword only with a default\n",
    "    total = start\n",
    "    for one_number in args:\n",
    "        total += one_number\n",
    "    return total\n",
    "\n",
    "mysum(10, 20, 30)  "
   ]
  },
  {
   "cell_type": "code",
   "execution_count": 13,
   "id": "b2998645",
   "metadata": {},
   "outputs": [
    {
     "name": "stdout",
     "output_type": "stream",
     "text": [
      "Help on built-in function sum in module builtins:\n",
      "\n",
      "sum(iterable, /, start=0)\n",
      "    Return the sum of a 'start' value (default: 0) plus an iterable of numbers\n",
      "    \n",
      "    When the iterable is empty, return the start value.\n",
      "    This function is intended specifically for use with numeric values and may\n",
      "    reject non-numeric types.\n",
      "\n"
     ]
    }
   ],
   "source": [
    "help(sum)"
   ]
  },
  {
   "cell_type": "code",
   "execution_count": 14,
   "id": "d70dd9c9",
   "metadata": {},
   "outputs": [
    {
     "data": {
      "text/plain": [
       "'a=100, b=200, c=300'"
      ]
     },
     "execution_count": 14,
     "metadata": {},
     "output_type": "execute_result"
    }
   ],
   "source": [
    "def myfunc(a, b, c):\n",
    "    return f'{a=}, {b=}, {c=}'\n",
    "\n",
    "myfunc(a=100, b=200, c=300)"
   ]
  },
  {
   "cell_type": "code",
   "execution_count": 15,
   "id": "67786460",
   "metadata": {},
   "outputs": [
    {
     "ename": "TypeError",
     "evalue": "myfunc() got an unexpected keyword argument 'd'",
     "output_type": "error",
     "traceback": [
      "\u001b[0;31m---------------------------------------------------------------------------\u001b[0m",
      "\u001b[0;31mTypeError\u001b[0m                                 Traceback (most recent call last)",
      "\u001b[0;32m/var/folders/d9/v8tsklln4477fll05wkgcpth0000gn/T/ipykernel_3260/2069549332.py\u001b[0m in \u001b[0;36m<module>\u001b[0;34m\u001b[0m\n\u001b[0;32m----> 1\u001b[0;31m \u001b[0mmyfunc\u001b[0m\u001b[0;34m(\u001b[0m\u001b[0ma\u001b[0m\u001b[0;34m=\u001b[0m\u001b[0;36m100\u001b[0m\u001b[0;34m,\u001b[0m \u001b[0mb\u001b[0m\u001b[0;34m=\u001b[0m\u001b[0;36m200\u001b[0m\u001b[0;34m,\u001b[0m \u001b[0mc\u001b[0m\u001b[0;34m=\u001b[0m\u001b[0;36m300\u001b[0m\u001b[0;34m,\u001b[0m \u001b[0md\u001b[0m\u001b[0;34m=\u001b[0m\u001b[0;36m400\u001b[0m\u001b[0;34m)\u001b[0m\u001b[0;34m\u001b[0m\u001b[0;34m\u001b[0m\u001b[0m\n\u001b[0m",
      "\u001b[0;31mTypeError\u001b[0m: myfunc() got an unexpected keyword argument 'd'"
     ]
    }
   ],
   "source": [
    "myfunc(a=100, b=200, c=300, d=400)"
   ]
  },
  {
   "cell_type": "code",
   "execution_count": 16,
   "id": "577f9a7b",
   "metadata": {},
   "outputs": [
    {
     "data": {
      "text/plain": [
       "\"a=100, b=200, c=300, kwargs={'d': 400, 'e': [10, 20, 30]}\""
      ]
     },
     "execution_count": 16,
     "metadata": {},
     "output_type": "execute_result"
    }
   ],
   "source": [
    "# **kwargs -- keyword arguments -- kwargs always a dict!\n",
    "# kwargs has all keyword pairs that no other parameter got\n",
    "\n",
    "def myfunc(a, b, c, **kwargs):\n",
    "    return f'{a=}, {b=}, {c=}, {kwargs=}'\n",
    "\n",
    "myfunc(a=100, b=200, c=300, d=400, e=[10, 20, 30])"
   ]
  },
  {
   "cell_type": "code",
   "execution_count": 17,
   "id": "0ec1ae12",
   "metadata": {},
   "outputs": [],
   "source": [
    "def write_config(filename, **kwargs):\n",
    "    with open(filename, 'w') as f:\n",
    "        for key, value in kwargs.items():\n",
    "            f.write(f'{key}:{value}\\n')"
   ]
  },
  {
   "cell_type": "code",
   "execution_count": 18,
   "id": "d041bde3",
   "metadata": {},
   "outputs": [],
   "source": [
    "write_config('myconfig.txt', a=100, b=[20, 30, 40], c=123.456, d='hello')"
   ]
  },
  {
   "cell_type": "code",
   "execution_count": 19,
   "id": "2a117b4a",
   "metadata": {},
   "outputs": [
    {
     "name": "stdout",
     "output_type": "stream",
     "text": [
      "a:100\r\n",
      "b:[20, 30, 40]\r\n",
      "c:123.456\r\n",
      "d:hello\r\n"
     ]
    }
   ],
   "source": [
    "!cat myconfig.txt"
   ]
  },
  {
   "cell_type": "code",
   "execution_count": 22,
   "id": "1651a437",
   "metadata": {},
   "outputs": [
    {
     "ename": "TypeError",
     "evalue": "write_config() got multiple values for argument 'filename'",
     "output_type": "error",
     "traceback": [
      "\u001b[0;31m---------------------------------------------------------------------------\u001b[0m",
      "\u001b[0;31mTypeError\u001b[0m                                 Traceback (most recent call last)",
      "\u001b[0;32m/var/folders/d9/v8tsklln4477fll05wkgcpth0000gn/T/ipykernel_3260/3410723054.py\u001b[0m in \u001b[0;36m<module>\u001b[0;34m\u001b[0m\n\u001b[1;32m      1\u001b[0m \u001b[0;31m#           positional->filename\u001b[0m\u001b[0;34m\u001b[0m\u001b[0;34m\u001b[0m\u001b[0m\n\u001b[0;32m----> 2\u001b[0;31m \u001b[0mwrite_config\u001b[0m\u001b[0;34m(\u001b[0m\u001b[0;34m'myconfig.txt'\u001b[0m\u001b[0;34m,\u001b[0m \u001b[0mfilename\u001b[0m\u001b[0;34m=\u001b[0m\u001b[0;34m'a'\u001b[0m\u001b[0;34m,\u001b[0m \u001b[0mx\u001b[0m\u001b[0;34m=\u001b[0m\u001b[0;36m100\u001b[0m\u001b[0;34m)\u001b[0m\u001b[0;34m\u001b[0m\u001b[0;34m\u001b[0m\u001b[0m\n\u001b[0m",
      "\u001b[0;31mTypeError\u001b[0m: write_config() got multiple values for argument 'filename'"
     ]
    }
   ],
   "source": [
    "#           positional->filename\n",
    "write_config('myconfig.txt', filename='a', x=100)"
   ]
  },
  {
   "cell_type": "markdown",
   "id": "032f6d3a",
   "metadata": {},
   "source": [
    "# Exercise: XML writer\n",
    "\n"
   ]
  }
 ],
 "metadata": {
  "kernelspec": {
   "display_name": "Python 3 (ipykernel)",
   "language": "python",
   "name": "python3"
  },
  "language_info": {
   "codemirror_mode": {
    "name": "ipython",
    "version": 3
   },
   "file_extension": ".py",
   "mimetype": "text/x-python",
   "name": "python",
   "nbconvert_exporter": "python",
   "pygments_lexer": "ipython3",
   "version": "3.10.1"
  }
 },
 "nbformat": 4,
 "nbformat_minor": 5
}
