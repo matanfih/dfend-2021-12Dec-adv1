{
 "cells": [
  {
   "cell_type": "markdown",
   "id": "9114171b",
   "metadata": {},
   "source": [
    "# Agenda\n",
    "\n",
    "1. Functions\n",
    "    - Parameters: `**kwargs`, `*`, positional-only\n",
    "    - Scoping (LEGB)\n",
    "    - Inner functions\n",
    "    - Dispatch tables\n",
    "2. Comprehensions\n",
    "    - List\n",
    "    - Set\n",
    "    - Dict\n",
    "    - Nested\n",
    "3. Functional programming\n",
    "    - Functions as arguments\n",
    "    - `lambda`\n",
    "4. Modules and packages"
   ]
  },
  {
   "cell_type": "code",
   "execution_count": 1,
   "id": "918f6396",
   "metadata": {},
   "outputs": [],
   "source": [
    "# https://github.com/reuven\n",
    "# https://github.com/reuven/dfend-2021-12Dec-adv1/blob/main/2021-12Dec-23.ipynb"
   ]
  },
  {
   "cell_type": "code",
   "execution_count": 3,
   "id": "50b32a8a",
   "metadata": {},
   "outputs": [
    {
     "data": {
      "text/plain": [
       "13"
      ]
     },
     "execution_count": 3,
     "metadata": {},
     "output_type": "execute_result"
    }
   ],
   "source": [
    "# positional -- 10, 20,30\n",
    "# keyword  -- always in the form name=value\n",
    "#     a=10, b=20 -- keyword arguments\n",
    "\n",
    "def add(first, second):\n",
    "    return first + second\n",
    "\n",
    "add(10, 3)   # both positional"
   ]
  },
  {
   "cell_type": "code",
   "execution_count": 4,
   "id": "7553546f",
   "metadata": {},
   "outputs": [
    {
     "data": {
      "text/plain": [
       "3"
      ]
     },
     "execution_count": 4,
     "metadata": {},
     "output_type": "execute_result"
    }
   ],
   "source": [
    "add(first=1, second=2)   # both keyword"
   ]
  },
  {
   "cell_type": "code",
   "execution_count": 5,
   "id": "0162abaf",
   "metadata": {},
   "outputs": [
    {
     "data": {
      "text/plain": [
       "3"
      ]
     },
     "execution_count": 5,
     "metadata": {},
     "output_type": "execute_result"
    }
   ],
   "source": [
    "add(1, second=2)   # first positional, then keyword"
   ]
  },
  {
   "cell_type": "code",
   "execution_count": 6,
   "id": "77c761d1",
   "metadata": {},
   "outputs": [
    {
     "data": {
      "text/plain": [
       "70"
      ]
     },
     "execution_count": 6,
     "metadata": {},
     "output_type": "execute_result"
    }
   ],
   "source": [
    "\n",
    "def mysum(start, *args):\n",
    "    total = start\n",
    "    for one_number in args:\n",
    "        total += one_number\n",
    "    return total\n",
    "\n",
    "mysum(10, 10, 20, 30)   # 10-> start, (10,20,30)->args"
   ]
  },
  {
   "cell_type": "code",
   "execution_count": 8,
   "id": "08c36ae1",
   "metadata": {},
   "outputs": [
    {
     "ename": "TypeError",
     "evalue": "mysum() missing 1 required keyword-only argument: 'start'",
     "output_type": "error",
     "traceback": [
      "\u001b[0;31m---------------------------------------------------------------------------\u001b[0m",
      "\u001b[0;31mTypeError\u001b[0m                                 Traceback (most recent call last)",
      "\u001b[0;32m/var/folders/d9/v8tsklln4477fll05wkgcpth0000gn/T/ipykernel_3260/1533741639.py\u001b[0m in \u001b[0;36m<module>\u001b[0;34m\u001b[0m\n\u001b[1;32m      7\u001b[0m     \u001b[0;32mreturn\u001b[0m \u001b[0mtotal\u001b[0m\u001b[0;34m\u001b[0m\u001b[0;34m\u001b[0m\u001b[0m\n\u001b[1;32m      8\u001b[0m \u001b[0;34m\u001b[0m\u001b[0m\n\u001b[0;32m----> 9\u001b[0;31m \u001b[0mmysum\u001b[0m\u001b[0;34m(\u001b[0m\u001b[0;36m10\u001b[0m\u001b[0;34m,\u001b[0m \u001b[0;36m20\u001b[0m\u001b[0;34m,\u001b[0m \u001b[0;36m30\u001b[0m\u001b[0;34m)\u001b[0m   \u001b[0;31m# error!\u001b[0m\u001b[0;34m\u001b[0m\u001b[0;34m\u001b[0m\u001b[0m\n\u001b[0m",
      "\u001b[0;31mTypeError\u001b[0m: mysum() missing 1 required keyword-only argument: 'start'"
     ]
    }
   ],
   "source": [
    "# make start a keyword-only parameter\n",
    "\n",
    "def mysum(*args, start):  # args gets all positional, start is keyword only\n",
    "    total = start\n",
    "    for one_number in args:\n",
    "        total += one_number\n",
    "    return total\n",
    "\n",
    "mysum(10, 20, 30)   # error!  "
   ]
  },
  {
   "cell_type": "code",
   "execution_count": 9,
   "id": "e1f2fbe3",
   "metadata": {},
   "outputs": [
    {
     "data": {
      "text/plain": [
       "75"
      ]
     },
     "execution_count": 9,
     "metadata": {},
     "output_type": "execute_result"
    }
   ],
   "source": [
    "mysum(10, 20, 30, start=15)"
   ]
  },
  {
   "cell_type": "code",
   "execution_count": 10,
   "id": "16055ec0",
   "metadata": {},
   "outputs": [
    {
     "data": {
      "text/plain": [
       "[100, 200, 10, 20, 30, 40]"
      ]
     },
     "execution_count": 10,
     "metadata": {},
     "output_type": "execute_result"
    }
   ],
   "source": [
    "mysum([100, 200], [10, 20, 30], [40], start=[])"
   ]
  },
  {
   "cell_type": "code",
   "execution_count": 12,
   "id": "0bc7cc3b",
   "metadata": {},
   "outputs": [
    {
     "data": {
      "text/plain": [
       "60"
      ]
     },
     "execution_count": 12,
     "metadata": {},
     "output_type": "execute_result"
    }
   ],
   "source": [
    "# make start a keyword-only parameter\n",
    "\n",
    "def mysum(*args, start=0):  # args gets all positional, start is keyword only with a default\n",
    "    total = start\n",
    "    for one_number in args:\n",
    "        total += one_number\n",
    "    return total\n",
    "\n",
    "mysum(10, 20, 30)  "
   ]
  },
  {
   "cell_type": "code",
   "execution_count": 13,
   "id": "3ef12c80",
   "metadata": {},
   "outputs": [
    {
     "name": "stdout",
     "output_type": "stream",
     "text": [
      "Help on built-in function sum in module builtins:\n",
      "\n",
      "sum(iterable, /, start=0)\n",
      "    Return the sum of a 'start' value (default: 0) plus an iterable of numbers\n",
      "    \n",
      "    When the iterable is empty, return the start value.\n",
      "    This function is intended specifically for use with numeric values and may\n",
      "    reject non-numeric types.\n",
      "\n"
     ]
    }
   ],
   "source": [
    "help(sum)"
   ]
  },
  {
   "cell_type": "code",
   "execution_count": 14,
   "id": "fdcf9a78",
   "metadata": {},
   "outputs": [
    {
     "data": {
      "text/plain": [
       "'a=100, b=200, c=300'"
      ]
     },
     "execution_count": 14,
     "metadata": {},
     "output_type": "execute_result"
    }
   ],
   "source": [
    "def myfunc(a, b, c):\n",
    "    return f'{a=}, {b=}, {c=}'\n",
    "\n",
    "myfunc(a=100, b=200, c=300)"
   ]
  },
  {
   "cell_type": "code",
   "execution_count": 15,
   "id": "849661e0",
   "metadata": {},
   "outputs": [
    {
     "ename": "TypeError",
     "evalue": "myfunc() got an unexpected keyword argument 'd'",
     "output_type": "error",
     "traceback": [
      "\u001b[0;31m---------------------------------------------------------------------------\u001b[0m",
      "\u001b[0;31mTypeError\u001b[0m                                 Traceback (most recent call last)",
      "\u001b[0;32m/var/folders/d9/v8tsklln4477fll05wkgcpth0000gn/T/ipykernel_3260/2069549332.py\u001b[0m in \u001b[0;36m<module>\u001b[0;34m\u001b[0m\n\u001b[0;32m----> 1\u001b[0;31m \u001b[0mmyfunc\u001b[0m\u001b[0;34m(\u001b[0m\u001b[0ma\u001b[0m\u001b[0;34m=\u001b[0m\u001b[0;36m100\u001b[0m\u001b[0;34m,\u001b[0m \u001b[0mb\u001b[0m\u001b[0;34m=\u001b[0m\u001b[0;36m200\u001b[0m\u001b[0;34m,\u001b[0m \u001b[0mc\u001b[0m\u001b[0;34m=\u001b[0m\u001b[0;36m300\u001b[0m\u001b[0;34m,\u001b[0m \u001b[0md\u001b[0m\u001b[0;34m=\u001b[0m\u001b[0;36m400\u001b[0m\u001b[0;34m)\u001b[0m\u001b[0;34m\u001b[0m\u001b[0;34m\u001b[0m\u001b[0m\n\u001b[0m",
      "\u001b[0;31mTypeError\u001b[0m: myfunc() got an unexpected keyword argument 'd'"
     ]
    }
   ],
   "source": [
    "myfunc(a=100, b=200, c=300, d=400)"
   ]
  },
  {
   "cell_type": "code",
   "execution_count": 16,
   "id": "c4f7bced",
   "metadata": {},
   "outputs": [
    {
     "data": {
      "text/plain": [
       "\"a=100, b=200, c=300, kwargs={'d': 400, 'e': [10, 20, 30]}\""
      ]
     },
     "execution_count": 16,
     "metadata": {},
     "output_type": "execute_result"
    }
   ],
   "source": [
    "# **kwargs -- keyword arguments -- kwargs always a dict!\n",
    "# kwargs has all keyword pairs that no other parameter got\n",
    "\n",
    "def myfunc(a, b, c, **kwargs):\n",
    "    return f'{a=}, {b=}, {c=}, {kwargs=}'\n",
    "\n",
    "myfunc(a=100, b=200, c=300, d=400, e=[10, 20, 30])"
   ]
  },
  {
   "cell_type": "code",
   "execution_count": 17,
   "id": "8e6da1f4",
   "metadata": {},
   "outputs": [],
   "source": [
    "def write_config(filename, **kwargs):\n",
    "    with open(filename, 'w') as f:\n",
    "        for key, value in kwargs.items():\n",
    "            f.write(f'{key}:{value}\\n')"
   ]
  },
  {
   "cell_type": "code",
   "execution_count": 18,
   "id": "01ce0b26",
   "metadata": {},
   "outputs": [],
   "source": [
    "write_config('myconfig.txt', a=100, b=[20, 30, 40], c=123.456, d='hello')"
   ]
  },
  {
   "cell_type": "code",
   "execution_count": 19,
   "id": "47b32faf",
   "metadata": {},
   "outputs": [
    {
     "name": "stdout",
     "output_type": "stream",
     "text": [
      "a:100\r\n",
      "b:[20, 30, 40]\r\n",
      "c:123.456\r\n",
      "d:hello\r\n"
     ]
    }
   ],
   "source": [
    "!cat myconfig.txt"
   ]
  },
  {
   "cell_type": "code",
   "execution_count": 22,
   "id": "fabe5b28",
   "metadata": {},
   "outputs": [
    {
     "ename": "TypeError",
     "evalue": "write_config() got multiple values for argument 'filename'",
     "output_type": "error",
     "traceback": [
      "\u001b[0;31m---------------------------------------------------------------------------\u001b[0m",
      "\u001b[0;31mTypeError\u001b[0m                                 Traceback (most recent call last)",
      "\u001b[0;32m/var/folders/d9/v8tsklln4477fll05wkgcpth0000gn/T/ipykernel_3260/3410723054.py\u001b[0m in \u001b[0;36m<module>\u001b[0;34m\u001b[0m\n\u001b[1;32m      1\u001b[0m \u001b[0;31m#           positional->filename\u001b[0m\u001b[0;34m\u001b[0m\u001b[0;34m\u001b[0m\u001b[0m\n\u001b[0;32m----> 2\u001b[0;31m \u001b[0mwrite_config\u001b[0m\u001b[0;34m(\u001b[0m\u001b[0;34m'myconfig.txt'\u001b[0m\u001b[0;34m,\u001b[0m \u001b[0mfilename\u001b[0m\u001b[0;34m=\u001b[0m\u001b[0;34m'a'\u001b[0m\u001b[0;34m,\u001b[0m \u001b[0mx\u001b[0m\u001b[0;34m=\u001b[0m\u001b[0;36m100\u001b[0m\u001b[0;34m)\u001b[0m\u001b[0;34m\u001b[0m\u001b[0;34m\u001b[0m\u001b[0m\n\u001b[0m",
      "\u001b[0;31mTypeError\u001b[0m: write_config() got multiple values for argument 'filename'"
     ]
    }
   ],
   "source": [
    "#           positional->filename\n",
    "write_config('myconfig.txt', filename='a', x=100)"
   ]
  },
  {
   "cell_type": "markdown",
   "id": "7c878b35",
   "metadata": {},
   "source": [
    "# Exercise: XML writer\n",
    "\n",
    "1. Write a function called `xml` that takes several arguments:\n",
    "    - tag name\n",
    "    - text content between the open-close tags\n",
    "    - keyword arguments with attributes\n",
    "2. The function should return a string with valid XML.\n",
    "\n",
    "Example:\n",
    "\n",
    "```python\n",
    "xml('tagname')                   # <tagname></tagname>\n",
    "xml('tagname', 'a')              # <tagname>a</tagname>\n",
    "xml('tagname', 'a', x=100)       # <tagname x=\"100\">a</tagname>\n",
    "xml('tagname', 'a', x=1, b=2)    # <tagname x=\"1\" b=\"2\">a</tagname>\n",
    "```"
   ]
  },
  {
   "cell_type": "code",
   "execution_count": 23,
   "id": "17fa0edc",
   "metadata": {},
   "outputs": [
    {
     "name": "stdout",
     "output_type": "stream",
     "text": [
      "abc\n",
      "def\n"
     ]
    }
   ],
   "source": [
    "print('abc')\n",
    "print('def')"
   ]
  },
  {
   "cell_type": "code",
   "execution_count": 24,
   "id": "6aa10896",
   "metadata": {},
   "outputs": [
    {
     "name": "stdout",
     "output_type": "stream",
     "text": [
      "abc***def\n"
     ]
    }
   ],
   "source": [
    "print('abc', end='***')\n",
    "print('def')"
   ]
  },
  {
   "cell_type": "code",
   "execution_count": 32,
   "id": "41c40bae",
   "metadata": {},
   "outputs": [
    {
     "data": {
      "text/plain": [
       "'<a></a>'"
      ]
     },
     "execution_count": 32,
     "metadata": {},
     "output_type": "execute_result"
    }
   ],
   "source": [
    "def xml(tagname, text='', **kwargs):\n",
    "    attributes = ''\n",
    "    \n",
    "    for key, value in kwargs.items():\n",
    "        attributes += f' {key}=\"{value}\"'\n",
    "    \n",
    "    return f'<{tagname}{attributes}>{text}</{tagname}>'\n",
    "\n",
    "xml('a')"
   ]
  },
  {
   "cell_type": "code",
   "execution_count": 33,
   "id": "930e4bba",
   "metadata": {},
   "outputs": [
    {
     "data": {
      "text/plain": [
       "'<a>b</a>'"
      ]
     },
     "execution_count": 33,
     "metadata": {},
     "output_type": "execute_result"
    }
   ],
   "source": [
    "xml('a', 'b')"
   ]
  },
  {
   "cell_type": "code",
   "execution_count": 34,
   "id": "e01dd89e",
   "metadata": {},
   "outputs": [
    {
     "data": {
      "text/plain": [
       "'<a><b><c>hello</c></b></a>'"
      ]
     },
     "execution_count": 34,
     "metadata": {},
     "output_type": "execute_result"
    }
   ],
   "source": [
    "xml('a' ,(xml('b', xml('c', 'hello'))))"
   ]
  },
  {
   "cell_type": "code",
   "execution_count": 35,
   "id": "3222b80c",
   "metadata": {},
   "outputs": [
    {
     "data": {
      "text/plain": [
       "'<a x=\"100\" y=\"200\">b</a>'"
      ]
     },
     "execution_count": 35,
     "metadata": {},
     "output_type": "execute_result"
    }
   ],
   "source": [
    "xml('a', 'b', x=100, y=200)"
   ]
  },
  {
   "cell_type": "markdown",
   "id": "bc7a74ba",
   "metadata": {},
   "source": [
    "# Parameter types\n",
    "\n",
    "1. Mandatory (positional or keyword)\n",
    "2. Optional (positional or keyword)\n",
    "3. `*args` (all remaining positional)  **OR** `*` if we don't want `*args`\n",
    "4. Keyword-only (mandatory)\n",
    "5. Keyword-only (optional)\n",
    "6. `**kwargs` (all remaining keywords)"
   ]
  },
  {
   "cell_type": "code",
   "execution_count": 39,
   "id": "91838ce2",
   "metadata": {},
   "outputs": [
    {
     "data": {
      "text/plain": [
       "13"
      ]
     },
     "execution_count": 39,
     "metadata": {},
     "output_type": "execute_result"
    }
   ],
   "source": [
    "def add(*args, first, second):\n",
    "    return first + second\n",
    "\n",
    "add(first=10, second=3)   # all must be keyword-only!"
   ]
  },
  {
   "cell_type": "code",
   "execution_count": 40,
   "id": "cfef4d55",
   "metadata": {},
   "outputs": [
    {
     "ename": "TypeError",
     "evalue": "add() missing 2 required keyword-only arguments: 'first' and 'second'",
     "output_type": "error",
     "traceback": [
      "\u001b[0;31m---------------------------------------------------------------------------\u001b[0m",
      "\u001b[0;31mTypeError\u001b[0m                                 Traceback (most recent call last)",
      "\u001b[0;32m/var/folders/d9/v8tsklln4477fll05wkgcpth0000gn/T/ipykernel_3260/1097133340.py\u001b[0m in \u001b[0;36m<module>\u001b[0;34m\u001b[0m\n\u001b[0;32m----> 1\u001b[0;31m \u001b[0madd\u001b[0m\u001b[0;34m(\u001b[0m\u001b[0;36m10\u001b[0m\u001b[0;34m,\u001b[0m \u001b[0;36m3\u001b[0m\u001b[0;34m)\u001b[0m\u001b[0;34m\u001b[0m\u001b[0;34m\u001b[0m\u001b[0m\n\u001b[0m",
      "\u001b[0;31mTypeError\u001b[0m: add() missing 2 required keyword-only arguments: 'first' and 'second'"
     ]
    }
   ],
   "source": [
    "add(10, 3)"
   ]
  },
  {
   "cell_type": "code",
   "execution_count": 41,
   "id": "29bd2750",
   "metadata": {},
   "outputs": [
    {
     "data": {
      "text/plain": [
       "13"
      ]
     },
     "execution_count": 41,
     "metadata": {},
     "output_type": "execute_result"
    }
   ],
   "source": [
    "def add(*, first, second):    # just a * means: after here, all are keyword-only\n",
    "    return first + second\n",
    "\n",
    "add(first=10, second=3)   # all must be keyword-only!"
   ]
  },
  {
   "cell_type": "code",
   "execution_count": null,
   "id": "309adc11",
   "metadata": {},
   "outputs": [],
   "source": []
  },
  {
   "cell_type": "markdown",
   "id": "a9511e5b",
   "metadata": {},
   "source": [
    "# Parameter types\n",
    "\n",
    "0. Positional-only before `/`\n",
    "1. Mandatory (positional or keyword)\n",
    "2. Optional (positional or keyword)\n",
    "3. `*args` (all remaining positional)  **OR** `*` if we don't want `*args`\n",
    "4. Keyword-only (mandatory)\n",
    "5. Keyword-only (optional)\n",
    "6. `**kwargs` (all remaining keywords)"
   ]
  },
  {
   "cell_type": "code",
   "execution_count": 43,
   "id": "161bfd9e",
   "metadata": {},
   "outputs": [
    {
     "name": "stdout",
     "output_type": "stream",
     "text": [
      "Help on built-in function sum in module builtins:\n",
      "\n",
      "sum(iterable, /, start=0)\n",
      "    Return the sum of a 'start' value (default: 0) plus an iterable of numbers\n",
      "    \n",
      "    When the iterable is empty, return the start value.\n",
      "    This function is intended specifically for use with numeric values and may\n",
      "    reject non-numeric types.\n",
      "\n"
     ]
    }
   ],
   "source": [
    "help(sum)"
   ]
  },
  {
   "cell_type": "code",
   "execution_count": 44,
   "id": "7240d02c",
   "metadata": {},
   "outputs": [
    {
     "name": "stdout",
     "output_type": "stream",
     "text": [
      "Help on built-in function len in module builtins:\n",
      "\n",
      "len(obj, /)\n",
      "    Return the number of items in a container.\n",
      "\n"
     ]
    }
   ],
   "source": [
    "help(len)"
   ]
  },
  {
   "cell_type": "code",
   "execution_count": 45,
   "id": "30744f48",
   "metadata": {},
   "outputs": [
    {
     "ename": "TypeError",
     "evalue": "sum() takes at least 1 positional argument (0 given)",
     "output_type": "error",
     "traceback": [
      "\u001b[0;31m---------------------------------------------------------------------------\u001b[0m",
      "\u001b[0;31mTypeError\u001b[0m                                 Traceback (most recent call last)",
      "\u001b[0;32m/var/folders/d9/v8tsklln4477fll05wkgcpth0000gn/T/ipykernel_3260/2493439120.py\u001b[0m in \u001b[0;36m<module>\u001b[0;34m\u001b[0m\n\u001b[0;32m----> 1\u001b[0;31m \u001b[0msum\u001b[0m\u001b[0;34m(\u001b[0m\u001b[0miterable\u001b[0m\u001b[0;34m=\u001b[0m\u001b[0;34m[\u001b[0m\u001b[0;36m10\u001b[0m\u001b[0;34m,\u001b[0m \u001b[0;36m20\u001b[0m\u001b[0;34m,\u001b[0m \u001b[0;36m30\u001b[0m\u001b[0;34m]\u001b[0m\u001b[0;34m)\u001b[0m\u001b[0;34m\u001b[0m\u001b[0;34m\u001b[0m\u001b[0m\n\u001b[0m",
      "\u001b[0;31mTypeError\u001b[0m: sum() takes at least 1 positional argument (0 given)"
     ]
    }
   ],
   "source": [
    "sum(iterable=[10, 20, 30])"
   ]
  },
  {
   "cell_type": "code",
   "execution_count": 47,
   "id": "66f398df",
   "metadata": {},
   "outputs": [
    {
     "data": {
      "text/plain": [
       "'<a tagname=\"thing\"></a>'"
      ]
     },
     "execution_count": 47,
     "metadata": {},
     "output_type": "execute_result"
    }
   ],
   "source": [
    "def xml(tagname, text='', /, **kwargs):\n",
    "    attributes = ''\n",
    "    \n",
    "    for key, value in kwargs.items():\n",
    "        attributes += f' {key}=\"{value}\"'\n",
    "    \n",
    "    return f'<{tagname}{attributes}>{text}</{tagname}>'\n",
    "\n",
    "xml('a', tagname='thing')"
   ]
  },
  {
   "cell_type": "code",
   "execution_count": 49,
   "id": "e0652e7c",
   "metadata": {},
   "outputs": [
    {
     "data": {
      "text/plain": [
       "12"
      ]
     },
     "execution_count": 49,
     "metadata": {},
     "output_type": "execute_result"
    }
   ],
   "source": [
    "def add(first, second):\n",
    "    return first + second\n",
    "\n",
    "t = (10, 2)\n",
    "\n",
    "add(*t)    # unrolling"
   ]
  },
  {
   "cell_type": "code",
   "execution_count": 52,
   "id": "2925fe99",
   "metadata": {},
   "outputs": [
    {
     "data": {
      "text/plain": [
       "'<mytag a=\"1\" b=\"2\" c=\"3\">mytext</mytag>'"
      ]
     },
     "execution_count": 52,
     "metadata": {},
     "output_type": "execute_result"
    }
   ],
   "source": [
    "d = {'a':1, 'b':2, 'c':3}\n",
    "\n",
    "xml('mytag', 'mytext', **d)    # turns the dict into keyword arguments"
   ]
  },
  {
   "cell_type": "code",
   "execution_count": 54,
   "id": "3ee9ebc5",
   "metadata": {},
   "outputs": [
    {
     "data": {
      "text/plain": [
       "['a', 'b', 'c']"
      ]
     },
     "execution_count": 54,
     "metadata": {},
     "output_type": "execute_result"
    }
   ],
   "source": [
    "list(d)"
   ]
  },
  {
   "cell_type": "code",
   "execution_count": 55,
   "id": "f6ce36b9",
   "metadata": {},
   "outputs": [
    {
     "ename": "TypeError",
     "evalue": "xml() takes from 1 to 2 positional arguments but 5 were given",
     "output_type": "error",
     "traceback": [
      "\u001b[0;31m---------------------------------------------------------------------------\u001b[0m",
      "\u001b[0;31mTypeError\u001b[0m                                 Traceback (most recent call last)",
      "\u001b[0;32m/var/folders/d9/v8tsklln4477fll05wkgcpth0000gn/T/ipykernel_3260/3420472554.py\u001b[0m in \u001b[0;36m<module>\u001b[0;34m\u001b[0m\n\u001b[0;32m----> 1\u001b[0;31m \u001b[0mxml\u001b[0m\u001b[0;34m(\u001b[0m\u001b[0;34m'mytag'\u001b[0m\u001b[0;34m,\u001b[0m \u001b[0;34m'mytext'\u001b[0m\u001b[0;34m,\u001b[0m \u001b[0;34m*\u001b[0m\u001b[0md\u001b[0m\u001b[0;34m)\u001b[0m\u001b[0;34m\u001b[0m\u001b[0;34m\u001b[0m\u001b[0m\n\u001b[0m",
      "\u001b[0;31mTypeError\u001b[0m: xml() takes from 1 to 2 positional arguments but 5 were given"
     ]
    }
   ],
   "source": [
    "xml('mytag', 'mytext', *d) "
   ]
  },
  {
   "cell_type": "markdown",
   "id": "f1d35f9a",
   "metadata": {},
   "source": [
    "# Scoping"
   ]
  },
  {
   "cell_type": "code",
   "execution_count": 57,
   "id": "8967d00e",
   "metadata": {},
   "outputs": [
    {
     "name": "stdout",
     "output_type": "stream",
     "text": [
      "0 1 2 3 4 5 6 7 8 9 "
     ]
    }
   ],
   "source": [
    "for i in range(10):\n",
    "    print(i, end=' ')\n",
    "    x = i"
   ]
  },
  {
   "cell_type": "code",
   "execution_count": 58,
   "id": "2a1b6eb6",
   "metadata": {},
   "outputs": [
    {
     "data": {
      "text/plain": [
       "9"
      ]
     },
     "execution_count": 58,
     "metadata": {},
     "output_type": "execute_result"
    }
   ],
   "source": [
    "x"
   ]
  },
  {
   "cell_type": "code",
   "execution_count": 59,
   "id": "302cb118",
   "metadata": {},
   "outputs": [
    {
     "data": {
      "text/plain": [
       "9"
      ]
     },
     "execution_count": 59,
     "metadata": {},
     "output_type": "execute_result"
    }
   ],
   "source": [
    "i"
   ]
  },
  {
   "cell_type": "code",
   "execution_count": 60,
   "id": "213957ee",
   "metadata": {},
   "outputs": [
    {
     "name": "stdout",
     "output_type": "stream",
     "text": [
      "x = 100\n"
     ]
    }
   ],
   "source": [
    "x = 100\n",
    "\n",
    "print(f'x = {x}')  # is x global? YES, 100"
   ]
  },
  {
   "cell_type": "markdown",
   "id": "080ff74a",
   "metadata": {},
   "source": [
    "# Python has 4 scopes:\n",
    "\n",
    "- `L` Local (start here, if we're in a function body)\n",
    "- `E` Enclosing\n",
    "- `G` Global (start here if *not* in a function body)\n",
    "- `B` Builtin"
   ]
  },
  {
   "cell_type": "code",
   "execution_count": 61,
   "id": "ea1403b1",
   "metadata": {},
   "outputs": [
    {
     "data": {
      "text/plain": [
       "True"
      ]
     },
     "execution_count": 61,
     "metadata": {},
     "output_type": "execute_result"
    }
   ],
   "source": [
    "'x' in globals() "
   ]
  },
  {
   "cell_type": "code",
   "execution_count": 64,
   "id": "567d3907",
   "metadata": {},
   "outputs": [
    {
     "name": "stdout",
     "output_type": "stream",
     "text": [
      "Before, x = 100\n",
      "In myfunc, x = 100\n",
      "After, x = 100\n"
     ]
    }
   ],
   "source": [
    "x = 100\n",
    "\n",
    "def myfunc():\n",
    "    print(f'In myfunc, x = {x}') # is x local? NO.  is x global? YES, 100\n",
    "\n",
    "print(f'Before, x = {x}')  # is x global? YES, 100\n",
    "myfunc()\n",
    "print(f'After, x = {x}')  # is x global? YES, 100"
   ]
  },
  {
   "cell_type": "code",
   "execution_count": 63,
   "id": "a1056175",
   "metadata": {},
   "outputs": [
    {
     "data": {
      "text/plain": [
       "()"
      ]
     },
     "execution_count": 63,
     "metadata": {},
     "output_type": "execute_result"
    }
   ],
   "source": [
    "myfunc.__code__.co_varnames"
   ]
  },
  {
   "cell_type": "code",
   "execution_count": 65,
   "id": "dbc5aa1c",
   "metadata": {},
   "outputs": [
    {
     "name": "stdout",
     "output_type": "stream",
     "text": [
      "In myfunc, x = 100\n"
     ]
    }
   ],
   "source": [
    "def otherfunc():\n",
    "    myfunc()   # is myfunc local? NO. is myfunc global? YES\n",
    "    \n",
    "otherfunc()    "
   ]
  },
  {
   "cell_type": "code",
   "execution_count": 66,
   "id": "16e3ea1f",
   "metadata": {},
   "outputs": [
    {
     "name": "stdout",
     "output_type": "stream",
     "text": [
      "Before, x = 100\n",
      "In myfunc, x = 200\n",
      "After, x = 100\n"
     ]
    }
   ],
   "source": [
    "x = 100\n",
    "\n",
    "def myfunc():\n",
    "    x = 200\n",
    "    print(f'In myfunc, x = {x}')  # is x local? YES, 200\n",
    "\n",
    "print(f'Before, x = {x}')  # is x global? YES, 100\n",
    "myfunc()\n",
    "print(f'After, x = {x}')  # is x global? YES, 100"
   ]
  },
  {
   "cell_type": "code",
   "execution_count": 67,
   "id": "7e889f9d",
   "metadata": {},
   "outputs": [
    {
     "data": {
      "text/plain": [
       "('x',)"
      ]
     },
     "execution_count": 67,
     "metadata": {},
     "output_type": "execute_result"
    }
   ],
   "source": [
    "myfunc.__code__.co_varnames"
   ]
  },
  {
   "cell_type": "code",
   "execution_count": 68,
   "id": "875c1b82",
   "metadata": {},
   "outputs": [
    {
     "name": "stdout",
     "output_type": "stream",
     "text": [
      "Before, x = 100\n"
     ]
    },
    {
     "ename": "UnboundLocalError",
     "evalue": "local variable 'x' referenced before assignment",
     "output_type": "error",
     "traceback": [
      "\u001b[0;31m---------------------------------------------------------------------------\u001b[0m",
      "\u001b[0;31mUnboundLocalError\u001b[0m                         Traceback (most recent call last)",
      "\u001b[0;32m/var/folders/d9/v8tsklln4477fll05wkgcpth0000gn/T/ipykernel_3260/1680296173.py\u001b[0m in \u001b[0;36m<module>\u001b[0;34m\u001b[0m\n\u001b[1;32m      6\u001b[0m \u001b[0;34m\u001b[0m\u001b[0m\n\u001b[1;32m      7\u001b[0m \u001b[0mprint\u001b[0m\u001b[0;34m(\u001b[0m\u001b[0;34mf'Before, x = {x}'\u001b[0m\u001b[0;34m)\u001b[0m\u001b[0;34m\u001b[0m\u001b[0;34m\u001b[0m\u001b[0m\n\u001b[0;32m----> 8\u001b[0;31m \u001b[0mmyfunc\u001b[0m\u001b[0;34m(\u001b[0m\u001b[0;34m)\u001b[0m\u001b[0;34m\u001b[0m\u001b[0;34m\u001b[0m\u001b[0m\n\u001b[0m\u001b[1;32m      9\u001b[0m \u001b[0mprint\u001b[0m\u001b[0;34m(\u001b[0m\u001b[0;34mf'After, x = {x}'\u001b[0m\u001b[0;34m)\u001b[0m\u001b[0;34m\u001b[0m\u001b[0;34m\u001b[0m\u001b[0m\n",
      "\u001b[0;32m/var/folders/d9/v8tsklln4477fll05wkgcpth0000gn/T/ipykernel_3260/1680296173.py\u001b[0m in \u001b[0;36mmyfunc\u001b[0;34m()\u001b[0m\n\u001b[1;32m      2\u001b[0m \u001b[0;34m\u001b[0m\u001b[0m\n\u001b[1;32m      3\u001b[0m \u001b[0;32mdef\u001b[0m \u001b[0mmyfunc\u001b[0m\u001b[0;34m(\u001b[0m\u001b[0;34m)\u001b[0m\u001b[0;34m:\u001b[0m\u001b[0;34m\u001b[0m\u001b[0;34m\u001b[0m\u001b[0m\n\u001b[0;32m----> 4\u001b[0;31m     \u001b[0mprint\u001b[0m\u001b[0;34m(\u001b[0m\u001b[0;34mf'In myfunc, x = {x}'\u001b[0m\u001b[0;34m)\u001b[0m\u001b[0;34m\u001b[0m\u001b[0;34m\u001b[0m\u001b[0m\n\u001b[0m\u001b[1;32m      5\u001b[0m     \u001b[0mx\u001b[0m \u001b[0;34m=\u001b[0m \u001b[0;36m200\u001b[0m\u001b[0;34m\u001b[0m\u001b[0;34m\u001b[0m\u001b[0m\n\u001b[1;32m      6\u001b[0m \u001b[0;34m\u001b[0m\u001b[0m\n",
      "\u001b[0;31mUnboundLocalError\u001b[0m: local variable 'x' referenced before assignment"
     ]
    }
   ],
   "source": [
    "x = 100\n",
    "\n",
    "def myfunc():\n",
    "    print(f'In myfunc, x = {x}') # is x local? YES\n",
    "    x = 200   # hoisting problem\n",
    "\n",
    "print(f'Before, x = {x}')  \n",
    "myfunc()\n",
    "print(f'After, x = {x}')  "
   ]
  },
  {
   "cell_type": "code",
   "execution_count": 69,
   "id": "17b4423d",
   "metadata": {},
   "outputs": [
    {
     "name": "stdout",
     "output_type": "stream",
     "text": [
      "Before, x = 100\n"
     ]
    },
    {
     "ename": "UnboundLocalError",
     "evalue": "local variable 'x' referenced before assignment",
     "output_type": "error",
     "traceback": [
      "\u001b[0;31m---------------------------------------------------------------------------\u001b[0m",
      "\u001b[0;31mUnboundLocalError\u001b[0m                         Traceback (most recent call last)",
      "\u001b[0;32m/var/folders/d9/v8tsklln4477fll05wkgcpth0000gn/T/ipykernel_3260/3588748996.py\u001b[0m in \u001b[0;36m<module>\u001b[0;34m\u001b[0m\n\u001b[1;32m      6\u001b[0m \u001b[0;34m\u001b[0m\u001b[0m\n\u001b[1;32m      7\u001b[0m \u001b[0mprint\u001b[0m\u001b[0;34m(\u001b[0m\u001b[0;34mf'Before, x = {x}'\u001b[0m\u001b[0;34m)\u001b[0m\u001b[0;34m\u001b[0m\u001b[0;34m\u001b[0m\u001b[0m\n\u001b[0;32m----> 8\u001b[0;31m \u001b[0mmyfunc\u001b[0m\u001b[0;34m(\u001b[0m\u001b[0;34m)\u001b[0m\u001b[0;34m\u001b[0m\u001b[0;34m\u001b[0m\u001b[0m\n\u001b[0m\u001b[1;32m      9\u001b[0m \u001b[0mprint\u001b[0m\u001b[0;34m(\u001b[0m\u001b[0;34mf'After, x = {x}'\u001b[0m\u001b[0;34m)\u001b[0m\u001b[0;34m\u001b[0m\u001b[0;34m\u001b[0m\u001b[0m\n",
      "\u001b[0;32m/var/folders/d9/v8tsklln4477fll05wkgcpth0000gn/T/ipykernel_3260/3588748996.py\u001b[0m in \u001b[0;36mmyfunc\u001b[0;34m()\u001b[0m\n\u001b[1;32m      2\u001b[0m \u001b[0;34m\u001b[0m\u001b[0m\n\u001b[1;32m      3\u001b[0m \u001b[0;32mdef\u001b[0m \u001b[0mmyfunc\u001b[0m\u001b[0;34m(\u001b[0m\u001b[0;34m)\u001b[0m\u001b[0;34m:\u001b[0m\u001b[0;34m\u001b[0m\u001b[0;34m\u001b[0m\u001b[0m\n\u001b[0;32m----> 4\u001b[0;31m     \u001b[0mx\u001b[0m \u001b[0;34m+=\u001b[0m \u001b[0;36m1\u001b[0m\u001b[0;34m\u001b[0m\u001b[0;34m\u001b[0m\u001b[0m\n\u001b[0m\u001b[1;32m      5\u001b[0m     \u001b[0mprint\u001b[0m\u001b[0;34m(\u001b[0m\u001b[0;34mf'In myfunc, x = {x}'\u001b[0m\u001b[0;34m)\u001b[0m\u001b[0;34m\u001b[0m\u001b[0;34m\u001b[0m\u001b[0m\n\u001b[1;32m      6\u001b[0m \u001b[0;34m\u001b[0m\u001b[0m\n",
      "\u001b[0;31mUnboundLocalError\u001b[0m: local variable 'x' referenced before assignment"
     ]
    }
   ],
   "source": [
    "x = 100\n",
    "\n",
    "def myfunc():\n",
    "    x += 1   # x = x + 1\n",
    "    print(f'In myfunc, x = {x}') \n",
    "\n",
    "print(f'Before, x = {x}')  \n",
    "myfunc()\n",
    "print(f'After, x = {x}')  "
   ]
  },
  {
   "cell_type": "code",
   "execution_count": 70,
   "id": "0cb5fad0",
   "metadata": {},
   "outputs": [
    {
     "data": {
      "text/plain": [
       "[10, 20, 30, 1]"
      ]
     },
     "execution_count": 70,
     "metadata": {},
     "output_type": "execute_result"
    }
   ],
   "source": [
    "def add_one(x):\n",
    "    x.append(1)\n",
    "\n",
    "mylist = [10, 20, 30]\n",
    "add_one(mylist)\n",
    "mylist"
   ]
  },
  {
   "cell_type": "code",
   "execution_count": 75,
   "id": "cab78985",
   "metadata": {},
   "outputs": [
    {
     "name": "stdout",
     "output_type": "stream",
     "text": [
      "Before, x = 100\n",
      "In myfunc, x = 200\n",
      "After, x = 200\n",
      "After, y = ['!', 20, 30]\n"
     ]
    }
   ],
   "source": [
    "x = 100\n",
    "y = [10, 20, 30]\n",
    "\n",
    "def myfunc():\n",
    "    global x\n",
    "    x = 200\n",
    "    y[0] = '!'\n",
    "    print(f'In myfunc, x = {x}') \n",
    "\n",
    "print(f'Before, x = {x}')    \n",
    "myfunc()\n",
    "print(f'After, x = {x}') \n",
    "print(f'After, y = {y}')"
   ]
  },
  {
   "cell_type": "code",
   "execution_count": 72,
   "id": "07a210d3",
   "metadata": {},
   "outputs": [
    {
     "data": {
      "text/plain": [
       "()"
      ]
     },
     "execution_count": 72,
     "metadata": {},
     "output_type": "execute_result"
    }
   ],
   "source": [
    "myfunc.__code__.co_varnames"
   ]
  },
  {
   "cell_type": "code",
   "execution_count": 77,
   "id": "11892bd2",
   "metadata": {},
   "outputs": [
    {
     "name": "stdout",
     "output_type": "stream",
     "text": [
      "Before, x = 100\n",
      "In myfunc, x = 200\n",
      "After, x = 200\n"
     ]
    }
   ],
   "source": [
    "import __main__ \n",
    "\n",
    "x = 100\n",
    "\n",
    "def myfunc():\n",
    "    __main__.x = 200     # instead of global!\n",
    "    print(f'In myfunc, x = {x}') \n",
    "\n",
    "print(f'Before, x = {x}')    \n",
    "myfunc()\n",
    "print(f'After, x = {x}') "
   ]
  },
  {
   "cell_type": "code",
   "execution_count": 78,
   "id": "a9847741",
   "metadata": {},
   "outputs": [
    {
     "data": {
      "text/plain": [
       "['a', 'b', 'c', 'd']"
      ]
     },
     "execution_count": 78,
     "metadata": {},
     "output_type": "execute_result"
    }
   ],
   "source": [
    "list('abcd')"
   ]
  },
  {
   "cell_type": "code",
   "execution_count": 79,
   "id": "85116d8a",
   "metadata": {},
   "outputs": [
    {
     "data": {
      "text/plain": [
       "{'a': 1, 'b': 2}"
      ]
     },
     "execution_count": 79,
     "metadata": {},
     "output_type": "execute_result"
    }
   ],
   "source": [
    "dict(a=1, b=2)"
   ]
  },
  {
   "cell_type": "code",
   "execution_count": 80,
   "id": "ebd1a2d6",
   "metadata": {},
   "outputs": [
    {
     "data": {
      "text/plain": [
       "60"
      ]
     },
     "execution_count": 80,
     "metadata": {},
     "output_type": "execute_result"
    }
   ],
   "source": [
    "sum([10, 20, 30])"
   ]
  },
  {
   "cell_type": "code",
   "execution_count": 81,
   "id": "f8f6b522",
   "metadata": {},
   "outputs": [],
   "source": [
    "sum = 5   # I create a new global variable, sum!  blocks access to __builtins__.sum"
   ]
  },
  {
   "cell_type": "code",
   "execution_count": 82,
   "id": "0e724ce1",
   "metadata": {},
   "outputs": [
    {
     "ename": "TypeError",
     "evalue": "'int' object is not callable",
     "output_type": "error",
     "traceback": [
      "\u001b[0;31m---------------------------------------------------------------------------\u001b[0m",
      "\u001b[0;31mTypeError\u001b[0m                                 Traceback (most recent call last)",
      "\u001b[0;32m/var/folders/d9/v8tsklln4477fll05wkgcpth0000gn/T/ipykernel_3260/2524997481.py\u001b[0m in \u001b[0;36m<module>\u001b[0;34m\u001b[0m\n\u001b[0;32m----> 1\u001b[0;31m \u001b[0msum\u001b[0m\u001b[0;34m(\u001b[0m\u001b[0;34m[\u001b[0m\u001b[0;36m10\u001b[0m\u001b[0;34m,\u001b[0m \u001b[0;36m20\u001b[0m\u001b[0;34m,\u001b[0m \u001b[0;36m30\u001b[0m\u001b[0;34m]\u001b[0m\u001b[0;34m)\u001b[0m\u001b[0;34m\u001b[0m\u001b[0;34m\u001b[0m\u001b[0m\n\u001b[0m",
      "\u001b[0;31mTypeError\u001b[0m: 'int' object is not callable"
     ]
    }
   ],
   "source": [
    "sum([10, 20, 30])"
   ]
  },
  {
   "cell_type": "code",
   "execution_count": 85,
   "id": "865cdaf9",
   "metadata": {
    "collapsed": true
   },
   "outputs": [
    {
     "data": {
      "text/plain": [
       "['ArithmeticError',\n",
       " 'AssertionError',\n",
       " 'AttributeError',\n",
       " 'BaseException',\n",
       " 'BlockingIOError',\n",
       " 'BrokenPipeError',\n",
       " 'BufferError',\n",
       " 'BytesWarning',\n",
       " 'ChildProcessError',\n",
       " 'ConnectionAbortedError',\n",
       " 'ConnectionError',\n",
       " 'ConnectionRefusedError',\n",
       " 'ConnectionResetError',\n",
       " 'DeprecationWarning',\n",
       " 'EOFError',\n",
       " 'Ellipsis',\n",
       " 'EncodingWarning',\n",
       " 'EnvironmentError',\n",
       " 'Exception',\n",
       " 'False',\n",
       " 'FileExistsError',\n",
       " 'FileNotFoundError',\n",
       " 'FloatingPointError',\n",
       " 'FutureWarning',\n",
       " 'GeneratorExit',\n",
       " 'IOError',\n",
       " 'ImportError',\n",
       " 'ImportWarning',\n",
       " 'IndentationError',\n",
       " 'IndexError',\n",
       " 'InterruptedError',\n",
       " 'IsADirectoryError',\n",
       " 'KeyError',\n",
       " 'KeyboardInterrupt',\n",
       " 'LookupError',\n",
       " 'MemoryError',\n",
       " 'ModuleNotFoundError',\n",
       " 'NameError',\n",
       " 'None',\n",
       " 'NotADirectoryError',\n",
       " 'NotImplemented',\n",
       " 'NotImplementedError',\n",
       " 'OSError',\n",
       " 'OverflowError',\n",
       " 'PendingDeprecationWarning',\n",
       " 'PermissionError',\n",
       " 'ProcessLookupError',\n",
       " 'RecursionError',\n",
       " 'ReferenceError',\n",
       " 'ResourceWarning',\n",
       " 'RuntimeError',\n",
       " 'RuntimeWarning',\n",
       " 'StopAsyncIteration',\n",
       " 'StopIteration',\n",
       " 'SyntaxError',\n",
       " 'SyntaxWarning',\n",
       " 'SystemError',\n",
       " 'SystemExit',\n",
       " 'TabError',\n",
       " 'TimeoutError',\n",
       " 'True',\n",
       " 'TypeError',\n",
       " 'UnboundLocalError',\n",
       " 'UnicodeDecodeError',\n",
       " 'UnicodeEncodeError',\n",
       " 'UnicodeError',\n",
       " 'UnicodeTranslateError',\n",
       " 'UnicodeWarning',\n",
       " 'UserWarning',\n",
       " 'ValueError',\n",
       " 'Warning',\n",
       " 'ZeroDivisionError',\n",
       " '__IPYTHON__',\n",
       " '__build_class__',\n",
       " '__debug__',\n",
       " '__doc__',\n",
       " '__import__',\n",
       " '__loader__',\n",
       " '__name__',\n",
       " '__package__',\n",
       " '__spec__',\n",
       " 'abs',\n",
       " 'aiter',\n",
       " 'all',\n",
       " 'anext',\n",
       " 'any',\n",
       " 'ascii',\n",
       " 'bin',\n",
       " 'bool',\n",
       " 'breakpoint',\n",
       " 'bytearray',\n",
       " 'bytes',\n",
       " 'callable',\n",
       " 'chr',\n",
       " 'classmethod',\n",
       " 'compile',\n",
       " 'complex',\n",
       " 'copyright',\n",
       " 'credits',\n",
       " 'delattr',\n",
       " 'dict',\n",
       " 'dir',\n",
       " 'display',\n",
       " 'divmod',\n",
       " 'enumerate',\n",
       " 'eval',\n",
       " 'exec',\n",
       " 'execfile',\n",
       " 'filter',\n",
       " 'float',\n",
       " 'format',\n",
       " 'frozenset',\n",
       " 'get_ipython',\n",
       " 'getattr',\n",
       " 'globals',\n",
       " 'hasattr',\n",
       " 'hash',\n",
       " 'help',\n",
       " 'hex',\n",
       " 'id',\n",
       " 'input',\n",
       " 'int',\n",
       " 'isinstance',\n",
       " 'issubclass',\n",
       " 'iter',\n",
       " 'len',\n",
       " 'license',\n",
       " 'list',\n",
       " 'locals',\n",
       " 'map',\n",
       " 'max',\n",
       " 'memoryview',\n",
       " 'min',\n",
       " 'next',\n",
       " 'object',\n",
       " 'oct',\n",
       " 'open',\n",
       " 'ord',\n",
       " 'pow',\n",
       " 'print',\n",
       " 'property',\n",
       " 'range',\n",
       " 'repr',\n",
       " 'reversed',\n",
       " 'round',\n",
       " 'runfile',\n",
       " 'set',\n",
       " 'setattr',\n",
       " 'slice',\n",
       " 'sorted',\n",
       " 'staticmethod',\n",
       " 'str',\n",
       " 'sum',\n",
       " 'super',\n",
       " 'tuple',\n",
       " 'type',\n",
       " 'vars',\n",
       " 'zip']"
      ]
     },
     "execution_count": 85,
     "metadata": {},
     "output_type": "execute_result"
    }
   ],
   "source": [
    "dir(__builtin__)"
   ]
  },
  {
   "cell_type": "code",
   "execution_count": 88,
   "id": "62989fcb",
   "metadata": {},
   "outputs": [
    {
     "data": {
      "text/plain": [
       "60"
      ]
     },
     "execution_count": 88,
     "metadata": {},
     "output_type": "execute_result"
    }
   ],
   "source": [
    "__builtins__.sum([10, 20, 30])"
   ]
  },
  {
   "cell_type": "code",
   "execution_count": 89,
   "id": "1d5c21b3",
   "metadata": {},
   "outputs": [],
   "source": [
    "del(sum)  # delete the global sum"
   ]
  },
  {
   "cell_type": "code",
   "execution_count": 90,
   "id": "5761ae3e",
   "metadata": {},
   "outputs": [
    {
     "data": {
      "text/plain": [
       "60"
      ]
     },
     "execution_count": 90,
     "metadata": {},
     "output_type": "execute_result"
    }
   ],
   "source": [
    "sum([10, 20, 30])"
   ]
  },
  {
   "cell_type": "code",
   "execution_count": 91,
   "id": "0655083e",
   "metadata": {},
   "outputs": [
    {
     "ename": "NameError",
     "evalue": "name 'sum' is not defined",
     "output_type": "error",
     "traceback": [
      "\u001b[0;31m---------------------------------------------------------------------------\u001b[0m",
      "\u001b[0;31mNameError\u001b[0m                                 Traceback (most recent call last)",
      "\u001b[0;32m/var/folders/d9/v8tsklln4477fll05wkgcpth0000gn/T/ipykernel_3260/2522137463.py\u001b[0m in \u001b[0;36m<module>\u001b[0;34m\u001b[0m\n\u001b[0;32m----> 1\u001b[0;31m \u001b[0;32mdel\u001b[0m\u001b[0;34m(\u001b[0m\u001b[0msum\u001b[0m\u001b[0;34m)\u001b[0m\u001b[0;34m\u001b[0m\u001b[0;34m\u001b[0m\u001b[0m\n\u001b[0m",
      "\u001b[0;31mNameError\u001b[0m: name 'sum' is not defined"
     ]
    }
   ],
   "source": [
    "del(sum)"
   ]
  },
  {
   "cell_type": "code",
   "execution_count": 92,
   "id": "b6979de9",
   "metadata": {},
   "outputs": [
    {
     "data": {
      "text/plain": [
       "(10, 20)"
      ]
     },
     "execution_count": 92,
     "metadata": {},
     "output_type": "execute_result"
    }
   ],
   "source": [
    "t = (10, 20)\n",
    "t"
   ]
  },
  {
   "cell_type": "code",
   "execution_count": 93,
   "id": "fde567e2",
   "metadata": {},
   "outputs": [
    {
     "data": {
      "text/plain": [
       "(10, 20)"
      ]
     },
     "execution_count": 93,
     "metadata": {},
     "output_type": "execute_result"
    }
   ],
   "source": [
    "t = 10, 20\n",
    "t"
   ]
  },
  {
   "cell_type": "code",
   "execution_count": 94,
   "id": "72900073",
   "metadata": {},
   "outputs": [],
   "source": [
    "x = 100\n",
    "y = 200\n",
    "\n",
    "x,y = y,x"
   ]
  },
  {
   "cell_type": "code",
   "execution_count": 95,
   "id": "93c3b305",
   "metadata": {},
   "outputs": [
    {
     "data": {
      "text/plain": [
       "200"
      ]
     },
     "execution_count": 95,
     "metadata": {},
     "output_type": "execute_result"
    }
   ],
   "source": [
    "x"
   ]
  },
  {
   "cell_type": "code",
   "execution_count": 96,
   "id": "5356e1ab",
   "metadata": {},
   "outputs": [
    {
     "data": {
      "text/plain": [
       "100"
      ]
     },
     "execution_count": 96,
     "metadata": {},
     "output_type": "execute_result"
    }
   ],
   "source": [
    "y"
   ]
  },
  {
   "cell_type": "code",
   "execution_count": 97,
   "id": "ee9e2a84",
   "metadata": {},
   "outputs": [],
   "source": [
    "def outer():\n",
    "    def inner():\n",
    "        return 'Hello from inner!'\n",
    "    return inner\n",
    "\n",
    "func = outer() "
   ]
  },
  {
   "cell_type": "code",
   "execution_count": 98,
   "id": "9ae0fab8",
   "metadata": {},
   "outputs": [
    {
     "data": {
      "text/plain": [
       "function"
      ]
     },
     "execution_count": 98,
     "metadata": {},
     "output_type": "execute_result"
    }
   ],
   "source": [
    "type(func)"
   ]
  },
  {
   "cell_type": "code",
   "execution_count": 99,
   "id": "914c763b",
   "metadata": {},
   "outputs": [
    {
     "data": {
      "text/plain": [
       "'Hello from inner!'"
      ]
     },
     "execution_count": 99,
     "metadata": {},
     "output_type": "execute_result"
    }
   ],
   "source": [
    "func()"
   ]
  },
  {
   "cell_type": "code",
   "execution_count": 100,
   "id": "183f6433",
   "metadata": {},
   "outputs": [
    {
     "data": {
      "text/plain": [
       "4472275152"
      ]
     },
     "execution_count": 100,
     "metadata": {},
     "output_type": "execute_result"
    }
   ],
   "source": [
    "id(func)"
   ]
  },
  {
   "cell_type": "code",
   "execution_count": 101,
   "id": "462df72c",
   "metadata": {},
   "outputs": [
    {
     "data": {
      "text/plain": [
       "4472277600"
      ]
     },
     "execution_count": 101,
     "metadata": {},
     "output_type": "execute_result"
    }
   ],
   "source": [
    "func = outer()\n",
    "id(func)"
   ]
  },
  {
   "cell_type": "code",
   "execution_count": 102,
   "id": "8675bdd4",
   "metadata": {},
   "outputs": [
    {
     "data": {
      "text/plain": [
       "('inner',)"
      ]
     },
     "execution_count": 102,
     "metadata": {},
     "output_type": "execute_result"
    }
   ],
   "source": [
    "outer.__code__.co_varnames"
   ]
  },
  {
   "cell_type": "code",
   "execution_count": 103,
   "id": "9981780c",
   "metadata": {},
   "outputs": [],
   "source": [
    "def outer(x):        # closure\n",
    "    def inner(y):\n",
    "        return f'Hello from inner, {x=}, {y=}'\n",
    "    return inner\n",
    "\n",
    "func = outer(10)    # x is 10"
   ]
  },
  {
   "cell_type": "code",
   "execution_count": 105,
   "id": "a901da33",
   "metadata": {},
   "outputs": [
    {
     "data": {
      "text/plain": [
       "'Hello from inner, x=10, y=20'"
      ]
     },
     "execution_count": 105,
     "metadata": {},
     "output_type": "execute_result"
    }
   ],
   "source": [
    "func(20) "
   ]
  },
  {
   "cell_type": "code",
   "execution_count": 107,
   "id": "f5726e7e",
   "metadata": {},
   "outputs": [
    {
     "data": {
      "text/plain": [
       "'1 Hello from inner, x=10, y=5'"
      ]
     },
     "execution_count": 107,
     "metadata": {},
     "output_type": "execute_result"
    }
   ],
   "source": [
    "def outer(x):        # closure\n",
    "    counter = 0\n",
    "\n",
    "    def inner(y):\n",
    "        nonlocal counter\n",
    "        counter += 1\n",
    "        return f'{counter} Hello from inner, {x=}, {y=}'\n",
    "    return inner\n",
    "\n",
    "func = outer(10)\n",
    "func(5)"
   ]
  },
  {
   "cell_type": "code",
   "execution_count": 108,
   "id": "19db6b65",
   "metadata": {},
   "outputs": [
    {
     "data": {
      "text/plain": [
       "'2 Hello from inner, x=10, y=6'"
      ]
     },
     "execution_count": 108,
     "metadata": {},
     "output_type": "execute_result"
    }
   ],
   "source": [
    "func(6)"
   ]
  },
  {
   "cell_type": "code",
   "execution_count": 109,
   "id": "a43dc92e",
   "metadata": {},
   "outputs": [
    {
     "data": {
      "text/plain": [
       "'3 Hello from inner, x=10, y=7'"
      ]
     },
     "execution_count": 109,
     "metadata": {},
     "output_type": "execute_result"
    }
   ],
   "source": [
    "func(7)"
   ]
  },
  {
   "cell_type": "code",
   "execution_count": 110,
   "id": "54330a01",
   "metadata": {},
   "outputs": [],
   "source": [
    "func1 = outer(10)\n",
    "func2 = outer(20)"
   ]
  },
  {
   "cell_type": "code",
   "execution_count": 111,
   "id": "28359193",
   "metadata": {},
   "outputs": [
    {
     "data": {
      "text/plain": [
       "'1 Hello from inner, x=10, y=100'"
      ]
     },
     "execution_count": 111,
     "metadata": {},
     "output_type": "execute_result"
    }
   ],
   "source": [
    "func1(100)"
   ]
  },
  {
   "cell_type": "code",
   "execution_count": 112,
   "id": "d87eaf17",
   "metadata": {},
   "outputs": [
    {
     "data": {
      "text/plain": [
       "'2 Hello from inner, x=10, y=200'"
      ]
     },
     "execution_count": 112,
     "metadata": {},
     "output_type": "execute_result"
    }
   ],
   "source": [
    "func1(200)"
   ]
  },
  {
   "cell_type": "code",
   "execution_count": 113,
   "id": "641acd94",
   "metadata": {},
   "outputs": [
    {
     "data": {
      "text/plain": [
       "'4 Hello from inner, x=10, y=300'"
      ]
     },
     "execution_count": 113,
     "metadata": {},
     "output_type": "execute_result"
    }
   ],
   "source": [
    "func(300)"
   ]
  },
  {
   "cell_type": "code",
   "execution_count": 114,
   "id": "50fc392b",
   "metadata": {},
   "outputs": [
    {
     "data": {
      "text/plain": [
       "'3 Hello from inner, x=10, y=400'"
      ]
     },
     "execution_count": 114,
     "metadata": {},
     "output_type": "execute_result"
    }
   ],
   "source": [
    "func1(400)"
   ]
  },
  {
   "cell_type": "code",
   "execution_count": 115,
   "id": "5e80c08e",
   "metadata": {},
   "outputs": [
    {
     "data": {
      "text/plain": [
       "'1 Hello from inner, x=20, y=555'"
      ]
     },
     "execution_count": 115,
     "metadata": {},
     "output_type": "execute_result"
    }
   ],
   "source": [
    "func2(555)"
   ]
  },
  {
   "cell_type": "code",
   "execution_count": 118,
   "id": "09a3f754",
   "metadata": {},
   "outputs": [
    {
     "data": {
      "text/plain": [
       "('counter', 'x')"
      ]
     },
     "execution_count": 118,
     "metadata": {},
     "output_type": "execute_result"
    }
   ],
   "source": [
    "outer.__code__.co_cellvars  # what variables does the outer function need to store/keep?"
   ]
  },
  {
   "cell_type": "code",
   "execution_count": 117,
   "id": "10848cf7",
   "metadata": {},
   "outputs": [
    {
     "data": {
      "text/plain": [
       "('counter', 'x')"
      ]
     },
     "execution_count": 117,
     "metadata": {},
     "output_type": "execute_result"
    }
   ],
   "source": [
    "func1.__code__.co_freevars   # what variables are in the enclosing/outer function?"
   ]
  },
  {
   "cell_type": "code",
   "execution_count": 119,
   "id": "3a2fdad5",
   "metadata": {},
   "outputs": [
    {
     "ename": "SyntaxError",
     "evalue": "nonlocal declaration not allowed at module level (2466344330.py, line 1)",
     "output_type": "error",
     "traceback": [
      "\u001b[0;36m  File \u001b[0;32m\"/var/folders/d9/v8tsklln4477fll05wkgcpth0000gn/T/ipykernel_3260/2466344330.py\"\u001b[0;36m, line \u001b[0;32m1\u001b[0m\n\u001b[0;31m    nonlocal x\u001b[0m\n\u001b[0m    ^\u001b[0m\n\u001b[0;31mSyntaxError\u001b[0m\u001b[0;31m:\u001b[0m nonlocal declaration not allowed at module level\n"
     ]
    }
   ],
   "source": [
    "nonlocal x"
   ]
  },
  {
   "cell_type": "code",
   "execution_count": 120,
   "id": "365d976e",
   "metadata": {},
   "outputs": [
    {
     "ename": "SyntaxError",
     "evalue": "no binding for nonlocal 'x' found (1581669044.py, line 2)",
     "output_type": "error",
     "traceback": [
      "\u001b[0;36m  File \u001b[0;32m\"/var/folders/d9/v8tsklln4477fll05wkgcpth0000gn/T/ipykernel_3260/1581669044.py\"\u001b[0;36m, line \u001b[0;32m2\u001b[0m\n\u001b[0;31m    nonlocal x\u001b[0m\n\u001b[0m    ^\u001b[0m\n\u001b[0;31mSyntaxError\u001b[0m\u001b[0;31m:\u001b[0m no binding for nonlocal 'x' found\n"
     ]
    }
   ],
   "source": [
    "def foo():\n",
    "    nonlocal x\n",
    "    x = 5"
   ]
  },
  {
   "cell_type": "markdown",
   "id": "b02b78e3",
   "metadata": {},
   "source": [
    "# Exercise: make_password_maker\n",
    "\n",
    "1. Write `make_password_maker`, which takes a string, and returns a function\n",
    "2. The returned function takes an int argument, and returns a string\n",
    "\n",
    "`random.choice` \n",
    "\n",
    "\n",
    "```python\n",
    "make_alpha_password = make_password_maker('abcdefg')\n",
    "make_alpha_password(5)   # returns 5 random characters from 'abcdefg'\n",
    "make_alpha_password(10)  # returns 10 random characters from 'abcdefg'\n",
    "\n",
    "make_symbol_password = make_symbol_password('!@#$%^&*()')\n",
    "make_symbol_password(5)   # returns 5 random characters from the above\n",
    "```"
   ]
  },
  {
   "cell_type": "code",
   "execution_count": 122,
   "id": "903e4694",
   "metadata": {},
   "outputs": [
    {
     "data": {
      "text/plain": [
       "['c', 'c', 'b', 'c', 'c', 'a', 'c', 'b', 'a', 'a']"
      ]
     },
     "execution_count": 122,
     "metadata": {},
     "output_type": "execute_result"
    }
   ],
   "source": [
    "import random\n",
    "random.choices('abc', k=10)"
   ]
  },
  {
   "cell_type": "code",
   "execution_count": 125,
   "id": "12b4fb19",
   "metadata": {},
   "outputs": [
    {
     "data": {
      "text/plain": [
       "'eaeaeffcab'"
      ]
     },
     "execution_count": 125,
     "metadata": {},
     "output_type": "execute_result"
    }
   ],
   "source": [
    "import random\n",
    "\n",
    "def make_password_maker(s):\n",
    "    def make_password(n):\n",
    "        return ''.join(random.choices(s, k=n))\n",
    "    return make_password\n",
    "\n",
    "make_alpha_password = make_password_maker('abcdefg')\n",
    "make_alpha_password(10)   # returns 10 random characters from 'abcdefg'"
   ]
  },
  {
   "cell_type": "code",
   "execution_count": 126,
   "id": "81b199da",
   "metadata": {},
   "outputs": [
    {
     "ename": "ValueError",
     "evalue": "Pool of character s contains e",
     "output_type": "error",
     "traceback": [
      "\u001b[0;31m---------------------------------------------------------------------------\u001b[0m",
      "\u001b[0;31mValueError\u001b[0m                                Traceback (most recent call last)",
      "\u001b[0;32m/var/folders/d9/v8tsklln4477fll05wkgcpth0000gn/T/ipykernel_3260/3906706519.py\u001b[0m in \u001b[0;36m<module>\u001b[0;34m\u001b[0m\n\u001b[1;32m     10\u001b[0m     \u001b[0;32mreturn\u001b[0m \u001b[0mmake_password\u001b[0m\u001b[0;34m\u001b[0m\u001b[0;34m\u001b[0m\u001b[0m\n\u001b[1;32m     11\u001b[0m \u001b[0;34m\u001b[0m\u001b[0m\n\u001b[0;32m---> 12\u001b[0;31m \u001b[0mmake_alpha_password\u001b[0m \u001b[0;34m=\u001b[0m \u001b[0mmake_password_maker\u001b[0m\u001b[0;34m(\u001b[0m\u001b[0;34m'abcdefg'\u001b[0m\u001b[0;34m,\u001b[0m \u001b[0mforbidden\u001b[0m\u001b[0;34m=\u001b[0m\u001b[0;34m'efg'\u001b[0m\u001b[0;34m)\u001b[0m\u001b[0;34m\u001b[0m\u001b[0;34m\u001b[0m\u001b[0m\n\u001b[0m",
      "\u001b[0;32m/var/folders/d9/v8tsklln4477fll05wkgcpth0000gn/T/ipykernel_3260/3906706519.py\u001b[0m in \u001b[0;36mmake_password_maker\u001b[0;34m(s, forbidden)\u001b[0m\n\u001b[1;32m      4\u001b[0m     \u001b[0;32mfor\u001b[0m \u001b[0mone_character\u001b[0m \u001b[0;32min\u001b[0m \u001b[0mforbidden\u001b[0m\u001b[0;34m:\u001b[0m\u001b[0;34m\u001b[0m\u001b[0;34m\u001b[0m\u001b[0m\n\u001b[1;32m      5\u001b[0m         \u001b[0;32mif\u001b[0m \u001b[0mone_character\u001b[0m \u001b[0;32min\u001b[0m \u001b[0ms\u001b[0m\u001b[0;34m:\u001b[0m\u001b[0;34m\u001b[0m\u001b[0;34m\u001b[0m\u001b[0m\n\u001b[0;32m----> 6\u001b[0;31m             \u001b[0;32mraise\u001b[0m \u001b[0mValueError\u001b[0m\u001b[0;34m(\u001b[0m\u001b[0;34mf'Pool of character s contains {one_character}'\u001b[0m\u001b[0;34m)\u001b[0m\u001b[0;34m\u001b[0m\u001b[0;34m\u001b[0m\u001b[0m\n\u001b[0m\u001b[1;32m      7\u001b[0m \u001b[0;34m\u001b[0m\u001b[0m\n\u001b[1;32m      8\u001b[0m     \u001b[0;32mdef\u001b[0m \u001b[0mmake_password\u001b[0m\u001b[0;34m(\u001b[0m\u001b[0mn\u001b[0m\u001b[0;34m)\u001b[0m\u001b[0;34m:\u001b[0m\u001b[0;34m\u001b[0m\u001b[0;34m\u001b[0m\u001b[0m\n",
      "\u001b[0;31mValueError\u001b[0m: Pool of character s contains e"
     ]
    }
   ],
   "source": [
    "import random\n",
    "\n",
    "def make_password_maker(s, forbidden=''):\n",
    "    for one_character in forbidden:\n",
    "        if one_character in s:\n",
    "            raise ValueError(f'Pool of character s contains {one_character}')\n",
    "\n",
    "    def make_password(n):\n",
    "        return ''.join(random.choices(s, k=n))\n",
    "    return make_password\n",
    "\n",
    "make_alpha_password = make_password_maker('abcdefg', forbidden='efg')"
   ]
  },
  {
   "cell_type": "code",
   "execution_count": 127,
   "id": "998367b2",
   "metadata": {},
   "outputs": [
    {
     "ename": "TypeError",
     "evalue": "make_password_maker() got an unexpected keyword argument 'forbidden'",
     "output_type": "error",
     "traceback": [
      "\u001b[0;31m---------------------------------------------------------------------------\u001b[0m",
      "\u001b[0;31mTypeError\u001b[0m                                 Traceback (most recent call last)",
      "\u001b[0;32m/var/folders/d9/v8tsklln4477fll05wkgcpth0000gn/T/ipykernel_3260/82619783.py\u001b[0m in \u001b[0;36m<module>\u001b[0;34m\u001b[0m\n\u001b[1;32m     23\u001b[0m     \u001b[0;32mreturn\u001b[0m \u001b[0mmake_password\u001b[0m\u001b[0;34m\u001b[0m\u001b[0;34m\u001b[0m\u001b[0m\n\u001b[1;32m     24\u001b[0m \u001b[0;34m\u001b[0m\u001b[0m\n\u001b[0;32m---> 25\u001b[0;31m \u001b[0mmake_alpha_password\u001b[0m \u001b[0;34m=\u001b[0m \u001b[0mmake_password_maker\u001b[0m\u001b[0;34m(\u001b[0m\u001b[0;34m'abcdefg'\u001b[0m\u001b[0;34m,\u001b[0m \u001b[0mforbidden\u001b[0m\u001b[0;34m=\u001b[0m\u001b[0;34m'efg'\u001b[0m\u001b[0;34m)\u001b[0m\u001b[0;34m\u001b[0m\u001b[0;34m\u001b[0m\u001b[0m\n\u001b[0m",
      "\u001b[0;31mTypeError\u001b[0m: make_password_maker() got an unexpected keyword argument 'forbidden'"
     ]
    }
   ],
   "source": [
    "import random\n",
    "\n",
    "def make_password_maker(s, min_digits=0, min_symbols=0):\n",
    "\n",
    "    def make_password(n):\n",
    "        new_password = ''.join(random.choices(s, k=n))\n",
    "        \n",
    "        # check digits\n",
    "        digit_count = 0\n",
    "        symbol_count = 0\n",
    "        for one_character in new_password:\n",
    "            if one_character.isdigit():\n",
    "                digit_count += 1\n",
    "            if one_character in '!@#$%':\n",
    "                symbol_count += 1\n",
    "                \n",
    "        if digit_count < min_digits:\n",
    "            raise ValueError('Illegal password; not enough digits')\n",
    "            \n",
    "        if symbol_count < min_symbols:\n",
    "            raise ValueError('ILlegal password: not enough symbols')\n",
    "        \n",
    "    return make_password\n",
    "\n",
    "make_alpha_password = make_password_maker('abcdefg', forbidden='efg')"
   ]
  },
  {
   "cell_type": "code",
   "execution_count": 128,
   "id": "19631048",
   "metadata": {},
   "outputs": [
    {
     "name": "stdout",
     "output_type": "stream",
     "text": [
      "Enter choice: a\n",
      "A!\n",
      "Enter choice: b\n",
      "B!\n",
      "Enter choice: c\n",
      "Unknown c\n",
      "Enter choice: \n"
     ]
    }
   ],
   "source": [
    "def a():\n",
    "    return 'A!'\n",
    "\n",
    "def b():\n",
    "    return 'B!'\n",
    "\n",
    "while True:\n",
    "    s = input('Enter choice: ').strip()\n",
    "    \n",
    "    if not s:\n",
    "        break\n",
    "        \n",
    "    elif s == 'a':\n",
    "        print(a())\n",
    "        \n",
    "    elif s == 'b':\n",
    "        print(b())\n",
    "        \n",
    "    else:\n",
    "        print(f'Unknown {s}')"
   ]
  },
  {
   "cell_type": "code",
   "execution_count": 129,
   "id": "c6d81383",
   "metadata": {},
   "outputs": [
    {
     "name": "stdout",
     "output_type": "stream",
     "text": [
      "Enter choice: a\n",
      "A!\n",
      "Enter choice: b\n",
      "B!\n",
      "Enter choice: \n"
     ]
    }
   ],
   "source": [
    "def a():\n",
    "    return 'A!'\n",
    "\n",
    "def b():\n",
    "    return 'B!'\n",
    "\n",
    "# dispatch table\n",
    "funcs = {'a':a,\n",
    "         'b':b}\n",
    "\n",
    "while True:\n",
    "    s = input('Enter choice: ').strip()\n",
    "    \n",
    "    if not s:\n",
    "        break\n",
    "        \n",
    "    elif s in funcs:\n",
    "        print(funcs[s]())\n",
    "\n",
    "    else:\n",
    "        print(f'Unknown {s}')"
   ]
  },
  {
   "cell_type": "markdown",
   "id": "1049c08c",
   "metadata": {},
   "source": [
    "# Exercise: Calculator\n",
    "\n",
    "1. Write two functions, `add` and `mul`, that perform addition and multiplications.  Put them in a dispatch table dict.\n",
    "2. Ask the user, repeatedly, to enter a math expression, with two numbers and an operator.\n",
    "3. If the user gives us an empty string, exit.\n",
    "4. Otherwise, look up, and execute, the appropriate function from the dict.\n",
    "\n",
    "Example:\n",
    "\n",
    "    Enter expression: 2 + 2\n",
    "    2 + 2 = 4\n",
    "    Enter expression: 10 * 5\n",
    "    10 * 5 = 50\n",
    "    Enter expression: 10 / 2\n",
    "    10 / 2 is not recognized\n",
    "    Enter expression: [ENTER]\n",
    "    [exits]"
   ]
  },
  {
   "cell_type": "code",
   "execution_count": 132,
   "id": "45724d61",
   "metadata": {},
   "outputs": [
    {
     "name": "stdout",
     "output_type": "stream",
     "text": [
      "Enter expression: 2+2\n",
      "Enter a valid expression!\n",
      "Enter expression: 2 +\n",
      "Enter a valid expression!\n",
      "Enter expression: 2 + 2\n",
      "2 + 2 = 4\n",
      "Enter expression: 2 / 3\n",
      "2 / 3 = Unsupported\n",
      "Enter expression: \n"
     ]
    }
   ],
   "source": [
    "def add(first, second):\n",
    "    return first + second\n",
    "\n",
    "def mul(first, second):\n",
    "    return first * second\n",
    "\n",
    "funcs = {'+':add,\n",
    "        '*':mul}\n",
    "\n",
    "while s := input('Enter expression: ').strip():\n",
    "        \n",
    "    if s.count(' ') != 2:\n",
    "        print('Enter a valid expression!')\n",
    "        continue\n",
    "\n",
    "    first, op, second = s.split()  # splits on ' ', \\t, \\n, \\r, \\v\n",
    "    \n",
    "    if op in funcs:\n",
    "        result = funcs[op](int(first), int(second))\n",
    "        \n",
    "    else:\n",
    "        result = 'Unsupported'\n",
    "        \n",
    "    print(f'{first} {op} {second} = {result}')\n",
    "        "
   ]
  },
  {
   "cell_type": "markdown",
   "id": "cd353394",
   "metadata": {},
   "source": [
    "# Comprehensions"
   ]
  },
  {
   "cell_type": "code",
   "execution_count": 133,
   "id": "c69c249b",
   "metadata": {},
   "outputs": [
    {
     "data": {
      "text/plain": [
       "[0, 1, 4, 9, 16, 25, 36, 49, 64, 81]"
      ]
     },
     "execution_count": 133,
     "metadata": {},
     "output_type": "execute_result"
    }
   ],
   "source": [
    "numbers = range(10)\n",
    "\n",
    "squares = []\n",
    "\n",
    "for one_number in numbers:\n",
    "    squares.append(one_number ** 2)\n",
    "    \n",
    "squares    "
   ]
  },
  {
   "cell_type": "code",
   "execution_count": 135,
   "id": "afe0381d",
   "metadata": {},
   "outputs": [
    {
     "data": {
      "text/plain": [
       "[0, 1, 4, 9, 16, 25, 36, 49, 64, 81]"
      ]
     },
     "execution_count": 135,
     "metadata": {},
     "output_type": "execute_result"
    }
   ],
   "source": [
    "# list comprehension\n",
    "\n",
    "[one_number ** 2              # SELECT\n",
    " for one_number in numbers]   # FROM "
   ]
  },
  {
   "cell_type": "code",
   "execution_count": 136,
   "id": "9588c220",
   "metadata": {},
   "outputs": [
    {
     "data": {
      "text/plain": [
       "'ab*cde*fg'"
      ]
     },
     "execution_count": 136,
     "metadata": {},
     "output_type": "execute_result"
    }
   ],
   "source": [
    "mylist = ['ab', 'cde', 'fg']\n",
    "\n",
    "'*'.join(mylist)"
   ]
  },
  {
   "cell_type": "code",
   "execution_count": 137,
   "id": "7604ab96",
   "metadata": {},
   "outputs": [
    {
     "ename": "TypeError",
     "evalue": "sequence item 0: expected str instance, int found",
     "output_type": "error",
     "traceback": [
      "\u001b[0;31m---------------------------------------------------------------------------\u001b[0m",
      "\u001b[0;31mTypeError\u001b[0m                                 Traceback (most recent call last)",
      "\u001b[0;32m/var/folders/d9/v8tsklln4477fll05wkgcpth0000gn/T/ipykernel_3260/3465391870.py\u001b[0m in \u001b[0;36m<module>\u001b[0;34m\u001b[0m\n\u001b[1;32m      1\u001b[0m \u001b[0mmylist\u001b[0m \u001b[0;34m=\u001b[0m \u001b[0;34m[\u001b[0m\u001b[0;36m10\u001b[0m\u001b[0;34m,\u001b[0m \u001b[0;36m20\u001b[0m\u001b[0;34m,\u001b[0m \u001b[0;36m30\u001b[0m\u001b[0;34m]\u001b[0m\u001b[0;34m\u001b[0m\u001b[0;34m\u001b[0m\u001b[0m\n\u001b[1;32m      2\u001b[0m \u001b[0;34m\u001b[0m\u001b[0m\n\u001b[0;32m----> 3\u001b[0;31m \u001b[0;34m'*'\u001b[0m\u001b[0;34m.\u001b[0m\u001b[0mjoin\u001b[0m\u001b[0;34m(\u001b[0m\u001b[0mmylist\u001b[0m\u001b[0;34m)\u001b[0m\u001b[0;34m\u001b[0m\u001b[0;34m\u001b[0m\u001b[0m\n\u001b[0m",
      "\u001b[0;31mTypeError\u001b[0m: sequence item 0: expected str instance, int found"
     ]
    }
   ],
   "source": [
    "mylist = [10, 20, 30]\n",
    "\n",
    "'*'.join(mylist)"
   ]
  },
  {
   "cell_type": "code",
   "execution_count": 138,
   "id": "01adc3d6",
   "metadata": {},
   "outputs": [
    {
     "data": {
      "text/plain": [
       "'10*20*30'"
      ]
     },
     "execution_count": 138,
     "metadata": {},
     "output_type": "execute_result"
    }
   ],
   "source": [
    "'*'.join([str(one_item)\n",
    "         for one_item in mylist])"
   ]
  },
  {
   "cell_type": "code",
   "execution_count": 139,
   "id": "774b7d26",
   "metadata": {},
   "outputs": [
    {
     "data": {
      "text/plain": [
       "'This Is A Bunch Of Words For My Python Class'"
      ]
     },
     "execution_count": 139,
     "metadata": {},
     "output_type": "execute_result"
    }
   ],
   "source": [
    "s = 'this is a bunch of words for my python class'\n",
    "\n",
    "s.title()"
   ]
  },
  {
   "cell_type": "code",
   "execution_count": 140,
   "id": "1c60b91c",
   "metadata": {},
   "outputs": [
    {
     "data": {
      "text/plain": [
       "'This is a bunch of words for my python class'"
      ]
     },
     "execution_count": 140,
     "metadata": {},
     "output_type": "execute_result"
    }
   ],
   "source": [
    "s.capitalize()"
   ]
  },
  {
   "cell_type": "code",
   "execution_count": 143,
   "id": "cb90ffd9",
   "metadata": {},
   "outputs": [
    {
     "data": {
      "text/plain": [
       "'This Is A Bunch Of Words For My Python Class'"
      ]
     },
     "execution_count": 143,
     "metadata": {},
     "output_type": "execute_result"
    }
   ],
   "source": [
    "# if I don't have str.title, can I implement it with str.capitalize\n",
    "\n",
    "' '.join([one_word.capitalize()\n",
    " for one_word in s.split()])"
   ]
  },
  {
   "cell_type": "code",
   "execution_count": 144,
   "id": "1a052e88",
   "metadata": {},
   "outputs": [
    {
     "name": "stdout",
     "output_type": "stream",
     "text": [
      "this\n",
      "is\n",
      "a\n",
      "bunch\n",
      "of\n",
      "words\n",
      "for\n",
      "my\n",
      "python\n",
      "class\n"
     ]
    },
    {
     "data": {
      "text/plain": [
       "[None, None, None, None, None, None, None, None, None, None]"
      ]
     },
     "execution_count": 144,
     "metadata": {},
     "output_type": "execute_result"
    }
   ],
   "source": [
    "[print(one_word)\n",
    "for one_word in s.split()]"
   ]
  },
  {
   "cell_type": "markdown",
   "id": "9400ffe2",
   "metadata": {},
   "source": [
    "# Exercises: List comprehensions\n",
    "\n",
    "1. Ask the user to enter a string with numbers, separated by spaces, and sum them.\n",
    "     - If they enter '10 20 30', we print 60.\n",
    "2. Ask the user to enter a sentence. Count the non-whitespace characters in the string.\n",
    "    - If they enter 'hello world', we print 10."
   ]
  },
  {
   "cell_type": "code",
   "execution_count": 145,
   "id": "8070095f",
   "metadata": {},
   "outputs": [
    {
     "name": "stdout",
     "output_type": "stream",
     "text": [
      "Enter numbers: 10 20 30 40 50\n"
     ]
    }
   ],
   "source": [
    "s = input('Enter numbers: ')\n",
    "\n"
   ]
  },
  {
   "cell_type": "code",
   "execution_count": 151,
   "id": "2f1ac096",
   "metadata": {},
   "outputs": [
    {
     "data": {
      "text/plain": [
       "150"
      ]
     },
     "execution_count": 151,
     "metadata": {},
     "output_type": "execute_result"
    }
   ],
   "source": [
    "sum([int(one_number)\n",
    " for one_number in s.split()])"
   ]
  },
  {
   "cell_type": "code",
   "execution_count": null,
   "id": "b0060964",
   "metadata": {},
   "outputs": [],
   "source": [
    "s = input('Enter sentence: ').strip()\n"
   ]
  },
  {
   "cell_type": "code",
   "execution_count": 155,
   "id": "643710d0",
   "metadata": {},
   "outputs": [
    {
     "data": {
      "text/plain": [
       "19"
      ]
     },
     "execution_count": 155,
     "metadata": {},
     "output_type": "execute_result"
    }
   ],
   "source": [
    "sum([len(one_word)\n",
    " for one_word in s.split()])"
   ]
  },
  {
   "cell_type": "code",
   "execution_count": 157,
   "id": "e46a97e7",
   "metadata": {},
   "outputs": [
    {
     "data": {
      "text/plain": [
       "[['##\\n'],\n",
       " ['# User Database\\n'],\n",
       " ['# \\n'],\n",
       " ['# Note that this file is consulted directly only when the system is running\\n'],\n",
       " ['# in single-user mode.  At other times this information is provided by\\n'],\n",
       " ['# Open Directory.\\n'],\n",
       " ['#\\n'],\n",
       " ['# See the opendirectoryd(8) man page for additional information about\\n'],\n",
       " ['# Open Directory.\\n'],\n",
       " ['##\\n'],\n",
       " ['nobody',\n",
       "  '*',\n",
       "  '-2',\n",
       "  '-2',\n",
       "  'Unprivileged User',\n",
       "  '/var/empty',\n",
       "  '/usr/bin/false\\n'],\n",
       " ['root', '*', '0', '0', 'System Administrator', '/var/root', '/bin/sh\\n'],\n",
       " ['daemon', '*', '1', '1', 'System Services', '/var/root', '/usr/bin/false\\n'],\n",
       " ['_uucp',\n",
       "  '*',\n",
       "  '4',\n",
       "  '4',\n",
       "  'Unix to Unix Copy Protocol',\n",
       "  '/var/spool/uucp',\n",
       "  '/usr/sbin/uucico\\n'],\n",
       " ['_taskgated',\n",
       "  '*',\n",
       "  '13',\n",
       "  '13',\n",
       "  'Task Gate Daemon',\n",
       "  '/var/empty',\n",
       "  '/usr/bin/false\\n'],\n",
       " ['_networkd',\n",
       "  '*',\n",
       "  '24',\n",
       "  '24',\n",
       "  'Network Services',\n",
       "  '/var/networkd',\n",
       "  '/usr/bin/false\\n'],\n",
       " ['_installassistant',\n",
       "  '*',\n",
       "  '25',\n",
       "  '25',\n",
       "  'Install Assistant',\n",
       "  '/var/empty',\n",
       "  '/usr/bin/false\\n'],\n",
       " ['_lp',\n",
       "  '*',\n",
       "  '26',\n",
       "  '26',\n",
       "  'Printing Services',\n",
       "  '/var/spool/cups',\n",
       "  '/usr/bin/false\\n'],\n",
       " ['_postfix',\n",
       "  '*',\n",
       "  '27',\n",
       "  '27',\n",
       "  'Postfix Mail Server',\n",
       "  '/var/spool/postfix',\n",
       "  '/usr/bin/false\\n'],\n",
       " ['_scsd',\n",
       "  '*',\n",
       "  '31',\n",
       "  '31',\n",
       "  'Service Configuration Service',\n",
       "  '/var/empty',\n",
       "  '/usr/bin/false\\n'],\n",
       " ['_ces',\n",
       "  '*',\n",
       "  '32',\n",
       "  '32',\n",
       "  'Certificate Enrollment Service',\n",
       "  '/var/empty',\n",
       "  '/usr/bin/false\\n'],\n",
       " ['_appstore',\n",
       "  '*',\n",
       "  '33',\n",
       "  '33',\n",
       "  'Mac App Store Service',\n",
       "  '/var/db/appstore',\n",
       "  '/usr/bin/false\\n'],\n",
       " ['_mcxalr',\n",
       "  '*',\n",
       "  '54',\n",
       "  '54',\n",
       "  'MCX AppLaunch',\n",
       "  '/var/empty',\n",
       "  '/usr/bin/false\\n'],\n",
       " ['_appleevents',\n",
       "  '*',\n",
       "  '55',\n",
       "  '55',\n",
       "  'AppleEvents Daemon',\n",
       "  '/var/empty',\n",
       "  '/usr/bin/false\\n'],\n",
       " ['_geod',\n",
       "  '*',\n",
       "  '56',\n",
       "  '56',\n",
       "  'Geo Services Daemon',\n",
       "  '/var/db/geod',\n",
       "  '/usr/bin/false\\n'],\n",
       " ['_devdocs',\n",
       "  '*',\n",
       "  '59',\n",
       "  '59',\n",
       "  'Developer Documentation',\n",
       "  '/var/empty',\n",
       "  '/usr/bin/false\\n'],\n",
       " ['_sandbox', '*', '60', '60', 'Seatbelt', '/var/empty', '/usr/bin/false\\n'],\n",
       " ['_mdnsresponder',\n",
       "  '*',\n",
       "  '65',\n",
       "  '65',\n",
       "  'mDNSResponder',\n",
       "  '/var/empty',\n",
       "  '/usr/bin/false\\n'],\n",
       " ['_ard',\n",
       "  '*',\n",
       "  '67',\n",
       "  '67',\n",
       "  'Apple Remote Desktop',\n",
       "  '/var/empty',\n",
       "  '/usr/bin/false\\n'],\n",
       " ['_www',\n",
       "  '*',\n",
       "  '70',\n",
       "  '70',\n",
       "  'World Wide Web Server',\n",
       "  '/Library/WebServer',\n",
       "  '/usr/bin/false\\n'],\n",
       " ['_eppc',\n",
       "  '*',\n",
       "  '71',\n",
       "  '71',\n",
       "  'Apple Events User',\n",
       "  '/var/empty',\n",
       "  '/usr/bin/false\\n'],\n",
       " ['_cvs', '*', '72', '72', 'CVS Server', '/var/empty', '/usr/bin/false\\n'],\n",
       " ['_svn', '*', '73', '73', 'SVN Server', '/var/empty', '/usr/bin/false\\n'],\n",
       " ['_mysql', '*', '74', '74', 'MySQL Server', '/var/empty', '/usr/bin/false\\n'],\n",
       " ['_sshd',\n",
       "  '*',\n",
       "  '75',\n",
       "  '75',\n",
       "  'sshd Privilege separation',\n",
       "  '/var/empty',\n",
       "  '/usr/bin/false\\n'],\n",
       " ['_qtss',\n",
       "  '*',\n",
       "  '76',\n",
       "  '76',\n",
       "  'QuickTime Streaming Server',\n",
       "  '/var/empty',\n",
       "  '/usr/bin/false\\n'],\n",
       " ['_cyrus',\n",
       "  '*',\n",
       "  '77',\n",
       "  '6',\n",
       "  'Cyrus Administrator',\n",
       "  '/var/imap',\n",
       "  '/usr/bin/false\\n'],\n",
       " ['_mailman',\n",
       "  '*',\n",
       "  '78',\n",
       "  '78',\n",
       "  'Mailman List Server',\n",
       "  '/var/empty',\n",
       "  '/usr/bin/false\\n'],\n",
       " ['_appserver',\n",
       "  '*',\n",
       "  '79',\n",
       "  '79',\n",
       "  'Application Server',\n",
       "  '/var/empty',\n",
       "  '/usr/bin/false\\n'],\n",
       " ['_clamav',\n",
       "  '*',\n",
       "  '82',\n",
       "  '82',\n",
       "  'ClamAV Daemon',\n",
       "  '/var/virusmails',\n",
       "  '/usr/bin/false\\n'],\n",
       " ['_amavisd',\n",
       "  '*',\n",
       "  '83',\n",
       "  '83',\n",
       "  'AMaViS Daemon',\n",
       "  '/var/virusmails',\n",
       "  '/usr/bin/false\\n'],\n",
       " ['_jabber',\n",
       "  '*',\n",
       "  '84',\n",
       "  '84',\n",
       "  'Jabber XMPP Server',\n",
       "  '/var/empty',\n",
       "  '/usr/bin/false\\n'],\n",
       " ['_appowner',\n",
       "  '*',\n",
       "  '87',\n",
       "  '87',\n",
       "  'Application Owner',\n",
       "  '/var/empty',\n",
       "  '/usr/bin/false\\n'],\n",
       " ['_windowserver',\n",
       "  '*',\n",
       "  '88',\n",
       "  '88',\n",
       "  'WindowServer',\n",
       "  '/var/empty',\n",
       "  '/usr/bin/false\\n'],\n",
       " ['_spotlight',\n",
       "  '*',\n",
       "  '89',\n",
       "  '89',\n",
       "  'Spotlight',\n",
       "  '/var/empty',\n",
       "  '/usr/bin/false\\n'],\n",
       " ['_tokend',\n",
       "  '*',\n",
       "  '91',\n",
       "  '91',\n",
       "  'Token Daemon',\n",
       "  '/var/empty',\n",
       "  '/usr/bin/false\\n'],\n",
       " ['_securityagent',\n",
       "  '*',\n",
       "  '92',\n",
       "  '92',\n",
       "  'SecurityAgent',\n",
       "  '/var/db/securityagent',\n",
       "  '/usr/bin/false\\n'],\n",
       " ['_calendar', '*', '93', '93', 'Calendar', '/var/empty', '/usr/bin/false\\n'],\n",
       " ['_teamsserver',\n",
       "  '*',\n",
       "  '94',\n",
       "  '94',\n",
       "  'TeamsServer',\n",
       "  '/var/teamsserver',\n",
       "  '/usr/bin/false\\n'],\n",
       " ['_update_sharing',\n",
       "  '*',\n",
       "  '95',\n",
       "  '-2',\n",
       "  'Update Sharing',\n",
       "  '/var/empty',\n",
       "  '/usr/bin/false\\n'],\n",
       " ['_installer',\n",
       "  '*',\n",
       "  '96',\n",
       "  '-2',\n",
       "  'Installer',\n",
       "  '/var/empty',\n",
       "  '/usr/bin/false\\n'],\n",
       " ['_atsserver',\n",
       "  '*',\n",
       "  '97',\n",
       "  '97',\n",
       "  'ATS Server',\n",
       "  '/var/empty',\n",
       "  '/usr/bin/false\\n'],\n",
       " ['_ftp', '*', '98', '-2', 'FTP Daemon', '/var/empty', '/usr/bin/false\\n'],\n",
       " ['_unknown',\n",
       "  '*',\n",
       "  '99',\n",
       "  '99',\n",
       "  'Unknown User',\n",
       "  '/var/empty',\n",
       "  '/usr/bin/false\\n'],\n",
       " ['_softwareupdate',\n",
       "  '*',\n",
       "  '200',\n",
       "  '200',\n",
       "  'Software Update Service',\n",
       "  '/var/db/softwareupdate',\n",
       "  '/usr/bin/false\\n'],\n",
       " ['_coreaudiod',\n",
       "  '*',\n",
       "  '202',\n",
       "  '202',\n",
       "  'Core Audio Daemon',\n",
       "  '/var/empty',\n",
       "  '/usr/bin/false\\n'],\n",
       " ['_screensaver',\n",
       "  '*',\n",
       "  '203',\n",
       "  '203',\n",
       "  'Screensaver',\n",
       "  '/var/empty',\n",
       "  '/usr/bin/false\\n'],\n",
       " ['_locationd',\n",
       "  '*',\n",
       "  '205',\n",
       "  '205',\n",
       "  'Location Daemon',\n",
       "  '/var/db/locationd',\n",
       "  '/usr/bin/false\\n'],\n",
       " ['_trustevaluationagent',\n",
       "  '*',\n",
       "  '208',\n",
       "  '208',\n",
       "  'Trust Evaluation Agent',\n",
       "  '/var/empty',\n",
       "  '/usr/bin/false\\n'],\n",
       " ['_timezone',\n",
       "  '*',\n",
       "  '210',\n",
       "  '210',\n",
       "  'AutoTimeZoneDaemon',\n",
       "  '/var/empty',\n",
       "  '/usr/bin/false\\n'],\n",
       " ['_lda',\n",
       "  '*',\n",
       "  '211',\n",
       "  '211',\n",
       "  'Local Delivery Agent',\n",
       "  '/var/empty',\n",
       "  '/usr/bin/false\\n'],\n",
       " ['_cvmsroot',\n",
       "  '*',\n",
       "  '212',\n",
       "  '212',\n",
       "  'CVMS Root',\n",
       "  '/var/empty',\n",
       "  '/usr/bin/false\\n'],\n",
       " ['_usbmuxd',\n",
       "  '*',\n",
       "  '213',\n",
       "  '213',\n",
       "  'iPhone OS Device Helper',\n",
       "  '/var/db/lockdown',\n",
       "  '/usr/bin/false\\n'],\n",
       " ['_dovecot',\n",
       "  '*',\n",
       "  '214',\n",
       "  '6',\n",
       "  'Dovecot Administrator',\n",
       "  '/var/empty',\n",
       "  '/usr/bin/false\\n'],\n",
       " ['_dpaudio', '*', '215', '215', 'DP Audio', '/var/empty', '/usr/bin/false\\n'],\n",
       " ['_postgres',\n",
       "  '*',\n",
       "  '216',\n",
       "  '216',\n",
       "  'PostgreSQL Server',\n",
       "  '/var/empty',\n",
       "  '/usr/bin/false\\n'],\n",
       " ['_krbtgt',\n",
       "  '*',\n",
       "  '217',\n",
       "  '-2',\n",
       "  'Kerberos Ticket Granting Ticket',\n",
       "  '/var/empty',\n",
       "  '/usr/bin/false\\n'],\n",
       " ['_kadmin_admin',\n",
       "  '*',\n",
       "  '218',\n",
       "  '-2',\n",
       "  'Kerberos Admin Service',\n",
       "  '/var/empty',\n",
       "  '/usr/bin/false\\n'],\n",
       " ['_kadmin_changepw',\n",
       "  '*',\n",
       "  '219',\n",
       "  '-2',\n",
       "  'Kerberos Change Password Service',\n",
       "  '/var/empty',\n",
       "  '/usr/bin/false\\n'],\n",
       " ['_devicemgr',\n",
       "  '*',\n",
       "  '220',\n",
       "  '220',\n",
       "  'Device Management Server',\n",
       "  '/var/empty',\n",
       "  '/usr/bin/false\\n'],\n",
       " ['_webauthserver',\n",
       "  '*',\n",
       "  '221',\n",
       "  '221',\n",
       "  'Web Auth Server',\n",
       "  '/var/empty',\n",
       "  '/usr/bin/false\\n'],\n",
       " ['_netbios', '*', '222', '222', 'NetBIOS', '/var/empty', '/usr/bin/false\\n'],\n",
       " ['_warmd',\n",
       "  '*',\n",
       "  '224',\n",
       "  '224',\n",
       "  'Warm Daemon',\n",
       "  '/var/empty',\n",
       "  '/usr/bin/false\\n'],\n",
       " ['_dovenull',\n",
       "  '*',\n",
       "  '227',\n",
       "  '227',\n",
       "  'Dovecot Authentication',\n",
       "  '/var/empty',\n",
       "  '/usr/bin/false\\n'],\n",
       " ['_netstatistics',\n",
       "  '*',\n",
       "  '228',\n",
       "  '228',\n",
       "  'Network Statistics Daemon',\n",
       "  '/var/empty',\n",
       "  '/usr/bin/false\\n'],\n",
       " ['_avbdeviced',\n",
       "  '*',\n",
       "  '229',\n",
       "  '-2',\n",
       "  'Ethernet AVB Device Daemon',\n",
       "  '/var/empty',\n",
       "  '/usr/bin/false\\n'],\n",
       " ['_krb_krbtgt',\n",
       "  '*',\n",
       "  '230',\n",
       "  '-2',\n",
       "  'Open Directory Kerberos Ticket Granting Ticket',\n",
       "  '/var/empty',\n",
       "  '/usr/bin/false\\n'],\n",
       " ['_krb_kadmin',\n",
       "  '*',\n",
       "  '231',\n",
       "  '-2',\n",
       "  'Open Directory Kerberos Admin Service',\n",
       "  '/var/empty',\n",
       "  '/usr/bin/false\\n'],\n",
       " ['_krb_changepw',\n",
       "  '*',\n",
       "  '232',\n",
       "  '-2',\n",
       "  'Open Directory Kerberos Change Password Service',\n",
       "  '/var/empty',\n",
       "  '/usr/bin/false\\n'],\n",
       " ['_krb_kerberos',\n",
       "  '*',\n",
       "  '233',\n",
       "  '-2',\n",
       "  'Open Directory Kerberos',\n",
       "  '/var/empty',\n",
       "  '/usr/bin/false\\n'],\n",
       " ['_krb_anonymous',\n",
       "  '*',\n",
       "  '234',\n",
       "  '-2',\n",
       "  'Open Directory Kerberos Anonymous',\n",
       "  '/var/empty',\n",
       "  '/usr/bin/false\\n'],\n",
       " ['_assetcache',\n",
       "  '*',\n",
       "  '235',\n",
       "  '235',\n",
       "  'Asset Cache Service',\n",
       "  '/var/empty',\n",
       "  '/usr/bin/false\\n'],\n",
       " ['_coremediaiod',\n",
       "  '*',\n",
       "  '236',\n",
       "  '236',\n",
       "  'Core Media IO Daemon',\n",
       "  '/var/empty',\n",
       "  '/usr/bin/false\\n'],\n",
       " ['_launchservicesd',\n",
       "  '*',\n",
       "  '239',\n",
       "  '239',\n",
       "  '_launchservicesd',\n",
       "  '/var/empty',\n",
       "  '/usr/bin/false\\n'],\n",
       " ['_iconservices',\n",
       "  '*',\n",
       "  '240',\n",
       "  '240',\n",
       "  'IconServices',\n",
       "  '/var/empty',\n",
       "  '/usr/bin/false\\n'],\n",
       " ['_distnote',\n",
       "  '*',\n",
       "  '241',\n",
       "  '241',\n",
       "  'DistNote',\n",
       "  '/var/empty',\n",
       "  '/usr/bin/false\\n'],\n",
       " ['_nsurlsessiond',\n",
       "  '*',\n",
       "  '242',\n",
       "  '242',\n",
       "  'NSURLSession Daemon',\n",
       "  '/var/db/nsurlsessiond',\n",
       "  '/usr/bin/false\\n'],\n",
       " ['_displaypolicyd',\n",
       "  '*',\n",
       "  '244',\n",
       "  '244',\n",
       "  'Display Policy Daemon',\n",
       "  '/var/empty',\n",
       "  '/usr/bin/false\\n'],\n",
       " ['_astris',\n",
       "  '*',\n",
       "  '245',\n",
       "  '245',\n",
       "  'Astris Services',\n",
       "  '/var/db/astris',\n",
       "  '/usr/bin/false\\n'],\n",
       " ['_krbfast',\n",
       "  '*',\n",
       "  '246',\n",
       "  '-2',\n",
       "  'Kerberos FAST Account',\n",
       "  '/var/empty',\n",
       "  '/usr/bin/false\\n'],\n",
       " ['_gamecontrollerd',\n",
       "  '*',\n",
       "  '247',\n",
       "  '247',\n",
       "  'Game Controller Daemon',\n",
       "  '/var/empty',\n",
       "  '/usr/bin/false\\n'],\n",
       " ['_mbsetupuser',\n",
       "  '*',\n",
       "  '248',\n",
       "  '248',\n",
       "  'Setup User',\n",
       "  '/var/setup',\n",
       "  '/bin/bash\\n'],\n",
       " ['_ondemand',\n",
       "  '*',\n",
       "  '249',\n",
       "  '249',\n",
       "  'On Demand Resource Daemon',\n",
       "  '/var/db/ondemand',\n",
       "  '/usr/bin/false\\n'],\n",
       " ['_xserverdocs',\n",
       "  '*',\n",
       "  '251',\n",
       "  '251',\n",
       "  'macOS Server Documents Service',\n",
       "  '/var/empty',\n",
       "  '/usr/bin/false\\n'],\n",
       " ['_wwwproxy',\n",
       "  '*',\n",
       "  '252',\n",
       "  '252',\n",
       "  'WWW Proxy',\n",
       "  '/var/empty',\n",
       "  '/usr/bin/false\\n'],\n",
       " ['_mobileasset',\n",
       "  '*',\n",
       "  '253',\n",
       "  '253',\n",
       "  'MobileAsset User',\n",
       "  '/var/ma',\n",
       "  '/usr/bin/false\\n'],\n",
       " ['_findmydevice',\n",
       "  '*',\n",
       "  '254',\n",
       "  '254',\n",
       "  'Find My Device Daemon',\n",
       "  '/var/db/findmydevice',\n",
       "  '/usr/bin/false\\n'],\n",
       " ['_datadetectors',\n",
       "  '*',\n",
       "  '257',\n",
       "  '257',\n",
       "  'DataDetectors',\n",
       "  '/var/db/datadetectors',\n",
       "  '/usr/bin/false\\n'],\n",
       " ['_captiveagent',\n",
       "  '*',\n",
       "  '258',\n",
       "  '258',\n",
       "  'captiveagent',\n",
       "  '/var/empty',\n",
       "  '/usr/bin/false\\n'],\n",
       " ['_ctkd',\n",
       "  '*',\n",
       "  '259',\n",
       "  '259',\n",
       "  'ctkd Account',\n",
       "  '/var/empty',\n",
       "  '/usr/bin/false\\n'],\n",
       " ['_applepay',\n",
       "  '*',\n",
       "  '260',\n",
       "  '260',\n",
       "  'applepay Account',\n",
       "  '/var/db/applepay',\n",
       "  '/usr/bin/false\\n'],\n",
       " ['_hidd',\n",
       "  '*',\n",
       "  '261',\n",
       "  '261',\n",
       "  'HID Service User',\n",
       "  '/var/db/hidd',\n",
       "  '/usr/bin/false\\n'],\n",
       " ['_cmiodalassistants',\n",
       "  '*',\n",
       "  '262',\n",
       "  '262',\n",
       "  'CoreMedia IO Assistants User',\n",
       "  '/var/db/cmiodalassistants',\n",
       "  '/usr/bin/false\\n'],\n",
       " ['_analyticsd',\n",
       "  '*',\n",
       "  '263',\n",
       "  '263',\n",
       "  'Analytics Daemon',\n",
       "  '/var/db/analyticsd',\n",
       "  '/usr/bin/false\\n'],\n",
       " ['_fpsd',\n",
       "  '*',\n",
       "  '265',\n",
       "  '265',\n",
       "  'FPS Daemon',\n",
       "  '/var/db/fpsd',\n",
       "  '/usr/bin/false\\n'],\n",
       " ['_timed',\n",
       "  '*',\n",
       "  '266',\n",
       "  '266',\n",
       "  'Time Sync Daemon',\n",
       "  '/var/db/timed',\n",
       "  '/usr/bin/false\\n'],\n",
       " ['_nearbyd',\n",
       "  '*',\n",
       "  '268',\n",
       "  '268',\n",
       "  'Proximity and Ranging Daemon',\n",
       "  '/var/db/nearbyd',\n",
       "  '/usr/bin/false\\n'],\n",
       " ['_reportmemoryexception',\n",
       "  '*',\n",
       "  '269',\n",
       "  '269',\n",
       "  'ReportMemoryException',\n",
       "  '/var/db/reportmemoryexception',\n",
       "  '/usr/bin/false\\n'],\n",
       " ['_driverkit',\n",
       "  '*',\n",
       "  '270',\n",
       "  '270',\n",
       "  'DriverKit',\n",
       "  '/var/empty',\n",
       "  '/usr/bin/false\\n'],\n",
       " ['_diskimagesiod',\n",
       "  '*',\n",
       "  '271',\n",
       "  '271',\n",
       "  'DiskImages IO Daemon',\n",
       "  '/var/db/diskimagesiod',\n",
       "  '/usr/bin/false\\n'],\n",
       " ['_logd',\n",
       "  '*',\n",
       "  '272',\n",
       "  '272',\n",
       "  'Log Daemon',\n",
       "  '/var/db/diagnostics',\n",
       "  '/usr/bin/false\\n'],\n",
       " ['_appinstalld',\n",
       "  '*',\n",
       "  '273',\n",
       "  '273',\n",
       "  'App Install Daemon',\n",
       "  '/var/db/appinstalld',\n",
       "  '/usr/bin/false\\n'],\n",
       " ['_installcoordinationd',\n",
       "  '*',\n",
       "  '274',\n",
       "  '274',\n",
       "  'Install Coordination Daemon',\n",
       "  '/var/db/installcoordinationd',\n",
       "  '/usr/bin/false\\n'],\n",
       " ['_demod',\n",
       "  '*',\n",
       "  '275',\n",
       "  '275',\n",
       "  'Demo Daemon',\n",
       "  '/var/empty',\n",
       "  '/usr/bin/false\\n'],\n",
       " ['_rmd',\n",
       "  '*',\n",
       "  '277',\n",
       "  '277',\n",
       "  'Remote Management Daemon',\n",
       "  '/var/db/rmd',\n",
       "  '/usr/bin/false\\n'],\n",
       " ['_fud',\n",
       "  '*',\n",
       "  '278',\n",
       "  '278',\n",
       "  'Firmware Update Daemon',\n",
       "  '/var/db/fud',\n",
       "  '/usr/bin/false\\n'],\n",
       " ['_knowledgegraphd',\n",
       "  '*',\n",
       "  '279',\n",
       "  '279',\n",
       "  'Knowledge Graph Daemon',\n",
       "  '/var/db/knowledgegraphd',\n",
       "  '/usr/bin/false\\n'],\n",
       " ['_coreml',\n",
       "  '*',\n",
       "  '280',\n",
       "  '280',\n",
       "  'CoreML Services',\n",
       "  '/var/empty',\n",
       "  '/usr/bin/false\\n'],\n",
       " ['_trustd', '*', '282', '282', 'trustd', '/var/empty', '/usr/bin/false\\n'],\n",
       " ['_oahd', '*', '441', '441', 'OAH Daemon', '/var/empty', '/usr/bin/false\\n']]"
      ]
     },
     "execution_count": 157,
     "metadata": {},
     "output_type": "execute_result"
    }
   ],
   "source": [
    "# I want a list with all usernames\n",
    "[one_item.split(':')\n",
    " for one_item in open('/etc/passwd')]"
   ]
  },
  {
   "cell_type": "code",
   "execution_count": null,
   "id": "6c7ff5ce",
   "metadata": {},
   "outputs": [],
   "source": []
  }
 ],
 "metadata": {
  "kernelspec": {
   "display_name": "Python 3 (ipykernel)",
   "language": "python",
   "name": "python3"
  },
  "language_info": {
   "codemirror_mode": {
    "name": "ipython",
    "version": 3
   },
   "file_extension": ".py",
   "mimetype": "text/x-python",
   "name": "python",
   "nbconvert_exporter": "python",
   "pygments_lexer": "ipython3",
   "version": "3.10.1"
  }
 },
 "nbformat": 4,
 "nbformat_minor": 5
}
