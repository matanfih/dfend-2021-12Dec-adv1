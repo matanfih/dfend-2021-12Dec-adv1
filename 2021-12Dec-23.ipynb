{
 "cells": [
  {
   "cell_type": "markdown",
   "id": "3c2d9599",
   "metadata": {},
   "source": [
    "# Agenda\n",
    "\n",
    "1. Functions\n",
    "    - Parameters: `**kwargs`, `*`, positional-only\n",
    "    - Scoping (LEGB)\n",
    "    - Inner functions\n",
    "    - Dispatch tables\n",
    "2. Comprehensions\n",
    "    - List\n",
    "    - Set\n",
    "    - Dict\n",
    "    - Nested\n",
    "3. Functional programming\n",
    "    - Functions as arguments\n",
    "    - `lambda`\n",
    "4. Modules and packages"
   ]
  },
  {
   "cell_type": "code",
   "execution_count": 1,
   "id": "95e15feb",
   "metadata": {},
   "outputs": [],
   "source": [
    "# https://github.com/reuven\n",
    "# https://github.com/reuven/dfend-2021-12Dec-adv1/blob/main/2021-12Dec-23.ipynb"
   ]
  },
  {
   "cell_type": "code",
   "execution_count": 3,
   "id": "16139e96",
   "metadata": {},
   "outputs": [
    {
     "data": {
      "text/plain": [
       "13"
      ]
     },
     "execution_count": 3,
     "metadata": {},
     "output_type": "execute_result"
    }
   ],
   "source": [
    "# positional -- 10, 20,30\n",
    "# keyword  -- always in the form name=value\n",
    "#     a=10, b=20 -- keyword arguments\n",
    "\n",
    "def add(first, second):\n",
    "    return first + second\n",
    "\n",
    "add(10, 3)   # both positional"
   ]
  },
  {
   "cell_type": "code",
   "execution_count": 4,
   "id": "31b6ffd5",
   "metadata": {},
   "outputs": [
    {
     "data": {
      "text/plain": [
       "3"
      ]
     },
     "execution_count": 4,
     "metadata": {},
     "output_type": "execute_result"
    }
   ],
   "source": [
    "add(first=1, second=2)   # both keyword"
   ]
  },
  {
   "cell_type": "code",
   "execution_count": 5,
   "id": "4169ebce",
   "metadata": {},
   "outputs": [
    {
     "data": {
      "text/plain": [
       "3"
      ]
     },
     "execution_count": 5,
     "metadata": {},
     "output_type": "execute_result"
    }
   ],
   "source": [
    "add(1, second=2)   # first positional, then keyword"
   ]
  },
  {
   "cell_type": "code",
   "execution_count": 6,
   "id": "24d2071a",
   "metadata": {},
   "outputs": [
    {
     "data": {
      "text/plain": [
       "70"
      ]
     },
     "execution_count": 6,
     "metadata": {},
     "output_type": "execute_result"
    }
   ],
   "source": [
    "\n",
    "def mysum(start, *args):\n",
    "    total = start\n",
    "    for one_number in args:\n",
    "        total += one_number\n",
    "    return total\n",
    "\n",
    "mysum(10, 10, 20, 30)   # 10-> start, (10,20,30)->args"
   ]
  },
  {
   "cell_type": "code",
   "execution_count": 8,
   "id": "3b073452",
   "metadata": {},
   "outputs": [
    {
     "ename": "TypeError",
     "evalue": "mysum() missing 1 required keyword-only argument: 'start'",
     "output_type": "error",
     "traceback": [
      "\u001b[0;31m---------------------------------------------------------------------------\u001b[0m",
      "\u001b[0;31mTypeError\u001b[0m                                 Traceback (most recent call last)",
      "\u001b[0;32m/var/folders/d9/v8tsklln4477fll05wkgcpth0000gn/T/ipykernel_3260/1533741639.py\u001b[0m in \u001b[0;36m<module>\u001b[0;34m\u001b[0m\n\u001b[1;32m      7\u001b[0m     \u001b[0;32mreturn\u001b[0m \u001b[0mtotal\u001b[0m\u001b[0;34m\u001b[0m\u001b[0;34m\u001b[0m\u001b[0m\n\u001b[1;32m      8\u001b[0m \u001b[0;34m\u001b[0m\u001b[0m\n\u001b[0;32m----> 9\u001b[0;31m \u001b[0mmysum\u001b[0m\u001b[0;34m(\u001b[0m\u001b[0;36m10\u001b[0m\u001b[0;34m,\u001b[0m \u001b[0;36m20\u001b[0m\u001b[0;34m,\u001b[0m \u001b[0;36m30\u001b[0m\u001b[0;34m)\u001b[0m   \u001b[0;31m# error!\u001b[0m\u001b[0;34m\u001b[0m\u001b[0;34m\u001b[0m\u001b[0m\n\u001b[0m",
      "\u001b[0;31mTypeError\u001b[0m: mysum() missing 1 required keyword-only argument: 'start'"
     ]
    }
   ],
   "source": [
    "# make start a keyword-only parameter\n",
    "\n",
    "def mysum(*args, start):  # args gets all positional, start is keyword only\n",
    "    total = start\n",
    "    for one_number in args:\n",
    "        total += one_number\n",
    "    return total\n",
    "\n",
    "mysum(10, 20, 30)   # error!  "
   ]
  },
  {
   "cell_type": "code",
   "execution_count": 9,
   "id": "f6fbf373",
   "metadata": {},
   "outputs": [
    {
     "data": {
      "text/plain": [
       "75"
      ]
     },
     "execution_count": 9,
     "metadata": {},
     "output_type": "execute_result"
    }
   ],
   "source": [
    "mysum(10, 20, 30, start=15)"
   ]
  },
  {
   "cell_type": "code",
   "execution_count": 10,
   "id": "9df162c6",
   "metadata": {},
   "outputs": [
    {
     "data": {
      "text/plain": [
       "[100, 200, 10, 20, 30, 40]"
      ]
     },
     "execution_count": 10,
     "metadata": {},
     "output_type": "execute_result"
    }
   ],
   "source": [
    "mysum([100, 200], [10, 20, 30], [40], start=[])"
   ]
  },
  {
   "cell_type": "code",
   "execution_count": 12,
   "id": "1060f8db",
   "metadata": {},
   "outputs": [
    {
     "data": {
      "text/plain": [
       "60"
      ]
     },
     "execution_count": 12,
     "metadata": {},
     "output_type": "execute_result"
    }
   ],
   "source": [
    "# make start a keyword-only parameter\n",
    "\n",
    "def mysum(*args, start=0):  # args gets all positional, start is keyword only with a default\n",
    "    total = start\n",
    "    for one_number in args:\n",
    "        total += one_number\n",
    "    return total\n",
    "\n",
    "mysum(10, 20, 30)  "
   ]
  },
  {
   "cell_type": "code",
   "execution_count": 13,
   "id": "96cbb3de",
   "metadata": {},
   "outputs": [
    {
     "name": "stdout",
     "output_type": "stream",
     "text": [
      "Help on built-in function sum in module builtins:\n",
      "\n",
      "sum(iterable, /, start=0)\n",
      "    Return the sum of a 'start' value (default: 0) plus an iterable of numbers\n",
      "    \n",
      "    When the iterable is empty, return the start value.\n",
      "    This function is intended specifically for use with numeric values and may\n",
      "    reject non-numeric types.\n",
      "\n"
     ]
    }
   ],
   "source": [
    "help(sum)"
   ]
  },
  {
   "cell_type": "code",
   "execution_count": 14,
   "id": "73a63fda",
   "metadata": {},
   "outputs": [
    {
     "data": {
      "text/plain": [
       "'a=100, b=200, c=300'"
      ]
     },
     "execution_count": 14,
     "metadata": {},
     "output_type": "execute_result"
    }
   ],
   "source": [
    "def myfunc(a, b, c):\n",
    "    return f'{a=}, {b=}, {c=}'\n",
    "\n",
    "myfunc(a=100, b=200, c=300)"
   ]
  },
  {
   "cell_type": "code",
   "execution_count": 15,
   "id": "97ac2003",
   "metadata": {},
   "outputs": [
    {
     "ename": "TypeError",
     "evalue": "myfunc() got an unexpected keyword argument 'd'",
     "output_type": "error",
     "traceback": [
      "\u001b[0;31m---------------------------------------------------------------------------\u001b[0m",
      "\u001b[0;31mTypeError\u001b[0m                                 Traceback (most recent call last)",
      "\u001b[0;32m/var/folders/d9/v8tsklln4477fll05wkgcpth0000gn/T/ipykernel_3260/2069549332.py\u001b[0m in \u001b[0;36m<module>\u001b[0;34m\u001b[0m\n\u001b[0;32m----> 1\u001b[0;31m \u001b[0mmyfunc\u001b[0m\u001b[0;34m(\u001b[0m\u001b[0ma\u001b[0m\u001b[0;34m=\u001b[0m\u001b[0;36m100\u001b[0m\u001b[0;34m,\u001b[0m \u001b[0mb\u001b[0m\u001b[0;34m=\u001b[0m\u001b[0;36m200\u001b[0m\u001b[0;34m,\u001b[0m \u001b[0mc\u001b[0m\u001b[0;34m=\u001b[0m\u001b[0;36m300\u001b[0m\u001b[0;34m,\u001b[0m \u001b[0md\u001b[0m\u001b[0;34m=\u001b[0m\u001b[0;36m400\u001b[0m\u001b[0;34m)\u001b[0m\u001b[0;34m\u001b[0m\u001b[0;34m\u001b[0m\u001b[0m\n\u001b[0m",
      "\u001b[0;31mTypeError\u001b[0m: myfunc() got an unexpected keyword argument 'd'"
     ]
    }
   ],
   "source": [
    "myfunc(a=100, b=200, c=300, d=400)"
   ]
  },
  {
   "cell_type": "code",
   "execution_count": 16,
   "id": "3aeea8aa",
   "metadata": {},
   "outputs": [
    {
     "data": {
      "text/plain": [
       "\"a=100, b=200, c=300, kwargs={'d': 400, 'e': [10, 20, 30]}\""
      ]
     },
     "execution_count": 16,
     "metadata": {},
     "output_type": "execute_result"
    }
   ],
   "source": [
    "# **kwargs -- keyword arguments -- kwargs always a dict!\n",
    "# kwargs has all keyword pairs that no other parameter got\n",
    "\n",
    "def myfunc(a, b, c, **kwargs):\n",
    "    return f'{a=}, {b=}, {c=}, {kwargs=}'\n",
    "\n",
    "myfunc(a=100, b=200, c=300, d=400, e=[10, 20, 30])"
   ]
  },
  {
   "cell_type": "code",
   "execution_count": 17,
   "id": "0e774cbb",
   "metadata": {},
   "outputs": [],
   "source": [
    "def write_config(filename, **kwargs):\n",
    "    with open(filename, 'w') as f:\n",
    "        for key, value in kwargs.items():\n",
    "            f.write(f'{key}:{value}\\n')"
   ]
  },
  {
   "cell_type": "code",
   "execution_count": 18,
   "id": "ed1dc7bc",
   "metadata": {},
   "outputs": [],
   "source": [
    "write_config('myconfig.txt', a=100, b=[20, 30, 40], c=123.456, d='hello')"
   ]
  },
  {
   "cell_type": "code",
   "execution_count": 19,
   "id": "32fc3df7",
   "metadata": {},
   "outputs": [
    {
     "name": "stdout",
     "output_type": "stream",
     "text": [
      "a:100\r\n",
      "b:[20, 30, 40]\r\n",
      "c:123.456\r\n",
      "d:hello\r\n"
     ]
    }
   ],
   "source": [
    "!cat myconfig.txt"
   ]
  },
  {
   "cell_type": "code",
   "execution_count": 22,
   "id": "a8ce00d9",
   "metadata": {},
   "outputs": [
    {
     "ename": "TypeError",
     "evalue": "write_config() got multiple values for argument 'filename'",
     "output_type": "error",
     "traceback": [
      "\u001b[0;31m---------------------------------------------------------------------------\u001b[0m",
      "\u001b[0;31mTypeError\u001b[0m                                 Traceback (most recent call last)",
      "\u001b[0;32m/var/folders/d9/v8tsklln4477fll05wkgcpth0000gn/T/ipykernel_3260/3410723054.py\u001b[0m in \u001b[0;36m<module>\u001b[0;34m\u001b[0m\n\u001b[1;32m      1\u001b[0m \u001b[0;31m#           positional->filename\u001b[0m\u001b[0;34m\u001b[0m\u001b[0;34m\u001b[0m\u001b[0m\n\u001b[0;32m----> 2\u001b[0;31m \u001b[0mwrite_config\u001b[0m\u001b[0;34m(\u001b[0m\u001b[0;34m'myconfig.txt'\u001b[0m\u001b[0;34m,\u001b[0m \u001b[0mfilename\u001b[0m\u001b[0;34m=\u001b[0m\u001b[0;34m'a'\u001b[0m\u001b[0;34m,\u001b[0m \u001b[0mx\u001b[0m\u001b[0;34m=\u001b[0m\u001b[0;36m100\u001b[0m\u001b[0;34m)\u001b[0m\u001b[0;34m\u001b[0m\u001b[0;34m\u001b[0m\u001b[0m\n\u001b[0m",
      "\u001b[0;31mTypeError\u001b[0m: write_config() got multiple values for argument 'filename'"
     ]
    }
   ],
   "source": [
    "#           positional->filename\n",
    "write_config('myconfig.txt', filename='a', x=100)"
   ]
  },
  {
   "cell_type": "markdown",
   "id": "f5b6e4e3",
   "metadata": {},
   "source": [
    "# Exercise: XML writer\n",
    "\n",
    "1. Write a function called `xml` that takes several arguments:\n",
    "    - tag name\n",
    "    - text content between the open-close tags\n",
    "    - keyword arguments with attributes\n",
    "2. The function should return a string with valid XML.\n",
    "\n",
    "Example:\n",
    "\n",
    "```python\n",
    "xml('tagname')                   # <tagname></tagname>\n",
    "xml('tagname', 'a')              # <tagname>a</tagname>\n",
    "xml('tagname', 'a', x=100)       # <tagname x=\"100\">a</tagname>\n",
    "xml('tagname', 'a', x=1, b=2)    # <tagname x=\"1\" b=\"2\">a</tagname>\n",
    "```"
   ]
  },
  {
   "cell_type": "code",
   "execution_count": 23,
   "id": "7052dcfe",
   "metadata": {},
   "outputs": [
    {
     "name": "stdout",
     "output_type": "stream",
     "text": [
      "abc\n",
      "def\n"
     ]
    }
   ],
   "source": [
    "print('abc')\n",
    "print('def')"
   ]
  },
  {
   "cell_type": "code",
   "execution_count": 24,
   "id": "bba1837d",
   "metadata": {},
   "outputs": [
    {
     "name": "stdout",
     "output_type": "stream",
     "text": [
      "abc***def\n"
     ]
    }
   ],
   "source": [
    "print('abc', end='***')\n",
    "print('def')"
   ]
  },
  {
   "cell_type": "code",
   "execution_count": 32,
   "id": "e9b349a8",
   "metadata": {},
   "outputs": [
    {
     "data": {
      "text/plain": [
       "'<a></a>'"
      ]
     },
     "execution_count": 32,
     "metadata": {},
     "output_type": "execute_result"
    }
   ],
   "source": [
    "def xml(tagname, text='', **kwargs):\n",
    "    attributes = ''\n",
    "    \n",
    "    for key, value in kwargs.items():\n",
    "        attributes += f' {key}=\"{value}\"'\n",
    "    \n",
    "    return f'<{tagname}{attributes}>{text}</{tagname}>'\n",
    "\n",
    "xml('a')"
   ]
  },
  {
   "cell_type": "code",
   "execution_count": 33,
   "id": "dd6f3d8c",
   "metadata": {},
   "outputs": [
    {
     "data": {
      "text/plain": [
       "'<a>b</a>'"
      ]
     },
     "execution_count": 33,
     "metadata": {},
     "output_type": "execute_result"
    }
   ],
   "source": [
    "xml('a', 'b')"
   ]
  },
  {
   "cell_type": "code",
   "execution_count": 34,
   "id": "ef1beae1",
   "metadata": {},
   "outputs": [
    {
     "data": {
      "text/plain": [
       "'<a><b><c>hello</c></b></a>'"
      ]
     },
     "execution_count": 34,
     "metadata": {},
     "output_type": "execute_result"
    }
   ],
   "source": [
    "xml('a' ,(xml('b', xml('c', 'hello'))))"
   ]
  },
  {
   "cell_type": "code",
   "execution_count": 35,
   "id": "e112b53a",
   "metadata": {},
   "outputs": [
    {
     "data": {
      "text/plain": [
       "'<a x=\"100\" y=\"200\">b</a>'"
      ]
     },
     "execution_count": 35,
     "metadata": {},
     "output_type": "execute_result"
    }
   ],
   "source": [
    "xml('a', 'b', x=100, y=200)"
   ]
  },
  {
   "cell_type": "markdown",
   "id": "4a4263f8",
   "metadata": {},
   "source": [
    "# Parameter types\n",
    "\n",
    "1. Mandatory (positional or keyword)\n",
    "2. Optional (positional or keyword)\n",
    "3. `*args` (all remaining positional)  **OR** `*` if we don't want `*args`\n",
    "4. Keyword-only (mandatory)\n",
    "5. Keyword-only (optional)\n",
    "6. `**kwargs` (all remaining keywords)"
   ]
  },
  {
   "cell_type": "code",
   "execution_count": 39,
   "id": "c8e4012e",
   "metadata": {},
   "outputs": [
    {
     "data": {
      "text/plain": [
       "13"
      ]
     },
     "execution_count": 39,
     "metadata": {},
     "output_type": "execute_result"
    }
   ],
   "source": [
    "def add(*args, first, second):\n",
    "    return first + second\n",
    "\n",
    "add(first=10, second=3)   # all must be keyword-only!"
   ]
  },
  {
   "cell_type": "code",
   "execution_count": 40,
   "id": "26c7d72e",
   "metadata": {},
   "outputs": [
    {
     "ename": "TypeError",
     "evalue": "add() missing 2 required keyword-only arguments: 'first' and 'second'",
     "output_type": "error",
     "traceback": [
      "\u001b[0;31m---------------------------------------------------------------------------\u001b[0m",
      "\u001b[0;31mTypeError\u001b[0m                                 Traceback (most recent call last)",
      "\u001b[0;32m/var/folders/d9/v8tsklln4477fll05wkgcpth0000gn/T/ipykernel_3260/1097133340.py\u001b[0m in \u001b[0;36m<module>\u001b[0;34m\u001b[0m\n\u001b[0;32m----> 1\u001b[0;31m \u001b[0madd\u001b[0m\u001b[0;34m(\u001b[0m\u001b[0;36m10\u001b[0m\u001b[0;34m,\u001b[0m \u001b[0;36m3\u001b[0m\u001b[0;34m)\u001b[0m\u001b[0;34m\u001b[0m\u001b[0;34m\u001b[0m\u001b[0m\n\u001b[0m",
      "\u001b[0;31mTypeError\u001b[0m: add() missing 2 required keyword-only arguments: 'first' and 'second'"
     ]
    }
   ],
   "source": [
    "add(10, 3)"
   ]
  },
  {
   "cell_type": "code",
   "execution_count": 41,
   "id": "abf0666c",
   "metadata": {},
   "outputs": [
    {
     "data": {
      "text/plain": [
       "13"
      ]
     },
     "execution_count": 41,
     "metadata": {},
     "output_type": "execute_result"
    }
   ],
   "source": [
    "def add(*, first, second):    # just a * means: after here, all are keyword-only\n",
    "    return first + second\n",
    "\n",
    "add(first=10, second=3)   # all must be keyword-only!"
   ]
  },
  {
   "cell_type": "code",
   "execution_count": null,
   "id": "7c969baa",
   "metadata": {},
   "outputs": [],
   "source": []
  },
  {
   "cell_type": "markdown",
   "id": "998d0403",
   "metadata": {},
   "source": [
    "# Parameter types\n",
    "\n",
    "0. Positional-only before `/`\n",
    "1. Mandatory (positional or keyword)\n",
    "2. Optional (positional or keyword)\n",
    "3. `*args` (all remaining positional)  **OR** `*` if we don't want `*args`\n",
    "4. Keyword-only (mandatory)\n",
    "5. Keyword-only (optional)\n",
    "6. `**kwargs` (all remaining keywords)"
   ]
  },
  {
   "cell_type": "code",
   "execution_count": 43,
   "id": "242c23a1",
   "metadata": {},
   "outputs": [
    {
     "name": "stdout",
     "output_type": "stream",
     "text": [
      "Help on built-in function sum in module builtins:\n",
      "\n",
      "sum(iterable, /, start=0)\n",
      "    Return the sum of a 'start' value (default: 0) plus an iterable of numbers\n",
      "    \n",
      "    When the iterable is empty, return the start value.\n",
      "    This function is intended specifically for use with numeric values and may\n",
      "    reject non-numeric types.\n",
      "\n"
     ]
    }
   ],
   "source": [
    "help(sum)"
   ]
  },
  {
   "cell_type": "code",
   "execution_count": 44,
   "id": "28787430",
   "metadata": {},
   "outputs": [
    {
     "name": "stdout",
     "output_type": "stream",
     "text": [
      "Help on built-in function len in module builtins:\n",
      "\n",
      "len(obj, /)\n",
      "    Return the number of items in a container.\n",
      "\n"
     ]
    }
   ],
   "source": [
    "help(len)"
   ]
  },
  {
   "cell_type": "code",
   "execution_count": 45,
   "id": "fbeb4717",
   "metadata": {},
   "outputs": [
    {
     "ename": "TypeError",
     "evalue": "sum() takes at least 1 positional argument (0 given)",
     "output_type": "error",
     "traceback": [
      "\u001b[0;31m---------------------------------------------------------------------------\u001b[0m",
      "\u001b[0;31mTypeError\u001b[0m                                 Traceback (most recent call last)",
      "\u001b[0;32m/var/folders/d9/v8tsklln4477fll05wkgcpth0000gn/T/ipykernel_3260/2493439120.py\u001b[0m in \u001b[0;36m<module>\u001b[0;34m\u001b[0m\n\u001b[0;32m----> 1\u001b[0;31m \u001b[0msum\u001b[0m\u001b[0;34m(\u001b[0m\u001b[0miterable\u001b[0m\u001b[0;34m=\u001b[0m\u001b[0;34m[\u001b[0m\u001b[0;36m10\u001b[0m\u001b[0;34m,\u001b[0m \u001b[0;36m20\u001b[0m\u001b[0;34m,\u001b[0m \u001b[0;36m30\u001b[0m\u001b[0;34m]\u001b[0m\u001b[0;34m)\u001b[0m\u001b[0;34m\u001b[0m\u001b[0;34m\u001b[0m\u001b[0m\n\u001b[0m",
      "\u001b[0;31mTypeError\u001b[0m: sum() takes at least 1 positional argument (0 given)"
     ]
    }
   ],
   "source": [
    "sum(iterable=[10, 20, 30])"
   ]
  },
  {
   "cell_type": "code",
   "execution_count": 47,
   "id": "054eebec",
   "metadata": {},
   "outputs": [
    {
     "data": {
      "text/plain": [
       "'<a tagname=\"thing\"></a>'"
      ]
     },
     "execution_count": 47,
     "metadata": {},
     "output_type": "execute_result"
    }
   ],
   "source": [
    "def xml(tagname, text='', /, **kwargs):\n",
    "    attributes = ''\n",
    "    \n",
    "    for key, value in kwargs.items():\n",
    "        attributes += f' {key}=\"{value}\"'\n",
    "    \n",
    "    return f'<{tagname}{attributes}>{text}</{tagname}>'\n",
    "\n",
    "xml('a', tagname='thing')"
   ]
  },
  {
   "cell_type": "code",
   "execution_count": 49,
   "id": "35539508",
   "metadata": {},
   "outputs": [
    {
     "data": {
      "text/plain": [
       "12"
      ]
     },
     "execution_count": 49,
     "metadata": {},
     "output_type": "execute_result"
    }
   ],
   "source": [
    "def add(first, second):\n",
    "    return first + second\n",
    "\n",
    "t = (10, 2)\n",
    "\n",
    "add(*t)    # unrolling"
   ]
  },
  {
   "cell_type": "code",
   "execution_count": 52,
   "id": "a85b356e",
   "metadata": {},
   "outputs": [
    {
     "data": {
      "text/plain": [
       "'<mytag a=\"1\" b=\"2\" c=\"3\">mytext</mytag>'"
      ]
     },
     "execution_count": 52,
     "metadata": {},
     "output_type": "execute_result"
    }
   ],
   "source": [
    "d = {'a':1, 'b':2, 'c':3}\n",
    "\n",
    "xml('mytag', 'mytext', **d)    # turns the dict into keyword arguments"
   ]
  },
  {
   "cell_type": "code",
   "execution_count": 54,
   "id": "4de5119c",
   "metadata": {},
   "outputs": [
    {
     "data": {
      "text/plain": [
       "['a', 'b', 'c']"
      ]
     },
     "execution_count": 54,
     "metadata": {},
     "output_type": "execute_result"
    }
   ],
   "source": [
    "list(d)"
   ]
  },
  {
   "cell_type": "code",
   "execution_count": 55,
   "id": "2251aef0",
   "metadata": {},
   "outputs": [
    {
     "ename": "TypeError",
     "evalue": "xml() takes from 1 to 2 positional arguments but 5 were given",
     "output_type": "error",
     "traceback": [
      "\u001b[0;31m---------------------------------------------------------------------------\u001b[0m",
      "\u001b[0;31mTypeError\u001b[0m                                 Traceback (most recent call last)",
      "\u001b[0;32m/var/folders/d9/v8tsklln4477fll05wkgcpth0000gn/T/ipykernel_3260/3420472554.py\u001b[0m in \u001b[0;36m<module>\u001b[0;34m\u001b[0m\n\u001b[0;32m----> 1\u001b[0;31m \u001b[0mxml\u001b[0m\u001b[0;34m(\u001b[0m\u001b[0;34m'mytag'\u001b[0m\u001b[0;34m,\u001b[0m \u001b[0;34m'mytext'\u001b[0m\u001b[0;34m,\u001b[0m \u001b[0;34m*\u001b[0m\u001b[0md\u001b[0m\u001b[0;34m)\u001b[0m\u001b[0;34m\u001b[0m\u001b[0;34m\u001b[0m\u001b[0m\n\u001b[0m",
      "\u001b[0;31mTypeError\u001b[0m: xml() takes from 1 to 2 positional arguments but 5 were given"
     ]
    }
   ],
   "source": [
    "xml('mytag', 'mytext', *d) "
   ]
  },
  {
   "cell_type": "markdown",
   "id": "6e33eb62",
   "metadata": {},
   "source": [
    "# Scoping"
   ]
  },
  {
   "cell_type": "code",
   "execution_count": 57,
   "id": "46fa8334",
   "metadata": {},
   "outputs": [
    {
     "name": "stdout",
     "output_type": "stream",
     "text": [
      "0 1 2 3 4 5 6 7 8 9 "
     ]
    }
   ],
   "source": [
    "for i in range(10):\n",
    "    print(i, end=' ')\n",
    "    x = i"
   ]
  },
  {
   "cell_type": "code",
   "execution_count": 58,
   "id": "9bf7f4b4",
   "metadata": {},
   "outputs": [
    {
     "data": {
      "text/plain": [
       "9"
      ]
     },
     "execution_count": 58,
     "metadata": {},
     "output_type": "execute_result"
    }
   ],
   "source": [
    "x"
   ]
  },
  {
   "cell_type": "code",
   "execution_count": 59,
   "id": "7cb4f40b",
   "metadata": {},
   "outputs": [
    {
     "data": {
      "text/plain": [
       "9"
      ]
     },
     "execution_count": 59,
     "metadata": {},
     "output_type": "execute_result"
    }
   ],
   "source": [
    "i"
   ]
  },
  {
   "cell_type": "code",
   "execution_count": 60,
   "id": "8c6c626a",
   "metadata": {},
   "outputs": [
    {
     "name": "stdout",
     "output_type": "stream",
     "text": [
      "x = 100\n"
     ]
    }
   ],
   "source": [
    "x = 100\n",
    "\n",
    "print(f'x = {x}')  # is x global? YES, 100"
   ]
  },
  {
   "cell_type": "markdown",
   "id": "3d5ddc9d",
   "metadata": {},
   "source": [
    "# Python has 4 scopes:\n",
    "\n",
    "- `L` Local (start here, if we're in a function body)\n",
    "- `E` Enclosing\n",
    "- `G` Global (start here if *not* in a function body)\n",
    "- `B` Builtin"
   ]
  },
  {
   "cell_type": "code",
   "execution_count": 61,
   "id": "4fba20ea",
   "metadata": {},
   "outputs": [
    {
     "data": {
      "text/plain": [
       "True"
      ]
     },
     "execution_count": 61,
     "metadata": {},
     "output_type": "execute_result"
    }
   ],
   "source": [
    "'x' in globals() "
   ]
  },
  {
   "cell_type": "code",
   "execution_count": 64,
   "id": "8e3ac0fd",
   "metadata": {},
   "outputs": [
    {
     "name": "stdout",
     "output_type": "stream",
     "text": [
      "Before, x = 100\n",
      "In myfunc, x = 100\n",
      "After, x = 100\n"
     ]
    }
   ],
   "source": [
    "x = 100\n",
    "\n",
    "def myfunc():\n",
    "    print(f'In myfunc, x = {x}') # is x local? NO.  is x global? YES, 100\n",
    "\n",
    "print(f'Before, x = {x}')  # is x global? YES, 100\n",
    "myfunc()\n",
    "print(f'After, x = {x}')  # is x global? YES, 100"
   ]
  },
  {
   "cell_type": "code",
   "execution_count": 63,
   "id": "e496dfdb",
   "metadata": {},
   "outputs": [
    {
     "data": {
      "text/plain": [
       "()"
      ]
     },
     "execution_count": 63,
     "metadata": {},
     "output_type": "execute_result"
    }
   ],
   "source": [
    "myfunc.__code__.co_varnames"
   ]
  },
  {
   "cell_type": "code",
   "execution_count": 65,
   "id": "ba54f01b",
   "metadata": {},
   "outputs": [
    {
     "name": "stdout",
     "output_type": "stream",
     "text": [
      "In myfunc, x = 100\n"
     ]
    }
   ],
   "source": [
    "def otherfunc():\n",
    "    myfunc()   # is myfunc local? NO. is myfunc global? YES\n",
    "    \n",
    "otherfunc()    "
   ]
  },
  {
   "cell_type": "code",
   "execution_count": 66,
   "id": "6a9a8e68",
   "metadata": {},
   "outputs": [
    {
     "name": "stdout",
     "output_type": "stream",
     "text": [
      "Before, x = 100\n",
      "In myfunc, x = 200\n",
      "After, x = 100\n"
     ]
    }
   ],
   "source": [
    "x = 100\n",
    "\n",
    "def myfunc():\n",
    "    x = 200\n",
    "    print(f'In myfunc, x = {x}')  # is x local? YES, 200\n",
    "\n",
    "print(f'Before, x = {x}')  # is x global? YES, 100\n",
    "myfunc()\n",
    "print(f'After, x = {x}')  # is x global? YES, 100"
   ]
  },
  {
   "cell_type": "code",
   "execution_count": 67,
   "id": "f2b85574",
   "metadata": {},
   "outputs": [
    {
     "data": {
      "text/plain": [
       "('x',)"
      ]
     },
     "execution_count": 67,
     "metadata": {},
     "output_type": "execute_result"
    }
   ],
   "source": [
    "myfunc.__code__.co_varnames"
   ]
  },
  {
   "cell_type": "code",
   "execution_count": 68,
   "id": "fd7db208",
   "metadata": {},
   "outputs": [
    {
     "name": "stdout",
     "output_type": "stream",
     "text": [
      "Before, x = 100\n"
     ]
    },
    {
     "ename": "UnboundLocalError",
     "evalue": "local variable 'x' referenced before assignment",
     "output_type": "error",
     "traceback": [
      "\u001b[0;31m---------------------------------------------------------------------------\u001b[0m",
      "\u001b[0;31mUnboundLocalError\u001b[0m                         Traceback (most recent call last)",
      "\u001b[0;32m/var/folders/d9/v8tsklln4477fll05wkgcpth0000gn/T/ipykernel_3260/1680296173.py\u001b[0m in \u001b[0;36m<module>\u001b[0;34m\u001b[0m\n\u001b[1;32m      6\u001b[0m \u001b[0;34m\u001b[0m\u001b[0m\n\u001b[1;32m      7\u001b[0m \u001b[0mprint\u001b[0m\u001b[0;34m(\u001b[0m\u001b[0;34mf'Before, x = {x}'\u001b[0m\u001b[0;34m)\u001b[0m\u001b[0;34m\u001b[0m\u001b[0;34m\u001b[0m\u001b[0m\n\u001b[0;32m----> 8\u001b[0;31m \u001b[0mmyfunc\u001b[0m\u001b[0;34m(\u001b[0m\u001b[0;34m)\u001b[0m\u001b[0;34m\u001b[0m\u001b[0;34m\u001b[0m\u001b[0m\n\u001b[0m\u001b[1;32m      9\u001b[0m \u001b[0mprint\u001b[0m\u001b[0;34m(\u001b[0m\u001b[0;34mf'After, x = {x}'\u001b[0m\u001b[0;34m)\u001b[0m\u001b[0;34m\u001b[0m\u001b[0;34m\u001b[0m\u001b[0m\n",
      "\u001b[0;32m/var/folders/d9/v8tsklln4477fll05wkgcpth0000gn/T/ipykernel_3260/1680296173.py\u001b[0m in \u001b[0;36mmyfunc\u001b[0;34m()\u001b[0m\n\u001b[1;32m      2\u001b[0m \u001b[0;34m\u001b[0m\u001b[0m\n\u001b[1;32m      3\u001b[0m \u001b[0;32mdef\u001b[0m \u001b[0mmyfunc\u001b[0m\u001b[0;34m(\u001b[0m\u001b[0;34m)\u001b[0m\u001b[0;34m:\u001b[0m\u001b[0;34m\u001b[0m\u001b[0;34m\u001b[0m\u001b[0m\n\u001b[0;32m----> 4\u001b[0;31m     \u001b[0mprint\u001b[0m\u001b[0;34m(\u001b[0m\u001b[0;34mf'In myfunc, x = {x}'\u001b[0m\u001b[0;34m)\u001b[0m\u001b[0;34m\u001b[0m\u001b[0;34m\u001b[0m\u001b[0m\n\u001b[0m\u001b[1;32m      5\u001b[0m     \u001b[0mx\u001b[0m \u001b[0;34m=\u001b[0m \u001b[0;36m200\u001b[0m\u001b[0;34m\u001b[0m\u001b[0;34m\u001b[0m\u001b[0m\n\u001b[1;32m      6\u001b[0m \u001b[0;34m\u001b[0m\u001b[0m\n",
      "\u001b[0;31mUnboundLocalError\u001b[0m: local variable 'x' referenced before assignment"
     ]
    }
   ],
   "source": [
    "x = 100\n",
    "\n",
    "def myfunc():\n",
    "    print(f'In myfunc, x = {x}') # is x local? YES\n",
    "    x = 200   # hoisting problem\n",
    "\n",
    "print(f'Before, x = {x}')  \n",
    "myfunc()\n",
    "print(f'After, x = {x}')  "
   ]
  },
  {
   "cell_type": "code",
   "execution_count": 69,
   "id": "a5e1d912",
   "metadata": {},
   "outputs": [
    {
     "name": "stdout",
     "output_type": "stream",
     "text": [
      "Before, x = 100\n"
     ]
    },
    {
     "ename": "UnboundLocalError",
     "evalue": "local variable 'x' referenced before assignment",
     "output_type": "error",
     "traceback": [
      "\u001b[0;31m---------------------------------------------------------------------------\u001b[0m",
      "\u001b[0;31mUnboundLocalError\u001b[0m                         Traceback (most recent call last)",
      "\u001b[0;32m/var/folders/d9/v8tsklln4477fll05wkgcpth0000gn/T/ipykernel_3260/3588748996.py\u001b[0m in \u001b[0;36m<module>\u001b[0;34m\u001b[0m\n\u001b[1;32m      6\u001b[0m \u001b[0;34m\u001b[0m\u001b[0m\n\u001b[1;32m      7\u001b[0m \u001b[0mprint\u001b[0m\u001b[0;34m(\u001b[0m\u001b[0;34mf'Before, x = {x}'\u001b[0m\u001b[0;34m)\u001b[0m\u001b[0;34m\u001b[0m\u001b[0;34m\u001b[0m\u001b[0m\n\u001b[0;32m----> 8\u001b[0;31m \u001b[0mmyfunc\u001b[0m\u001b[0;34m(\u001b[0m\u001b[0;34m)\u001b[0m\u001b[0;34m\u001b[0m\u001b[0;34m\u001b[0m\u001b[0m\n\u001b[0m\u001b[1;32m      9\u001b[0m \u001b[0mprint\u001b[0m\u001b[0;34m(\u001b[0m\u001b[0;34mf'After, x = {x}'\u001b[0m\u001b[0;34m)\u001b[0m\u001b[0;34m\u001b[0m\u001b[0;34m\u001b[0m\u001b[0m\n",
      "\u001b[0;32m/var/folders/d9/v8tsklln4477fll05wkgcpth0000gn/T/ipykernel_3260/3588748996.py\u001b[0m in \u001b[0;36mmyfunc\u001b[0;34m()\u001b[0m\n\u001b[1;32m      2\u001b[0m \u001b[0;34m\u001b[0m\u001b[0m\n\u001b[1;32m      3\u001b[0m \u001b[0;32mdef\u001b[0m \u001b[0mmyfunc\u001b[0m\u001b[0;34m(\u001b[0m\u001b[0;34m)\u001b[0m\u001b[0;34m:\u001b[0m\u001b[0;34m\u001b[0m\u001b[0;34m\u001b[0m\u001b[0m\n\u001b[0;32m----> 4\u001b[0;31m     \u001b[0mx\u001b[0m \u001b[0;34m+=\u001b[0m \u001b[0;36m1\u001b[0m\u001b[0;34m\u001b[0m\u001b[0;34m\u001b[0m\u001b[0m\n\u001b[0m\u001b[1;32m      5\u001b[0m     \u001b[0mprint\u001b[0m\u001b[0;34m(\u001b[0m\u001b[0;34mf'In myfunc, x = {x}'\u001b[0m\u001b[0;34m)\u001b[0m\u001b[0;34m\u001b[0m\u001b[0;34m\u001b[0m\u001b[0m\n\u001b[1;32m      6\u001b[0m \u001b[0;34m\u001b[0m\u001b[0m\n",
      "\u001b[0;31mUnboundLocalError\u001b[0m: local variable 'x' referenced before assignment"
     ]
    }
   ],
   "source": [
    "x = 100\n",
    "\n",
    "def myfunc():\n",
    "    x += 1   # x = x + 1\n",
    "    print(f'In myfunc, x = {x}') \n",
    "\n",
    "print(f'Before, x = {x}')  \n",
    "myfunc()\n",
    "print(f'After, x = {x}')  "
   ]
  },
  {
   "cell_type": "code",
   "execution_count": 70,
   "id": "a816a3dd",
   "metadata": {},
   "outputs": [
    {
     "data": {
      "text/plain": [
       "[10, 20, 30, 1]"
      ]
     },
     "execution_count": 70,
     "metadata": {},
     "output_type": "execute_result"
    }
   ],
   "source": [
    "def add_one(x):\n",
    "    x.append(1)\n",
    "\n",
    "mylist = [10, 20, 30]\n",
    "add_one(mylist)\n",
    "mylist"
   ]
  },
  {
   "cell_type": "code",
   "execution_count": 75,
   "id": "6d8663bd",
   "metadata": {},
   "outputs": [
    {
     "name": "stdout",
     "output_type": "stream",
     "text": [
      "Before, x = 100\n",
      "In myfunc, x = 200\n",
      "After, x = 200\n",
      "After, y = ['!', 20, 30]\n"
     ]
    }
   ],
   "source": [
    "x = 100\n",
    "y = [10, 20, 30]\n",
    "\n",
    "def myfunc():\n",
    "    global x\n",
    "    x = 200\n",
    "    y[0] = '!'\n",
    "    print(f'In myfunc, x = {x}') \n",
    "\n",
    "print(f'Before, x = {x}')    \n",
    "myfunc()\n",
    "print(f'After, x = {x}') \n",
    "print(f'After, y = {y}')"
   ]
  },
  {
   "cell_type": "code",
   "execution_count": 72,
   "id": "23c42500",
   "metadata": {},
   "outputs": [
    {
     "data": {
      "text/plain": [
       "()"
      ]
     },
     "execution_count": 72,
     "metadata": {},
     "output_type": "execute_result"
    }
   ],
   "source": [
    "myfunc.__code__.co_varnames"
   ]
  },
  {
   "cell_type": "code",
   "execution_count": 77,
   "id": "1c3c22d1",
   "metadata": {},
   "outputs": [
    {
     "name": "stdout",
     "output_type": "stream",
     "text": [
      "Before, x = 100\n",
      "In myfunc, x = 200\n",
      "After, x = 200\n"
     ]
    }
   ],
   "source": [
    "import __main__ \n",
    "\n",
    "x = 100\n",
    "\n",
    "def myfunc():\n",
    "    __main__.x = 200     # instead of global!\n",
    "    print(f'In myfunc, x = {x}') \n",
    "\n",
    "print(f'Before, x = {x}')    \n",
    "myfunc()\n",
    "print(f'After, x = {x}') "
   ]
  },
  {
   "cell_type": "code",
   "execution_count": null,
   "id": "ae9ca9f9",
   "metadata": {},
   "outputs": [],
   "source": [
    "lis"
   ]
  }
 ],
 "metadata": {
  "kernelspec": {
   "display_name": "Python 3 (ipykernel)",
   "language": "python",
   "name": "python3"
  },
  "language_info": {
   "codemirror_mode": {
    "name": "ipython",
    "version": 3
   },
   "file_extension": ".py",
   "mimetype": "text/x-python",
   "name": "python",
   "nbconvert_exporter": "python",
   "pygments_lexer": "ipython3",
   "version": "3.10.1"
  }
 },
 "nbformat": 4,
 "nbformat_minor": 5
}
