{
 "cells": [
  {
   "cell_type": "markdown",
   "id": "a01974cf",
   "metadata": {},
   "source": [
    "# Agenda\n",
    "\n",
    "1. Modules\n",
    "2. Objects\n",
    "    - Class\n",
    "    - Attributes\n",
    "    - ICPO\n",
    "    - Inheritance\n",
    "    - Magic methods\n",
    "    - Properties\n",
    "    - Descriptors"
   ]
  },
  {
   "cell_type": "code",
   "execution_count": null,
   "id": "e067d603",
   "metadata": {},
   "outputs": [],
   "source": []
  }
 ],
 "metadata": {
  "kernelspec": {
   "display_name": "Python 3 (ipykernel)",
   "language": "python",
   "name": "python3"
  },
  "language_info": {
   "codemirror_mode": {
    "name": "ipython",
    "version": 3
   },
   "file_extension": ".py",
   "mimetype": "text/x-python",
   "name": "python",
   "nbconvert_exporter": "python",
   "pygments_lexer": "ipython3",
   "version": "3.10.1"
  }
 },
 "nbformat": 4,
 "nbformat_minor": 5
}
