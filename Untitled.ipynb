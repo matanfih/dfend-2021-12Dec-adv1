{
 "cells": [
  {
   "cell_type": "markdown",
   "id": "a01974cf",
   "metadata": {},
   "source": [
    "# Agenda\n",
    "\n",
    "1. Modules\n",
    "2. Objects\n",
    "    - Class\n",
    "    - Attributes\n",
    "    - ICPO\n",
    "    - Inheritance\n",
    "    - Magic methods\n",
    "    - Properties\n",
    "    - Descriptors"
   ]
  },
  {
   "cell_type": "markdown",
   "id": "72853e98",
   "metadata": {},
   "source": [
    "GitHub: https://github.com/reuven/dfend-2021-12Dec-adv1"
   ]
  },
  {
   "cell_type": "code",
   "execution_count": 1,
   "id": "7470b074",
   "metadata": {},
   "outputs": [
    {
     "data": {
      "text/plain": [
       "[1, 9, 25, 49, 81]"
      ]
     },
     "execution_count": 1,
     "metadata": {},
     "output_type": "execute_result"
    }
   ],
   "source": [
    "[one_number ** 2               # map\n",
    " for one_number in range(10)\n",
    " if one_number % 2]            # filter"
   ]
  },
  {
   "cell_type": "code",
   "execution_count": 2,
   "id": "7207e772",
   "metadata": {},
   "outputs": [
    {
     "data": {
      "text/plain": [
       "[0, 1, 4, 9, 16, 25, 36, 49, 64, 81]"
      ]
     },
     "execution_count": 2,
     "metadata": {},
     "output_type": "execute_result"
    }
   ],
   "source": [
    "def square(x):\n",
    "    return x ** 2\n",
    "\n",
    "list(map(square, range(10)))"
   ]
  },
  {
   "cell_type": "code",
   "execution_count": 3,
   "id": "ec2e9efa",
   "metadata": {},
   "outputs": [
    {
     "data": {
      "text/plain": [
       "[0, 1, 4, 9, 16, 25, 36, 49, 64, 81]"
      ]
     },
     "execution_count": 3,
     "metadata": {},
     "output_type": "execute_result"
    }
   ],
   "source": [
    "list(map(lambda x: x**2, range(10)))"
   ]
  },
  {
   "cell_type": "code",
   "execution_count": 5,
   "id": "b71fcd9d",
   "metadata": {},
   "outputs": [
    {
     "data": {
      "text/plain": [
       "[1, 3, 5, 7, 9]"
      ]
     },
     "execution_count": 5,
     "metadata": {},
     "output_type": "execute_result"
    }
   ],
   "source": [
    "list(filter(lambda x: x%2, range(10)))"
   ]
  },
  {
   "cell_type": "code",
   "execution_count": 7,
   "id": "2a709de9",
   "metadata": {},
   "outputs": [
    {
     "data": {
      "text/plain": [
       "45"
      ]
     },
     "execution_count": 7,
     "metadata": {},
     "output_type": "execute_result"
    }
   ],
   "source": [
    "from functools import reduce\n",
    "\n",
    "reduce(lambda total, current: total+current,   \n",
    "       range(10),   # iterable we run over\n",
    "      0)     # total for 1st iteration"
   ]
  },
  {
   "cell_type": "code",
   "execution_count": 8,
   "id": "4ed90055",
   "metadata": {},
   "outputs": [],
   "source": [
    "# Lisp:      map,     filter, reduce\n",
    "# Smalltalk: collect  select  inject  detect reject"
   ]
  },
  {
   "cell_type": "code",
   "execution_count": 11,
   "id": "9eeaf17c",
   "metadata": {},
   "outputs": [
    {
     "data": {
      "text/plain": [
       "[('a', 10, 'x'), ('b', 20, 'y'), ('c', 30, 'z')]"
      ]
     },
     "execution_count": 11,
     "metadata": {},
     "output_type": "execute_result"
    }
   ],
   "source": [
    "list(zip('abc', [10, 20, 30], 'xyz'))"
   ]
  },
  {
   "cell_type": "code",
   "execution_count": 14,
   "id": "06951de7",
   "metadata": {},
   "outputs": [
    {
     "data": {
      "text/plain": [
       "5"
      ]
     },
     "execution_count": 14,
     "metadata": {},
     "output_type": "execute_result"
    }
   ],
   "source": [
    "funcs = [str.strip, str.upper, len]\n",
    "\n",
    "s = '    hello     '\n",
    "\n",
    "reduce(lambda previous, current: current(previous),\n",
    "       funcs,\n",
    "       s)"
   ]
  },
  {
   "cell_type": "code",
   "execution_count": 15,
   "id": "3202cbeb",
   "metadata": {},
   "outputs": [
    {
     "data": {
      "text/plain": [
       "'HELLO'"
      ]
     },
     "execution_count": 15,
     "metadata": {},
     "output_type": "execute_result"
    }
   ],
   "source": [
    "s.strip().upper()"
   ]
  },
  {
   "cell_type": "code",
   "execution_count": 17,
   "id": "be67b4af",
   "metadata": {},
   "outputs": [
    {
     "data": {
      "text/plain": [
       "5"
      ]
     },
     "execution_count": 17,
     "metadata": {},
     "output_type": "execute_result"
    }
   ],
   "source": [
    "def run_funcs(s, funcs):\n",
    "    output = s\n",
    "    for one_func in funcs:\n",
    "        output = one_func(output)\n",
    "        \n",
    "    return output\n",
    "\n",
    "run_funcs(s, funcs)"
   ]
  },
  {
   "cell_type": "markdown",
   "id": "1256b80b",
   "metadata": {},
   "source": [
    "# DRY -- don't repeat yourself\n",
    "\n",
    "1. Lines in a row -- use a loop\n",
    "2. Same code in several places -- use a function\n",
    "3. Same code in a bunch of programs -- use a module"
   ]
  },
  {
   "cell_type": "code",
   "execution_count": 18,
   "id": "a4c05faf",
   "metadata": {},
   "outputs": [],
   "source": [
    "import random"
   ]
  },
  {
   "cell_type": "code",
   "execution_count": 19,
   "id": "abfa2054",
   "metadata": {},
   "outputs": [
    {
     "data": {
      "text/plain": [
       "module"
      ]
     },
     "execution_count": 19,
     "metadata": {},
     "output_type": "execute_result"
    }
   ],
   "source": [
    "type(random)"
   ]
  },
  {
   "cell_type": "code",
   "execution_count": null,
   "id": "98e93015",
   "metadata": {},
   "outputs": [],
   "source": []
  }
 ],
 "metadata": {
  "kernelspec": {
   "display_name": "Python 3 (ipykernel)",
   "language": "python",
   "name": "python3"
  },
  "language_info": {
   "codemirror_mode": {
    "name": "ipython",
    "version": 3
   },
   "file_extension": ".py",
   "mimetype": "text/x-python",
   "name": "python",
   "nbconvert_exporter": "python",
   "pygments_lexer": "ipython3",
   "version": "3.10.1"
  }
 },
 "nbformat": 4,
 "nbformat_minor": 5
}
