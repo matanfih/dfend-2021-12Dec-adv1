{
 "cells": [
  {
   "cell_type": "markdown",
   "id": "a01974cf",
   "metadata": {},
   "source": [
    "# Agenda\n",
    "\n",
    "1. Modules\n",
    "2. Objects\n",
    "    - Class\n",
    "    - Attributes\n",
    "    - ICPO\n",
    "    - Inheritance\n",
    "    - Magic methods\n",
    "    - Properties\n",
    "    - Descriptors"
   ]
  },
  {
   "cell_type": "markdown",
   "id": "0306c466",
   "metadata": {},
   "source": [
    "GitHub: https://github.com/reuven/dfend-2021-12Dec-adv1"
   ]
  },
  {
   "cell_type": "code",
   "execution_count": 1,
   "id": "f2839c17",
   "metadata": {},
   "outputs": [
    {
     "data": {
      "text/plain": [
       "[1, 9, 25, 49, 81]"
      ]
     },
     "execution_count": 1,
     "metadata": {},
     "output_type": "execute_result"
    }
   ],
   "source": [
    "[one_number ** 2               # map\n",
    " for one_number in range(10)\n",
    " if one_number % 2]            # filter"
   ]
  },
  {
   "cell_type": "code",
   "execution_count": 2,
   "id": "175a591a",
   "metadata": {},
   "outputs": [
    {
     "data": {
      "text/plain": [
       "[0, 1, 4, 9, 16, 25, 36, 49, 64, 81]"
      ]
     },
     "execution_count": 2,
     "metadata": {},
     "output_type": "execute_result"
    }
   ],
   "source": [
    "def square(x):\n",
    "    return x ** 2\n",
    "\n",
    "list(map(square, range(10)))"
   ]
  },
  {
   "cell_type": "code",
   "execution_count": 3,
   "id": "ae0e622b",
   "metadata": {},
   "outputs": [
    {
     "data": {
      "text/plain": [
       "[0, 1, 4, 9, 16, 25, 36, 49, 64, 81]"
      ]
     },
     "execution_count": 3,
     "metadata": {},
     "output_type": "execute_result"
    }
   ],
   "source": [
    "list(map(lambda x: x**2, range(10)))"
   ]
  },
  {
   "cell_type": "code",
   "execution_count": 5,
   "id": "77ad4f9d",
   "metadata": {},
   "outputs": [
    {
     "data": {
      "text/plain": [
       "[1, 3, 5, 7, 9]"
      ]
     },
     "execution_count": 5,
     "metadata": {},
     "output_type": "execute_result"
    }
   ],
   "source": [
    "list(filter(lambda x: x%2, range(10)))"
   ]
  },
  {
   "cell_type": "code",
   "execution_count": null,
   "id": "34214f8f",
   "metadata": {},
   "outputs": [],
   "source": []
  }
 ],
 "metadata": {
  "kernelspec": {
   "display_name": "Python 3 (ipykernel)",
   "language": "python",
   "name": "python3"
  },
  "language_info": {
   "codemirror_mode": {
    "name": "ipython",
    "version": 3
   },
   "file_extension": ".py",
   "mimetype": "text/x-python",
   "name": "python",
   "nbconvert_exporter": "python",
   "pygments_lexer": "ipython3",
   "version": "3.10.1"
  }
 },
 "nbformat": 4,
 "nbformat_minor": 5
}
