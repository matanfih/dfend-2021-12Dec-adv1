{
 "cells": [
  {
   "cell_type": "markdown",
   "id": "a01974cf",
   "metadata": {},
   "source": [
    "# Agenda\n",
    "\n",
    "1. Modules\n",
    "2. Objects\n",
    "    - Class\n",
    "    - Attributes\n",
    "    - ICPO\n",
    "    - Inheritance\n",
    "    - Magic methods\n",
    "    - Properties\n",
    "    - Descriptors"
   ]
  },
  {
   "cell_type": "markdown",
   "id": "3f454bfd",
   "metadata": {},
   "source": [
    "GitHub: https://github.com/reuven/dfend-2021-12Dec-adv1"
   ]
  },
  {
   "cell_type": "code",
   "execution_count": 1,
   "id": "0f42dd4e",
   "metadata": {},
   "outputs": [
    {
     "data": {
      "text/plain": [
       "[1, 9, 25, 49, 81]"
      ]
     },
     "execution_count": 1,
     "metadata": {},
     "output_type": "execute_result"
    }
   ],
   "source": [
    "[one_number ** 2               # map\n",
    " for one_number in range(10)\n",
    " if one_number % 2]            # filter"
   ]
  },
  {
   "cell_type": "code",
   "execution_count": 2,
   "id": "8763ecb6",
   "metadata": {},
   "outputs": [
    {
     "data": {
      "text/plain": [
       "[0, 1, 4, 9, 16, 25, 36, 49, 64, 81]"
      ]
     },
     "execution_count": 2,
     "metadata": {},
     "output_type": "execute_result"
    }
   ],
   "source": [
    "def square(x):\n",
    "    return x ** 2\n",
    "\n",
    "list(map(square, range(10)))"
   ]
  },
  {
   "cell_type": "code",
   "execution_count": 3,
   "id": "b257c674",
   "metadata": {},
   "outputs": [
    {
     "data": {
      "text/plain": [
       "[0, 1, 4, 9, 16, 25, 36, 49, 64, 81]"
      ]
     },
     "execution_count": 3,
     "metadata": {},
     "output_type": "execute_result"
    }
   ],
   "source": [
    "list(map(lambda x: x**2, range(10)))"
   ]
  },
  {
   "cell_type": "code",
   "execution_count": 5,
   "id": "ddfe37e5",
   "metadata": {},
   "outputs": [
    {
     "data": {
      "text/plain": [
       "[1, 3, 5, 7, 9]"
      ]
     },
     "execution_count": 5,
     "metadata": {},
     "output_type": "execute_result"
    }
   ],
   "source": [
    "list(filter(lambda x: x%2, range(10)))"
   ]
  },
  {
   "cell_type": "code",
   "execution_count": 7,
   "id": "29a8ddb8",
   "metadata": {},
   "outputs": [
    {
     "data": {
      "text/plain": [
       "45"
      ]
     },
     "execution_count": 7,
     "metadata": {},
     "output_type": "execute_result"
    }
   ],
   "source": [
    "from functools import reduce\n",
    "\n",
    "reduce(lambda total, current: total+current,   \n",
    "       range(10),   # iterable we run over\n",
    "      0)     # total for 1st iteration"
   ]
  },
  {
   "cell_type": "code",
   "execution_count": 8,
   "id": "fb3099ff",
   "metadata": {},
   "outputs": [],
   "source": [
    "# Lisp:      map,     filter, reduce\n",
    "# Smalltalk: collect  select  inject  detect reject"
   ]
  },
  {
   "cell_type": "code",
   "execution_count": 11,
   "id": "efef6efb",
   "metadata": {},
   "outputs": [
    {
     "data": {
      "text/plain": [
       "[('a', 10, 'x'), ('b', 20, 'y'), ('c', 30, 'z')]"
      ]
     },
     "execution_count": 11,
     "metadata": {},
     "output_type": "execute_result"
    }
   ],
   "source": [
    "list(zip('abc', [10, 20, 30], 'xyz'))"
   ]
  },
  {
   "cell_type": "code",
   "execution_count": null,
   "id": "00871836",
   "metadata": {},
   "outputs": [],
   "source": []
  }
 ],
 "metadata": {
  "kernelspec": {
   "display_name": "Python 3 (ipykernel)",
   "language": "python",
   "name": "python3"
  },
  "language_info": {
   "codemirror_mode": {
    "name": "ipython",
    "version": 3
   },
   "file_extension": ".py",
   "mimetype": "text/x-python",
   "name": "python",
   "nbconvert_exporter": "python",
   "pygments_lexer": "ipython3",
   "version": "3.10.1"
  }
 },
 "nbformat": 4,
 "nbformat_minor": 5
}
