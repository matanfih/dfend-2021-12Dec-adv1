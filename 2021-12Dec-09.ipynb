{
 "cells": [
  {
   "cell_type": "markdown",
   "id": "9cca8d18-8619-48e9-a700-22929b4a4bf4",
   "metadata": {},
   "source": [
    "# Agenda\n",
    "\n",
    "1. Data structures\n",
    "2. Functions"
   ]
  }
 ],
 "metadata": {
  "kernelspec": {
   "display_name": "Python 3 (ipykernel)",
   "language": "python",
   "name": "python3"
  },
  "language_info": {
   "name": ""
  }
 },
 "nbformat": 4,
 "nbformat_minor": 5
}
