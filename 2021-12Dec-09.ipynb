{
 "cells": [
  {
   "cell_type": "markdown",
   "id": "9cca8d18-8619-48e9-a700-22929b4a4bf4",
   "metadata": {},
   "source": [
    "# Agenda\n",
    "\n",
    "1. Data structures\n",
    "2. Functions\n",
    "3. Functional programming\n",
    "4. Modules + packages\n",
    "5. Objects\n",
    "6. Iterator + generators\n",
    "7. Decorators\n",
    "8. Threading, processes, asyncio\n"
   ]
  },
  {
   "cell_type": "code",
   "execution_count": 1,
   "id": "ac6d3d6d-7ada-486b-a8c3-bc0d3c89d0b7",
   "metadata": {},
   "outputs": [],
   "source": [
    "x = None"
   ]
  },
  {
   "cell_type": "code",
   "execution_count": 2,
   "id": "da70d4e9-71d1-4898-8c9b-3fb0c37fe67b",
   "metadata": {},
   "outputs": [
    {
     "data": {
      "text/plain": [
       "NoneType"
      ]
     },
     "execution_count": 2,
     "metadata": {},
     "output_type": "execute_result"
    }
   ],
   "source": [
    "type(x)"
   ]
  },
  {
   "cell_type": "code",
   "execution_count": 4,
   "id": "f4b36409-e233-43c2-8c0c-853244ff784a",
   "metadata": {},
   "outputs": [
    {
     "name": "stdout",
     "output_type": "stream",
     "text": [
      "Yes, it is None!\n"
     ]
    }
   ],
   "source": [
    "if x == None:   # not Pythonic\n",
    "    print('Yes, it is None!')"
   ]
  },
  {
   "cell_type": "code",
   "execution_count": 5,
   "id": "665f0066-c47b-48c2-be42-bbab9c521869",
   "metadata": {},
   "outputs": [
    {
     "data": {
      "text/plain": [
       "NoneType"
      ]
     },
     "execution_count": 5,
     "metadata": {},
     "output_type": "execute_result"
    }
   ],
   "source": [
    "type(None)"
   ]
  },
  {
   "cell_type": "code",
   "execution_count": 7,
   "id": "b3145c6b-0fa3-4016-b028-1270f72f11b9",
   "metadata": {},
   "outputs": [],
   "source": [
    "y = type(None)()"
   ]
  },
  {
   "cell_type": "code",
   "execution_count": 8,
   "id": "2fbd90d2-ab68-4dc3-b074-bb91d19db0c9",
   "metadata": {},
   "outputs": [
    {
     "name": "stdout",
     "output_type": "stream",
     "text": [
      "None\n"
     ]
    }
   ],
   "source": [
    "print(y)"
   ]
  },
  {
   "cell_type": "code",
   "execution_count": 9,
   "id": "5a6c959f-1d93-4722-a3fc-148d839ccb37",
   "metadata": {},
   "outputs": [
    {
     "data": {
      "text/plain": [
       "4492428720"
      ]
     },
     "execution_count": 9,
     "metadata": {},
     "output_type": "execute_result"
    }
   ],
   "source": [
    "id(x) "
   ]
  },
  {
   "cell_type": "code",
   "execution_count": 10,
   "id": "ab1ba07d-e01f-445e-8f00-b5ab6f5a8cda",
   "metadata": {},
   "outputs": [
    {
     "data": {
      "text/plain": [
       "4492428720"
      ]
     },
     "execution_count": 10,
     "metadata": {},
     "output_type": "execute_result"
    }
   ],
   "source": [
    "id(y)"
   ]
  },
  {
   "cell_type": "code",
   "execution_count": 11,
   "id": "ce5e8ba6-c2f8-4fba-9e93-0913f3a36d1d",
   "metadata": {},
   "outputs": [
    {
     "data": {
      "text/plain": [
       "True"
      ]
     },
     "execution_count": 11,
     "metadata": {},
     "output_type": "execute_result"
    }
   ],
   "source": [
    "id(x) == id(y)"
   ]
  },
  {
   "cell_type": "code",
   "execution_count": 12,
   "id": "98a73f62-d5fc-4258-99b7-ec3dcb101d4b",
   "metadata": {},
   "outputs": [
    {
     "data": {
      "text/plain": [
       "True"
      ]
     },
     "execution_count": 12,
     "metadata": {},
     "output_type": "execute_result"
    }
   ],
   "source": [
    "# same as id(x) == id(y)\n",
    "x is y"
   ]
  },
  {
   "cell_type": "code",
   "execution_count": 13,
   "id": "13d9c3c9-595d-4918-bc67-5dbd427b4791",
   "metadata": {},
   "outputs": [
    {
     "data": {
      "text/plain": [
       "True"
      ]
     },
     "execution_count": 13,
     "metadata": {},
     "output_type": "execute_result"
    }
   ],
   "source": [
    "x = 5\n",
    "y = 5\n",
    "\n",
    "x == y"
   ]
  },
  {
   "cell_type": "code",
   "execution_count": 14,
   "id": "b2aadabf-7b57-4c8e-9ccf-a9ea99551837",
   "metadata": {},
   "outputs": [
    {
     "data": {
      "text/plain": [
       "True"
      ]
     },
     "execution_count": 14,
     "metadata": {},
     "output_type": "execute_result"
    }
   ],
   "source": [
    "x is y"
   ]
  },
  {
   "cell_type": "code",
   "execution_count": 15,
   "id": "aa7998a8-93d8-4655-bc9a-c24c53c12b70",
   "metadata": {},
   "outputs": [
    {
     "data": {
      "text/plain": [
       "True"
      ]
     },
     "execution_count": 15,
     "metadata": {},
     "output_type": "execute_result"
    }
   ],
   "source": [
    "x = 5000\n",
    "y = 5000\n",
    "\n",
    "x == y"
   ]
  },
  {
   "cell_type": "code",
   "execution_count": 16,
   "id": "69ff1245-9953-4f27-8b5a-34d1c5627089",
   "metadata": {},
   "outputs": [
    {
     "data": {
      "text/plain": [
       "False"
      ]
     },
     "execution_count": 16,
     "metadata": {},
     "output_type": "execute_result"
    }
   ],
   "source": [
    "x is y"
   ]
  },
  {
   "cell_type": "code",
   "execution_count": 17,
   "id": "2f82e0d8-39ff-432c-b4b4-206f31b9ea58",
   "metadata": {},
   "outputs": [
    {
     "data": {
      "text/plain": [
       "True"
      ]
     },
     "execution_count": 17,
     "metadata": {},
     "output_type": "execute_result"
    }
   ],
   "source": [
    "x = 255\n",
    "y = 255\n",
    "\n",
    "x is y"
   ]
  },
  {
   "cell_type": "code",
   "execution_count": 19,
   "id": "8cab6b23-fbb0-41f6-9bde-2a44b2498bc8",
   "metadata": {},
   "outputs": [
    {
     "data": {
      "text/plain": [
       "False"
      ]
     },
     "execution_count": 19,
     "metadata": {},
     "output_type": "execute_result"
    }
   ],
   "source": [
    "x = 257\n",
    "y = 257\n",
    "\n",
    "x is y"
   ]
  },
  {
   "cell_type": "code",
   "execution_count": 20,
   "id": "4a4e1a35-a799-4e7a-9ffa-158bb0946de3",
   "metadata": {},
   "outputs": [
    {
     "data": {
      "text/plain": [
       "True"
      ]
     },
     "execution_count": 20,
     "metadata": {},
     "output_type": "execute_result"
    }
   ],
   "source": [
    "x = 'abcd'\n",
    "y = 'abcd'\n",
    "\n",
    "x == y"
   ]
  },
  {
   "cell_type": "code",
   "execution_count": 21,
   "id": "9f20905c-4e9f-4a3b-8dc9-e4521df8a157",
   "metadata": {},
   "outputs": [
    {
     "data": {
      "text/plain": [
       "True"
      ]
     },
     "execution_count": 21,
     "metadata": {},
     "output_type": "execute_result"
    }
   ],
   "source": [
    "x is y"
   ]
  },
  {
   "cell_type": "code",
   "execution_count": 22,
   "id": "9ae70f62-7edc-4da4-9b14-0f3641fb1751",
   "metadata": {},
   "outputs": [
    {
     "data": {
      "text/plain": [
       "True"
      ]
     },
     "execution_count": 22,
     "metadata": {},
     "output_type": "execute_result"
    }
   ],
   "source": [
    "x = 'abcd' * 10000\n",
    "y = 'abcd' * 10000\n",
    "\n",
    "x == y"
   ]
  },
  {
   "cell_type": "code",
   "execution_count": 23,
   "id": "e77231d7-3718-45c2-ad8e-084b751e2866",
   "metadata": {},
   "outputs": [
    {
     "data": {
      "text/plain": [
       "False"
      ]
     },
     "execution_count": 23,
     "metadata": {},
     "output_type": "execute_result"
    }
   ],
   "source": [
    "x is y"
   ]
  },
  {
   "cell_type": "code",
   "execution_count": 24,
   "id": "281ec599-f431-4445-9950-17dd384a87ab",
   "metadata": {},
   "outputs": [
    {
     "data": {
      "text/plain": [
       "True"
      ]
     },
     "execution_count": 24,
     "metadata": {},
     "output_type": "execute_result"
    }
   ],
   "source": [
    "x = 'a.b'\n",
    "y = 'a.b'\n",
    "\n",
    "x == y"
   ]
  },
  {
   "cell_type": "code",
   "execution_count": 25,
   "id": "f96ead62-7489-4380-ba07-a9fdd9ceb891",
   "metadata": {},
   "outputs": [
    {
     "data": {
      "text/plain": [
       "False"
      ]
     },
     "execution_count": 25,
     "metadata": {},
     "output_type": "execute_result"
    }
   ],
   "source": [
    "x is y"
   ]
  },
  {
   "cell_type": "code",
   "execution_count": 26,
   "id": "1ae892d1-a006-4e04-a8a0-17a2ceadaa1b",
   "metadata": {},
   "outputs": [],
   "source": [
    "from sys import intern\n",
    "x = intern('a.b')\n",
    "y = intern('a.b')\n"
   ]
  },
  {
   "cell_type": "code",
   "execution_count": 27,
   "id": "5af76bc1-8f40-46f0-81ba-7b285cf6f962",
   "metadata": {},
   "outputs": [
    {
     "data": {
      "text/plain": [
       "True"
      ]
     },
     "execution_count": 27,
     "metadata": {},
     "output_type": "execute_result"
    }
   ],
   "source": [
    "x == y"
   ]
  },
  {
   "cell_type": "code",
   "execution_count": 28,
   "id": "6dfe7b91-a136-487a-8c1e-566f43611ca4",
   "metadata": {},
   "outputs": [
    {
     "data": {
      "text/plain": [
       "True"
      ]
     },
     "execution_count": 28,
     "metadata": {},
     "output_type": "execute_result"
    }
   ],
   "source": [
    "x is y"
   ]
  },
  {
   "cell_type": "code",
   "execution_count": 29,
   "id": "0eebf0c1-250f-4f48-94e9-2a8c0324dd85",
   "metadata": {},
   "outputs": [
    {
     "name": "stdout",
     "output_type": "stream",
     "text": [
      "Help on built-in function intern in module sys:\n",
      "\n",
      "intern(string, /)\n",
      "    ``Intern'' the given string.\n",
      "    \n",
      "    This enters the string in the (global) table of interned strings whose\n",
      "    purpose is to speed up dictionary lookups. Return the string itself or\n",
      "    the previously interned string object with the same value.\n",
      "\n"
     ]
    }
   ],
   "source": [
    "help(intern)"
   ]
  },
  {
   "cell_type": "code",
   "execution_count": 30,
   "id": "92b9090a-2955-4fa8-ad72-5eac511001ef",
   "metadata": {},
   "outputs": [
    {
     "name": "stdout",
     "output_type": "stream",
     "text": [
      "It is False-ish\n"
     ]
    }
   ],
   "source": [
    "x = None\n",
    "\n",
    "if x:\n",
    "    print('It is True-ish')\n",
    "else:\n",
    "    print('It is False-ish')"
   ]
  },
  {
   "cell_type": "code",
   "execution_count": 31,
   "id": "c79b8cde-d0a0-4316-9533-ff21abb398db",
   "metadata": {},
   "outputs": [
    {
     "data": {
      "text/plain": [
       "False"
      ]
     },
     "execution_count": 31,
     "metadata": {},
     "output_type": "execute_result"
    }
   ],
   "source": [
    "x == False"
   ]
  },
  {
   "cell_type": "markdown",
   "id": "c8510fc0-1353-4d57-832c-85d6e5a69edd",
   "metadata": {},
   "source": [
    "Every object in a boolean context is `True`, except for:\n",
    "\n",
    "- `False`\n",
    "- `None`\n",
    "- 0\n",
    "- everything empty -- `''`, `[]`, `()`, `{}`"
   ]
  },
  {
   "cell_type": "code",
   "execution_count": 33,
   "id": "05311478-eacc-4442-9f68-942d9af69d3b",
   "metadata": {},
   "outputs": [
    {
     "name": "stdin",
     "output_type": "stream",
     "text": [
      "Enter your name:  Reuven\n"
     ]
    },
    {
     "name": "stdout",
     "output_type": "stream",
     "text": [
      "Hello, Reuven!\n"
     ]
    },
    {
     "name": "stdin",
     "output_type": "stream",
     "text": [
      "Enter your name:  asdfadf\n"
     ]
    },
    {
     "name": "stdout",
     "output_type": "stream",
     "text": [
      "Hello, asdfadf!\n"
     ]
    },
    {
     "name": "stdin",
     "output_type": "stream",
     "text": [
      "Enter your name:  \n"
     ]
    }
   ],
   "source": [
    "while True:\n",
    "    s = input('Enter your name: ').strip()\n",
    "    \n",
    "    if not s:\n",
    "        break\n",
    "        \n",
    "    print(f'Hello, {s}!')"
   ]
  },
  {
   "cell_type": "code",
   "execution_count": 34,
   "id": "9da340c9-bebe-446c-9208-8f868437eb3f",
   "metadata": {},
   "outputs": [
    {
     "ename": "SyntaxError",
     "evalue": "invalid syntax (<ipython-input-34-11b1d1112cc4>, line 1)",
     "output_type": "error",
     "traceback": [
      "\u001b[0;36m  File \u001b[0;32m\"<ipython-input-34-11b1d1112cc4>\"\u001b[0;36m, line \u001b[0;32m1\u001b[0m\n\u001b[0;31m    while s = input('Enter your name: ').strip():\u001b[0m\n\u001b[0m            ^\u001b[0m\n\u001b[0;31mSyntaxError\u001b[0m\u001b[0;31m:\u001b[0m invalid syntax\n"
     ]
    }
   ],
   "source": [
    "while s = input('Enter your name: ').strip():\n",
    "    \n",
    "    print(f'Hello, {s}!')"
   ]
  },
  {
   "cell_type": "code",
   "execution_count": 35,
   "id": "816d5d60-2745-4b7d-9160-0aef439d9fda",
   "metadata": {},
   "outputs": [
    {
     "name": "stdin",
     "output_type": "stream",
     "text": [
      "Enter your name:  cvngnff\n"
     ]
    },
    {
     "name": "stdout",
     "output_type": "stream",
     "text": [
      "Hello, cvngnff!\n"
     ]
    },
    {
     "name": "stdin",
     "output_type": "stream",
     "text": [
      "Enter your name:  \n"
     ]
    }
   ],
   "source": [
    "# assignment expression -- walrus\n",
    "\n",
    "while s := input('Enter your name: ').strip():\n",
    "    \n",
    "    print(f'Hello, {s}!')"
   ]
  },
  {
   "cell_type": "markdown",
   "id": "ad457587-adbc-4288-a1d1-7a90fe39dea4",
   "metadata": {},
   "source": [
    "# Numbers\n",
    "\n",
    "- `int`\n",
    "- `float`\n",
    "- `complex`"
   ]
  },
  {
   "cell_type": "code",
   "execution_count": 36,
   "id": "e484362c-3e80-47dc-b184-a03b56b09d36",
   "metadata": {},
   "outputs": [],
   "source": [
    "from sys import getsizeof\n",
    "\n",
    "x = 0\n"
   ]
  },
  {
   "cell_type": "code",
   "execution_count": 37,
   "id": "26b68929-786a-464f-ad83-7f94d6f53a8a",
   "metadata": {},
   "outputs": [
    {
     "data": {
      "text/plain": [
       "24"
      ]
     },
     "execution_count": 37,
     "metadata": {},
     "output_type": "execute_result"
    }
   ],
   "source": [
    "getsizeof(x)"
   ]
  },
  {
   "cell_type": "code",
   "execution_count": 38,
   "id": "6a037223-01f9-4df0-b994-3f463296fbca",
   "metadata": {},
   "outputs": [
    {
     "data": {
      "text/plain": [
       "28"
      ]
     },
     "execution_count": 38,
     "metadata": {},
     "output_type": "execute_result"
    }
   ],
   "source": [
    "x = 1\n",
    "getsizeof(x)"
   ]
  },
  {
   "cell_type": "code",
   "execution_count": 39,
   "id": "cae22cbb-7149-4ce6-8d8c-5e99f9685246",
   "metadata": {},
   "outputs": [
    {
     "data": {
      "text/plain": [
       "28"
      ]
     },
     "execution_count": 39,
     "metadata": {},
     "output_type": "execute_result"
    }
   ],
   "source": [
    "x = 1_000\n",
    "getsizeof(x)"
   ]
  },
  {
   "cell_type": "code",
   "execution_count": 40,
   "id": "19f0fdda-64ad-4c8f-9aec-1a06f5d930d8",
   "metadata": {},
   "outputs": [],
   "source": [
    "x = x ** 10000"
   ]
  },
  {
   "cell_type": "code",
   "execution_count": 41,
   "id": "20cc7db4-3550-44ec-9de8-69ce950f4977",
   "metadata": {},
   "outputs": [
    {
     "data": {
      "text/plain": [
       "13312"
      ]
     },
     "execution_count": 41,
     "metadata": {},
     "output_type": "execute_result"
    }
   ],
   "source": [
    "getsizeof(x)"
   ]
  },
  {
   "cell_type": "code",
   "execution_count": 43,
   "id": "98fcbcd3-d668-4f91-a033-855fd04585ed",
   "metadata": {},
   "outputs": [
    {
     "data": {
      "text/plain": [
       "1328796"
      ]
     },
     "execution_count": 43,
     "metadata": {},
     "output_type": "execute_result"
    }
   ],
   "source": [
    "x = x ** 100\n",
    "getsizeof(x)"
   ]
  },
  {
   "cell_type": "code",
   "execution_count": 44,
   "id": "1a4149fe-bbbb-4acb-885c-b815346b62d1",
   "metadata": {},
   "outputs": [
    {
     "data": {
      "text/plain": [
       "100"
      ]
     },
     "execution_count": 44,
     "metadata": {},
     "output_type": "execute_result"
    }
   ],
   "source": [
    "x = 100\n",
    "y = x\n",
    "\n",
    "x = 200\n",
    "y"
   ]
  },
  {
   "cell_type": "code",
   "execution_count": 45,
   "id": "89686b4a-db83-4103-ba68-27db65e89133",
   "metadata": {},
   "outputs": [
    {
     "data": {
      "text/plain": [
       "123"
      ]
     },
     "execution_count": 45,
     "metadata": {},
     "output_type": "execute_result"
    }
   ],
   "source": [
    "s = '123'\n",
    "int(s)  "
   ]
  },
  {
   "cell_type": "code",
   "execution_count": 46,
   "id": "88b3e719-8653-4b5c-82df-707fd30b9c3c",
   "metadata": {},
   "outputs": [],
   "source": [
    "x = 100"
   ]
  },
  {
   "cell_type": "code",
   "execution_count": 47,
   "id": "72f0210f-835b-4593-8e5c-4f905389f009",
   "metadata": {},
   "outputs": [
    {
     "data": {
      "text/plain": [
       "123"
      ]
     },
     "execution_count": 47,
     "metadata": {},
     "output_type": "execute_result"
    }
   ],
   "source": [
    "int(s)"
   ]
  },
  {
   "cell_type": "code",
   "execution_count": 48,
   "id": "d29678bf-b0de-4dbd-9ff8-65b1c3aa57ae",
   "metadata": {},
   "outputs": [
    {
     "data": {
      "text/plain": [
       "291"
      ]
     },
     "execution_count": 48,
     "metadata": {},
     "output_type": "execute_result"
    }
   ],
   "source": [
    "int(s, 16)   # interpret as a hex int"
   ]
  },
  {
   "cell_type": "code",
   "execution_count": 49,
   "id": "146f322a-fed5-4319-b7e3-3c05196e44da",
   "metadata": {},
   "outputs": [
    {
     "data": {
      "text/plain": [
       "255"
      ]
     },
     "execution_count": 49,
     "metadata": {},
     "output_type": "execute_result"
    }
   ],
   "source": [
    "int('ff', 16)"
   ]
  },
  {
   "cell_type": "code",
   "execution_count": 50,
   "id": "a6d0d9c3-4b96-462c-832f-3bed2ed43be5",
   "metadata": {},
   "outputs": [
    {
     "data": {
      "text/plain": [
       "22"
      ]
     },
     "execution_count": 50,
     "metadata": {},
     "output_type": "execute_result"
    }
   ],
   "source": [
    "0x16"
   ]
  },
  {
   "cell_type": "code",
   "execution_count": 51,
   "id": "4a747133-4ce3-46a0-9db0-16282b5b96f9",
   "metadata": {},
   "outputs": [
    {
     "data": {
      "text/plain": [
       "10"
      ]
     },
     "execution_count": 51,
     "metadata": {},
     "output_type": "execute_result"
    }
   ],
   "source": [
    "0b1010"
   ]
  },
  {
   "cell_type": "code",
   "execution_count": 54,
   "id": "1f09f74a-87b2-47d3-83a0-20b84cb9d05e",
   "metadata": {},
   "outputs": [
    {
     "data": {
      "text/plain": [
       "83"
      ]
     },
     "execution_count": 54,
     "metadata": {},
     "output_type": "execute_result"
    }
   ],
   "source": [
    "0O123"
   ]
  },
  {
   "cell_type": "code",
   "execution_count": 55,
   "id": "c67c58d6-8c3e-4338-9496-923d8aece490",
   "metadata": {},
   "outputs": [
    {
     "data": {
      "text/plain": [
       "float"
      ]
     },
     "execution_count": 55,
     "metadata": {},
     "output_type": "execute_result"
    }
   ],
   "source": [
    "x = 123.456\n",
    "type(x)"
   ]
  },
  {
   "cell_type": "code",
   "execution_count": 56,
   "id": "bfcda080-e9a0-4383-9936-4058e82b2c0d",
   "metadata": {},
   "outputs": [
    {
     "data": {
      "text/plain": [
       "float"
      ]
     },
     "execution_count": 56,
     "metadata": {},
     "output_type": "execute_result"
    }
   ],
   "source": [
    "x = 1.\n",
    "type(x)"
   ]
  },
  {
   "cell_type": "code",
   "execution_count": 59,
   "id": "16485417-178b-435b-b830-02e60633885d",
   "metadata": {},
   "outputs": [
    {
     "data": {
      "text/plain": [
       "0.30000000000000004"
      ]
     },
     "execution_count": 59,
     "metadata": {},
     "output_type": "execute_result"
    }
   ],
   "source": [
    "0.1 + 0.2 "
   ]
  },
  {
   "cell_type": "code",
   "execution_count": 60,
   "id": "3579c19e-9b6f-45bc-a9e4-d5b69de8d3cb",
   "metadata": {},
   "outputs": [
    {
     "data": {
      "text/plain": [
       "0.3"
      ]
     },
     "execution_count": 60,
     "metadata": {},
     "output_type": "execute_result"
    }
   ],
   "source": [
    "round(0.1 + 0.2, 2)"
   ]
  },
  {
   "cell_type": "code",
   "execution_count": 61,
   "id": "fdc91aad-dd9f-4a43-ba19-299e7b3a8791",
   "metadata": {},
   "outputs": [
    {
     "data": {
      "text/plain": [
       "Decimal('0.3')"
      ]
     },
     "execution_count": 61,
     "metadata": {},
     "output_type": "execute_result"
    }
   ],
   "source": [
    "# BCD -- binary coded decimals\n",
    "\n",
    "from decimal import Decimal\n",
    "x = Decimal('0.1')\n",
    "y = Decimal('0.2')\n",
    "\n",
    "x + y"
   ]
  },
  {
   "cell_type": "code",
   "execution_count": 62,
   "id": "fe6eb5d1-283f-409c-8ac0-3282204cbca4",
   "metadata": {},
   "outputs": [
    {
     "data": {
      "text/plain": [
       "Decimal('0.3000000000000000166533453694')"
      ]
     },
     "execution_count": 62,
     "metadata": {},
     "output_type": "execute_result"
    }
   ],
   "source": [
    "x = Decimal(0.1)\n",
    "y = Decimal(0.2)\n",
    "\n",
    "x + y"
   ]
  },
  {
   "cell_type": "code",
   "execution_count": 63,
   "id": "c787d26e-905c-40f3-8716-49dd8fc1c6bc",
   "metadata": {},
   "outputs": [
    {
     "data": {
      "text/plain": [
       "Decimal('0.1000000000000000055511151231257827021181583404541015625')"
      ]
     },
     "execution_count": 63,
     "metadata": {},
     "output_type": "execute_result"
    }
   ],
   "source": [
    "x"
   ]
  },
  {
   "cell_type": "code",
   "execution_count": 64,
   "id": "7f1044d1-ebfc-45c5-9efe-f224acdf17b5",
   "metadata": {},
   "outputs": [
    {
     "data": {
      "text/plain": [
       "Decimal('0.200000000000000011102230246251565404236316680908203125')"
      ]
     },
     "execution_count": 64,
     "metadata": {},
     "output_type": "execute_result"
    }
   ],
   "source": [
    "y"
   ]
  },
  {
   "cell_type": "code",
   "execution_count": 65,
   "id": "fa3ad8a1-f3ce-4471-89a5-f6b037c4f303",
   "metadata": {},
   "outputs": [
    {
     "data": {
      "text/plain": [
       "(15+2j)"
      ]
     },
     "execution_count": 65,
     "metadata": {},
     "output_type": "execute_result"
    }
   ],
   "source": [
    "x = 10+5j\n",
    "y = 5-3j\n",
    "\n",
    "x + y"
   ]
  },
  {
   "cell_type": "code",
   "execution_count": 66,
   "id": "e6a7d661-1926-497b-b3d9-ff48cf42d28a",
   "metadata": {},
   "outputs": [
    {
     "data": {
      "text/plain": [
       "(65-5j)"
      ]
     },
     "execution_count": 66,
     "metadata": {},
     "output_type": "execute_result"
    }
   ],
   "source": [
    "x * y"
   ]
  },
  {
   "cell_type": "code",
   "execution_count": 67,
   "id": "c4decc45-ef84-4ee3-9697-37925aa232bc",
   "metadata": {},
   "outputs": [
    {
     "name": "stdout",
     "output_type": "stream",
     "text": [
      "x = 100, and y = [10, 20, 30].\n"
     ]
    }
   ],
   "source": [
    "x = 100\n",
    "y = [10, 20, 30]\n",
    "\n",
    "print('x = ' + str(x) + ', and y = ' + str(y) + '.')"
   ]
  },
  {
   "cell_type": "code",
   "execution_count": 68,
   "id": "6997f656-9d10-4d62-9bfa-d696000b3319",
   "metadata": {},
   "outputs": [
    {
     "ename": "TypeError",
     "evalue": "can only concatenate str (not \"int\") to str",
     "output_type": "error",
     "traceback": [
      "\u001b[0;31m---------------------------------------------------------------------------\u001b[0m",
      "\u001b[0;31mTypeError\u001b[0m                                 Traceback (most recent call last)",
      "\u001b[0;32m<ipython-input-68-caeb9e6ce9d8>\u001b[0m in \u001b[0;36m<module>\u001b[0;34m\u001b[0m\n\u001b[0;32m----> 1\u001b[0;31m \u001b[0;34m'a'\u001b[0m \u001b[0;34m+\u001b[0m \u001b[0mx\u001b[0m\u001b[0;34m\u001b[0m\u001b[0;34m\u001b[0m\u001b[0m\n\u001b[0m",
      "\u001b[0;31mTypeError\u001b[0m: can only concatenate str (not \"int\") to str"
     ]
    }
   ],
   "source": [
    "'a' + x"
   ]
  },
  {
   "cell_type": "code",
   "execution_count": 71,
   "id": "3b58278d-15f1-470b-9559-75c7a1c8e472",
   "metadata": {},
   "outputs": [
    {
     "name": "stdout",
     "output_type": "stream",
     "text": [
      "x = 100, y = [10, 20, 30]\n"
     ]
    }
   ],
   "source": [
    "print(f'x = {x}, y = {y}')"
   ]
  },
  {
   "cell_type": "code",
   "execution_count": 72,
   "id": "0257fb34-9248-4a1f-ba3d-57b21be8eff0",
   "metadata": {},
   "outputs": [],
   "source": [
    "s = 'He\\'s very nice.'"
   ]
  },
  {
   "cell_type": "code",
   "execution_count": 73,
   "id": "e9c1ebf2-a7da-4054-878e-86907bc0cc75",
   "metadata": {},
   "outputs": [
    {
     "data": {
      "text/plain": [
       "\"He's very nice.\""
      ]
     },
     "execution_count": 73,
     "metadata": {},
     "output_type": "execute_result"
    }
   ],
   "source": [
    "s"
   ]
  },
  {
   "cell_type": "code",
   "execution_count": 75,
   "id": "796926ac-0cb4-4f37-ae43-eea0018dacf7",
   "metadata": {},
   "outputs": [
    {
     "data": {
      "text/plain": [
       "\"He's very nice.\""
      ]
     },
     "execution_count": 75,
     "metadata": {},
     "output_type": "execute_result"
    }
   ],
   "source": [
    "s = \"He's very nice.\"\n",
    "s"
   ]
  },
  {
   "cell_type": "code",
   "execution_count": 76,
   "id": "87a78618-09e3-466a-86b6-332267dd8a1d",
   "metadata": {},
   "outputs": [
    {
     "data": {
      "text/plain": [
       "'She said, \"He\\'s very nice.\"'"
      ]
     },
     "execution_count": 76,
     "metadata": {},
     "output_type": "execute_result"
    }
   ],
   "source": [
    "s = 'She said, \"He\\'s very nice.\"'\n",
    "s"
   ]
  },
  {
   "cell_type": "code",
   "execution_count": 77,
   "id": "db8f1a3e-2ba8-4b3c-bccd-5102b9bfa6ab",
   "metadata": {},
   "outputs": [
    {
     "name": "stdout",
     "output_type": "stream",
     "text": [
      "She said, \"He's very nice.\"\n"
     ]
    }
   ],
   "source": [
    "print(s)"
   ]
  },
  {
   "cell_type": "code",
   "execution_count": 78,
   "id": "e871e091-812b-43db-9c07-e31aa88743be",
   "metadata": {},
   "outputs": [
    {
     "name": "stdout",
     "output_type": "stream",
     "text": [
      "c:\u0007bcd\\efgh\\ijkl\n"
     ]
    }
   ],
   "source": [
    "path = 'c:\\abcd\\efgh\\ijkl'\n",
    "print(path)"
   ]
  },
  {
   "cell_type": "code",
   "execution_count": 79,
   "id": "0b393028-f013-4540-9310-12bc6ed6e67e",
   "metadata": {},
   "outputs": [
    {
     "name": "stdout",
     "output_type": "stream",
     "text": [
      "c:\\abcd\\efgh\\ijkl\n"
     ]
    }
   ],
   "source": [
    "path = 'c:\\\\abcd\\\\efgh\\\\ijkl'\n",
    "print(path)"
   ]
  },
  {
   "cell_type": "code",
   "execution_count": 80,
   "id": "7f34a397-59cd-451c-a32b-e35d313033ab",
   "metadata": {},
   "outputs": [
    {
     "name": "stdout",
     "output_type": "stream",
     "text": [
      "c:\\abcd\\efgh\\ijkl\n"
     ]
    }
   ],
   "source": [
    "# raw string  -- auto-double backslashes\n",
    "\n",
    "path = r'c:\\abcd\\efgh\\ijkl'\n",
    "print(path)"
   ]
  },
  {
   "cell_type": "code",
   "execution_count": 81,
   "id": "fa586f0f-5927-4834-a6a4-5b498bab3dbd",
   "metadata": {},
   "outputs": [
    {
     "data": {
      "text/plain": [
       "'c:\\\\abcd\\\\efgh\\\\ijkl'"
      ]
     },
     "execution_count": 81,
     "metadata": {},
     "output_type": "execute_result"
    }
   ],
   "source": [
    "path"
   ]
  },
  {
   "cell_type": "code",
   "execution_count": 83,
   "id": "02a8d4ea-a31d-4f64-98bc-3ad5189e7914",
   "metadata": {},
   "outputs": [
    {
     "name": "stdout",
     "output_type": "stream",
     "text": [
      "'c:\\\\abcd\\\\efgh\\\\ijkl'\n"
     ]
    }
   ],
   "source": [
    "print(repr(path))"
   ]
  },
  {
   "cell_type": "code",
   "execution_count": 84,
   "id": "5b29af5c-c9f8-4211-b7c5-39561161b287",
   "metadata": {},
   "outputs": [
    {
     "name": "stdout",
     "output_type": "stream",
     "text": [
      "c:\\abcd\\efgh\\ijkl\n"
     ]
    }
   ],
   "source": [
    "print(path)"
   ]
  },
  {
   "cell_type": "code",
   "execution_count": 87,
   "id": "5537420e-c2a7-47d6-98ad-4c73b477f0d3",
   "metadata": {},
   "outputs": [
    {
     "name": "stdout",
     "output_type": "stream",
     "text": [
      ">> C:\\ABCD\\EFGH\\IJKL <<\n"
     ]
    }
   ],
   "source": [
    "print(f'>> {path.upper()} <<')"
   ]
  },
  {
   "cell_type": "code",
   "execution_count": 89,
   "id": "10fdd61a-3e77-4059-9052-dcc79667a0c6",
   "metadata": {},
   "outputs": [
    {
     "name": "stdout",
     "output_type": "stream",
     "text": [
      "a                100\n",
      "bcde               2\n",
      "fgh         12345678\n",
      "i              99999\n"
     ]
    }
   ],
   "source": [
    "d = {'a':100, 'bcde':2, 'fgh':12345678, 'i':99999}\n",
    "\n",
    "for key, value in d.items():\n",
    "    print(f'{key:10}{value:10}')"
   ]
  },
  {
   "cell_type": "code",
   "execution_count": 90,
   "id": "5ba76699-3c18-44ed-baa0-9e631ae55c52",
   "metadata": {},
   "outputs": [
    {
     "name": "stdout",
     "output_type": "stream",
     "text": [
      "*********a___100____\n",
      "******bcde____2_____\n",
      "*******fgh_12345678_\n",
      "*********i__99999___\n"
     ]
    }
   ],
   "source": [
    "d = {'a':100, 'bcde':2, 'fgh':12345678, 'i':99999}\n",
    "\n",
    "for key, value in d.items():\n",
    "    print(f'{key:*>10}{value:_^10}')"
   ]
  },
  {
   "cell_type": "code",
   "execution_count": 94,
   "id": "4c2ed22f-0826-4c97-bbd2-e1160a872bcd",
   "metadata": {},
   "outputs": [
    {
     "name": "stdout",
     "output_type": "stream",
     "text": [
      "a.........100\n",
      "bcde........2\n",
      "fgh..12345678\n",
      "i.......99999\n"
     ]
    }
   ],
   "source": [
    "d = {'a':100, 'bcde':2, 'fgh':12345678, 'i':99999}\n",
    "\n",
    "for key, value in d.items():\n",
    "\n",
    "    # *<5 == field of 5 characters, aligned left, fill with *\n",
    "    # .>8 == field of 8 characters, aligned right, fill with .\n",
    "\n",
    "    print(f'{key:.<5}{value:.>8}')"
   ]
  },
  {
   "cell_type": "code",
   "execution_count": 96,
   "id": "431982d8-5d07-4d91-ada3-d8cc7eab4456",
   "metadata": {},
   "outputs": [],
   "source": [
    "s = '''this is a long string\n",
    "\n",
    "It takes multiple lines.\n",
    "\n",
    "It will not work.'''"
   ]
  },
  {
   "cell_type": "code",
   "execution_count": 97,
   "id": "0f75e9de-8dd2-4d36-a3be-fa0510065f48",
   "metadata": {},
   "outputs": [
    {
     "data": {
      "text/plain": [
       "'this is a long string\\n\\nIt takes multiple lines.\\n\\nIt will not work.'"
      ]
     },
     "execution_count": 97,
     "metadata": {},
     "output_type": "execute_result"
    }
   ],
   "source": [
    "s"
   ]
  },
  {
   "cell_type": "code",
   "execution_count": 99,
   "id": "9a910c54-a96b-41cb-a813-f46927607635",
   "metadata": {},
   "outputs": [],
   "source": [
    "x = 100\n",
    "\n",
    "'''I want to do something here\n",
    "\n",
    "and document it'''\n",
    "\n",
    "y = 200"
   ]
  },
  {
   "cell_type": "code",
   "execution_count": 100,
   "id": "714f69e2-ac1f-4fa2-adbc-7dc4a26c42a1",
   "metadata": {},
   "outputs": [
    {
     "data": {
      "text/plain": [
       "'abcdefghijkl'"
      ]
     },
     "execution_count": 100,
     "metadata": {},
     "output_type": "execute_result"
    }
   ],
   "source": [
    "x = 'abcd\\\n",
    "efgh\\\n",
    "ijkl'\n",
    "\n",
    "x"
   ]
  },
  {
   "cell_type": "code",
   "execution_count": 101,
   "id": "39fd15a8-deae-492f-96d9-b226638d90e2",
   "metadata": {},
   "outputs": [
    {
     "data": {
      "text/plain": [
       "5"
      ]
     },
     "execution_count": 101,
     "metadata": {},
     "output_type": "execute_result"
    }
   ],
   "source": [
    "s = 'abcde'\n",
    "len(s)"
   ]
  },
  {
   "cell_type": "code",
   "execution_count": 102,
   "id": "d3c1dc1e-241a-4a6f-9827-6e8ab1c3f995",
   "metadata": {},
   "outputs": [
    {
     "data": {
      "text/plain": [
       "4"
      ]
     },
     "execution_count": 102,
     "metadata": {},
     "output_type": "execute_result"
    }
   ],
   "source": [
    "s = 'שלום'\n",
    "len(s)"
   ]
  },
  {
   "cell_type": "code",
   "execution_count": 103,
   "id": "eb9f8ff1-3b4f-4b2f-ab0b-1929b21d0ef6",
   "metadata": {},
   "outputs": [
    {
     "data": {
      "text/plain": [
       "2"
      ]
     },
     "execution_count": 103,
     "metadata": {},
     "output_type": "execute_result"
    }
   ],
   "source": [
    "s = '北京'\n",
    "len(s)"
   ]
  },
  {
   "cell_type": "code",
   "execution_count": 104,
   "id": "ebc77771-3e9a-401d-9c68-ab14c8e9791d",
   "metadata": {},
   "outputs": [
    {
     "data": {
      "text/plain": [
       "bytes"
      ]
     },
     "execution_count": 104,
     "metadata": {},
     "output_type": "execute_result"
    }
   ],
   "source": [
    "# bytestring\n",
    "s = b'abcde'\n",
    "type(s)"
   ]
  },
  {
   "cell_type": "code",
   "execution_count": 105,
   "id": "b12d98ec-8118-4937-99ef-bec44021748b",
   "metadata": {},
   "outputs": [
    {
     "data": {
      "text/plain": [
       "5"
      ]
     },
     "execution_count": 105,
     "metadata": {},
     "output_type": "execute_result"
    }
   ],
   "source": [
    "len(s)"
   ]
  },
  {
   "cell_type": "code",
   "execution_count": 106,
   "id": "62624bf7-2dc6-4d80-a2d4-b5e8b06f87d1",
   "metadata": {},
   "outputs": [
    {
     "ename": "SyntaxError",
     "evalue": "bytes can only contain ASCII literal characters. (<ipython-input-106-42db25b43bb3>, line 1)",
     "output_type": "error",
     "traceback": [
      "\u001b[0;36m  File \u001b[0;32m\"<ipython-input-106-42db25b43bb3>\"\u001b[0;36m, line \u001b[0;32m1\u001b[0m\n\u001b[0;31m    s = b'שלום'\u001b[0m\n\u001b[0m               ^\u001b[0m\n\u001b[0;31mSyntaxError\u001b[0m\u001b[0;31m:\u001b[0m bytes can only contain ASCII literal characters.\n"
     ]
    }
   ],
   "source": [
    "s = b'שלום'\n"
   ]
  },
  {
   "cell_type": "code",
   "execution_count": 108,
   "id": "2944b42d-d57c-43b7-a11c-7031a3739d4c",
   "metadata": {},
   "outputs": [
    {
     "data": {
      "text/plain": [
       "b'\\xd7\\xa9\\xd7\\x9c\\xd7\\x95\\xd7\\x9d'"
      ]
     },
     "execution_count": 108,
     "metadata": {},
     "output_type": "execute_result"
    }
   ],
   "source": [
    "s = 'שלום'\n",
    "b = s.encode()   # return bytes based on string\n",
    "b"
   ]
  },
  {
   "cell_type": "code",
   "execution_count": 109,
   "id": "ebad8a40-f2c0-4943-91f7-a8ec98b15252",
   "metadata": {},
   "outputs": [
    {
     "data": {
      "text/plain": [
       "8"
      ]
     },
     "execution_count": 109,
     "metadata": {},
     "output_type": "execute_result"
    }
   ],
   "source": [
    "len(b)"
   ]
  },
  {
   "cell_type": "code",
   "execution_count": 110,
   "id": "f843842d-13e8-4943-af5a-da7d89e6f979",
   "metadata": {},
   "outputs": [
    {
     "data": {
      "text/plain": [
       "6"
      ]
     },
     "execution_count": 110,
     "metadata": {},
     "output_type": "execute_result"
    }
   ],
   "source": [
    "s = '北京'\n",
    "b = s.encode()\n",
    "len(b)"
   ]
  },
  {
   "cell_type": "code",
   "execution_count": 111,
   "id": "f17e09dc-f064-4993-9bd3-a78b8aea1351",
   "metadata": {},
   "outputs": [
    {
     "data": {
      "text/plain": [
       "b'\\xe5\\x8c\\x97\\xe4\\xba\\xac'"
      ]
     },
     "execution_count": 111,
     "metadata": {},
     "output_type": "execute_result"
    }
   ],
   "source": [
    "b"
   ]
  },
  {
   "cell_type": "code",
   "execution_count": 112,
   "id": "bb01d7a7-96f2-45be-9e54-5747753a47d4",
   "metadata": {},
   "outputs": [
    {
     "data": {
      "text/plain": [
       "'北京'"
      ]
     },
     "execution_count": 112,
     "metadata": {},
     "output_type": "execute_result"
    }
   ],
   "source": [
    "b.decode()  # get a string from bytes"
   ]
  },
  {
   "cell_type": "code",
   "execution_count": 114,
   "id": "d0bd4c73-57bc-466e-8af5-9c83ce878f0e",
   "metadata": {},
   "outputs": [
    {
     "data": {
      "text/plain": [
       "True"
      ]
     },
     "execution_count": 114,
     "metadata": {},
     "output_type": "execute_result"
    }
   ],
   "source": [
    "b = b'abcdefghij'\n",
    "\n",
    "b'j' in b"
   ]
  },
  {
   "cell_type": "code",
   "execution_count": 115,
   "id": "ead1ac3a-b6a3-4760-82fd-b38cd0d1811d",
   "metadata": {},
   "outputs": [
    {
     "data": {
      "text/plain": [
       "True"
      ]
     },
     "execution_count": 115,
     "metadata": {},
     "output_type": "execute_result"
    }
   ],
   "source": [
    "'j' in b.decode()"
   ]
  },
  {
   "cell_type": "code",
   "execution_count": 116,
   "id": "9f0b3865-44eb-4dec-9e2b-2732950f23ee",
   "metadata": {},
   "outputs": [
    {
     "data": {
      "text/plain": [
       "'abcdefghij'"
      ]
     },
     "execution_count": 116,
     "metadata": {},
     "output_type": "execute_result"
    }
   ],
   "source": [
    "b.decode('utf-8')"
   ]
  },
  {
   "cell_type": "code",
   "execution_count": 117,
   "id": "0289bc9b-11c6-4dc1-a7ff-68fda7ddaa8d",
   "metadata": {},
   "outputs": [
    {
     "data": {
      "text/plain": [
       "'abcdefghij'"
      ]
     },
     "execution_count": 117,
     "metadata": {},
     "output_type": "execute_result"
    }
   ],
   "source": [
    "b.decode('latin-1')"
   ]
  },
  {
   "cell_type": "code",
   "execution_count": 120,
   "id": "3e213452-0d82-4552-baff-a5df7419731f",
   "metadata": {},
   "outputs": [
    {
     "data": {
      "text/plain": [
       "'abcdefghij'"
      ]
     },
     "execution_count": 120,
     "metadata": {},
     "output_type": "execute_result"
    }
   ],
   "source": [
    "b.decode('cp1251')"
   ]
  },
  {
   "cell_type": "code",
   "execution_count": 122,
   "id": "b00f5eec-a249-4aea-9ec7-0dca71d62059",
   "metadata": {},
   "outputs": [
    {
     "data": {
      "text/plain": [
       "26"
      ]
     },
     "execution_count": 122,
     "metadata": {},
     "output_type": "execute_result"
    }
   ],
   "source": [
    "s = 'abcdefghijklmnopqrstuvwxyz'\n",
    "len(s)"
   ]
  },
  {
   "cell_type": "code",
   "execution_count": 123,
   "id": "285a2aa6-d343-4a8c-84f3-cbf62c189fd0",
   "metadata": {},
   "outputs": [
    {
     "data": {
      "text/plain": [
       "'a'"
      ]
     },
     "execution_count": 123,
     "metadata": {},
     "output_type": "execute_result"
    }
   ],
   "source": [
    "s[0]  "
   ]
  },
  {
   "cell_type": "code",
   "execution_count": 124,
   "id": "9cd890af-df24-40b5-ada9-4887ef2369c3",
   "metadata": {},
   "outputs": [
    {
     "data": {
      "text/plain": [
       "'klmnopqrst'"
      ]
     },
     "execution_count": 124,
     "metadata": {},
     "output_type": "execute_result"
    }
   ],
   "source": [
    "s[10:20]   # slice -- start:end+1"
   ]
  },
  {
   "cell_type": "code",
   "execution_count": 125,
   "id": "3074d85d-2456-4cbe-8b88-025ccb653722",
   "metadata": {},
   "outputs": [
    {
     "data": {
      "text/plain": [
       "'abcdefghijklmnopqrst'"
      ]
     },
     "execution_count": 125,
     "metadata": {},
     "output_type": "execute_result"
    }
   ],
   "source": [
    "s[:20]    # slice "
   ]
  },
  {
   "cell_type": "code",
   "execution_count": 126,
   "id": "2ce61168-ea5a-49bd-bd2b-644aec55a8e2",
   "metadata": {},
   "outputs": [
    {
     "data": {
      "text/plain": [
       "'uvwxyz'"
      ]
     },
     "execution_count": 126,
     "metadata": {},
     "output_type": "execute_result"
    }
   ],
   "source": [
    "s[20:]"
   ]
  },
  {
   "cell_type": "code",
   "execution_count": 127,
   "id": "f86db25d-6ab9-42f1-b123-abf079d65ad1",
   "metadata": {},
   "outputs": [
    {
     "data": {
      "text/plain": [
       "'filor'"
      ]
     },
     "execution_count": 127,
     "metadata": {},
     "output_type": "execute_result"
    }
   ],
   "source": [
    "s[5:20:3]"
   ]
  },
  {
   "cell_type": "code",
   "execution_count": 128,
   "id": "03f161b7-58b3-43e8-94a6-04b763f8f317",
   "metadata": {},
   "outputs": [
    {
     "data": {
      "text/plain": [
       "'zyxwvutsrqponmlkjihgfedcba'"
      ]
     },
     "execution_count": 128,
     "metadata": {},
     "output_type": "execute_result"
    }
   ],
   "source": [
    "s[::-1]"
   ]
  },
  {
   "cell_type": "code",
   "execution_count": 129,
   "id": "9653f18c-f4fc-4589-8c46-0c915d691e5e",
   "metadata": {},
   "outputs": [],
   "source": [
    "# strings are immutable"
   ]
  },
  {
   "cell_type": "code",
   "execution_count": 130,
   "id": "1152b8b2-87f6-48ec-9fb5-eedb68f53e04",
   "metadata": {},
   "outputs": [
    {
     "ename": "TypeError",
     "evalue": "'str' object does not support item assignment",
     "output_type": "error",
     "traceback": [
      "\u001b[0;31m---------------------------------------------------------------------------\u001b[0m",
      "\u001b[0;31mTypeError\u001b[0m                                 Traceback (most recent call last)",
      "\u001b[0;32m<ipython-input-130-3440f1d97fd8>\u001b[0m in \u001b[0;36m<module>\u001b[0;34m\u001b[0m\n\u001b[0;32m----> 1\u001b[0;31m \u001b[0ms\u001b[0m\u001b[0;34m[\u001b[0m\u001b[0;36m0\u001b[0m\u001b[0;34m]\u001b[0m \u001b[0;34m=\u001b[0m \u001b[0;34m'!'\u001b[0m\u001b[0;34m\u001b[0m\u001b[0;34m\u001b[0m\u001b[0m\n\u001b[0m",
      "\u001b[0;31mTypeError\u001b[0m: 'str' object does not support item assignment"
     ]
    }
   ],
   "source": [
    "s[0] = '!'"
   ]
  },
  {
   "cell_type": "code",
   "execution_count": 132,
   "id": "2a5e54a0-2f31-469e-9d88-39d3a07c9f42",
   "metadata": {},
   "outputs": [
    {
     "name": "stdout",
     "output_type": "stream",
     "text": [
      "4679488880\n",
      "4679491760\n"
     ]
    }
   ],
   "source": [
    "s = 'abcd'\n",
    "print(id(s))\n",
    "s += 'efgh'\n",
    "print(id(s))\n"
   ]
  },
  {
   "cell_type": "code",
   "execution_count": 133,
   "id": "0638fa38-bef8-47f4-b1c2-d7eabc46064e",
   "metadata": {},
   "outputs": [],
   "source": [
    "# sequence -- string, list, tuple"
   ]
  },
  {
   "cell_type": "markdown",
   "id": "8d103017-4a76-47d4-bcf3-2552fd1df6ba",
   "metadata": {},
   "source": [
    "How to install Jupyter\n",
    "\n",
    "https://www.youtube.com/watch?v=i2zM8OwxZok&t=10s"
   ]
  },
  {
   "cell_type": "code",
   "execution_count": 135,
   "id": "becf8fba-704b-418d-8547-3ef3a2e8f294",
   "metadata": {},
   "outputs": [
    {
     "data": {
      "text/plain": [
       "49"
      ]
     },
     "execution_count": 135,
     "metadata": {},
     "output_type": "execute_result"
    }
   ],
   "source": [
    "s = ''\n",
    "getsizeof(s)"
   ]
  },
  {
   "cell_type": "code",
   "execution_count": 136,
   "id": "7b6c1fca-278a-4355-a4b0-3bdf6eaa1415",
   "metadata": {},
   "outputs": [
    {
     "data": {
      "text/plain": [
       "50"
      ]
     },
     "execution_count": 136,
     "metadata": {},
     "output_type": "execute_result"
    }
   ],
   "source": [
    "s = 'a'\n",
    "getsizeof(s)"
   ]
  },
  {
   "cell_type": "code",
   "execution_count": 137,
   "id": "db91feb5-06a3-438a-86ad-f219377d162c",
   "metadata": {},
   "outputs": [
    {
     "data": {
      "text/plain": [
       "1"
      ]
     },
     "execution_count": 137,
     "metadata": {},
     "output_type": "execute_result"
    }
   ],
   "source": [
    "len(s)"
   ]
  },
  {
   "cell_type": "markdown",
   "id": "c8b86c76-a0e8-44b3-a2d8-0fe3b9460527",
   "metadata": {},
   "source": [
    "# Sequences -- they all do the following:\n",
    "\n",
    "- `[i]` to retrieve something at index `i`\n",
    "- `[start:end:step]` to get a slice\n",
    "- `in` to search\n",
    "- loop with `for` over the elements\n",
    "- `index` and `count` methods"
   ]
  },
  {
   "cell_type": "raw",
   "id": "c5fa0169-d7d9-4003-84cb-bba5a9b49839",
   "metadata": {},
   "source": [
    "       mutable/immutable         contents\n",
    "str        immutable               string\n",
    "list        mutable                anything   -- items of the same type\n",
    "tuple      immutable               anything   -- items of different types -- record/struct"
   ]
  },
  {
   "cell_type": "code",
   "execution_count": 138,
   "id": "0e2718d4-0eef-4583-92fa-bf697471f4ab",
   "metadata": {},
   "outputs": [
    {
     "data": {
      "text/plain": [
       "3"
      ]
     },
     "execution_count": 138,
     "metadata": {},
     "output_type": "execute_result"
    }
   ],
   "source": [
    "mylist = [10, 20, 30]\n",
    "len(mylist)"
   ]
  },
  {
   "cell_type": "code",
   "execution_count": 139,
   "id": "c5b12185-19e6-40ea-a7d1-67dbdab043db",
   "metadata": {},
   "outputs": [
    {
     "data": {
      "text/plain": [
       "3"
      ]
     },
     "execution_count": 139,
     "metadata": {},
     "output_type": "execute_result"
    }
   ],
   "source": [
    "biglist = [mylist, mylist, mylist]\n",
    "len(biglist)"
   ]
  },
  {
   "cell_type": "code",
   "execution_count": 140,
   "id": "0302ea09-635e-44ad-a364-4257a58d1a4b",
   "metadata": {},
   "outputs": [
    {
     "data": {
      "text/plain": [
       "[[10, 20, 30], [10, 20, 30], [10, 20, 30]]"
      ]
     },
     "execution_count": 140,
     "metadata": {},
     "output_type": "execute_result"
    }
   ],
   "source": [
    "biglist"
   ]
  },
  {
   "cell_type": "code",
   "execution_count": 141,
   "id": "a4c63807-f60e-492a-9ad4-b309e2d94fa1",
   "metadata": {},
   "outputs": [],
   "source": [
    "mylist[0] = '!'"
   ]
  },
  {
   "cell_type": "code",
   "execution_count": 142,
   "id": "3deadf9e-c9f0-4ac1-90d7-0e1d9e6b8367",
   "metadata": {},
   "outputs": [
    {
     "data": {
      "text/plain": [
       "['!', 20, 30]"
      ]
     },
     "execution_count": 142,
     "metadata": {},
     "output_type": "execute_result"
    }
   ],
   "source": [
    "mylist"
   ]
  },
  {
   "cell_type": "code",
   "execution_count": 143,
   "id": "90b663ff-fe45-4be5-9790-4e7d3edd98f2",
   "metadata": {},
   "outputs": [
    {
     "data": {
      "text/plain": [
       "[['!', 20, 30], ['!', 20, 30], ['!', 20, 30]]"
      ]
     },
     "execution_count": 143,
     "metadata": {},
     "output_type": "execute_result"
    }
   ],
   "source": [
    "biglist"
   ]
  },
  {
   "cell_type": "code",
   "execution_count": 146,
   "id": "58ec1288-5607-4806-be96-76f16709d173",
   "metadata": {},
   "outputs": [],
   "source": [
    "mylist = [10, 20, 30] * 3"
   ]
  },
  {
   "cell_type": "code",
   "execution_count": 147,
   "id": "905096f0-cc54-4a21-a4d1-95aeae6506ec",
   "metadata": {},
   "outputs": [
    {
     "data": {
      "text/plain": [
       "[10, 20, 30, 10, 20, 30, 10, 20, 30]"
      ]
     },
     "execution_count": 147,
     "metadata": {},
     "output_type": "execute_result"
    }
   ],
   "source": [
    "mylist"
   ]
  },
  {
   "cell_type": "code",
   "execution_count": 152,
   "id": "02c2424a-ded1-4094-a6c7-8f19c6ed08d4",
   "metadata": {},
   "outputs": [],
   "source": [
    "mylist = [10, 20, 30]\n",
    "\n",
    "biglist = [mylist * 3]"
   ]
  },
  {
   "cell_type": "code",
   "execution_count": 153,
   "id": "80fcc0e2-a6e9-47af-a236-efbf02e1be3c",
   "metadata": {},
   "outputs": [
    {
     "data": {
      "text/plain": [
       "[[10, 20, 30, 10, 20, 30, 10, 20, 30]]"
      ]
     },
     "execution_count": 153,
     "metadata": {},
     "output_type": "execute_result"
    }
   ],
   "source": [
    "biglist"
   ]
  },
  {
   "cell_type": "code",
   "execution_count": 154,
   "id": "c24e7d7c-fb32-4973-ac58-2c35de9c6125",
   "metadata": {},
   "outputs": [
    {
     "data": {
      "text/plain": [
       "56"
      ]
     },
     "execution_count": 154,
     "metadata": {},
     "output_type": "execute_result"
    }
   ],
   "source": [
    "mylist = []\n",
    "getsizeof(mylist)"
   ]
  },
  {
   "cell_type": "code",
   "execution_count": 155,
   "id": "7b3f8114-2cfb-47f5-8698-714a88a5c91f",
   "metadata": {},
   "outputs": [
    {
     "data": {
      "text/plain": [
       "88"
      ]
     },
     "execution_count": 155,
     "metadata": {},
     "output_type": "execute_result"
    }
   ],
   "source": [
    "mylist.append(10)\n",
    "getsizeof(mylist)"
   ]
  },
  {
   "cell_type": "code",
   "execution_count": 156,
   "id": "622d6df4-20f6-4471-943f-db132cf665a8",
   "metadata": {},
   "outputs": [
    {
     "data": {
      "text/plain": [
       "88"
      ]
     },
     "execution_count": 156,
     "metadata": {},
     "output_type": "execute_result"
    }
   ],
   "source": [
    "mylist.append(20)\n",
    "getsizeof(mylist)"
   ]
  },
  {
   "cell_type": "code",
   "execution_count": 157,
   "id": "ceb9cb54-f260-4f5b-8157-e15db536e73c",
   "metadata": {},
   "outputs": [
    {
     "name": "stdout",
     "output_type": "stream",
     "text": [
      "len(mylist)=0, i=0, 56\n",
      "len(mylist)=1, i=1, 88\n",
      "len(mylist)=2, i=2, 88\n",
      "len(mylist)=3, i=3, 88\n",
      "len(mylist)=4, i=4, 88\n",
      "len(mylist)=5, i=5, 120\n",
      "len(mylist)=6, i=6, 120\n",
      "len(mylist)=7, i=7, 120\n",
      "len(mylist)=8, i=8, 120\n",
      "len(mylist)=9, i=9, 184\n",
      "len(mylist)=10, i=10, 184\n",
      "len(mylist)=11, i=11, 184\n",
      "len(mylist)=12, i=12, 184\n",
      "len(mylist)=13, i=13, 184\n",
      "len(mylist)=14, i=14, 184\n",
      "len(mylist)=15, i=15, 184\n",
      "len(mylist)=16, i=16, 184\n",
      "len(mylist)=17, i=17, 248\n",
      "len(mylist)=18, i=18, 248\n",
      "len(mylist)=19, i=19, 248\n",
      "len(mylist)=20, i=20, 248\n",
      "len(mylist)=21, i=21, 248\n",
      "len(mylist)=22, i=22, 248\n",
      "len(mylist)=23, i=23, 248\n",
      "len(mylist)=24, i=24, 248\n",
      "len(mylist)=25, i=25, 312\n",
      "len(mylist)=26, i=26, 312\n",
      "len(mylist)=27, i=27, 312\n",
      "len(mylist)=28, i=28, 312\n",
      "len(mylist)=29, i=29, 312\n"
     ]
    }
   ],
   "source": [
    "mylist = []\n",
    "for i in range(30):\n",
    "    print(f'{len(mylist)=}, {i=}, {getsizeof(mylist)}')\n",
    "    mylist.append(i)"
   ]
  },
  {
   "cell_type": "code",
   "execution_count": 158,
   "id": "452746dc-4274-4602-9641-e05d96954b91",
   "metadata": {},
   "outputs": [
    {
     "data": {
      "text/plain": [
       "[10, 20, 30, 'abcd']"
      ]
     },
     "execution_count": 158,
     "metadata": {},
     "output_type": "execute_result"
    }
   ],
   "source": [
    "mylist = [10, 20, 30]\n",
    "mylist.append('abcd')\n",
    "\n",
    "mylist"
   ]
  },
  {
   "cell_type": "code",
   "execution_count": 159,
   "id": "fb8decd4-7711-495e-8b26-85f786013a06",
   "metadata": {},
   "outputs": [
    {
     "data": {
      "text/plain": [
       "[10, 20, 30, 'abcd', 'a', 'b', 'c', 'd']"
      ]
     },
     "execution_count": 159,
     "metadata": {},
     "output_type": "execute_result"
    }
   ],
   "source": [
    "mylist += 'abcd'     # .extend\n",
    "mylist"
   ]
  },
  {
   "cell_type": "code",
   "execution_count": 160,
   "id": "a07f4e88-bc15-4b80-90b3-a3953b338124",
   "metadata": {},
   "outputs": [
    {
     "ename": "TypeError",
     "evalue": "'int' object is not iterable",
     "output_type": "error",
     "traceback": [
      "\u001b[0;31m---------------------------------------------------------------------------\u001b[0m",
      "\u001b[0;31mTypeError\u001b[0m                                 Traceback (most recent call last)",
      "\u001b[0;32m<ipython-input-160-2eeeb6359ec9>\u001b[0m in \u001b[0;36m<module>\u001b[0;34m\u001b[0m\n\u001b[0;32m----> 1\u001b[0;31m \u001b[0mmylist\u001b[0m \u001b[0;34m+=\u001b[0m \u001b[0;36m5\u001b[0m\u001b[0;34m\u001b[0m\u001b[0;34m\u001b[0m\u001b[0m\n\u001b[0m",
      "\u001b[0;31mTypeError\u001b[0m: 'int' object is not iterable"
     ]
    }
   ],
   "source": [
    "mylist += 5"
   ]
  },
  {
   "cell_type": "code",
   "execution_count": 162,
   "id": "0939d6cc-8f7d-4147-b54c-52f58e6467e5",
   "metadata": {},
   "outputs": [
    {
     "data": {
      "text/plain": [
       "[10, 20, 30, 'abcd', 'a', 'b', 'c', 'd', 500, 600, 700, 500, 600, 700]"
      ]
     },
     "execution_count": 162,
     "metadata": {},
     "output_type": "execute_result"
    }
   ],
   "source": [
    "mylist.extend([500, 600, 700])\n",
    "mylist"
   ]
  },
  {
   "cell_type": "code",
   "execution_count": 163,
   "id": "e0edf6ae-16dc-4181-9cac-c9a715827225",
   "metadata": {},
   "outputs": [
    {
     "data": {
      "text/plain": [
       "[10,\n",
       " 20,\n",
       " 30,\n",
       " 'abcd',\n",
       " 'a',\n",
       " 'b',\n",
       " 'c',\n",
       " 'd',\n",
       " 500,\n",
       " 600,\n",
       " 700,\n",
       " 500,\n",
       " 600,\n",
       " 700,\n",
       " [500, 600, 700]]"
      ]
     },
     "execution_count": 163,
     "metadata": {},
     "output_type": "execute_result"
    }
   ],
   "source": [
    "mylist.append([500, 600, 700])\n",
    "mylist"
   ]
  },
  {
   "cell_type": "code",
   "execution_count": 164,
   "id": "e65816be-16de-4c3b-81b3-9cd12ef5c203",
   "metadata": {},
   "outputs": [
    {
     "data": {
      "text/plain": [
       "[10, 20, 30, 40, 50, 60]"
      ]
     },
     "execution_count": 164,
     "metadata": {},
     "output_type": "execute_result"
    }
   ],
   "source": [
    "mylist = [10, 20, 30]\n",
    "mylist + [40, 50, 60]"
   ]
  },
  {
   "cell_type": "code",
   "execution_count": 165,
   "id": "c7d20f15-c5ec-40b3-8551-7df437f44cdf",
   "metadata": {},
   "outputs": [
    {
     "data": {
      "text/plain": [
       "[10, 20, 30]"
      ]
     },
     "execution_count": 165,
     "metadata": {},
     "output_type": "execute_result"
    }
   ],
   "source": [
    "mylist"
   ]
  },
  {
   "cell_type": "code",
   "execution_count": 166,
   "id": "917c53d8-c88c-4152-b973-16e86cd96dba",
   "metadata": {},
   "outputs": [
    {
     "data": {
      "text/plain": [
       "4"
      ]
     },
     "execution_count": 166,
     "metadata": {},
     "output_type": "execute_result"
    }
   ],
   "source": [
    "mylist = [10, 20, 30]\n",
    "mylist.append(mylist)\n",
    "\n",
    "len(mylist)"
   ]
  },
  {
   "cell_type": "code",
   "execution_count": 167,
   "id": "0f3c8db2-c874-4aa1-a563-f3e06be7ec86",
   "metadata": {},
   "outputs": [
    {
     "data": {
      "text/plain": [
       "[10, 20, 30, [...]]"
      ]
     },
     "execution_count": 167,
     "metadata": {},
     "output_type": "execute_result"
    }
   ],
   "source": [
    "mylist"
   ]
  },
  {
   "cell_type": "code",
   "execution_count": 168,
   "id": "3f1c54b4-dee1-4bf9-a62a-64270926f43b",
   "metadata": {},
   "outputs": [
    {
     "data": {
      "text/plain": [
       "[10, 20, 30, [...]]"
      ]
     },
     "execution_count": 168,
     "metadata": {},
     "output_type": "execute_result"
    }
   ],
   "source": [
    "mylist[-1]"
   ]
  },
  {
   "cell_type": "code",
   "execution_count": 169,
   "id": "353edb2d-7922-42eb-a6b4-0eb6bd504d39",
   "metadata": {},
   "outputs": [
    {
     "data": {
      "text/plain": [
       "True"
      ]
     },
     "execution_count": 169,
     "metadata": {},
     "output_type": "execute_result"
    }
   ],
   "source": [
    "mylist is mylist[-1]"
   ]
  },
  {
   "cell_type": "code",
   "execution_count": 170,
   "id": "611c1dd3-0d37-4b8f-ae6b-9f8938cd685a",
   "metadata": {},
   "outputs": [
    {
     "data": {
      "text/plain": [
       "10"
      ]
     },
     "execution_count": 170,
     "metadata": {},
     "output_type": "execute_result"
    }
   ],
   "source": [
    "mylist[-1][-1][-1][0]"
   ]
  },
  {
   "cell_type": "code",
   "execution_count": 171,
   "id": "c6c3ef26-944e-4088-a3c3-904ab7029ca7",
   "metadata": {},
   "outputs": [
    {
     "data": {
      "text/plain": [
       "tuple"
      ]
     },
     "execution_count": 171,
     "metadata": {},
     "output_type": "execute_result"
    }
   ],
   "source": [
    "t = (10, 20, 30)\n",
    "type(t)"
   ]
  },
  {
   "cell_type": "code",
   "execution_count": 172,
   "id": "54a3b498-5d7c-4569-8dfc-5df54e48a73e",
   "metadata": {},
   "outputs": [
    {
     "data": {
      "text/plain": [
       "tuple"
      ]
     },
     "execution_count": 172,
     "metadata": {},
     "output_type": "execute_result"
    }
   ],
   "source": [
    "t = (10, 20)\n",
    "type(t)"
   ]
  },
  {
   "cell_type": "code",
   "execution_count": 177,
   "id": "ece49097-07f6-432a-979e-152be971408e",
   "metadata": {},
   "outputs": [
    {
     "data": {
      "text/plain": [
       "tuple"
      ]
     },
     "execution_count": 177,
     "metadata": {},
     "output_type": "execute_result"
    }
   ],
   "source": [
    "t = (10,)\n",
    "type(t)"
   ]
  },
  {
   "cell_type": "code",
   "execution_count": 178,
   "id": "40b8e698-1b35-4610-b111-c93364b2c451",
   "metadata": {},
   "outputs": [
    {
     "data": {
      "text/plain": [
       "1"
      ]
     },
     "execution_count": 178,
     "metadata": {},
     "output_type": "execute_result"
    }
   ],
   "source": [
    "len(t)"
   ]
  },
  {
   "cell_type": "code",
   "execution_count": 174,
   "id": "2f52015a-c889-4e3e-86c0-d82e3d0aa5ce",
   "metadata": {},
   "outputs": [
    {
     "data": {
      "text/plain": [
       "tuple"
      ]
     },
     "execution_count": 174,
     "metadata": {},
     "output_type": "execute_result"
    }
   ],
   "source": [
    "t = ()\n",
    "type(t)"
   ]
  },
  {
   "cell_type": "code",
   "execution_count": 175,
   "id": "8cfb1442-3609-4c59-944e-f9e45b1c4818",
   "metadata": {},
   "outputs": [
    {
     "data": {
      "text/plain": [
       "14"
      ]
     },
     "execution_count": 175,
     "metadata": {},
     "output_type": "execute_result"
    }
   ],
   "source": [
    "2 + 3 * 4"
   ]
  },
  {
   "cell_type": "code",
   "execution_count": 176,
   "id": "9628eba8-07bc-4520-afed-8d21a7eb449f",
   "metadata": {},
   "outputs": [
    {
     "data": {
      "text/plain": [
       "20"
      ]
     },
     "execution_count": 176,
     "metadata": {},
     "output_type": "execute_result"
    }
   ],
   "source": [
    "(2 + 3) * 4"
   ]
  },
  {
   "cell_type": "code",
   "execution_count": 179,
   "id": "464a093f-f4af-4a6a-a7b5-124f43251617",
   "metadata": {},
   "outputs": [
    {
     "data": {
      "text/plain": [
       "(5, 5, 5, 5)"
      ]
     },
     "execution_count": 179,
     "metadata": {},
     "output_type": "execute_result"
    }
   ],
   "source": [
    "(2 + 3,) * 4"
   ]
  },
  {
   "cell_type": "code",
   "execution_count": 180,
   "id": "4c90db70-dc93-4f5f-a08f-dd21ceca784c",
   "metadata": {},
   "outputs": [
    {
     "data": {
      "text/plain": [
       "2"
      ]
     },
     "execution_count": 180,
     "metadata": {},
     "output_type": "execute_result"
    }
   ],
   "source": [
    "t = ([10, 20, 30],\n",
    "     [100, 200, 300])\n",
    "\n",
    "len(t)"
   ]
  },
  {
   "cell_type": "code",
   "execution_count": 181,
   "id": "10812d08-9114-47a9-a637-373c70c4cc63",
   "metadata": {},
   "outputs": [
    {
     "data": {
      "text/plain": [
       "([10, 20, 30, 40], [100, 200, 300])"
      ]
     },
     "execution_count": 181,
     "metadata": {},
     "output_type": "execute_result"
    }
   ],
   "source": [
    "t[0].append(40)\n",
    "t"
   ]
  },
  {
   "cell_type": "code",
   "execution_count": 182,
   "id": "e48eba30-05ca-4ddb-afc7-247658a9061b",
   "metadata": {},
   "outputs": [
    {
     "ename": "TypeError",
     "evalue": "'tuple' object does not support item assignment",
     "output_type": "error",
     "traceback": [
      "\u001b[0;31m---------------------------------------------------------------------------\u001b[0m",
      "\u001b[0;31mTypeError\u001b[0m                                 Traceback (most recent call last)",
      "\u001b[0;32m<ipython-input-182-2b735d214ecc>\u001b[0m in \u001b[0;36m<module>\u001b[0;34m\u001b[0m\n\u001b[0;32m----> 1\u001b[0;31m \u001b[0mt\u001b[0m\u001b[0;34m[\u001b[0m\u001b[0;36m0\u001b[0m\u001b[0;34m]\u001b[0m \u001b[0;34m+=\u001b[0m \u001b[0;34m[\u001b[0m\u001b[0;36m50\u001b[0m\u001b[0;34m,\u001b[0m \u001b[0;36m60\u001b[0m\u001b[0;34m,\u001b[0m \u001b[0;36m70\u001b[0m\u001b[0;34m]\u001b[0m\u001b[0;34m\u001b[0m\u001b[0;34m\u001b[0m\u001b[0m\n\u001b[0m",
      "\u001b[0;31mTypeError\u001b[0m: 'tuple' object does not support item assignment"
     ]
    }
   ],
   "source": [
    "t[0] += [50, 60, 70]"
   ]
  },
  {
   "cell_type": "code",
   "execution_count": 183,
   "id": "ecb21539-e2d2-4c60-bd51-722f64b73f87",
   "metadata": {},
   "outputs": [
    {
     "data": {
      "text/plain": [
       "([10, 20, 30, 40, 50, 60, 70], [100, 200, 300])"
      ]
     },
     "execution_count": 183,
     "metadata": {},
     "output_type": "execute_result"
    }
   ],
   "source": [
    "t"
   ]
  },
  {
   "cell_type": "code",
   "execution_count": 184,
   "id": "309b50bd-346c-43f9-9498-4d4c7b615bfd",
   "metadata": {},
   "outputs": [
    {
     "name": "stdout",
     "output_type": "stream",
     "text": [
      "None\n"
     ]
    }
   ],
   "source": [
    "mylist = [10, 20, 30]\n",
    "mylist = mylist.append(40)\n",
    "\n",
    "print(mylist)"
   ]
  },
  {
   "cell_type": "code",
   "execution_count": 185,
   "id": "089ae87b-b365-41be-b9bf-1280fd0270db",
   "metadata": {},
   "outputs": [],
   "source": [
    "mylist = [10, 20, 30]\n",
    "mylist.append(40)   "
   ]
  },
  {
   "cell_type": "markdown",
   "id": "585ddf8c-f7c3-43f1-8b11-a4e3a3a15577",
   "metadata": {},
   "source": [
    "# Exercise: `firstlast`\n",
    "\n",
    "Write a function, `firstlast`, that takes a sequence (string, list, tuple) and returns a new object of the same type, with only the first and last elements.\n",
    "\n",
    "Examples:\n",
    "\n",
    "    firstlast('abcd')                  # 'ad'\n",
    "    firstlast([10, 20, 30, 40, 50])    # [10, 50]\n",
    "    firstlast((10, 20))                # (10, 20)\n",
    "    firstlast('a')                     # 'aa'\n",
    "    "
   ]
  },
  {
   "cell_type": "code",
   "execution_count": 191,
   "id": "33276bf2-c583-4472-9d02-a045d0f88865",
   "metadata": {},
   "outputs": [
    {
     "name": "stdout",
     "output_type": "stream",
     "text": [
      "ad\n",
      "[10, 30]\n",
      "(100, 400)\n"
     ]
    }
   ],
   "source": [
    "def firstlast(seq):\n",
    "    return seq[:1] + seq[-1:]\n",
    "\n",
    "print(firstlast('abcd'))\n",
    "print(firstlast([10, 20, 30]))\n",
    "print(firstlast((100, 200, 300, 400)))"
   ]
  },
  {
   "cell_type": "code",
   "execution_count": 193,
   "id": "82c250a1-eb12-4f0a-9209-cbd025a78bce",
   "metadata": {},
   "outputs": [],
   "source": [
    "# tuple unpacking"
   ]
  },
  {
   "cell_type": "code",
   "execution_count": 194,
   "id": "9d677b3f-b73e-4ea5-943e-ed4fcabe0f30",
   "metadata": {},
   "outputs": [
    {
     "data": {
      "text/plain": [
       "[10, 20, 30]"
      ]
     },
     "execution_count": 194,
     "metadata": {},
     "output_type": "execute_result"
    }
   ],
   "source": [
    "mylist = [10, 20, 30]\n",
    "\n",
    "x = mylist\n",
    "\n",
    "x"
   ]
  },
  {
   "cell_type": "code",
   "execution_count": 195,
   "id": "c9afec0c-4070-4e54-b877-d7a09d9d88f8",
   "metadata": {},
   "outputs": [],
   "source": [
    "x,y,z = mylist   # unpacking"
   ]
  },
  {
   "cell_type": "code",
   "execution_count": 196,
   "id": "8ce8659d-57d3-40f6-ad2d-95d8c3963361",
   "metadata": {},
   "outputs": [
    {
     "data": {
      "text/plain": [
       "10"
      ]
     },
     "execution_count": 196,
     "metadata": {},
     "output_type": "execute_result"
    }
   ],
   "source": [
    "x"
   ]
  },
  {
   "cell_type": "code",
   "execution_count": 197,
   "id": "dd0f51b1-33ab-4a1c-b904-4ba50ab8dcd2",
   "metadata": {},
   "outputs": [
    {
     "data": {
      "text/plain": [
       "20"
      ]
     },
     "execution_count": 197,
     "metadata": {},
     "output_type": "execute_result"
    }
   ],
   "source": [
    "y"
   ]
  },
  {
   "cell_type": "code",
   "execution_count": 198,
   "id": "b2ed5aec-c73e-479b-8f36-27d62bf9520a",
   "metadata": {},
   "outputs": [
    {
     "data": {
      "text/plain": [
       "30"
      ]
     },
     "execution_count": 198,
     "metadata": {},
     "output_type": "execute_result"
    }
   ],
   "source": [
    "z"
   ]
  },
  {
   "cell_type": "code",
   "execution_count": 200,
   "id": "003ff605-5f2b-4afb-96c0-66455b79cbbd",
   "metadata": {},
   "outputs": [],
   "source": [
    "mylist = [10, 20, 30, 40, 50, 60, 70]\n",
    "\n",
    "x,y,*z = mylist"
   ]
  },
  {
   "cell_type": "code",
   "execution_count": 201,
   "id": "58c18402-af50-43b4-90a6-102a84d02afe",
   "metadata": {},
   "outputs": [
    {
     "data": {
      "text/plain": [
       "10"
      ]
     },
     "execution_count": 201,
     "metadata": {},
     "output_type": "execute_result"
    }
   ],
   "source": [
    "x"
   ]
  },
  {
   "cell_type": "code",
   "execution_count": 202,
   "id": "6f96c1b7-4da6-4162-be9f-1a7c1f72d281",
   "metadata": {},
   "outputs": [
    {
     "data": {
      "text/plain": [
       "20"
      ]
     },
     "execution_count": 202,
     "metadata": {},
     "output_type": "execute_result"
    }
   ],
   "source": [
    "y"
   ]
  },
  {
   "cell_type": "code",
   "execution_count": 203,
   "id": "85a11e8d-0d3b-4006-be6c-8e4be2b3214f",
   "metadata": {},
   "outputs": [
    {
     "data": {
      "text/plain": [
       "[30, 40, 50, 60, 70]"
      ]
     },
     "execution_count": 203,
     "metadata": {},
     "output_type": "execute_result"
    }
   ],
   "source": [
    "z"
   ]
  },
  {
   "cell_type": "code",
   "execution_count": 204,
   "id": "f68981e0-fd69-4406-a917-95dbfa9ea695",
   "metadata": {},
   "outputs": [],
   "source": [
    "x,*y,z = mylist"
   ]
  },
  {
   "cell_type": "code",
   "execution_count": 205,
   "id": "6ce1214d-e1b3-45e4-8787-41d6a400ac68",
   "metadata": {},
   "outputs": [
    {
     "data": {
      "text/plain": [
       "10"
      ]
     },
     "execution_count": 205,
     "metadata": {},
     "output_type": "execute_result"
    }
   ],
   "source": [
    "x"
   ]
  },
  {
   "cell_type": "code",
   "execution_count": 206,
   "id": "cf61b365-3400-41b7-a439-ffd236b9d085",
   "metadata": {},
   "outputs": [
    {
     "data": {
      "text/plain": [
       "[20, 30, 40, 50, 60]"
      ]
     },
     "execution_count": 206,
     "metadata": {},
     "output_type": "execute_result"
    }
   ],
   "source": [
    "y"
   ]
  },
  {
   "cell_type": "code",
   "execution_count": 207,
   "id": "fbf0b35f-1419-4a21-a44b-408992d209a6",
   "metadata": {},
   "outputs": [
    {
     "data": {
      "text/plain": [
       "70"
      ]
     },
     "execution_count": 207,
     "metadata": {},
     "output_type": "execute_result"
    }
   ],
   "source": [
    "z"
   ]
  },
  {
   "cell_type": "code",
   "execution_count": 208,
   "id": "6b5cbb4a-f804-4e76-8d8e-36445e8efc33",
   "metadata": {},
   "outputs": [],
   "source": [
    "x,*_,z = mylist"
   ]
  },
  {
   "cell_type": "code",
   "execution_count": 209,
   "id": "09d549c9-2b0e-4422-be20-1e05cd24aa86",
   "metadata": {},
   "outputs": [
    {
     "data": {
      "text/plain": [
       "[20, 30, 40, 50, 60]"
      ]
     },
     "execution_count": 209,
     "metadata": {},
     "output_type": "execute_result"
    }
   ],
   "source": [
    "_"
   ]
  },
  {
   "cell_type": "code",
   "execution_count": 210,
   "id": "4657d162-ba7c-4811-80f0-7d592af9ef7f",
   "metadata": {},
   "outputs": [],
   "source": [
    "x = 100\n",
    "y = 200\n",
    "\n",
    "x,y = y,x"
   ]
  },
  {
   "cell_type": "code",
   "execution_count": 211,
   "id": "80308f37-c607-41a0-979d-e296d45ab26b",
   "metadata": {},
   "outputs": [
    {
     "data": {
      "text/plain": [
       "200"
      ]
     },
     "execution_count": 211,
     "metadata": {},
     "output_type": "execute_result"
    }
   ],
   "source": [
    "x"
   ]
  },
  {
   "cell_type": "code",
   "execution_count": 212,
   "id": "bb4c627d-df93-4b0f-b523-c0ece75cc982",
   "metadata": {},
   "outputs": [
    {
     "data": {
      "text/plain": [
       "100"
      ]
     },
     "execution_count": 212,
     "metadata": {},
     "output_type": "execute_result"
    }
   ],
   "source": [
    "y"
   ]
  },
  {
   "cell_type": "code",
   "execution_count": 213,
   "id": "8e137815-3a66-4d0c-9af9-c72ca671d12b",
   "metadata": {},
   "outputs": [],
   "source": [
    "mylist = [10]\n",
    "\n",
    "x,*y = mylist"
   ]
  },
  {
   "cell_type": "code",
   "execution_count": 214,
   "id": "cec170b9-955e-4a24-bea7-3b2b73e75e23",
   "metadata": {},
   "outputs": [
    {
     "data": {
      "text/plain": [
       "10"
      ]
     },
     "execution_count": 214,
     "metadata": {},
     "output_type": "execute_result"
    }
   ],
   "source": [
    "x"
   ]
  },
  {
   "cell_type": "code",
   "execution_count": 215,
   "id": "5ce8c4c7-df86-4ee9-baa5-832c9349cf8c",
   "metadata": {},
   "outputs": [
    {
     "data": {
      "text/plain": [
       "[]"
      ]
     },
     "execution_count": 215,
     "metadata": {},
     "output_type": "execute_result"
    }
   ],
   "source": [
    "y"
   ]
  },
  {
   "cell_type": "code",
   "execution_count": 216,
   "id": "a9564775-7d49-4de5-9516-d4fafebf3b4b",
   "metadata": {},
   "outputs": [
    {
     "ename": "ValueError",
     "evalue": "not enough values to unpack (expected at least 2, got 1)",
     "output_type": "error",
     "traceback": [
      "\u001b[0;31m---------------------------------------------------------------------------\u001b[0m",
      "\u001b[0;31mValueError\u001b[0m                                Traceback (most recent call last)",
      "\u001b[0;32m<ipython-input-216-208b2b2b7d3c>\u001b[0m in \u001b[0;36m<module>\u001b[0;34m\u001b[0m\n\u001b[0;32m----> 1\u001b[0;31m \u001b[0mx\u001b[0m\u001b[0;34m,\u001b[0m\u001b[0;34m*\u001b[0m\u001b[0my\u001b[0m\u001b[0;34m,\u001b[0m\u001b[0mz\u001b[0m \u001b[0;34m=\u001b[0m \u001b[0mmylist\u001b[0m\u001b[0;34m\u001b[0m\u001b[0;34m\u001b[0m\u001b[0m\n\u001b[0m",
      "\u001b[0;31mValueError\u001b[0m: not enough values to unpack (expected at least 2, got 1)"
     ]
    }
   ],
   "source": [
    "x,*y,z = mylist"
   ]
  },
  {
   "cell_type": "code",
   "execution_count": 217,
   "id": "443c5d55-45d1-4dcd-b9c0-96a3760c654c",
   "metadata": {},
   "outputs": [
    {
     "data": {
      "text/plain": [
       "'Reuven'"
      ]
     },
     "execution_count": 217,
     "metadata": {},
     "output_type": "execute_result"
    }
   ],
   "source": [
    "p = ('Reuven', 'Lerner', 46)\n",
    "p[0]"
   ]
  },
  {
   "cell_type": "code",
   "execution_count": 218,
   "id": "ff207d53-90c6-46b2-9863-9ad92a2f5dc6",
   "metadata": {},
   "outputs": [
    {
     "data": {
      "text/plain": [
       "'Lerner'"
      ]
     },
     "execution_count": 218,
     "metadata": {},
     "output_type": "execute_result"
    }
   ],
   "source": [
    "p[1]\n",
    "\n"
   ]
  },
  {
   "cell_type": "code",
   "execution_count": 219,
   "id": "b7e8375f-78f7-4c00-a901-7448dbcdd15e",
   "metadata": {},
   "outputs": [
    {
     "data": {
      "text/plain": [
       "46"
      ]
     },
     "execution_count": 219,
     "metadata": {},
     "output_type": "execute_result"
    }
   ],
   "source": [
    "p[2]"
   ]
  },
  {
   "cell_type": "code",
   "execution_count": 220,
   "id": "0c8e56ca-9165-4a46-b358-326706ebfe01",
   "metadata": {},
   "outputs": [
    {
     "data": {
      "text/plain": [
       "Person(first='Reuven', last='Lerner', shoesize=46)"
      ]
     },
     "execution_count": 220,
     "metadata": {},
     "output_type": "execute_result"
    }
   ],
   "source": [
    "from collections import namedtuple\n",
    "\n",
    "Person = namedtuple('Person', ['first', 'last', 'shoesize'])\n",
    "p = Person('Reuven', 'Lerner', 46)\n",
    "p"
   ]
  },
  {
   "cell_type": "code",
   "execution_count": 222,
   "id": "7ad38386-acb2-4545-9aee-16684a6cb49f",
   "metadata": {},
   "outputs": [
    {
     "data": {
      "text/plain": [
       "'Reuven'"
      ]
     },
     "execution_count": 222,
     "metadata": {},
     "output_type": "execute_result"
    }
   ],
   "source": [
    "p[0]"
   ]
  },
  {
   "cell_type": "code",
   "execution_count": 223,
   "id": "d022cefd-5c7a-4899-9f70-0c757b48b50c",
   "metadata": {},
   "outputs": [
    {
     "data": {
      "text/plain": [
       "'Lerner'"
      ]
     },
     "execution_count": 223,
     "metadata": {},
     "output_type": "execute_result"
    }
   ],
   "source": [
    "p[1]"
   ]
  },
  {
   "cell_type": "code",
   "execution_count": 224,
   "id": "1c5c286b-0d2c-4391-8e00-0937d4804588",
   "metadata": {},
   "outputs": [
    {
     "data": {
      "text/plain": [
       "46"
      ]
     },
     "execution_count": 224,
     "metadata": {},
     "output_type": "execute_result"
    }
   ],
   "source": [
    "p[2]"
   ]
  },
  {
   "cell_type": "code",
   "execution_count": 225,
   "id": "3cf5a916-5afb-49f9-ba2d-d8f37c6be5a0",
   "metadata": {},
   "outputs": [
    {
     "data": {
      "text/plain": [
       "'Reuven'"
      ]
     },
     "execution_count": 225,
     "metadata": {},
     "output_type": "execute_result"
    }
   ],
   "source": [
    "p.first"
   ]
  },
  {
   "cell_type": "code",
   "execution_count": 226,
   "id": "6f53e2eb-c759-4b8c-a06a-73292a6d1acf",
   "metadata": {},
   "outputs": [
    {
     "data": {
      "text/plain": [
       "'Lerner'"
      ]
     },
     "execution_count": 226,
     "metadata": {},
     "output_type": "execute_result"
    }
   ],
   "source": [
    "p.last"
   ]
  },
  {
   "cell_type": "code",
   "execution_count": 227,
   "id": "07240ba5-a3ce-4735-917a-c62152449891",
   "metadata": {},
   "outputs": [
    {
     "data": {
      "text/plain": [
       "46"
      ]
     },
     "execution_count": 227,
     "metadata": {},
     "output_type": "execute_result"
    }
   ],
   "source": [
    "p.shoesize"
   ]
  },
  {
   "cell_type": "code",
   "execution_count": 228,
   "id": "5f299751-f258-4661-8712-bc5b7345b1e0",
   "metadata": {},
   "outputs": [
    {
     "ename": "AttributeError",
     "evalue": "can't set attribute",
     "output_type": "error",
     "traceback": [
      "\u001b[0;31m---------------------------------------------------------------------------\u001b[0m",
      "\u001b[0;31mAttributeError\u001b[0m                            Traceback (most recent call last)",
      "\u001b[0;32m<ipython-input-228-4e0b97346d6c>\u001b[0m in \u001b[0;36m<module>\u001b[0;34m\u001b[0m\n\u001b[0;32m----> 1\u001b[0;31m \u001b[0mp\u001b[0m\u001b[0;34m.\u001b[0m\u001b[0mfirst\u001b[0m \u001b[0;34m=\u001b[0m \u001b[0;34m'asdfsadf'\u001b[0m\u001b[0;34m\u001b[0m\u001b[0;34m\u001b[0m\u001b[0m\n\u001b[0m",
      "\u001b[0;31mAttributeError\u001b[0m: can't set attribute"
     ]
    }
   ],
   "source": [
    "p.first = 'asdfsadf'"
   ]
  },
  {
   "cell_type": "code",
   "execution_count": 230,
   "id": "ffb26a53-d390-44e1-b1d0-0ab2f5dfd8ff",
   "metadata": {},
   "outputs": [
    {
     "data": {
      "text/plain": [
       "896"
      ]
     },
     "execution_count": 230,
     "metadata": {},
     "output_type": "execute_result"
    }
   ],
   "source": [
    "getsizeof(Person)"
   ]
  },
  {
   "cell_type": "code",
   "execution_count": 231,
   "id": "135dcc0a-0e14-44a1-84f7-38c7c5419194",
   "metadata": {},
   "outputs": [
    {
     "data": {
      "text/plain": [
       "(tuple,)"
      ]
     },
     "execution_count": 231,
     "metadata": {},
     "output_type": "execute_result"
    }
   ],
   "source": [
    "Person.__bases__"
   ]
  },
  {
   "cell_type": "code",
   "execution_count": 232,
   "id": "e015ed5d-2937-464e-8194-df15df00c445",
   "metadata": {},
   "outputs": [
    {
     "data": {
      "text/plain": [
       "Person(first='asdfad', last='Lerner', shoesize=46)"
      ]
     },
     "execution_count": 232,
     "metadata": {},
     "output_type": "execute_result"
    }
   ],
   "source": [
    "p._replace(first='asdfad')"
   ]
  },
  {
   "cell_type": "code",
   "execution_count": 233,
   "id": "125d5c79-621e-40b1-b0ae-3caa2b621546",
   "metadata": {},
   "outputs": [
    {
     "data": {
      "text/plain": [
       "Person(first='Reuven', last='Lerner', shoesize=46)"
      ]
     },
     "execution_count": 233,
     "metadata": {},
     "output_type": "execute_result"
    }
   ],
   "source": [
    "p"
   ]
  },
  {
   "cell_type": "markdown",
   "id": "bc37e423-baab-4282-8145-c695b8f6f84e",
   "metadata": {},
   "source": [
    "# Exercise: Bookstore\n",
    "\n",
    "1. Create a `Book` class using `namedtuple`: `title`, `author`, `price`\n",
    "2. Create 3-4 instances of `Book`, and put them in a list, `inventory`.\n",
    "3. The user can ask for a book (by title). \n",
    "    - If we carry this book, we print its details and add the price to the total.\n",
    "    - If we *don't* carry it, then we tell the user.\n",
    "    - If the user enters an empty string, then we stop asking and print the total."
   ]
  },
  {
   "cell_type": "markdown",
   "id": "9d32683f-4faa-4b58-84cb-0bba960d8dc9",
   "metadata": {},
   "source": [
    "https://github.com/reuven/dfend-2021-12Dec-adv1\n",
    "\n",
    "https://github.com/reuven/\n"
   ]
  },
  {
   "cell_type": "code",
   "execution_count": 235,
   "id": "e44830c0-d0dd-4058-8695-03aaf65fc644",
   "metadata": {},
   "outputs": [
    {
     "name": "stdin",
     "output_type": "stream",
     "text": [
      "Enter title:  book2\n"
     ]
    },
    {
     "name": "stdout",
     "output_type": "stream",
     "text": [
      "Did not find book2\n"
     ]
    },
    {
     "name": "stdin",
     "output_type": "stream",
     "text": [
      "Enter title:  title1\n"
     ]
    },
    {
     "name": "stdout",
     "output_type": "stream",
     "text": [
      "Found Book(title='title1', author='author1', price=50)\n"
     ]
    },
    {
     "name": "stdin",
     "output_type": "stream",
     "text": [
      "Enter title:  \n"
     ]
    },
    {
     "name": "stdout",
     "output_type": "stream",
     "text": [
      "total=50\n"
     ]
    }
   ],
   "source": [
    "from collections import namedtuple\n",
    "\n",
    "Book = namedttwuple('Book', ['title', 'author', 'price'])\n",
    "\n",
    "b1 = Book('title1', 'author1', 50)\n",
    "b2 = Book('title2', 'author2', 50)\n",
    "b3 = Book('title3', 'author3', 50)\n",
    "b4 = Book('title4', 'author3', 100)\n",
    "\n",
    "inventory = [b1, b2, b3, b4]\n",
    "total = 0\n",
    "\n",
    "while True:\n",
    "    look_for = input('Enter title: ').strip()\n",
    "    \n",
    "    if not look_for:\n",
    "        break\n",
    "        \n",
    "    for one_book in inventory:\n",
    "        if look_for == one_book.title:\n",
    "            print(f'Found {one_book}')\n",
    "            total += one_book.price\n",
    "            break\n",
    "            \n",
    "    else:   # only run this if we did *NOT* get to a break\n",
    "        print(f'Did not find {look_for}')\n",
    "            \n",
    "print(f'{total=}')    \n",
    "\n"
   ]
  },
  {
   "cell_type": "markdown",
   "id": "fcb8bd3b-ac72-4387-a444-f4d84c3fa229",
   "metadata": {},
   "source": [
    "# Dicts\n",
    "\n",
    "- dict\n",
    "- set\n",
    "- `Counter`, `defaultdict`, `OrderedDict`\n",
    "- Functions"
   ]
  },
  {
   "cell_type": "code",
   "execution_count": 236,
   "id": "7c360e0b-ee49-4227-be54-92e36d41317e",
   "metadata": {},
   "outputs": [],
   "source": [
    "d = {'a':1, 'b':2, 'c':3}"
   ]
  },
  {
   "cell_type": "code",
   "execution_count": 237,
   "id": "162c9f4b-c939-4087-80a7-a08c4f3db8ab",
   "metadata": {},
   "outputs": [
    {
     "data": {
      "text/plain": [
       "1"
      ]
     },
     "execution_count": 237,
     "metadata": {},
     "output_type": "execute_result"
    }
   ],
   "source": [
    "d['a']"
   ]
  },
  {
   "cell_type": "code",
   "execution_count": 238,
   "id": "d4f98b69-1a05-4596-8911-ce07030a2cb3",
   "metadata": {},
   "outputs": [],
   "source": [
    "d['a'] = 10"
   ]
  },
  {
   "cell_type": "code",
   "execution_count": 239,
   "id": "469fda19-c2e3-4384-8883-e174110534ee",
   "metadata": {},
   "outputs": [
    {
     "data": {
      "text/plain": [
       "True"
      ]
     },
     "execution_count": 239,
     "metadata": {},
     "output_type": "execute_result"
    }
   ],
   "source": [
    "'a' in d"
   ]
  },
  {
   "cell_type": "code",
   "execution_count": 240,
   "id": "ad006c0f-09b4-43ac-851f-5e05f3965ecd",
   "metadata": {},
   "outputs": [
    {
     "data": {
      "text/plain": [
       "False"
      ]
     },
     "execution_count": 240,
     "metadata": {},
     "output_type": "execute_result"
    }
   ],
   "source": [
    "'q' in d"
   ]
  },
  {
   "cell_type": "code",
   "execution_count": 241,
   "id": "6b0b6562-3923-44d5-9b5f-7054971d8dfa",
   "metadata": {},
   "outputs": [],
   "source": [
    "# Until 3.6\n",
    "\n",
    "d = {}\n",
    "d['a'] = 10"
   ]
  },
  {
   "cell_type": "code",
   "execution_count": 242,
   "id": "6a0be20b-8739-402a-af0f-fb777105e06a",
   "metadata": {},
   "outputs": [
    {
     "data": {
      "text/plain": [
       "-606342460740202124"
      ]
     },
     "execution_count": 242,
     "metadata": {},
     "output_type": "execute_result"
    }
   ],
   "source": [
    "hash('a')"
   ]
  },
  {
   "cell_type": "code",
   "execution_count": 243,
   "id": "aed5ebbb-eacf-4a59-a705-e12adca3f3da",
   "metadata": {},
   "outputs": [
    {
     "data": {
      "text/plain": [
       "4"
      ]
     },
     "execution_count": 243,
     "metadata": {},
     "output_type": "execute_result"
    }
   ],
   "source": [
    "hash('a') % 8"
   ]
  },
  {
   "cell_type": "code",
   "execution_count": 244,
   "id": "1b4b5728-a2c1-435a-a904-a06391b2fa05",
   "metadata": {},
   "outputs": [
    {
     "data": {
      "text/plain": [
       "1"
      ]
     },
     "execution_count": 244,
     "metadata": {},
     "output_type": "execute_result"
    }
   ],
   "source": [
    "d['b'] = 20\n",
    "hash('b') % 8"
   ]
  },
  {
   "cell_type": "code",
   "execution_count": 245,
   "id": "c465aeac-fd89-4894-9341-4df76dfc9b7e",
   "metadata": {},
   "outputs": [
    {
     "data": {
      "text/plain": [
       "0"
      ]
     },
     "execution_count": 245,
     "metadata": {},
     "output_type": "execute_result"
    }
   ],
   "source": [
    "d['c'] = 30\n",
    "hash('c') % 8"
   ]
  },
  {
   "cell_type": "code",
   "execution_count": 246,
   "id": "a3b8a293-c764-4575-86b0-8f810f62d8ae",
   "metadata": {},
   "outputs": [],
   "source": [
    "d = {}"
   ]
  },
  {
   "cell_type": "code",
   "execution_count": 248,
   "id": "5221d02f-ef90-45ef-9a69-8f3ca6931258",
   "metadata": {},
   "outputs": [],
   "source": [
    "d['a'] = 10"
   ]
  },
  {
   "cell_type": "code",
   "execution_count": 249,
   "id": "133407d9-94cc-4696-af13-a634079c8adc",
   "metadata": {},
   "outputs": [
    {
     "data": {
      "text/plain": [
       "4"
      ]
     },
     "execution_count": 249,
     "metadata": {},
     "output_type": "execute_result"
    }
   ],
   "source": [
    "hash('a') % 8"
   ]
  },
  {
   "cell_type": "code",
   "execution_count": 250,
   "id": "ba001648-aebd-457a-a8b2-a8e462cfcc8b",
   "metadata": {},
   "outputs": [
    {
     "data": {
      "text/plain": [
       "1"
      ]
     },
     "execution_count": 250,
     "metadata": {},
     "output_type": "execute_result"
    }
   ],
   "source": [
    "d['b'] = 20\n",
    "hash('b') % 8"
   ]
  },
  {
   "cell_type": "code",
   "execution_count": 251,
   "id": "c8179310-0a65-4389-92ea-d867c14be1f7",
   "metadata": {},
   "outputs": [
    {
     "data": {
      "text/plain": [
       "0"
      ]
     },
     "execution_count": 251,
     "metadata": {},
     "output_type": "execute_result"
    }
   ],
   "source": [
    "d['c'] = 30\n",
    "hash('c') % 8"
   ]
  },
  {
   "cell_type": "code",
   "execution_count": 252,
   "id": "14f17a2d-f6f5-4b23-bb34-6aaf78527212",
   "metadata": {},
   "outputs": [
    {
     "name": "stdout",
     "output_type": "stream",
     "text": [
      "a: 10\n",
      "b: 20\n",
      "c: 30\n"
     ]
    }
   ],
   "source": [
    "for key, value in d.items():\n",
    "    print(f'{key}: {value}')"
   ]
  },
  {
   "cell_type": "code",
   "execution_count": 253,
   "id": "3def3565-af3b-42c4-a42b-fe42e2b0a203",
   "metadata": {},
   "outputs": [
    {
     "name": "stdout",
     "output_type": "stream",
     "text": [
      "b: 20\n",
      "a: 10\n",
      "d: 40\n",
      "c: 30\n"
     ]
    }
   ],
   "source": [
    "d = {'b':20, 'a':10, 'd':40, 'c':30}\n",
    "\n",
    "for key, value in d.items():\n",
    "    print(f'{key}: {value}')"
   ]
  },
  {
   "cell_type": "code",
   "execution_count": 254,
   "id": "32be08d5-3ea0-4887-ab0c-3ed364a5c770",
   "metadata": {},
   "outputs": [
    {
     "data": {
      "text/plain": [
       "{'b': 20, 'a': 10, 'd': 40, 'c': 99}"
      ]
     },
     "execution_count": 254,
     "metadata": {},
     "output_type": "execute_result"
    }
   ],
   "source": [
    "d.pop('c')\n",
    "\n",
    "d['c'] = 99\n",
    "\n",
    "d"
   ]
  },
  {
   "cell_type": "code",
   "execution_count": 255,
   "id": "95f405bd-11ac-46af-85cc-8cd0bbe7ef1b",
   "metadata": {},
   "outputs": [
    {
     "data": {
      "text/plain": [
       "{'b': 20, 'a': 10, 'd': 40, 'c': 99}"
      ]
     },
     "execution_count": 255,
     "metadata": {},
     "output_type": "execute_result"
    }
   ],
   "source": [
    "d"
   ]
  },
  {
   "cell_type": "code",
   "execution_count": 256,
   "id": "88ce23fe-cc99-430c-8ddc-ae9639874370",
   "metadata": {},
   "outputs": [
    {
     "data": {
      "text/plain": [
       "10"
      ]
     },
     "execution_count": 256,
     "metadata": {},
     "output_type": "execute_result"
    }
   ],
   "source": [
    "d['a']"
   ]
  },
  {
   "cell_type": "code",
   "execution_count": 257,
   "id": "646453b4-c3a6-4ae4-a0e9-86b579e41fa8",
   "metadata": {},
   "outputs": [
    {
     "ename": "KeyError",
     "evalue": "'x'",
     "output_type": "error",
     "traceback": [
      "\u001b[0;31m---------------------------------------------------------------------------\u001b[0m",
      "\u001b[0;31mKeyError\u001b[0m                                  Traceback (most recent call last)",
      "\u001b[0;32m<ipython-input-257-7657742692bd>\u001b[0m in \u001b[0;36m<module>\u001b[0;34m\u001b[0m\n\u001b[0;32m----> 1\u001b[0;31m \u001b[0md\u001b[0m\u001b[0;34m[\u001b[0m\u001b[0;34m'x'\u001b[0m\u001b[0;34m]\u001b[0m\u001b[0;34m\u001b[0m\u001b[0;34m\u001b[0m\u001b[0m\n\u001b[0m",
      "\u001b[0;31mKeyError\u001b[0m: 'x'"
     ]
    }
   ],
   "source": [
    "d['x']"
   ]
  },
  {
   "cell_type": "code",
   "execution_count": 258,
   "id": "f2202e59-79f8-4e92-924c-507bf79ee702",
   "metadata": {},
   "outputs": [
    {
     "data": {
      "text/plain": [
       "10"
      ]
     },
     "execution_count": 258,
     "metadata": {},
     "output_type": "execute_result"
    }
   ],
   "source": [
    "d.get('a')   # either get d['a'] (if it exists) or None"
   ]
  },
  {
   "cell_type": "code",
   "execution_count": 259,
   "id": "ebd5c81f-affa-4a19-bd62-f2132e20e4eb",
   "metadata": {},
   "outputs": [],
   "source": [
    "d.get('x')"
   ]
  },
  {
   "cell_type": "code",
   "execution_count": 260,
   "id": "6f1985c9-63d9-4979-a4c9-5b1d8cb5a937",
   "metadata": {},
   "outputs": [
    {
     "data": {
      "text/plain": [
       "'No such key x'"
      ]
     },
     "execution_count": 260,
     "metadata": {},
     "output_type": "execute_result"
    }
   ],
   "source": [
    "d.get('x', 'No such key x')"
   ]
  },
  {
   "cell_type": "code",
   "execution_count": 262,
   "id": "acf0e2aa-a9fd-408d-bfdd-4dcf24c1ef78",
   "metadata": {},
   "outputs": [
    {
     "name": "stdout",
     "output_type": "stream",
     "text": [
      "No such key x\n"
     ]
    }
   ],
   "source": [
    "if 'x' in d:\n",
    "    print(d['x'])\n",
    "else:\n",
    "    print('No such key x')"
   ]
  },
  {
   "cell_type": "code",
   "execution_count": 263,
   "id": "371251fd-8e23-42a3-b14e-5e43d00fe405",
   "metadata": {},
   "outputs": [
    {
     "data": {
      "text/plain": [
       "dict_keys(['b', 'a', 'd', 'c'])"
      ]
     },
     "execution_count": 263,
     "metadata": {},
     "output_type": "execute_result"
    }
   ],
   "source": [
    "d.keys()"
   ]
  },
  {
   "cell_type": "code",
   "execution_count": 264,
   "id": "5a2e817d-5717-4749-b657-d8f0f2e37493",
   "metadata": {},
   "outputs": [
    {
     "data": {
      "text/plain": [
       "dict_values([20, 10, 40, 99])"
      ]
     },
     "execution_count": 264,
     "metadata": {},
     "output_type": "execute_result"
    }
   ],
   "source": [
    "d.values()"
   ]
  },
  {
   "cell_type": "code",
   "execution_count": 265,
   "id": "22b9dbf6-8e1d-4f72-abf5-00d7bf0d36bc",
   "metadata": {},
   "outputs": [
    {
     "data": {
      "text/plain": [
       "dict_items([('b', 20), ('a', 10), ('d', 40), ('c', 99)])"
      ]
     },
     "execution_count": 265,
     "metadata": {},
     "output_type": "execute_result"
    }
   ],
   "source": [
    "d.items()"
   ]
  },
  {
   "cell_type": "code",
   "execution_count": 267,
   "id": "73f7ade5-eeee-4ac4-b13c-70ef74bedb95",
   "metadata": {},
   "outputs": [
    {
     "name": "stdout",
     "output_type": "stream",
     "text": [
      "('b', 20)\n",
      "('a', 10)\n",
      "('d', 40)\n",
      "('c', 99)\n"
     ]
    }
   ],
   "source": [
    "for t in d.items():\n",
    "    print(t)"
   ]
  },
  {
   "cell_type": "code",
   "execution_count": 268,
   "id": "121fdb4e-24cf-4e5c-bcb0-c758ab8dc3bb",
   "metadata": {},
   "outputs": [
    {
     "name": "stdout",
     "output_type": "stream",
     "text": [
      "b: 20\n",
      "a: 10\n",
      "d: 40\n",
      "c: 99\n"
     ]
    }
   ],
   "source": [
    "for key, value in d.items():\n",
    "    print(f'{key}: {value}')"
   ]
  },
  {
   "cell_type": "code",
   "execution_count": 269,
   "id": "7b76cdbd-d489-446f-af04-2ee07a32bcc9",
   "metadata": {},
   "outputs": [
    {
     "data": {
      "text/plain": [
       "{'b': 20, 'a': 10, 'd': 40, 'c': 99}"
      ]
     },
     "execution_count": 269,
     "metadata": {},
     "output_type": "execute_result"
    }
   ],
   "source": [
    "d"
   ]
  },
  {
   "cell_type": "code",
   "execution_count": 270,
   "id": "e087c26c-4a96-4086-90e4-c4c383d318fe",
   "metadata": {},
   "outputs": [
    {
     "data": {
      "text/plain": [
       "100"
      ]
     },
     "execution_count": 270,
     "metadata": {},
     "output_type": "execute_result"
    }
   ],
   "source": [
    "d.setdefault('x', 100)"
   ]
  },
  {
   "cell_type": "code",
   "execution_count": 271,
   "id": "274bd9b6-6065-4c49-8cd7-8a07aa0baf84",
   "metadata": {},
   "outputs": [
    {
     "data": {
      "text/plain": [
       "{'b': 20, 'a': 10, 'd': 40, 'c': 99, 'x': 100}"
      ]
     },
     "execution_count": 271,
     "metadata": {},
     "output_type": "execute_result"
    }
   ],
   "source": [
    "d"
   ]
  },
  {
   "cell_type": "code",
   "execution_count": 272,
   "id": "c6c4ab45-a837-4208-b414-4ce7b3eca162",
   "metadata": {},
   "outputs": [
    {
     "data": {
      "text/plain": [
       "100"
      ]
     },
     "execution_count": 272,
     "metadata": {},
     "output_type": "execute_result"
    }
   ],
   "source": [
    "d.setdefault('x', 50)"
   ]
  },
  {
   "cell_type": "code",
   "execution_count": 273,
   "id": "99a8c1dc-05ac-4a2c-a603-09d343da6a80",
   "metadata": {},
   "outputs": [
    {
     "data": {
      "text/plain": [
       "{'b': 20, 'a': 10, 'd': 40, 'c': 99, 'x': 100}"
      ]
     },
     "execution_count": 273,
     "metadata": {},
     "output_type": "execute_result"
    }
   ],
   "source": [
    "d"
   ]
  },
  {
   "cell_type": "code",
   "execution_count": 274,
   "id": "01d8ba67-5069-41d4-b66c-b94336a83922",
   "metadata": {},
   "outputs": [
    {
     "name": "stdout",
     "output_type": "stream",
     "text": [
      "No, it still has the old value\n"
     ]
    }
   ],
   "source": [
    "new_value = d.setdefault('x', 50)\n",
    "\n",
    "if new_value == 50:\n",
    "    print('I set it!')\n",
    "else:\n",
    "    print('No, it still has the old value')"
   ]
  },
  {
   "cell_type": "markdown",
   "id": "b33c07d8-eeed-47ba-bd2c-28f9e2c70280",
   "metadata": {},
   "source": [
    "# Exercise: Rainfall\n",
    "\n",
    "1. Define `rainfall`, an empty dict.  Cities (strings) will be the keys, and ints will be the values.\n",
    "2. Ask the user, repeatedly, to enter a city name.\n",
    "3. If they give us an empty string, print all cities + rain amounts from the dict. And then exit.\n",
    "4. If they give us a non-empty city name, ask how much rain fell there.\n",
    "5. Add the amount of rain for that city.\n",
    "\n",
    "Example:\n",
    "\n",
    "    City: Tel Aviv\n",
    "    Rain: 5\n",
    "    City: Jerusalem\n",
    "    Rain: 3\n",
    "    City: Tel Aviv\n",
    "    Rain: 2\n",
    "    City: [ENTER]\n",
    "    Tel Aviv: 7\n",
    "    Jerusalem 3\n",
    "    \n",
    "    "
   ]
  },
  {
   "cell_type": "code",
   "execution_count": 279,
   "id": "b0832cbc-a081-4492-8d8b-b1a2439a71b1",
   "metadata": {},
   "outputs": [
    {
     "name": "stdin",
     "output_type": "stream",
     "text": [
      "City:  a\n",
      "Rain:  b\n"
     ]
    },
    {
     "name": "stdout",
     "output_type": "stream",
     "text": [
      "b is not numeric\n"
     ]
    },
    {
     "name": "stdin",
     "output_type": "stream",
     "text": [
      "City:  \n"
     ]
    }
   ],
   "source": [
    "rainfall = {}\n",
    "\n",
    "while True:\n",
    "    city_name = input('City: ').strip()\n",
    "    \n",
    "    if not city_name:   # empty string? exit\n",
    "        break\n",
    "        \n",
    "    mm_rain = input('Rain: ').strip()\n",
    "\n",
    "    if mm_rain.isdigit():\n",
    "        rainfall[city_name] = rainfall.get(city_name, 0) + int(mm_rain)\n",
    "    else:\n",
    "        print(f'{mm_rain} is not numeric')\n",
    "    \n",
    "for key, value in rainfall.items():\n",
    "    print(f'{key}: {value}')"
   ]
  },
  {
   "cell_type": "code",
   "execution_count": 280,
   "id": "f73e73df-7056-483d-8379-0adf97bcdd34",
   "metadata": {},
   "outputs": [
    {
     "data": {
      "text/plain": [
       "{'a': 1, 'b': 20, 'c': 30, 'd': 40}"
      ]
     },
     "execution_count": 280,
     "metadata": {},
     "output_type": "execute_result"
    }
   ],
   "source": [
    "d = {'a':1, 'b':2, 'c':3}\n",
    "\n",
    "other = {'b':20, 'c':30, 'd':40}\n",
    "\n",
    "d.update(other)   \n",
    "\n",
    "d"
   ]
  },
  {
   "cell_type": "code",
   "execution_count": 281,
   "id": "5a6b0888-21c6-46a8-92bb-f611849422aa",
   "metadata": {},
   "outputs": [
    {
     "data": {
      "text/plain": [
       "{'a': 1, 'b': 20, 'c': 30, 'd': 40}"
      ]
     },
     "execution_count": 281,
     "metadata": {},
     "output_type": "execute_result"
    }
   ],
   "source": [
    "d = {'a':1, 'b':2, 'c':3}\n",
    "\n",
    "other = {'b':20, 'c':30, 'd':40}\n",
    "\n",
    "# starting with 3.9, we can use |\n",
    "\n",
    "d | other   # gives me a new dict back"
   ]
  },
  {
   "cell_type": "code",
   "execution_count": 284,
   "id": "02d875b4-4c5a-42af-bf95-dce8f1f9c5e6",
   "metadata": {},
   "outputs": [
    {
     "ename": "TypeError",
     "evalue": "unsupported operand type(s) for ^: 'dict' and 'dict'",
     "output_type": "error",
     "traceback": [
      "\u001b[0;31m---------------------------------------------------------------------------\u001b[0m",
      "\u001b[0;31mTypeError\u001b[0m                                 Traceback (most recent call last)",
      "\u001b[0;32m<ipython-input-284-a90c0629c2fc>\u001b[0m in \u001b[0;36m<module>\u001b[0;34m\u001b[0m\n\u001b[0;32m----> 1\u001b[0;31m \u001b[0md\u001b[0m \u001b[0;34m^\u001b[0m \u001b[0mother\u001b[0m\u001b[0;34m\u001b[0m\u001b[0;34m\u001b[0m\u001b[0m\n\u001b[0m",
      "\u001b[0;31mTypeError\u001b[0m: unsupported operand type(s) for ^: 'dict' and 'dict'"
     ]
    }
   ],
   "source": [
    "d ^ other"
   ]
  },
  {
   "cell_type": "code",
   "execution_count": 285,
   "id": "06e9b7dc-fb31-44c7-b446-b62a0522b533",
   "metadata": {},
   "outputs": [
    {
     "data": {
      "text/plain": [
       "{10, 20, 30, 40, 50}"
      ]
     },
     "execution_count": 285,
     "metadata": {},
     "output_type": "execute_result"
    }
   ],
   "source": [
    "# sets\n",
    "\n",
    "s = {10, 20, 30, 40, 20, 30, 40, 20, 30, 40, 50}\n",
    "s"
   ]
  },
  {
   "cell_type": "code",
   "execution_count": 286,
   "id": "7f934036-ccc7-4a62-b43e-cefc554aff8d",
   "metadata": {},
   "outputs": [
    {
     "data": {
      "text/plain": [
       "set"
      ]
     },
     "execution_count": 286,
     "metadata": {},
     "output_type": "execute_result"
    }
   ],
   "source": [
    "type(s)"
   ]
  },
  {
   "cell_type": "code",
   "execution_count": 287,
   "id": "90f6191a-fdd6-4b3c-8a09-17ff689936ca",
   "metadata": {},
   "outputs": [
    {
     "ename": "TypeError",
     "evalue": "unhashable type: 'list'",
     "output_type": "error",
     "traceback": [
      "\u001b[0;31m---------------------------------------------------------------------------\u001b[0m",
      "\u001b[0;31mTypeError\u001b[0m                                 Traceback (most recent call last)",
      "\u001b[0;32m<ipython-input-287-432d8c226abb>\u001b[0m in \u001b[0;36m<module>\u001b[0;34m\u001b[0m\n\u001b[1;32m      1\u001b[0m \u001b[0mmylist\u001b[0m \u001b[0;34m=\u001b[0m \u001b[0;34m[\u001b[0m\u001b[0;36m10\u001b[0m\u001b[0;34m,\u001b[0m \u001b[0;36m20\u001b[0m\u001b[0;34m,\u001b[0m \u001b[0;36m30\u001b[0m\u001b[0;34m]\u001b[0m\u001b[0;34m\u001b[0m\u001b[0;34m\u001b[0m\u001b[0m\n\u001b[0;32m----> 2\u001b[0;31m \u001b[0md\u001b[0m\u001b[0;34m[\u001b[0m\u001b[0mmylist\u001b[0m\u001b[0;34m]\u001b[0m \u001b[0;34m=\u001b[0m \u001b[0;36m100\u001b[0m\u001b[0;34m\u001b[0m\u001b[0;34m\u001b[0m\u001b[0m\n\u001b[0m",
      "\u001b[0;31mTypeError\u001b[0m: unhashable type: 'list'"
     ]
    }
   ],
   "source": [
    "mylist = [10, 20, 30]\n",
    "d[mylist] = 100"
   ]
  },
  {
   "cell_type": "code",
   "execution_count": 288,
   "id": "e09a71b5-fd3d-4bd4-89d2-8f90b7d96dd6",
   "metadata": {},
   "outputs": [
    {
     "data": {
      "text/plain": [
       "{10, 20, 30, 40, 50}"
      ]
     },
     "execution_count": 288,
     "metadata": {},
     "output_type": "execute_result"
    }
   ],
   "source": [
    "s"
   ]
  },
  {
   "cell_type": "code",
   "execution_count": 289,
   "id": "466c8ea3-3658-49f9-9e5a-d55481c9bc5e",
   "metadata": {},
   "outputs": [
    {
     "data": {
      "text/plain": [
       "{10, 20, 30, 40, 50}"
      ]
     },
     "execution_count": 289,
     "metadata": {},
     "output_type": "execute_result"
    }
   ],
   "source": [
    "s.add(40)\n",
    "s"
   ]
  },
  {
   "cell_type": "code",
   "execution_count": 290,
   "id": "1b7a0b1c-3322-4d2c-b77a-2719181597ce",
   "metadata": {},
   "outputs": [
    {
     "data": {
      "text/plain": [
       "{10, 20, 30, 50}"
      ]
     },
     "execution_count": 290,
     "metadata": {},
     "output_type": "execute_result"
    }
   ],
   "source": [
    "s.remove(40)\n",
    "s"
   ]
  },
  {
   "cell_type": "code",
   "execution_count": 291,
   "id": "92f0fc2f-50a2-4e46-be7d-986c49696451",
   "metadata": {},
   "outputs": [
    {
     "data": {
      "text/plain": [
       "dict"
      ]
     },
     "execution_count": 291,
     "metadata": {},
     "output_type": "execute_result"
    }
   ],
   "source": [
    "s = {}\n",
    "type(s)\n"
   ]
  },
  {
   "cell_type": "code",
   "execution_count": 292,
   "id": "42c6b9b3-3515-48bb-9848-7f0e920624b6",
   "metadata": {},
   "outputs": [
    {
     "data": {
      "text/plain": [
       "set"
      ]
     },
     "execution_count": 292,
     "metadata": {},
     "output_type": "execute_result"
    }
   ],
   "source": [
    "s = set()  # now it's an empty set\n",
    "type(s)"
   ]
  },
  {
   "cell_type": "code",
   "execution_count": 293,
   "id": "421c970f-834f-4e32-9792-0c70848bb5c0",
   "metadata": {},
   "outputs": [],
   "source": [
    "s1 = {10, 20, 30, 40}\n",
    "s2 = {30, 40, 50, 60}\n",
    "s3 = {10, 20}"
   ]
  },
  {
   "cell_type": "code",
   "execution_count": 294,
   "id": "97c85fbb-d333-4e67-b52f-7c9b331a9c13",
   "metadata": {},
   "outputs": [
    {
     "data": {
      "text/plain": [
       "{30, 40}"
      ]
     },
     "execution_count": 294,
     "metadata": {},
     "output_type": "execute_result"
    }
   ],
   "source": [
    "s1 & s2"
   ]
  },
  {
   "cell_type": "code",
   "execution_count": 295,
   "id": "9f189c33-19d9-4258-85d1-2c1b36f87cba",
   "metadata": {},
   "outputs": [
    {
     "data": {
      "text/plain": [
       "{10, 20, 30, 40, 50, 60}"
      ]
     },
     "execution_count": 295,
     "metadata": {},
     "output_type": "execute_result"
    }
   ],
   "source": [
    "s1 | s2"
   ]
  },
  {
   "cell_type": "code",
   "execution_count": 297,
   "id": "682ee741-6301-4eed-9b2c-e745378c225b",
   "metadata": {},
   "outputs": [
    {
     "data": {
      "text/plain": [
       "{10, 20, 50, 60}"
      ]
     },
     "execution_count": 297,
     "metadata": {},
     "output_type": "execute_result"
    }
   ],
   "source": [
    "s1 ^ s2   # symmetric difference"
   ]
  },
  {
   "cell_type": "code",
   "execution_count": 298,
   "id": "5695433b-bfcd-44d7-8bb7-cd789390592f",
   "metadata": {},
   "outputs": [
    {
     "data": {
      "text/plain": [
       "{10, 20}"
      ]
     },
     "execution_count": 298,
     "metadata": {},
     "output_type": "execute_result"
    }
   ],
   "source": [
    "s1 - s2"
   ]
  },
  {
   "cell_type": "code",
   "execution_count": 299,
   "id": "5803a382-8458-4be9-a7b0-d32620f5ed2d",
   "metadata": {},
   "outputs": [
    {
     "data": {
      "text/plain": [
       "{50, 60}"
      ]
     },
     "execution_count": 299,
     "metadata": {},
     "output_type": "execute_result"
    }
   ],
   "source": [
    "s2 - s1 "
   ]
  },
  {
   "cell_type": "code",
   "execution_count": 300,
   "id": "8a69cd7b-3882-4067-bdce-698d598f3037",
   "metadata": {},
   "outputs": [
    {
     "data": {
      "text/plain": [
       "True"
      ]
     },
     "execution_count": 300,
     "metadata": {},
     "output_type": "execute_result"
    }
   ],
   "source": [
    "s3 < s1   # subset?"
   ]
  },
  {
   "cell_type": "code",
   "execution_count": 301,
   "id": "215eab06-2d9b-4faa-970a-987bd8af01c8",
   "metadata": {},
   "outputs": [
    {
     "data": {
      "text/plain": [
       "False"
      ]
     },
     "execution_count": 301,
     "metadata": {},
     "output_type": "execute_result"
    }
   ],
   "source": [
    "s1 < s1"
   ]
  },
  {
   "cell_type": "code",
   "execution_count": 302,
   "id": "0cc42f53-5340-4117-96a7-a08e4f8398bb",
   "metadata": {},
   "outputs": [
    {
     "data": {
      "text/plain": [
       "True"
      ]
     },
     "execution_count": 302,
     "metadata": {},
     "output_type": "execute_result"
    }
   ],
   "source": [
    "s1 <= s1"
   ]
  },
  {
   "cell_type": "code",
   "execution_count": 303,
   "id": "6e80308b-dcb9-44e3-91a9-79972ab55575",
   "metadata": {},
   "outputs": [
    {
     "data": {
      "text/plain": [
       "{10, 20, 30, 40}"
      ]
     },
     "execution_count": 303,
     "metadata": {},
     "output_type": "execute_result"
    }
   ],
   "source": [
    "set([10, 20, 30, 20, 30, 40, 20, 30, 40])"
   ]
  },
  {
   "cell_type": "code",
   "execution_count": 304,
   "id": "bf93e534-6565-4ede-b222-0ff2863a1dcd",
   "metadata": {},
   "outputs": [
    {
     "data": {
      "text/plain": [
       "set()"
      ]
     },
     "execution_count": 304,
     "metadata": {},
     "output_type": "execute_result"
    }
   ],
   "source": [
    "s "
   ]
  },
  {
   "cell_type": "code",
   "execution_count": 306,
   "id": "07e474e6-a677-45b4-8aa3-1f0ccfa09739",
   "metadata": {},
   "outputs": [],
   "source": [
    "s = {10, 20, 30, 40}\n",
    "\n",
    "s.add(20)"
   ]
  },
  {
   "cell_type": "code",
   "execution_count": 307,
   "id": "44bfcc84-68a0-4f31-b9d2-1d5e7d98da45",
   "metadata": {},
   "outputs": [
    {
     "ename": "KeyError",
     "evalue": "'c'",
     "output_type": "error",
     "traceback": [
      "\u001b[0;31m---------------------------------------------------------------------------\u001b[0m",
      "\u001b[0;31mKeyError\u001b[0m                                  Traceback (most recent call last)",
      "\u001b[0;32m<ipython-input-307-1557ace59404>\u001b[0m in \u001b[0;36m<module>\u001b[0;34m\u001b[0m\n\u001b[1;32m      2\u001b[0m \u001b[0;34m\u001b[0m\u001b[0m\n\u001b[1;32m      3\u001b[0m \u001b[0md\u001b[0m \u001b[0;34m=\u001b[0m \u001b[0;34m{\u001b[0m\u001b[0;34m'a'\u001b[0m\u001b[0;34m:\u001b[0m\u001b[0;36m1\u001b[0m\u001b[0;34m,\u001b[0m \u001b[0;34m'b'\u001b[0m\u001b[0;34m:\u001b[0m\u001b[0;36m2\u001b[0m\u001b[0;34m}\u001b[0m\u001b[0;34m\u001b[0m\u001b[0;34m\u001b[0m\u001b[0m\n\u001b[0;32m----> 4\u001b[0;31m \u001b[0md\u001b[0m\u001b[0;34m[\u001b[0m\u001b[0;34m'c'\u001b[0m\u001b[0;34m]\u001b[0m\u001b[0;34m\u001b[0m\u001b[0;34m\u001b[0m\u001b[0m\n\u001b[0m",
      "\u001b[0;31mKeyError\u001b[0m: 'c'"
     ]
    }
   ],
   "source": [
    "# defaultdict\n",
    "\n",
    "d = {'a':1, 'b':2}\n",
    "d['c']"
   ]
  },
  {
   "cell_type": "code",
   "execution_count": 308,
   "id": "242ec778-b8c7-45db-9686-2f182682f3a3",
   "metadata": {},
   "outputs": [
    {
     "ename": "TypeError",
     "evalue": "first argument must be callable or None",
     "output_type": "error",
     "traceback": [
      "\u001b[0;31m---------------------------------------------------------------------------\u001b[0m",
      "\u001b[0;31mTypeError\u001b[0m                                 Traceback (most recent call last)",
      "\u001b[0;32m<ipython-input-308-15ef2ea6ed61>\u001b[0m in \u001b[0;36m<module>\u001b[0;34m\u001b[0m\n\u001b[1;32m      1\u001b[0m \u001b[0;32mfrom\u001b[0m \u001b[0mcollections\u001b[0m \u001b[0;32mimport\u001b[0m \u001b[0mdefaultdict\u001b[0m\u001b[0;34m\u001b[0m\u001b[0;34m\u001b[0m\u001b[0m\n\u001b[1;32m      2\u001b[0m \u001b[0;34m\u001b[0m\u001b[0m\n\u001b[0;32m----> 3\u001b[0;31m \u001b[0md\u001b[0m \u001b[0;34m=\u001b[0m \u001b[0mdefaultdict\u001b[0m\u001b[0;34m(\u001b[0m\u001b[0;36m0\u001b[0m\u001b[0;34m)\u001b[0m\u001b[0;34m\u001b[0m\u001b[0;34m\u001b[0m\u001b[0m\n\u001b[0m\u001b[1;32m      4\u001b[0m \u001b[0;34m\u001b[0m\u001b[0m\n\u001b[1;32m      5\u001b[0m \u001b[0md\u001b[0m\u001b[0;34m[\u001b[0m\u001b[0;34m'a'\u001b[0m\u001b[0;34m]\u001b[0m\u001b[0;34m\u001b[0m\u001b[0;34m\u001b[0m\u001b[0m\n",
      "\u001b[0;31mTypeError\u001b[0m: first argument must be callable or None"
     ]
    }
   ],
   "source": [
    "from collections import defaultdict\n",
    "\n",
    "d = defaultdict(0)\n",
    "\n",
    "d['a']"
   ]
  },
  {
   "cell_type": "code",
   "execution_count": 309,
   "id": "1bf6aa25-ed11-4ec5-a1e4-26c507049b82",
   "metadata": {},
   "outputs": [],
   "source": [
    "d = defaultdict(int)"
   ]
  },
  {
   "cell_type": "code",
   "execution_count": 310,
   "id": "e385df7f-7313-489a-aa5c-7127b1b9641d",
   "metadata": {},
   "outputs": [
    {
     "data": {
      "text/plain": [
       "0"
      ]
     },
     "execution_count": 310,
     "metadata": {},
     "output_type": "execute_result"
    }
   ],
   "source": [
    "int()"
   ]
  },
  {
   "cell_type": "code",
   "execution_count": 311,
   "id": "c45e4cbc-734a-44d6-afe8-96abb8b7f4a1",
   "metadata": {},
   "outputs": [
    {
     "data": {
      "text/plain": [
       "0"
      ]
     },
     "execution_count": 311,
     "metadata": {},
     "output_type": "execute_result"
    }
   ],
   "source": [
    "d['a'] += 5\n",
    "d['b'] += 10\n",
    "d['c']"
   ]
  },
  {
   "cell_type": "code",
   "execution_count": 312,
   "id": "eb1c4983-0ea5-44fe-a798-a8e54a825776",
   "metadata": {},
   "outputs": [
    {
     "data": {
      "text/plain": [
       "defaultdict(int, {'a': 5, 'b': 10, 'c': 0})"
      ]
     },
     "execution_count": 312,
     "metadata": {},
     "output_type": "execute_result"
    }
   ],
   "source": [
    "d"
   ]
  },
  {
   "cell_type": "code",
   "execution_count": 314,
   "id": "9ef30303-aa25-46ac-9e24-0fb7f1f3d95a",
   "metadata": {},
   "outputs": [
    {
     "data": {
      "text/plain": [
       "defaultdict(dict, {'a': {'b': 100}, 'b': {'c': 200, 'd': 300}})"
      ]
     },
     "execution_count": 314,
     "metadata": {},
     "output_type": "execute_result"
    }
   ],
   "source": [
    "d = defaultdict(dict)\n",
    "\n",
    "d['a']['b'] = 100\n",
    "d['b']['c'] = 200\n",
    "d['b']['d'] = 300\n",
    "\n",
    "d"
   ]
  },
  {
   "cell_type": "code",
   "execution_count": 315,
   "id": "5778b378-dbde-4f7b-90b2-359e5388c2a8",
   "metadata": {},
   "outputs": [
    {
     "data": {
      "text/plain": [
       "1639054737.6632"
      ]
     },
     "execution_count": 315,
     "metadata": {},
     "output_type": "execute_result"
    }
   ],
   "source": [
    "import time\n",
    "\n",
    "d = defaultdict(time.time)\n",
    "\n",
    "d['a']"
   ]
  },
  {
   "cell_type": "code",
   "execution_count": 316,
   "id": "aa3b373c-f687-4253-9dc5-143f03fabf48",
   "metadata": {},
   "outputs": [
    {
     "data": {
      "text/plain": [
       "1639054740.476365"
      ]
     },
     "execution_count": 316,
     "metadata": {},
     "output_type": "execute_result"
    }
   ],
   "source": [
    "d['b']"
   ]
  },
  {
   "cell_type": "code",
   "execution_count": 317,
   "id": "d6107f52-0857-4164-a863-46d9b08d5b2c",
   "metadata": {},
   "outputs": [
    {
     "data": {
      "text/plain": [
       "1639054742.1604722"
      ]
     },
     "execution_count": 317,
     "metadata": {},
     "output_type": "execute_result"
    }
   ],
   "source": [
    "d['c']"
   ]
  },
  {
   "cell_type": "code",
   "execution_count": 318,
   "id": "dc052313-4dc7-41e6-b974-58d62b817a48",
   "metadata": {},
   "outputs": [
    {
     "data": {
      "text/plain": [
       "defaultdict(<function time.time>,\n",
       "            {'a': 1639054737.6632,\n",
       "             'b': 1639054740.476365,\n",
       "             'c': 1639054742.1604722})"
      ]
     },
     "execution_count": 318,
     "metadata": {},
     "output_type": "execute_result"
    }
   ],
   "source": [
    "d"
   ]
  },
  {
   "cell_type": "code",
   "execution_count": 319,
   "id": "8491df12-162f-496f-9083-410da21f1d10",
   "metadata": {},
   "outputs": [
    {
     "data": {
      "text/plain": [
       "1639054859.277846"
      ]
     },
     "execution_count": 319,
     "metadata": {},
     "output_type": "execute_result"
    }
   ],
   "source": [
    "d['x']"
   ]
  },
  {
   "cell_type": "code",
   "execution_count": 320,
   "id": "d7f48b74-6dfe-446b-bf54-4454548b2fe6",
   "metadata": {},
   "outputs": [
    {
     "data": {
      "text/plain": [
       "defaultdict(<function time.time>,\n",
       "            {'a': 1639054737.6632,\n",
       "             'b': 1639054740.476365,\n",
       "             'c': 1639054742.1604722,\n",
       "             'x': 1639054859.277846})"
      ]
     },
     "execution_count": 320,
     "metadata": {},
     "output_type": "execute_result"
    }
   ],
   "source": [
    "d"
   ]
  },
  {
   "cell_type": "code",
   "execution_count": 321,
   "id": "54bc33de-9a04-482b-a680-ed182965464c",
   "metadata": {},
   "outputs": [],
   "source": [
    "from collections import Counter"
   ]
  },
  {
   "cell_type": "code",
   "execution_count": 322,
   "id": "73510f94-8580-4fde-87ee-c03f10ef9fdb",
   "metadata": {},
   "outputs": [
    {
     "data": {
      "text/plain": [
       "Counter({'a': 5, 'b': 10})"
      ]
     },
     "execution_count": 322,
     "metadata": {},
     "output_type": "execute_result"
    }
   ],
   "source": [
    "c = Counter()\n",
    "c['a'] += 5\n",
    "c['b'] += 10\n",
    "c"
   ]
  },
  {
   "cell_type": "code",
   "execution_count": 323,
   "id": "7170a464-58f4-4c32-97f8-1b1a1dda7ee4",
   "metadata": {},
   "outputs": [
    {
     "data": {
      "text/plain": [
       "Counter({10: 1, 20: 3, 30: 3, 40: 2, 50: 1})"
      ]
     },
     "execution_count": 323,
     "metadata": {},
     "output_type": "execute_result"
    }
   ],
   "source": [
    "Counter([10, 20, 30, 20, 30, 40, 20, 30, 40, 50])"
   ]
  },
  {
   "cell_type": "code",
   "execution_count": 325,
   "id": "9142a1bb-0b88-4c47-8ca8-2a2a76034dfe",
   "metadata": {},
   "outputs": [
    {
     "data": {
      "text/plain": [
       "Counter({'a': 1, 'b': 6, 'c': 4, 'd': 2, 'e': 2, 'f': 1, ' ': 4})"
      ]
     },
     "execution_count": 325,
     "metadata": {},
     "output_type": "execute_result"
    }
   ],
   "source": [
    "Counter('abcbcbbbcbcdefde    ')"
   ]
  },
  {
   "cell_type": "code",
   "execution_count": 326,
   "id": "1259187e-ee48-4516-84de-9611190f7df3",
   "metadata": {},
   "outputs": [],
   "source": [
    "def return_5():\n",
    "    return 5\n",
    "\n",
    "d = defaultdict(return_5)"
   ]
  },
  {
   "cell_type": "code",
   "execution_count": 327,
   "id": "ee39d706-227e-4f8e-97d4-58a8fd0bb5a3",
   "metadata": {},
   "outputs": [],
   "source": [
    "def return_5_times_x():\n",
    "    return 5 * x\n",
    "\n",
    "\n",
    "d = defaultdict(return_5_times_x)"
   ]
  },
  {
   "cell_type": "code",
   "execution_count": 328,
   "id": "96f09684-962b-4f96-ba53-0fc92136ef9f",
   "metadata": {},
   "outputs": [
    {
     "data": {
      "text/plain": [
       "50"
      ]
     },
     "execution_count": 328,
     "metadata": {},
     "output_type": "execute_result"
    }
   ],
   "source": [
    "d['a']"
   ]
  },
  {
   "cell_type": "code",
   "execution_count": 329,
   "id": "f25fcb12-8100-4477-9cc6-b54834a9560b",
   "metadata": {},
   "outputs": [],
   "source": [
    "d = defaultdict(int)"
   ]
  },
  {
   "cell_type": "code",
   "execution_count": 330,
   "id": "3280cda3-62d7-421f-aa3b-8d463505af21",
   "metadata": {},
   "outputs": [
    {
     "data": {
      "text/plain": [
       "0"
      ]
     },
     "execution_count": 330,
     "metadata": {},
     "output_type": "execute_result"
    }
   ],
   "source": [
    "d['a']    # 'a' is not there, so it runs int(), which gives us 0, then it sets d['a'] = 0"
   ]
  },
  {
   "cell_type": "code",
   "execution_count": 331,
   "id": "66c7c37e-dd32-407c-8eff-cc1b17bead1d",
   "metadata": {},
   "outputs": [
    {
     "data": {
      "text/plain": [
       "defaultdict(int, {'a': 0})"
      ]
     },
     "execution_count": 331,
     "metadata": {},
     "output_type": "execute_result"
    }
   ],
   "source": [
    "d"
   ]
  },
  {
   "cell_type": "code",
   "execution_count": null,
   "id": "b2d973c2-043b-4208-819f-f25b1d57f061",
   "metadata": {},
   "outputs": [],
   "source": []
  }
 ],
 "metadata": {
  "kernelspec": {
   "display_name": "Python 3",
   "language": "python",
   "name": "python3"
  },
  "language_info": {
   "codemirror_mode": {
    "name": "ipython",
    "version": 3
   },
   "file_extension": ".py",
   "mimetype": "text/x-python",
   "name": "python",
   "nbconvert_exporter": "python",
   "pygments_lexer": "ipython3",
   "version": "3.9.9"
  }
 },
 "nbformat": 4,
 "nbformat_minor": 5
}
