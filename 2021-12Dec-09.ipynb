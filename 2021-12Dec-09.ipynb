{
 "cells": [
  {
   "cell_type": "markdown",
   "id": "9cca8d18-8619-48e9-a700-22929b4a4bf4",
   "metadata": {},
   "source": [
    "# Agenda\n",
    "\n",
    "1. Data structures\n",
    "2. Functions\n",
    "3. Functional programming\n",
    "4. Modules + packages\n",
    "5. Objects\n",
    "6. Iterator + generators\n",
    "7. Decorators\n",
    "8. Threading, processes, asyncio\n"
   ]
  },
  {
   "cell_type": "code",
   "execution_count": 1,
   "id": "ac6d3d6d-7ada-486b-a8c3-bc0d3c89d0b7",
   "metadata": {},
   "outputs": [],
   "source": [
    "x = None"
   ]
  },
  {
   "cell_type": "code",
   "execution_count": 2,
   "id": "da70d4e9-71d1-4898-8c9b-3fb0c37fe67b",
   "metadata": {},
   "outputs": [
    {
     "data": {
      "text/plain": [
       "NoneType"
      ]
     },
     "execution_count": 2,
     "metadata": {},
     "output_type": "execute_result"
    }
   ],
   "source": [
    "type(x)"
   ]
  },
  {
   "cell_type": "code",
   "execution_count": 4,
   "id": "f4b36409-e233-43c2-8c0c-853244ff784a",
   "metadata": {},
   "outputs": [
    {
     "name": "stdout",
     "output_type": "stream",
     "text": [
      "Yes, it is None!\n"
     ]
    }
   ],
   "source": [
    "if x == None:   # not Pythonic\n",
    "    print('Yes, it is None!')"
   ]
  },
  {
   "cell_type": "code",
   "execution_count": 5,
   "id": "665f0066-c47b-48c2-be42-bbab9c521869",
   "metadata": {},
   "outputs": [
    {
     "data": {
      "text/plain": [
       "NoneType"
      ]
     },
     "execution_count": 5,
     "metadata": {},
     "output_type": "execute_result"
    }
   ],
   "source": [
    "type(None)"
   ]
  },
  {
   "cell_type": "code",
   "execution_count": 7,
   "id": "b3145c6b-0fa3-4016-b028-1270f72f11b9",
   "metadata": {},
   "outputs": [],
   "source": [
    "y = type(None)()"
   ]
  },
  {
   "cell_type": "code",
   "execution_count": 8,
   "id": "2fbd90d2-ab68-4dc3-b074-bb91d19db0c9",
   "metadata": {},
   "outputs": [
    {
     "name": "stdout",
     "output_type": "stream",
     "text": [
      "None\n"
     ]
    }
   ],
   "source": [
    "print(y)"
   ]
  },
  {
   "cell_type": "code",
   "execution_count": 9,
   "id": "5a6c959f-1d93-4722-a3fc-148d839ccb37",
   "metadata": {},
   "outputs": [
    {
     "data": {
      "text/plain": [
       "4492428720"
      ]
     },
     "execution_count": 9,
     "metadata": {},
     "output_type": "execute_result"
    }
   ],
   "source": [
    "id(x) "
   ]
  },
  {
   "cell_type": "code",
   "execution_count": 10,
   "id": "ab1ba07d-e01f-445e-8f00-b5ab6f5a8cda",
   "metadata": {},
   "outputs": [
    {
     "data": {
      "text/plain": [
       "4492428720"
      ]
     },
     "execution_count": 10,
     "metadata": {},
     "output_type": "execute_result"
    }
   ],
   "source": [
    "id(y)"
   ]
  },
  {
   "cell_type": "code",
   "execution_count": 11,
   "id": "ce5e8ba6-c2f8-4fba-9e93-0913f3a36d1d",
   "metadata": {},
   "outputs": [
    {
     "data": {
      "text/plain": [
       "True"
      ]
     },
     "execution_count": 11,
     "metadata": {},
     "output_type": "execute_result"
    }
   ],
   "source": [
    "id(x) == id(y)"
   ]
  },
  {
   "cell_type": "code",
   "execution_count": 12,
   "id": "98a73f62-d5fc-4258-99b7-ec3dcb101d4b",
   "metadata": {},
   "outputs": [
    {
     "data": {
      "text/plain": [
       "True"
      ]
     },
     "execution_count": 12,
     "metadata": {},
     "output_type": "execute_result"
    }
   ],
   "source": [
    "# same as id(x) == id(y)\n",
    "x is y"
   ]
  },
  {
   "cell_type": "code",
   "execution_count": 13,
   "id": "13d9c3c9-595d-4918-bc67-5dbd427b4791",
   "metadata": {},
   "outputs": [
    {
     "data": {
      "text/plain": [
       "True"
      ]
     },
     "execution_count": 13,
     "metadata": {},
     "output_type": "execute_result"
    }
   ],
   "source": [
    "x = 5\n",
    "y = 5\n",
    "\n",
    "x == y"
   ]
  },
  {
   "cell_type": "code",
   "execution_count": 14,
   "id": "b2aadabf-7b57-4c8e-9ccf-a9ea99551837",
   "metadata": {},
   "outputs": [
    {
     "data": {
      "text/plain": [
       "True"
      ]
     },
     "execution_count": 14,
     "metadata": {},
     "output_type": "execute_result"
    }
   ],
   "source": [
    "x is y"
   ]
  },
  {
   "cell_type": "code",
   "execution_count": 15,
   "id": "aa7998a8-93d8-4655-bc9a-c24c53c12b70",
   "metadata": {},
   "outputs": [
    {
     "data": {
      "text/plain": [
       "True"
      ]
     },
     "execution_count": 15,
     "metadata": {},
     "output_type": "execute_result"
    }
   ],
   "source": [
    "x = 5000\n",
    "y = 5000\n",
    "\n",
    "x == y"
   ]
  },
  {
   "cell_type": "code",
   "execution_count": 16,
   "id": "69ff1245-9953-4f27-8b5a-34d1c5627089",
   "metadata": {},
   "outputs": [
    {
     "data": {
      "text/plain": [
       "False"
      ]
     },
     "execution_count": 16,
     "metadata": {},
     "output_type": "execute_result"
    }
   ],
   "source": [
    "x is y"
   ]
  },
  {
   "cell_type": "code",
   "execution_count": 17,
   "id": "2f82e0d8-39ff-432c-b4b4-206f31b9ea58",
   "metadata": {},
   "outputs": [
    {
     "data": {
      "text/plain": [
       "True"
      ]
     },
     "execution_count": 17,
     "metadata": {},
     "output_type": "execute_result"
    }
   ],
   "source": [
    "x = 255\n",
    "y = 255\n",
    "\n",
    "x is y"
   ]
  },
  {
   "cell_type": "code",
   "execution_count": 19,
   "id": "8cab6b23-fbb0-41f6-9bde-2a44b2498bc8",
   "metadata": {},
   "outputs": [
    {
     "data": {
      "text/plain": [
       "False"
      ]
     },
     "execution_count": 19,
     "metadata": {},
     "output_type": "execute_result"
    }
   ],
   "source": [
    "x = 257\n",
    "y = 257\n",
    "\n",
    "x is y"
   ]
  },
  {
   "cell_type": "code",
   "execution_count": 20,
   "id": "4a4e1a35-a799-4e7a-9ffa-158bb0946de3",
   "metadata": {},
   "outputs": [
    {
     "data": {
      "text/plain": [
       "True"
      ]
     },
     "execution_count": 20,
     "metadata": {},
     "output_type": "execute_result"
    }
   ],
   "source": [
    "x = 'abcd'\n",
    "y = 'abcd'\n",
    "\n",
    "x == y"
   ]
  },
  {
   "cell_type": "code",
   "execution_count": 21,
   "id": "9f20905c-4e9f-4a3b-8dc9-e4521df8a157",
   "metadata": {},
   "outputs": [
    {
     "data": {
      "text/plain": [
       "True"
      ]
     },
     "execution_count": 21,
     "metadata": {},
     "output_type": "execute_result"
    }
   ],
   "source": [
    "x is y"
   ]
  },
  {
   "cell_type": "code",
   "execution_count": 22,
   "id": "9ae70f62-7edc-4da4-9b14-0f3641fb1751",
   "metadata": {},
   "outputs": [
    {
     "data": {
      "text/plain": [
       "True"
      ]
     },
     "execution_count": 22,
     "metadata": {},
     "output_type": "execute_result"
    }
   ],
   "source": [
    "x = 'abcd' * 10000\n",
    "y = 'abcd' * 10000\n",
    "\n",
    "x == y"
   ]
  },
  {
   "cell_type": "code",
   "execution_count": 23,
   "id": "e77231d7-3718-45c2-ad8e-084b751e2866",
   "metadata": {},
   "outputs": [
    {
     "data": {
      "text/plain": [
       "False"
      ]
     },
     "execution_count": 23,
     "metadata": {},
     "output_type": "execute_result"
    }
   ],
   "source": [
    "x is y"
   ]
  },
  {
   "cell_type": "code",
   "execution_count": 24,
   "id": "281ec599-f431-4445-9950-17dd384a87ab",
   "metadata": {},
   "outputs": [
    {
     "data": {
      "text/plain": [
       "True"
      ]
     },
     "execution_count": 24,
     "metadata": {},
     "output_type": "execute_result"
    }
   ],
   "source": [
    "x = 'a.b'\n",
    "y = 'a.b'\n",
    "\n",
    "x == y"
   ]
  },
  {
   "cell_type": "code",
   "execution_count": 25,
   "id": "f96ead62-7489-4380-ba07-a9fdd9ceb891",
   "metadata": {},
   "outputs": [
    {
     "data": {
      "text/plain": [
       "False"
      ]
     },
     "execution_count": 25,
     "metadata": {},
     "output_type": "execute_result"
    }
   ],
   "source": [
    "x is y"
   ]
  },
  {
   "cell_type": "code",
   "execution_count": 26,
   "id": "1ae892d1-a006-4e04-a8a0-17a2ceadaa1b",
   "metadata": {},
   "outputs": [],
   "source": [
    "from sys import intern\n",
    "x = intern('a.b')\n",
    "y = intern('a.b')\n"
   ]
  },
  {
   "cell_type": "code",
   "execution_count": 27,
   "id": "5af76bc1-8f40-46f0-81ba-7b285cf6f962",
   "metadata": {},
   "outputs": [
    {
     "data": {
      "text/plain": [
       "True"
      ]
     },
     "execution_count": 27,
     "metadata": {},
     "output_type": "execute_result"
    }
   ],
   "source": [
    "x == y"
   ]
  },
  {
   "cell_type": "code",
   "execution_count": 28,
   "id": "6dfe7b91-a136-487a-8c1e-566f43611ca4",
   "metadata": {},
   "outputs": [
    {
     "data": {
      "text/plain": [
       "True"
      ]
     },
     "execution_count": 28,
     "metadata": {},
     "output_type": "execute_result"
    }
   ],
   "source": [
    "x is y"
   ]
  },
  {
   "cell_type": "code",
   "execution_count": 29,
   "id": "0eebf0c1-250f-4f48-94e9-2a8c0324dd85",
   "metadata": {},
   "outputs": [
    {
     "name": "stdout",
     "output_type": "stream",
     "text": [
      "Help on built-in function intern in module sys:\n",
      "\n",
      "intern(string, /)\n",
      "    ``Intern'' the given string.\n",
      "    \n",
      "    This enters the string in the (global) table of interned strings whose\n",
      "    purpose is to speed up dictionary lookups. Return the string itself or\n",
      "    the previously interned string object with the same value.\n",
      "\n"
     ]
    }
   ],
   "source": [
    "help(intern)"
   ]
  },
  {
   "cell_type": "code",
   "execution_count": 30,
   "id": "92b9090a-2955-4fa8-ad72-5eac511001ef",
   "metadata": {},
   "outputs": [
    {
     "name": "stdout",
     "output_type": "stream",
     "text": [
      "It is False-ish\n"
     ]
    }
   ],
   "source": [
    "x = None\n",
    "\n",
    "if x:\n",
    "    print('It is True-ish')\n",
    "else:\n",
    "    print('It is False-ish')"
   ]
  },
  {
   "cell_type": "code",
   "execution_count": 31,
   "id": "c79b8cde-d0a0-4316-9533-ff21abb398db",
   "metadata": {},
   "outputs": [
    {
     "data": {
      "text/plain": [
       "False"
      ]
     },
     "execution_count": 31,
     "metadata": {},
     "output_type": "execute_result"
    }
   ],
   "source": [
    "x == False"
   ]
  },
  {
   "cell_type": "markdown",
   "id": "c8510fc0-1353-4d57-832c-85d6e5a69edd",
   "metadata": {},
   "source": [
    "Every object in a boolean context is `True`, except for:\n",
    "\n",
    "- `False`\n",
    "- `None`\n",
    "- 0\n",
    "- everything empty -- `''`, `[]`, `()`, `{}`"
   ]
  },
  {
   "cell_type": "code",
   "execution_count": 33,
   "id": "05311478-eacc-4442-9f68-942d9af69d3b",
   "metadata": {},
   "outputs": [
    {
     "name": "stdin",
     "output_type": "stream",
     "text": [
      "Enter your name:  Reuven\n"
     ]
    },
    {
     "name": "stdout",
     "output_type": "stream",
     "text": [
      "Hello, Reuven!\n"
     ]
    },
    {
     "name": "stdin",
     "output_type": "stream",
     "text": [
      "Enter your name:  asdfadf\n"
     ]
    },
    {
     "name": "stdout",
     "output_type": "stream",
     "text": [
      "Hello, asdfadf!\n"
     ]
    },
    {
     "name": "stdin",
     "output_type": "stream",
     "text": [
      "Enter your name:  \n"
     ]
    }
   ],
   "source": [
    "while True:\n",
    "    s = input('Enter your name: ').strip()\n",
    "    \n",
    "    if not s:\n",
    "        break\n",
    "        \n",
    "    print(f'Hello, {s}!')"
   ]
  },
  {
   "cell_type": "code",
   "execution_count": 34,
   "id": "9da340c9-bebe-446c-9208-8f868437eb3f",
   "metadata": {},
   "outputs": [
    {
     "ename": "SyntaxError",
     "evalue": "invalid syntax (<ipython-input-34-11b1d1112cc4>, line 1)",
     "output_type": "error",
     "traceback": [
      "\u001b[0;36m  File \u001b[0;32m\"<ipython-input-34-11b1d1112cc4>\"\u001b[0;36m, line \u001b[0;32m1\u001b[0m\n\u001b[0;31m    while s = input('Enter your name: ').strip():\u001b[0m\n\u001b[0m            ^\u001b[0m\n\u001b[0;31mSyntaxError\u001b[0m\u001b[0;31m:\u001b[0m invalid syntax\n"
     ]
    }
   ],
   "source": [
    "while s = input('Enter your name: ').strip():\n",
    "    \n",
    "    print(f'Hello, {s}!')"
   ]
  },
  {
   "cell_type": "code",
   "execution_count": 35,
   "id": "816d5d60-2745-4b7d-9160-0aef439d9fda",
   "metadata": {},
   "outputs": [
    {
     "name": "stdin",
     "output_type": "stream",
     "text": [
      "Enter your name:  cvngnff\n"
     ]
    },
    {
     "name": "stdout",
     "output_type": "stream",
     "text": [
      "Hello, cvngnff!\n"
     ]
    },
    {
     "name": "stdin",
     "output_type": "stream",
     "text": [
      "Enter your name:  \n"
     ]
    }
   ],
   "source": [
    "# assignment expression -- walrus\n",
    "\n",
    "while s := input('Enter your name: ').strip():\n",
    "    \n",
    "    print(f'Hello, {s}!')"
   ]
  },
  {
   "cell_type": "markdown",
   "id": "ad457587-adbc-4288-a1d1-7a90fe39dea4",
   "metadata": {},
   "source": [
    "# Numbers\n",
    "\n",
    "- `int`\n",
    "- `float`\n",
    "- `complex`"
   ]
  },
  {
   "cell_type": "code",
   "execution_count": 36,
   "id": "e484362c-3e80-47dc-b184-a03b56b09d36",
   "metadata": {},
   "outputs": [],
   "source": [
    "from sys import getsizeof\n",
    "\n",
    "x = 0\n"
   ]
  },
  {
   "cell_type": "code",
   "execution_count": 37,
   "id": "26b68929-786a-464f-ad83-7f94d6f53a8a",
   "metadata": {},
   "outputs": [
    {
     "data": {
      "text/plain": [
       "24"
      ]
     },
     "execution_count": 37,
     "metadata": {},
     "output_type": "execute_result"
    }
   ],
   "source": [
    "getsizeof(x)"
   ]
  },
  {
   "cell_type": "code",
   "execution_count": 38,
   "id": "6a037223-01f9-4df0-b994-3f463296fbca",
   "metadata": {},
   "outputs": [
    {
     "data": {
      "text/plain": [
       "28"
      ]
     },
     "execution_count": 38,
     "metadata": {},
     "output_type": "execute_result"
    }
   ],
   "source": [
    "x = 1\n",
    "getsizeof(x)"
   ]
  },
  {
   "cell_type": "code",
   "execution_count": 39,
   "id": "cae22cbb-7149-4ce6-8d8c-5e99f9685246",
   "metadata": {},
   "outputs": [
    {
     "data": {
      "text/plain": [
       "28"
      ]
     },
     "execution_count": 39,
     "metadata": {},
     "output_type": "execute_result"
    }
   ],
   "source": [
    "x = 1_000\n",
    "getsizeof(x)"
   ]
  },
  {
   "cell_type": "code",
   "execution_count": 40,
   "id": "19f0fdda-64ad-4c8f-9aec-1a06f5d930d8",
   "metadata": {},
   "outputs": [],
   "source": [
    "x = x ** 10000"
   ]
  },
  {
   "cell_type": "code",
   "execution_count": 41,
   "id": "20cc7db4-3550-44ec-9de8-69ce950f4977",
   "metadata": {},
   "outputs": [
    {
     "data": {
      "text/plain": [
       "13312"
      ]
     },
     "execution_count": 41,
     "metadata": {},
     "output_type": "execute_result"
    }
   ],
   "source": [
    "getsizeof(x)"
   ]
  },
  {
   "cell_type": "code",
   "execution_count": 43,
   "id": "98fcbcd3-d668-4f91-a033-855fd04585ed",
   "metadata": {},
   "outputs": [
    {
     "data": {
      "text/plain": [
       "1328796"
      ]
     },
     "execution_count": 43,
     "metadata": {},
     "output_type": "execute_result"
    }
   ],
   "source": [
    "x = x ** 100\n",
    "getsizeof(x)"
   ]
  },
  {
   "cell_type": "code",
   "execution_count": 44,
   "id": "1a4149fe-bbbb-4acb-885c-b815346b62d1",
   "metadata": {},
   "outputs": [
    {
     "data": {
      "text/plain": [
       "100"
      ]
     },
     "execution_count": 44,
     "metadata": {},
     "output_type": "execute_result"
    }
   ],
   "source": [
    "x = 100\n",
    "y = x\n",
    "\n",
    "x = 200\n",
    "y"
   ]
  },
  {
   "cell_type": "code",
   "execution_count": 45,
   "id": "89686b4a-db83-4103-ba68-27db65e89133",
   "metadata": {},
   "outputs": [
    {
     "data": {
      "text/plain": [
       "123"
      ]
     },
     "execution_count": 45,
     "metadata": {},
     "output_type": "execute_result"
    }
   ],
   "source": [
    "s = '123'\n",
    "int(s)  "
   ]
  },
  {
   "cell_type": "code",
   "execution_count": 46,
   "id": "88b3e719-8653-4b5c-82df-707fd30b9c3c",
   "metadata": {},
   "outputs": [],
   "source": [
    "x = 100"
   ]
  },
  {
   "cell_type": "code",
   "execution_count": 47,
   "id": "72f0210f-835b-4593-8e5c-4f905389f009",
   "metadata": {},
   "outputs": [
    {
     "data": {
      "text/plain": [
       "123"
      ]
     },
     "execution_count": 47,
     "metadata": {},
     "output_type": "execute_result"
    }
   ],
   "source": [
    "int(s)"
   ]
  },
  {
   "cell_type": "code",
   "execution_count": 48,
   "id": "d29678bf-b0de-4dbd-9ff8-65b1c3aa57ae",
   "metadata": {},
   "outputs": [
    {
     "data": {
      "text/plain": [
       "291"
      ]
     },
     "execution_count": 48,
     "metadata": {},
     "output_type": "execute_result"
    }
   ],
   "source": [
    "int(s, 16)   # interpret as a hex int"
   ]
  },
  {
   "cell_type": "code",
   "execution_count": 49,
   "id": "146f322a-fed5-4319-b7e3-3c05196e44da",
   "metadata": {},
   "outputs": [
    {
     "data": {
      "text/plain": [
       "255"
      ]
     },
     "execution_count": 49,
     "metadata": {},
     "output_type": "execute_result"
    }
   ],
   "source": [
    "int('ff', 16)"
   ]
  },
  {
   "cell_type": "code",
   "execution_count": 50,
   "id": "a6d0d9c3-4b96-462c-832f-3bed2ed43be5",
   "metadata": {},
   "outputs": [
    {
     "data": {
      "text/plain": [
       "22"
      ]
     },
     "execution_count": 50,
     "metadata": {},
     "output_type": "execute_result"
    }
   ],
   "source": [
    "0x16"
   ]
  },
  {
   "cell_type": "code",
   "execution_count": 51,
   "id": "4a747133-4ce3-46a0-9db0-16282b5b96f9",
   "metadata": {},
   "outputs": [
    {
     "data": {
      "text/plain": [
       "10"
      ]
     },
     "execution_count": 51,
     "metadata": {},
     "output_type": "execute_result"
    }
   ],
   "source": [
    "0b1010"
   ]
  },
  {
   "cell_type": "code",
   "execution_count": 54,
   "id": "1f09f74a-87b2-47d3-83a0-20b84cb9d05e",
   "metadata": {},
   "outputs": [
    {
     "data": {
      "text/plain": [
       "83"
      ]
     },
     "execution_count": 54,
     "metadata": {},
     "output_type": "execute_result"
    }
   ],
   "source": [
    "0O123"
   ]
  },
  {
   "cell_type": "code",
   "execution_count": 55,
   "id": "c67c58d6-8c3e-4338-9496-923d8aece490",
   "metadata": {},
   "outputs": [
    {
     "data": {
      "text/plain": [
       "float"
      ]
     },
     "execution_count": 55,
     "metadata": {},
     "output_type": "execute_result"
    }
   ],
   "source": [
    "x = 123.456\n",
    "type(x)"
   ]
  },
  {
   "cell_type": "code",
   "execution_count": 56,
   "id": "bfcda080-e9a0-4383-9936-4058e82b2c0d",
   "metadata": {},
   "outputs": [
    {
     "data": {
      "text/plain": [
       "float"
      ]
     },
     "execution_count": 56,
     "metadata": {},
     "output_type": "execute_result"
    }
   ],
   "source": [
    "x = 1.\n",
    "type(x)"
   ]
  },
  {
   "cell_type": "code",
   "execution_count": 59,
   "id": "16485417-178b-435b-b830-02e60633885d",
   "metadata": {},
   "outputs": [
    {
     "data": {
      "text/plain": [
       "0.30000000000000004"
      ]
     },
     "execution_count": 59,
     "metadata": {},
     "output_type": "execute_result"
    }
   ],
   "source": [
    "0.1 + 0.2 "
   ]
  },
  {
   "cell_type": "code",
   "execution_count": 60,
   "id": "3579c19e-9b6f-45bc-a9e4-d5b69de8d3cb",
   "metadata": {},
   "outputs": [
    {
     "data": {
      "text/plain": [
       "0.3"
      ]
     },
     "execution_count": 60,
     "metadata": {},
     "output_type": "execute_result"
    }
   ],
   "source": [
    "round(0.1 + 0.2, 2)"
   ]
  },
  {
   "cell_type": "code",
   "execution_count": 61,
   "id": "fdc91aad-dd9f-4a43-ba19-299e7b3a8791",
   "metadata": {},
   "outputs": [
    {
     "data": {
      "text/plain": [
       "Decimal('0.3')"
      ]
     },
     "execution_count": 61,
     "metadata": {},
     "output_type": "execute_result"
    }
   ],
   "source": [
    "# BCD -- binary coded decimals\n",
    "\n",
    "from decimal import Decimal\n",
    "x = Decimal('0.1')\n",
    "y = Decimal('0.2')\n",
    "\n",
    "x + y"
   ]
  },
  {
   "cell_type": "code",
   "execution_count": 62,
   "id": "fe6eb5d1-283f-409c-8ac0-3282204cbca4",
   "metadata": {},
   "outputs": [
    {
     "data": {
      "text/plain": [
       "Decimal('0.3000000000000000166533453694')"
      ]
     },
     "execution_count": 62,
     "metadata": {},
     "output_type": "execute_result"
    }
   ],
   "source": [
    "x = Decimal(0.1)\n",
    "y = Decimal(0.2)\n",
    "\n",
    "x + y"
   ]
  },
  {
   "cell_type": "code",
   "execution_count": 63,
   "id": "c787d26e-905c-40f3-8716-49dd8fc1c6bc",
   "metadata": {},
   "outputs": [
    {
     "data": {
      "text/plain": [
       "Decimal('0.1000000000000000055511151231257827021181583404541015625')"
      ]
     },
     "execution_count": 63,
     "metadata": {},
     "output_type": "execute_result"
    }
   ],
   "source": [
    "x"
   ]
  },
  {
   "cell_type": "code",
   "execution_count": 64,
   "id": "7f1044d1-ebfc-45c5-9efe-f224acdf17b5",
   "metadata": {},
   "outputs": [
    {
     "data": {
      "text/plain": [
       "Decimal('0.200000000000000011102230246251565404236316680908203125')"
      ]
     },
     "execution_count": 64,
     "metadata": {},
     "output_type": "execute_result"
    }
   ],
   "source": [
    "y"
   ]
  },
  {
   "cell_type": "code",
   "execution_count": 65,
   "id": "fa3ad8a1-f3ce-4471-89a5-f6b037c4f303",
   "metadata": {},
   "outputs": [
    {
     "data": {
      "text/plain": [
       "(15+2j)"
      ]
     },
     "execution_count": 65,
     "metadata": {},
     "output_type": "execute_result"
    }
   ],
   "source": [
    "x = 10+5j\n",
    "y = 5-3j\n",
    "\n",
    "x + y"
   ]
  },
  {
   "cell_type": "code",
   "execution_count": 66,
   "id": "e6a7d661-1926-497b-b3d9-ff48cf42d28a",
   "metadata": {},
   "outputs": [
    {
     "data": {
      "text/plain": [
       "(65-5j)"
      ]
     },
     "execution_count": 66,
     "metadata": {},
     "output_type": "execute_result"
    }
   ],
   "source": [
    "x * y"
   ]
  },
  {
   "cell_type": "code",
   "execution_count": 67,
   "id": "c4decc45-ef84-4ee3-9697-37925aa232bc",
   "metadata": {},
   "outputs": [
    {
     "name": "stdout",
     "output_type": "stream",
     "text": [
      "x = 100, and y = [10, 20, 30].\n"
     ]
    }
   ],
   "source": [
    "x = 100\n",
    "y = [10, 20, 30]\n",
    "\n",
    "print('x = ' + str(x) + ', and y = ' + str(y) + '.')"
   ]
  },
  {
   "cell_type": "code",
   "execution_count": 68,
   "id": "6997f656-9d10-4d62-9bfa-d696000b3319",
   "metadata": {},
   "outputs": [
    {
     "ename": "TypeError",
     "evalue": "can only concatenate str (not \"int\") to str",
     "output_type": "error",
     "traceback": [
      "\u001b[0;31m---------------------------------------------------------------------------\u001b[0m",
      "\u001b[0;31mTypeError\u001b[0m                                 Traceback (most recent call last)",
      "\u001b[0;32m<ipython-input-68-caeb9e6ce9d8>\u001b[0m in \u001b[0;36m<module>\u001b[0;34m\u001b[0m\n\u001b[0;32m----> 1\u001b[0;31m \u001b[0;34m'a'\u001b[0m \u001b[0;34m+\u001b[0m \u001b[0mx\u001b[0m\u001b[0;34m\u001b[0m\u001b[0;34m\u001b[0m\u001b[0m\n\u001b[0m",
      "\u001b[0;31mTypeError\u001b[0m: can only concatenate str (not \"int\") to str"
     ]
    }
   ],
   "source": [
    "'a' + x"
   ]
  },
  {
   "cell_type": "code",
   "execution_count": 71,
   "id": "3b58278d-15f1-470b-9559-75c7a1c8e472",
   "metadata": {},
   "outputs": [
    {
     "name": "stdout",
     "output_type": "stream",
     "text": [
      "x = 100, y = [10, 20, 30]\n"
     ]
    }
   ],
   "source": [
    "print(f'x = {x}, y = {y}')"
   ]
  },
  {
   "cell_type": "code",
   "execution_count": 72,
   "id": "0257fb34-9248-4a1f-ba3d-57b21be8eff0",
   "metadata": {},
   "outputs": [],
   "source": [
    "s = 'He\\'s very nice.'"
   ]
  },
  {
   "cell_type": "code",
   "execution_count": 73,
   "id": "e9c1ebf2-a7da-4054-878e-86907bc0cc75",
   "metadata": {},
   "outputs": [
    {
     "data": {
      "text/plain": [
       "\"He's very nice.\""
      ]
     },
     "execution_count": 73,
     "metadata": {},
     "output_type": "execute_result"
    }
   ],
   "source": [
    "s"
   ]
  },
  {
   "cell_type": "code",
   "execution_count": 75,
   "id": "796926ac-0cb4-4f37-ae43-eea0018dacf7",
   "metadata": {},
   "outputs": [
    {
     "data": {
      "text/plain": [
       "\"He's very nice.\""
      ]
     },
     "execution_count": 75,
     "metadata": {},
     "output_type": "execute_result"
    }
   ],
   "source": [
    "s = \"He's very nice.\"\n",
    "s"
   ]
  },
  {
   "cell_type": "code",
   "execution_count": 76,
   "id": "87a78618-09e3-466a-86b6-332267dd8a1d",
   "metadata": {},
   "outputs": [
    {
     "data": {
      "text/plain": [
       "'She said, \"He\\'s very nice.\"'"
      ]
     },
     "execution_count": 76,
     "metadata": {},
     "output_type": "execute_result"
    }
   ],
   "source": [
    "s = 'She said, \"He\\'s very nice.\"'\n",
    "s"
   ]
  },
  {
   "cell_type": "code",
   "execution_count": 77,
   "id": "db8f1a3e-2ba8-4b3c-bccd-5102b9bfa6ab",
   "metadata": {},
   "outputs": [
    {
     "name": "stdout",
     "output_type": "stream",
     "text": [
      "She said, \"He's very nice.\"\n"
     ]
    }
   ],
   "source": [
    "print(s)"
   ]
  },
  {
   "cell_type": "code",
   "execution_count": 78,
   "id": "e871e091-812b-43db-9c07-e31aa88743be",
   "metadata": {},
   "outputs": [
    {
     "name": "stdout",
     "output_type": "stream",
     "text": [
      "c:\u0007bcd\\efgh\\ijkl\n"
     ]
    }
   ],
   "source": [
    "path = 'c:\\abcd\\efgh\\ijkl'\n",
    "print(path)"
   ]
  },
  {
   "cell_type": "code",
   "execution_count": 79,
   "id": "0b393028-f013-4540-9310-12bc6ed6e67e",
   "metadata": {},
   "outputs": [
    {
     "name": "stdout",
     "output_type": "stream",
     "text": [
      "c:\\abcd\\efgh\\ijkl\n"
     ]
    }
   ],
   "source": [
    "path = 'c:\\\\abcd\\\\efgh\\\\ijkl'\n",
    "print(path)"
   ]
  },
  {
   "cell_type": "code",
   "execution_count": 80,
   "id": "7f34a397-59cd-451c-a32b-e35d313033ab",
   "metadata": {},
   "outputs": [
    {
     "name": "stdout",
     "output_type": "stream",
     "text": [
      "c:\\abcd\\efgh\\ijkl\n"
     ]
    }
   ],
   "source": [
    "# raw string  -- auto-double backslashes\n",
    "\n",
    "path = r'c:\\abcd\\efgh\\ijkl'\n",
    "print(path)"
   ]
  },
  {
   "cell_type": "code",
   "execution_count": 81,
   "id": "fa586f0f-5927-4834-a6a4-5b498bab3dbd",
   "metadata": {},
   "outputs": [
    {
     "data": {
      "text/plain": [
       "'c:\\\\abcd\\\\efgh\\\\ijkl'"
      ]
     },
     "execution_count": 81,
     "metadata": {},
     "output_type": "execute_result"
    }
   ],
   "source": [
    "path"
   ]
  },
  {
   "cell_type": "code",
   "execution_count": 83,
   "id": "02a8d4ea-a31d-4f64-98bc-3ad5189e7914",
   "metadata": {},
   "outputs": [
    {
     "name": "stdout",
     "output_type": "stream",
     "text": [
      "'c:\\\\abcd\\\\efgh\\\\ijkl'\n"
     ]
    }
   ],
   "source": [
    "print(repr(path))"
   ]
  },
  {
   "cell_type": "code",
   "execution_count": 84,
   "id": "5b29af5c-c9f8-4211-b7c5-39561161b287",
   "metadata": {},
   "outputs": [
    {
     "name": "stdout",
     "output_type": "stream",
     "text": [
      "c:\\abcd\\efgh\\ijkl\n"
     ]
    }
   ],
   "source": [
    "print(path)"
   ]
  },
  {
   "cell_type": "code",
   "execution_count": 87,
   "id": "5537420e-c2a7-47d6-98ad-4c73b477f0d3",
   "metadata": {},
   "outputs": [
    {
     "name": "stdout",
     "output_type": "stream",
     "text": [
      ">> C:\\ABCD\\EFGH\\IJKL <<\n"
     ]
    }
   ],
   "source": [
    "print(f'>> {path.upper()} <<')"
   ]
  },
  {
   "cell_type": "code",
   "execution_count": 89,
   "id": "10fdd61a-3e77-4059-9052-dcc79667a0c6",
   "metadata": {},
   "outputs": [
    {
     "name": "stdout",
     "output_type": "stream",
     "text": [
      "a                100\n",
      "bcde               2\n",
      "fgh         12345678\n",
      "i              99999\n"
     ]
    }
   ],
   "source": [
    "d = {'a':100, 'bcde':2, 'fgh':12345678, 'i':99999}\n",
    "\n",
    "for key, value in d.items():\n",
    "    print(f'{key:10}{value:10}')"
   ]
  },
  {
   "cell_type": "code",
   "execution_count": 90,
   "id": "5ba76699-3c18-44ed-baa0-9e631ae55c52",
   "metadata": {},
   "outputs": [
    {
     "name": "stdout",
     "output_type": "stream",
     "text": [
      "*********a___100____\n",
      "******bcde____2_____\n",
      "*******fgh_12345678_\n",
      "*********i__99999___\n"
     ]
    }
   ],
   "source": [
    "d = {'a':100, 'bcde':2, 'fgh':12345678, 'i':99999}\n",
    "\n",
    "for key, value in d.items():\n",
    "    print(f'{key:*>10}{value:_^10}')"
   ]
  },
  {
   "cell_type": "code",
   "execution_count": 94,
   "id": "4c2ed22f-0826-4c97-bbd2-e1160a872bcd",
   "metadata": {},
   "outputs": [
    {
     "name": "stdout",
     "output_type": "stream",
     "text": [
      "a.........100\n",
      "bcde........2\n",
      "fgh..12345678\n",
      "i.......99999\n"
     ]
    }
   ],
   "source": [
    "d = {'a':100, 'bcde':2, 'fgh':12345678, 'i':99999}\n",
    "\n",
    "for key, value in d.items():\n",
    "\n",
    "    # *<5 == field of 5 characters, aligned left, fill with *\n",
    "    # .>8 == field of 8 characters, aligned right, fill with .\n",
    "\n",
    "    print(f'{key:.<5}{value:.>8}')"
   ]
  },
  {
   "cell_type": "code",
   "execution_count": 96,
   "id": "431982d8-5d07-4d91-ada3-d8cc7eab4456",
   "metadata": {},
   "outputs": [],
   "source": [
    "s = '''this is a long string\n",
    "\n",
    "It takes multiple lines.\n",
    "\n",
    "It will not work.'''"
   ]
  },
  {
   "cell_type": "code",
   "execution_count": 97,
   "id": "0f75e9de-8dd2-4d36-a3be-fa0510065f48",
   "metadata": {},
   "outputs": [
    {
     "data": {
      "text/plain": [
       "'this is a long string\\n\\nIt takes multiple lines.\\n\\nIt will not work.'"
      ]
     },
     "execution_count": 97,
     "metadata": {},
     "output_type": "execute_result"
    }
   ],
   "source": [
    "s"
   ]
  },
  {
   "cell_type": "code",
   "execution_count": 99,
   "id": "9a910c54-a96b-41cb-a813-f46927607635",
   "metadata": {},
   "outputs": [],
   "source": [
    "x = 100\n",
    "\n",
    "'''I want to do something here\n",
    "\n",
    "and document it'''\n",
    "\n",
    "y = 200"
   ]
  },
  {
   "cell_type": "code",
   "execution_count": 100,
   "id": "714f69e2-ac1f-4fa2-adbc-7dc4a26c42a1",
   "metadata": {},
   "outputs": [
    {
     "data": {
      "text/plain": [
       "'abcdefghijkl'"
      ]
     },
     "execution_count": 100,
     "metadata": {},
     "output_type": "execute_result"
    }
   ],
   "source": [
    "x = 'abcd\\\n",
    "efgh\\\n",
    "ijkl'\n",
    "\n",
    "x"
   ]
  },
  {
   "cell_type": "code",
   "execution_count": 101,
   "id": "39fd15a8-deae-492f-96d9-b226638d90e2",
   "metadata": {},
   "outputs": [
    {
     "data": {
      "text/plain": [
       "5"
      ]
     },
     "execution_count": 101,
     "metadata": {},
     "output_type": "execute_result"
    }
   ],
   "source": [
    "s = 'abcde'\n",
    "len(s)"
   ]
  },
  {
   "cell_type": "code",
   "execution_count": 102,
   "id": "d3c1dc1e-241a-4a6f-9827-6e8ab1c3f995",
   "metadata": {},
   "outputs": [
    {
     "data": {
      "text/plain": [
       "4"
      ]
     },
     "execution_count": 102,
     "metadata": {},
     "output_type": "execute_result"
    }
   ],
   "source": [
    "s = 'שלום'\n",
    "len(s)"
   ]
  },
  {
   "cell_type": "code",
   "execution_count": 103,
   "id": "eb9f8ff1-3b4f-4b2f-ab0b-1929b21d0ef6",
   "metadata": {},
   "outputs": [
    {
     "data": {
      "text/plain": [
       "2"
      ]
     },
     "execution_count": 103,
     "metadata": {},
     "output_type": "execute_result"
    }
   ],
   "source": [
    "s = '北京'\n",
    "len(s)"
   ]
  },
  {
   "cell_type": "code",
   "execution_count": 104,
   "id": "ebc77771-3e9a-401d-9c68-ab14c8e9791d",
   "metadata": {},
   "outputs": [
    {
     "data": {
      "text/plain": [
       "bytes"
      ]
     },
     "execution_count": 104,
     "metadata": {},
     "output_type": "execute_result"
    }
   ],
   "source": [
    "# bytestring\n",
    "s = b'abcde'\n",
    "type(s)"
   ]
  },
  {
   "cell_type": "code",
   "execution_count": 105,
   "id": "b12d98ec-8118-4937-99ef-bec44021748b",
   "metadata": {},
   "outputs": [
    {
     "data": {
      "text/plain": [
       "5"
      ]
     },
     "execution_count": 105,
     "metadata": {},
     "output_type": "execute_result"
    }
   ],
   "source": [
    "len(s)"
   ]
  },
  {
   "cell_type": "code",
   "execution_count": 106,
   "id": "62624bf7-2dc6-4d80-a2d4-b5e8b06f87d1",
   "metadata": {},
   "outputs": [
    {
     "ename": "SyntaxError",
     "evalue": "bytes can only contain ASCII literal characters. (<ipython-input-106-42db25b43bb3>, line 1)",
     "output_type": "error",
     "traceback": [
      "\u001b[0;36m  File \u001b[0;32m\"<ipython-input-106-42db25b43bb3>\"\u001b[0;36m, line \u001b[0;32m1\u001b[0m\n\u001b[0;31m    s = b'שלום'\u001b[0m\n\u001b[0m               ^\u001b[0m\n\u001b[0;31mSyntaxError\u001b[0m\u001b[0;31m:\u001b[0m bytes can only contain ASCII literal characters.\n"
     ]
    }
   ],
   "source": [
    "s = b'שלום'\n"
   ]
  },
  {
   "cell_type": "code",
   "execution_count": 108,
   "id": "2944b42d-d57c-43b7-a11c-7031a3739d4c",
   "metadata": {},
   "outputs": [
    {
     "data": {
      "text/plain": [
       "b'\\xd7\\xa9\\xd7\\x9c\\xd7\\x95\\xd7\\x9d'"
      ]
     },
     "execution_count": 108,
     "metadata": {},
     "output_type": "execute_result"
    }
   ],
   "source": [
    "s = 'שלום'\n",
    "b = s.encode()   # return bytes based on string\n",
    "b"
   ]
  },
  {
   "cell_type": "code",
   "execution_count": 109,
   "id": "ebad8a40-f2c0-4943-91f7-a8ec98b15252",
   "metadata": {},
   "outputs": [
    {
     "data": {
      "text/plain": [
       "8"
      ]
     },
     "execution_count": 109,
     "metadata": {},
     "output_type": "execute_result"
    }
   ],
   "source": [
    "len(b)"
   ]
  },
  {
   "cell_type": "code",
   "execution_count": 110,
   "id": "f843842d-13e8-4943-af5a-da7d89e6f979",
   "metadata": {},
   "outputs": [
    {
     "data": {
      "text/plain": [
       "6"
      ]
     },
     "execution_count": 110,
     "metadata": {},
     "output_type": "execute_result"
    }
   ],
   "source": [
    "s = '北京'\n",
    "b = s.encode()\n",
    "len(b)"
   ]
  },
  {
   "cell_type": "code",
   "execution_count": 111,
   "id": "f17e09dc-f064-4993-9bd3-a78b8aea1351",
   "metadata": {},
   "outputs": [
    {
     "data": {
      "text/plain": [
       "b'\\xe5\\x8c\\x97\\xe4\\xba\\xac'"
      ]
     },
     "execution_count": 111,
     "metadata": {},
     "output_type": "execute_result"
    }
   ],
   "source": [
    "b"
   ]
  },
  {
   "cell_type": "code",
   "execution_count": 112,
   "id": "bb01d7a7-96f2-45be-9e54-5747753a47d4",
   "metadata": {},
   "outputs": [
    {
     "data": {
      "text/plain": [
       "'北京'"
      ]
     },
     "execution_count": 112,
     "metadata": {},
     "output_type": "execute_result"
    }
   ],
   "source": [
    "b.decode()  # get a string from bytes"
   ]
  },
  {
   "cell_type": "code",
   "execution_count": 114,
   "id": "d0bd4c73-57bc-466e-8af5-9c83ce878f0e",
   "metadata": {},
   "outputs": [
    {
     "data": {
      "text/plain": [
       "True"
      ]
     },
     "execution_count": 114,
     "metadata": {},
     "output_type": "execute_result"
    }
   ],
   "source": [
    "b = b'abcdefghij'\n",
    "\n",
    "b'j' in b"
   ]
  },
  {
   "cell_type": "code",
   "execution_count": 115,
   "id": "ead1ac3a-b6a3-4760-82fd-b38cd0d1811d",
   "metadata": {},
   "outputs": [
    {
     "data": {
      "text/plain": [
       "True"
      ]
     },
     "execution_count": 115,
     "metadata": {},
     "output_type": "execute_result"
    }
   ],
   "source": [
    "'j' in b.decode()"
   ]
  },
  {
   "cell_type": "code",
   "execution_count": 116,
   "id": "9f0b3865-44eb-4dec-9e2b-2732950f23ee",
   "metadata": {},
   "outputs": [
    {
     "data": {
      "text/plain": [
       "'abcdefghij'"
      ]
     },
     "execution_count": 116,
     "metadata": {},
     "output_type": "execute_result"
    }
   ],
   "source": [
    "b.decode('utf-8')"
   ]
  },
  {
   "cell_type": "code",
   "execution_count": 117,
   "id": "0289bc9b-11c6-4dc1-a7ff-68fda7ddaa8d",
   "metadata": {},
   "outputs": [
    {
     "data": {
      "text/plain": [
       "'abcdefghij'"
      ]
     },
     "execution_count": 117,
     "metadata": {},
     "output_type": "execute_result"
    }
   ],
   "source": [
    "b.decode('latin-1')"
   ]
  },
  {
   "cell_type": "code",
   "execution_count": 120,
   "id": "3e213452-0d82-4552-baff-a5df7419731f",
   "metadata": {},
   "outputs": [
    {
     "data": {
      "text/plain": [
       "'abcdefghij'"
      ]
     },
     "execution_count": 120,
     "metadata": {},
     "output_type": "execute_result"
    }
   ],
   "source": [
    "b.decode('cp1251')"
   ]
  },
  {
   "cell_type": "code",
   "execution_count": 122,
   "id": "b00f5eec-a249-4aea-9ec7-0dca71d62059",
   "metadata": {},
   "outputs": [
    {
     "data": {
      "text/plain": [
       "26"
      ]
     },
     "execution_count": 122,
     "metadata": {},
     "output_type": "execute_result"
    }
   ],
   "source": [
    "s = 'abcdefghijklmnopqrstuvwxyz'\n",
    "len(s)"
   ]
  },
  {
   "cell_type": "code",
   "execution_count": 123,
   "id": "285a2aa6-d343-4a8c-84f3-cbf62c189fd0",
   "metadata": {},
   "outputs": [
    {
     "data": {
      "text/plain": [
       "'a'"
      ]
     },
     "execution_count": 123,
     "metadata": {},
     "output_type": "execute_result"
    }
   ],
   "source": [
    "s[0]  "
   ]
  },
  {
   "cell_type": "code",
   "execution_count": 124,
   "id": "9cd890af-df24-40b5-ada9-4887ef2369c3",
   "metadata": {},
   "outputs": [
    {
     "data": {
      "text/plain": [
       "'klmnopqrst'"
      ]
     },
     "execution_count": 124,
     "metadata": {},
     "output_type": "execute_result"
    }
   ],
   "source": [
    "s[10:20]   # slice -- start:end+1"
   ]
  },
  {
   "cell_type": "code",
   "execution_count": 125,
   "id": "3074d85d-2456-4cbe-8b88-025ccb653722",
   "metadata": {},
   "outputs": [
    {
     "data": {
      "text/plain": [
       "'abcdefghijklmnopqrst'"
      ]
     },
     "execution_count": 125,
     "metadata": {},
     "output_type": "execute_result"
    }
   ],
   "source": [
    "s[:20]    # slice "
   ]
  },
  {
   "cell_type": "code",
   "execution_count": 126,
   "id": "2ce61168-ea5a-49bd-bd2b-644aec55a8e2",
   "metadata": {},
   "outputs": [
    {
     "data": {
      "text/plain": [
       "'uvwxyz'"
      ]
     },
     "execution_count": 126,
     "metadata": {},
     "output_type": "execute_result"
    }
   ],
   "source": [
    "s[20:]"
   ]
  },
  {
   "cell_type": "code",
   "execution_count": 127,
   "id": "f86db25d-6ab9-42f1-b123-abf079d65ad1",
   "metadata": {},
   "outputs": [
    {
     "data": {
      "text/plain": [
       "'filor'"
      ]
     },
     "execution_count": 127,
     "metadata": {},
     "output_type": "execute_result"
    }
   ],
   "source": [
    "s[5:20:3]"
   ]
  },
  {
   "cell_type": "code",
   "execution_count": 128,
   "id": "03f161b7-58b3-43e8-94a6-04b763f8f317",
   "metadata": {},
   "outputs": [
    {
     "data": {
      "text/plain": [
       "'zyxwvutsrqponmlkjihgfedcba'"
      ]
     },
     "execution_count": 128,
     "metadata": {},
     "output_type": "execute_result"
    }
   ],
   "source": [
    "s[::-1]"
   ]
  },
  {
   "cell_type": "code",
   "execution_count": 129,
   "id": "9653f18c-f4fc-4589-8c46-0c915d691e5e",
   "metadata": {},
   "outputs": [],
   "source": [
    "# strings are immutable"
   ]
  },
  {
   "cell_type": "code",
   "execution_count": 130,
   "id": "1152b8b2-87f6-48ec-9fb5-eedb68f53e04",
   "metadata": {},
   "outputs": [
    {
     "ename": "TypeError",
     "evalue": "'str' object does not support item assignment",
     "output_type": "error",
     "traceback": [
      "\u001b[0;31m---------------------------------------------------------------------------\u001b[0m",
      "\u001b[0;31mTypeError\u001b[0m                                 Traceback (most recent call last)",
      "\u001b[0;32m<ipython-input-130-3440f1d97fd8>\u001b[0m in \u001b[0;36m<module>\u001b[0;34m\u001b[0m\n\u001b[0;32m----> 1\u001b[0;31m \u001b[0ms\u001b[0m\u001b[0;34m[\u001b[0m\u001b[0;36m0\u001b[0m\u001b[0;34m]\u001b[0m \u001b[0;34m=\u001b[0m \u001b[0;34m'!'\u001b[0m\u001b[0;34m\u001b[0m\u001b[0;34m\u001b[0m\u001b[0m\n\u001b[0m",
      "\u001b[0;31mTypeError\u001b[0m: 'str' object does not support item assignment"
     ]
    }
   ],
   "source": [
    "s[0] = '!'"
   ]
  },
  {
   "cell_type": "code",
   "execution_count": 132,
   "id": "2a5e54a0-2f31-469e-9d88-39d3a07c9f42",
   "metadata": {},
   "outputs": [
    {
     "name": "stdout",
     "output_type": "stream",
     "text": [
      "4679488880\n",
      "4679491760\n"
     ]
    }
   ],
   "source": [
    "s = 'abcd'\n",
    "print(id(s))\n",
    "s += 'efgh'\n",
    "print(id(s))\n"
   ]
  },
  {
   "cell_type": "code",
   "execution_count": 133,
   "id": "0638fa38-bef8-47f4-b1c2-d7eabc46064e",
   "metadata": {},
   "outputs": [],
   "source": [
    "# sequence -- string, list, tuple"
   ]
  },
  {
   "cell_type": "markdown",
   "id": "8d103017-4a76-47d4-bcf3-2552fd1df6ba",
   "metadata": {},
   "source": [
    "How to install Jupyter\n",
    "\n",
    "https://www.youtube.com/watch?v=i2zM8OwxZok&t=10s"
   ]
  },
  {
   "cell_type": "code",
   "execution_count": 135,
   "id": "becf8fba-704b-418d-8547-3ef3a2e8f294",
   "metadata": {},
   "outputs": [
    {
     "data": {
      "text/plain": [
       "49"
      ]
     },
     "execution_count": 135,
     "metadata": {},
     "output_type": "execute_result"
    }
   ],
   "source": [
    "s = ''\n",
    "getsizeof(s)"
   ]
  },
  {
   "cell_type": "code",
   "execution_count": 136,
   "id": "7b6c1fca-278a-4355-a4b0-3bdf6eaa1415",
   "metadata": {},
   "outputs": [
    {
     "data": {
      "text/plain": [
       "50"
      ]
     },
     "execution_count": 136,
     "metadata": {},
     "output_type": "execute_result"
    }
   ],
   "source": [
    "s = 'a'\n",
    "getsizeof(s)"
   ]
  },
  {
   "cell_type": "code",
   "execution_count": 137,
   "id": "db91feb5-06a3-438a-86ad-f219377d162c",
   "metadata": {},
   "outputs": [
    {
     "data": {
      "text/plain": [
       "1"
      ]
     },
     "execution_count": 137,
     "metadata": {},
     "output_type": "execute_result"
    }
   ],
   "source": [
    "len(s)"
   ]
  },
  {
   "cell_type": "markdown",
   "id": "c8b86c76-a0e8-44b3-a2d8-0fe3b9460527",
   "metadata": {},
   "source": [
    "# Sequences -- they all do the following:\n",
    "\n",
    "- `[i]` to retrieve something at index `i`\n",
    "- `[start:end:step]` to get a slice\n",
    "- `in` to search\n",
    "- loop with `for` over the elements\n",
    "- `index` and `count` methods"
   ]
  },
  {
   "cell_type": "raw",
   "id": "c5fa0169-d7d9-4003-84cb-bba5a9b49839",
   "metadata": {},
   "source": [
    "       mutable/immutable         contents\n",
    "str        immutable               string\n",
    "list        mutable                anything   -- items of the same type\n",
    "tuple      immutable               anything   -- items of different types -- record/struct"
   ]
  },
  {
   "cell_type": "code",
   "execution_count": 138,
   "id": "0e2718d4-0eef-4583-92fa-bf697471f4ab",
   "metadata": {},
   "outputs": [
    {
     "data": {
      "text/plain": [
       "3"
      ]
     },
     "execution_count": 138,
     "metadata": {},
     "output_type": "execute_result"
    }
   ],
   "source": [
    "mylist = [10, 20, 30]\n",
    "len(mylist)"
   ]
  },
  {
   "cell_type": "code",
   "execution_count": 139,
   "id": "c5b12185-19e6-40ea-a7d1-67dbdab043db",
   "metadata": {},
   "outputs": [
    {
     "data": {
      "text/plain": [
       "3"
      ]
     },
     "execution_count": 139,
     "metadata": {},
     "output_type": "execute_result"
    }
   ],
   "source": [
    "biglist = [mylist, mylist, mylist]\n",
    "len(biglist)"
   ]
  },
  {
   "cell_type": "code",
   "execution_count": 140,
   "id": "0302ea09-635e-44ad-a364-4257a58d1a4b",
   "metadata": {},
   "outputs": [
    {
     "data": {
      "text/plain": [
       "[[10, 20, 30], [10, 20, 30], [10, 20, 30]]"
      ]
     },
     "execution_count": 140,
     "metadata": {},
     "output_type": "execute_result"
    }
   ],
   "source": [
    "biglist"
   ]
  },
  {
   "cell_type": "code",
   "execution_count": 141,
   "id": "a4c63807-f60e-492a-9ad4-b309e2d94fa1",
   "metadata": {},
   "outputs": [],
   "source": [
    "mylist[0] = '!'"
   ]
  },
  {
   "cell_type": "code",
   "execution_count": 142,
   "id": "3deadf9e-c9f0-4ac1-90d7-0e1d9e6b8367",
   "metadata": {},
   "outputs": [
    {
     "data": {
      "text/plain": [
       "['!', 20, 30]"
      ]
     },
     "execution_count": 142,
     "metadata": {},
     "output_type": "execute_result"
    }
   ],
   "source": [
    "mylist"
   ]
  },
  {
   "cell_type": "code",
   "execution_count": 143,
   "id": "90b663ff-fe45-4be5-9790-4e7d3edd98f2",
   "metadata": {},
   "outputs": [
    {
     "data": {
      "text/plain": [
       "[['!', 20, 30], ['!', 20, 30], ['!', 20, 30]]"
      ]
     },
     "execution_count": 143,
     "metadata": {},
     "output_type": "execute_result"
    }
   ],
   "source": [
    "biglist"
   ]
  },
  {
   "cell_type": "code",
   "execution_count": 146,
   "id": "58ec1288-5607-4806-be96-76f16709d173",
   "metadata": {},
   "outputs": [],
   "source": [
    "mylist = [10, 20, 30] * 3"
   ]
  },
  {
   "cell_type": "code",
   "execution_count": 147,
   "id": "905096f0-cc54-4a21-a4d1-95aeae6506ec",
   "metadata": {},
   "outputs": [
    {
     "data": {
      "text/plain": [
       "[10, 20, 30, 10, 20, 30, 10, 20, 30]"
      ]
     },
     "execution_count": 147,
     "metadata": {},
     "output_type": "execute_result"
    }
   ],
   "source": [
    "mylist"
   ]
  },
  {
   "cell_type": "code",
   "execution_count": 152,
   "id": "02c2424a-ded1-4094-a6c7-8f19c6ed08d4",
   "metadata": {},
   "outputs": [],
   "source": [
    "mylist = [10, 20, 30]\n",
    "\n",
    "biglist = [mylist * 3]"
   ]
  },
  {
   "cell_type": "code",
   "execution_count": 153,
   "id": "80fcc0e2-a6e9-47af-a236-efbf02e1be3c",
   "metadata": {},
   "outputs": [
    {
     "data": {
      "text/plain": [
       "[[10, 20, 30, 10, 20, 30, 10, 20, 30]]"
      ]
     },
     "execution_count": 153,
     "metadata": {},
     "output_type": "execute_result"
    }
   ],
   "source": [
    "biglist"
   ]
  },
  {
   "cell_type": "code",
   "execution_count": 154,
   "id": "c24e7d7c-fb32-4973-ac58-2c35de9c6125",
   "metadata": {},
   "outputs": [
    {
     "data": {
      "text/plain": [
       "56"
      ]
     },
     "execution_count": 154,
     "metadata": {},
     "output_type": "execute_result"
    }
   ],
   "source": [
    "mylist = []\n",
    "getsizeof(mylist)"
   ]
  },
  {
   "cell_type": "code",
   "execution_count": 155,
   "id": "7b3f8114-2cfb-47f5-8698-714a88a5c91f",
   "metadata": {},
   "outputs": [
    {
     "data": {
      "text/plain": [
       "88"
      ]
     },
     "execution_count": 155,
     "metadata": {},
     "output_type": "execute_result"
    }
   ],
   "source": [
    "mylist.append(10)\n",
    "getsizeof(mylist)"
   ]
  },
  {
   "cell_type": "code",
   "execution_count": 156,
   "id": "622d6df4-20f6-4471-943f-db132cf665a8",
   "metadata": {},
   "outputs": [
    {
     "data": {
      "text/plain": [
       "88"
      ]
     },
     "execution_count": 156,
     "metadata": {},
     "output_type": "execute_result"
    }
   ],
   "source": [
    "mylist.append(20)\n",
    "getsizeof(mylist)"
   ]
  },
  {
   "cell_type": "code",
   "execution_count": 157,
   "id": "ceb9cb54-f260-4f5b-8157-e15db536e73c",
   "metadata": {},
   "outputs": [
    {
     "name": "stdout",
     "output_type": "stream",
     "text": [
      "len(mylist)=0, i=0, 56\n",
      "len(mylist)=1, i=1, 88\n",
      "len(mylist)=2, i=2, 88\n",
      "len(mylist)=3, i=3, 88\n",
      "len(mylist)=4, i=4, 88\n",
      "len(mylist)=5, i=5, 120\n",
      "len(mylist)=6, i=6, 120\n",
      "len(mylist)=7, i=7, 120\n",
      "len(mylist)=8, i=8, 120\n",
      "len(mylist)=9, i=9, 184\n",
      "len(mylist)=10, i=10, 184\n",
      "len(mylist)=11, i=11, 184\n",
      "len(mylist)=12, i=12, 184\n",
      "len(mylist)=13, i=13, 184\n",
      "len(mylist)=14, i=14, 184\n",
      "len(mylist)=15, i=15, 184\n",
      "len(mylist)=16, i=16, 184\n",
      "len(mylist)=17, i=17, 248\n",
      "len(mylist)=18, i=18, 248\n",
      "len(mylist)=19, i=19, 248\n",
      "len(mylist)=20, i=20, 248\n",
      "len(mylist)=21, i=21, 248\n",
      "len(mylist)=22, i=22, 248\n",
      "len(mylist)=23, i=23, 248\n",
      "len(mylist)=24, i=24, 248\n",
      "len(mylist)=25, i=25, 312\n",
      "len(mylist)=26, i=26, 312\n",
      "len(mylist)=27, i=27, 312\n",
      "len(mylist)=28, i=28, 312\n",
      "len(mylist)=29, i=29, 312\n"
     ]
    }
   ],
   "source": [
    "mylist = []\n",
    "for i in range(30):\n",
    "    print(f'{len(mylist)=}, {i=}, {getsizeof(mylist)}')\n",
    "    mylist.append(i)"
   ]
  },
  {
   "cell_type": "code",
   "execution_count": null,
   "id": "452746dc-4274-4602-9641-e05d96954b91",
   "metadata": {},
   "outputs": [],
   "source": []
  }
 ],
 "metadata": {
  "kernelspec": {
   "display_name": "Python 3",
   "language": "python",
   "name": "python3"
  },
  "language_info": {
   "codemirror_mode": {
    "name": "ipython",
    "version": 3
   },
   "file_extension": ".py",
   "mimetype": "text/x-python",
   "name": "python",
   "nbconvert_exporter": "python",
   "pygments_lexer": "ipython3",
   "version": "3.9.9"
  }
 },
 "nbformat": 4,
 "nbformat_minor": 5
}
