{
 "cells": [
  {
   "cell_type": "markdown",
   "id": "9cca8d18-8619-48e9-a700-22929b4a4bf4",
   "metadata": {},
   "source": [
    "# Agenda\n",
    "\n",
    "1. Data structures\n",
    "2. Functions\n",
    "3. Functional programming\n",
    "4. Modules + packages\n",
    "5. Objects\n",
    "6. Iterator + generators\n",
    "7. Decorators\n",
    "8. Threading, processes, asyncio\n"
   ]
  },
  {
   "cell_type": "code",
   "execution_count": null,
   "id": "ac6d3d6d-7ada-486b-a8c3-bc0d3c89d0b7",
   "metadata": {},
   "outputs": [],
   "source": [
    "x = None"
   ]
  },
  {
   "cell_type": "code",
   "execution_count": null,
   "id": "da70d4e9-71d1-4898-8c9b-3fb0c37fe67b",
   "metadata": {},
   "outputs": [],
   "source": []
  }
 ],
 "metadata": {
  "kernelspec": {
   "display_name": "Python 3 (ipykernel)",
   "language": "python",
   "name": "python3"
  },
  "language_info": {
   "name": ""
  }
 },
 "nbformat": 4,
 "nbformat_minor": 5
}
