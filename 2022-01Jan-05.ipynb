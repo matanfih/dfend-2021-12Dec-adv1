{
 "cells": [
  {
   "cell_type": "markdown",
   "id": "83ec0da7",
   "metadata": {},
   "source": [
    "# Agenda\n",
    "\n",
    "1. Descriptors (vs. properties)\n",
    "2. Iterators\n",
    "     - Iterators and classes\n",
    "     - Generator functions\n",
    "     - Generator expressions\n",
    "3. Decorators\n",
    "4. Concurrency\n",
    "    - Threads\n",
    "    - Processes\n",
    "    - Executors"
   ]
  },
  {
   "cell_type": "code",
   "execution_count": 2,
   "id": "05ef8850",
   "metadata": {},
   "outputs": [],
   "source": [
    "d = {'a':1, 'b':2, 'c':3}"
   ]
  },
  {
   "cell_type": "code",
   "execution_count": 3,
   "id": "00b5b132",
   "metadata": {},
   "outputs": [
    {
     "ename": "TypeError",
     "evalue": "unhashable type: 'list'",
     "output_type": "error",
     "traceback": [
      "\u001b[0;31m---------------------------------------------------------------------------\u001b[0m",
      "\u001b[0;31mTypeError\u001b[0m                                 Traceback (most recent call last)",
      "\u001b[0;32m/var/folders/rr/0mnyyv811fs5vyp22gf4fxk00000gn/T/ipykernel_40969/1716297533.py\u001b[0m in \u001b[0;36m<module>\u001b[0;34m\u001b[0m\n\u001b[1;32m      1\u001b[0m \u001b[0mmylist\u001b[0m \u001b[0;34m=\u001b[0m \u001b[0;34m[\u001b[0m\u001b[0;36m100\u001b[0m\u001b[0;34m,\u001b[0m \u001b[0;36m200\u001b[0m\u001b[0;34m,\u001b[0m \u001b[0;36m300\u001b[0m\u001b[0;34m]\u001b[0m\u001b[0;34m\u001b[0m\u001b[0;34m\u001b[0m\u001b[0m\n\u001b[0;32m----> 2\u001b[0;31m \u001b[0md\u001b[0m\u001b[0;34m[\u001b[0m\u001b[0mmylist\u001b[0m\u001b[0;34m]\u001b[0m \u001b[0;34m=\u001b[0m \u001b[0;36m4\u001b[0m\u001b[0;34m\u001b[0m\u001b[0;34m\u001b[0m\u001b[0m\n\u001b[0m",
      "\u001b[0;31mTypeError\u001b[0m: unhashable type: 'list'"
     ]
    }
   ],
   "source": [
    "mylist = [100, 200, 300]\n",
    "d[mylist] = 4"
   ]
  },
  {
   "cell_type": "code",
   "execution_count": 4,
   "id": "6fdc7f3b",
   "metadata": {},
   "outputs": [],
   "source": [
    "t = (10, 20, 30)     # tuple is immutable, thus hashable\n",
    "d[t] = 100"
   ]
  },
  {
   "cell_type": "code",
   "execution_count": 6,
   "id": "d2c03cf0",
   "metadata": {},
   "outputs": [
    {
     "ename": "TypeError",
     "evalue": "unhashable type: 'list'",
     "output_type": "error",
     "traceback": [
      "\u001b[0;31m---------------------------------------------------------------------------\u001b[0m",
      "\u001b[0;31mTypeError\u001b[0m                                 Traceback (most recent call last)",
      "\u001b[0;32m/var/folders/rr/0mnyyv811fs5vyp22gf4fxk00000gn/T/ipykernel_40969/377402531.py\u001b[0m in \u001b[0;36m<module>\u001b[0;34m\u001b[0m\n\u001b[1;32m      1\u001b[0m \u001b[0mt\u001b[0m \u001b[0;34m=\u001b[0m \u001b[0;34m(\u001b[0m\u001b[0;36m10\u001b[0m\u001b[0;34m,\u001b[0m \u001b[0;36m20\u001b[0m\u001b[0;34m,\u001b[0m \u001b[0;34m[\u001b[0m\u001b[0;36m100\u001b[0m\u001b[0;34m,\u001b[0m \u001b[0;36m200\u001b[0m\u001b[0;34m,\u001b[0m \u001b[0;36m300\u001b[0m\u001b[0;34m]\u001b[0m\u001b[0;34m)\u001b[0m  \u001b[0;31m# tuple is immutable, *BUT* contains mutable, so *NOT* hashable\u001b[0m\u001b[0;34m\u001b[0m\u001b[0;34m\u001b[0m\u001b[0m\n\u001b[0;32m----> 2\u001b[0;31m \u001b[0md\u001b[0m\u001b[0;34m[\u001b[0m\u001b[0mt\u001b[0m\u001b[0;34m]\u001b[0m \u001b[0;34m=\u001b[0m \u001b[0;36m100\u001b[0m\u001b[0;34m\u001b[0m\u001b[0;34m\u001b[0m\u001b[0m\n\u001b[0m",
      "\u001b[0;31mTypeError\u001b[0m: unhashable type: 'list'"
     ]
    }
   ],
   "source": [
    "t = (10, 20, [100, 200, 300])  # tuple is immutable, *BUT* contains mutable, so *NOT* hashable\n",
    "d[t] = 100"
   ]
  },
  {
   "cell_type": "code",
   "execution_count": 7,
   "id": "6209ebfb",
   "metadata": {},
   "outputs": [],
   "source": [
    "# mutable and hashable? YES\n",
    "\n",
    "class Person:\n",
    "    def __init__(self, name):\n",
    "        self.name = name\n",
    "        \n",
    "p = Person('Reuven')    \n",
    "\n",
    "d[p] = 100"
   ]
  },
  {
   "cell_type": "code",
   "execution_count": 8,
   "id": "69a9f010",
   "metadata": {},
   "outputs": [
    {
     "data": {
      "text/plain": [
       "'Reuven'"
      ]
     },
     "execution_count": 8,
     "metadata": {},
     "output_type": "execute_result"
    }
   ],
   "source": [
    "p.name"
   ]
  },
  {
   "cell_type": "code",
   "execution_count": 9,
   "id": "fa9eb233",
   "metadata": {},
   "outputs": [],
   "source": [
    "p.name = 'something else'"
   ]
  },
  {
   "cell_type": "code",
   "execution_count": 10,
   "id": "5df1f59f",
   "metadata": {},
   "outputs": [
    {
     "data": {
      "text/plain": [
       "100"
      ]
     },
     "execution_count": 10,
     "metadata": {},
     "output_type": "execute_result"
    }
   ],
   "source": [
    "d[p]"
   ]
  },
  {
   "cell_type": "code",
   "execution_count": 11,
   "id": "9a48cdee",
   "metadata": {},
   "outputs": [
    {
     "data": {
      "text/plain": [
       "284314249"
      ]
     },
     "execution_count": 11,
     "metadata": {},
     "output_type": "execute_result"
    }
   ],
   "source": [
    "hash(p)"
   ]
  },
  {
   "cell_type": "code",
   "execution_count": 12,
   "id": "9382c198",
   "metadata": {},
   "outputs": [
    {
     "data": {
      "text/plain": [
       "4549027984"
      ]
     },
     "execution_count": 12,
     "metadata": {},
     "output_type": "execute_result"
    }
   ],
   "source": [
    "id(p)"
   ]
  },
  {
   "cell_type": "code",
   "execution_count": 13,
   "id": "e8c1a97c",
   "metadata": {},
   "outputs": [],
   "source": [
    "class Person:\n",
    "    def __init__(self, name):\n",
    "        self.name = name\n",
    "        \n",
    "    def __hash__(self):\n",
    "        return hash(self.name)\n",
    "        \n",
    "p = Person('Reuven')    \n",
    "\n",
    "d[p] = 100"
   ]
  },
  {
   "cell_type": "code",
   "execution_count": 14,
   "id": "61e3ff78",
   "metadata": {},
   "outputs": [
    {
     "data": {
      "text/plain": [
       "100"
      ]
     },
     "execution_count": 14,
     "metadata": {},
     "output_type": "execute_result"
    }
   ],
   "source": [
    "d[p]"
   ]
  },
  {
   "cell_type": "code",
   "execution_count": 15,
   "id": "147a1c20",
   "metadata": {},
   "outputs": [],
   "source": [
    "p.name = 'something else'"
   ]
  },
  {
   "cell_type": "code",
   "execution_count": 16,
   "id": "2e1ef98d",
   "metadata": {},
   "outputs": [
    {
     "ename": "KeyError",
     "evalue": "<__main__.Person object at 0x10f24ab30>",
     "output_type": "error",
     "traceback": [
      "\u001b[0;31m---------------------------------------------------------------------------\u001b[0m",
      "\u001b[0;31mKeyError\u001b[0m                                  Traceback (most recent call last)",
      "\u001b[0;32m/var/folders/rr/0mnyyv811fs5vyp22gf4fxk00000gn/T/ipykernel_40969/1085101255.py\u001b[0m in \u001b[0;36m<module>\u001b[0;34m\u001b[0m\n\u001b[0;32m----> 1\u001b[0;31m \u001b[0md\u001b[0m\u001b[0;34m[\u001b[0m\u001b[0mp\u001b[0m\u001b[0;34m]\u001b[0m\u001b[0;34m\u001b[0m\u001b[0;34m\u001b[0m\u001b[0m\n\u001b[0m",
      "\u001b[0;31mKeyError\u001b[0m: <__main__.Person object at 0x10f24ab30>"
     ]
    }
   ],
   "source": [
    "d[p]"
   ]
  },
  {
   "cell_type": "code",
   "execution_count": 17,
   "id": "d291e315",
   "metadata": {},
   "outputs": [],
   "source": [
    "import random\n",
    "\n",
    "class Person:\n",
    "    def __init__(self, name):\n",
    "        self.name = name\n",
    "        \n",
    "    def __hash__(self):\n",
    "        return random.randint(0, 100_000)\n",
    "        \n",
    "p = Person('Reuven')    \n",
    "d[p] = 100"
   ]
  },
  {
   "cell_type": "code",
   "execution_count": 18,
   "id": "16686a49",
   "metadata": {
    "scrolled": true
   },
   "outputs": [
    {
     "ename": "KeyError",
     "evalue": "<__main__.Person object at 0x10f24ae30>",
     "output_type": "error",
     "traceback": [
      "\u001b[0;31m---------------------------------------------------------------------------\u001b[0m",
      "\u001b[0;31mKeyError\u001b[0m                                  Traceback (most recent call last)",
      "\u001b[0;32m/var/folders/rr/0mnyyv811fs5vyp22gf4fxk00000gn/T/ipykernel_40969/1085101255.py\u001b[0m in \u001b[0;36m<module>\u001b[0;34m\u001b[0m\n\u001b[0;32m----> 1\u001b[0;31m \u001b[0md\u001b[0m\u001b[0;34m[\u001b[0m\u001b[0mp\u001b[0m\u001b[0;34m]\u001b[0m\u001b[0;34m\u001b[0m\u001b[0;34m\u001b[0m\u001b[0m\n\u001b[0m",
      "\u001b[0;31mKeyError\u001b[0m: <__main__.Person object at 0x10f24ae30>"
     ]
    }
   ],
   "source": [
    "d[p]"
   ]
  },
  {
   "cell_type": "code",
   "execution_count": 19,
   "id": "18992c5f",
   "metadata": {},
   "outputs": [],
   "source": [
    "# Properties\n",
    "# looks like data, acts like getter/setter\n",
    "\n",
    "class Thermostat:\n",
    "    def __init__(self):\n",
    "        self._temp = 20\n",
    "        \n",
    "    @property\n",
    "    def temp(self):\n",
    "        return self._temp\n",
    "    \n",
    "    @temp.setter\n",
    "    def temp(self, new_temp):\n",
    "        if new_temp < 10:\n",
    "            raise ValueError('Too low!')\n",
    "        \n",
    "        if new_temp > 40:\n",
    "            raise ValueError('Too high!')\n",
    "        \n",
    "        self._temp = new_temp"
   ]
  },
  {
   "cell_type": "code",
   "execution_count": 20,
   "id": "efeb4c0c",
   "metadata": {},
   "outputs": [
    {
     "data": {
      "text/plain": [
       "20"
      ]
     },
     "execution_count": 20,
     "metadata": {},
     "output_type": "execute_result"
    }
   ],
   "source": [
    "t = Thermostat()\n",
    "\n",
    "t.temp"
   ]
  },
  {
   "cell_type": "code",
   "execution_count": 21,
   "id": "20a45acf",
   "metadata": {},
   "outputs": [
    {
     "data": {
      "text/plain": [
       "25"
      ]
     },
     "execution_count": 21,
     "metadata": {},
     "output_type": "execute_result"
    }
   ],
   "source": [
    "t.temp = 25\n",
    "t.temp"
   ]
  },
  {
   "cell_type": "code",
   "execution_count": 22,
   "id": "e3b3eda3",
   "metadata": {},
   "outputs": [
    {
     "ename": "ValueError",
     "evalue": "Too low!",
     "output_type": "error",
     "traceback": [
      "\u001b[0;31m---------------------------------------------------------------------------\u001b[0m",
      "\u001b[0;31mValueError\u001b[0m                                Traceback (most recent call last)",
      "\u001b[0;32m/var/folders/rr/0mnyyv811fs5vyp22gf4fxk00000gn/T/ipykernel_40969/2997630589.py\u001b[0m in \u001b[0;36m<module>\u001b[0;34m\u001b[0m\n\u001b[0;32m----> 1\u001b[0;31m \u001b[0mt\u001b[0m\u001b[0;34m.\u001b[0m\u001b[0mtemp\u001b[0m \u001b[0;34m=\u001b[0m \u001b[0;34m-\u001b[0m\u001b[0;36m10\u001b[0m\u001b[0;34m\u001b[0m\u001b[0;34m\u001b[0m\u001b[0m\n\u001b[0m",
      "\u001b[0;32m/var/folders/rr/0mnyyv811fs5vyp22gf4fxk00000gn/T/ipykernel_40969/2490019334.py\u001b[0m in \u001b[0;36mtemp\u001b[0;34m(self, new_temp)\u001b[0m\n\u001b[1;32m     13\u001b[0m     \u001b[0;32mdef\u001b[0m \u001b[0mtemp\u001b[0m\u001b[0;34m(\u001b[0m\u001b[0mself\u001b[0m\u001b[0;34m,\u001b[0m \u001b[0mnew_temp\u001b[0m\u001b[0;34m)\u001b[0m\u001b[0;34m:\u001b[0m\u001b[0;34m\u001b[0m\u001b[0;34m\u001b[0m\u001b[0m\n\u001b[1;32m     14\u001b[0m         \u001b[0;32mif\u001b[0m \u001b[0mnew_temp\u001b[0m \u001b[0;34m<\u001b[0m \u001b[0;36m10\u001b[0m\u001b[0;34m:\u001b[0m\u001b[0;34m\u001b[0m\u001b[0;34m\u001b[0m\u001b[0m\n\u001b[0;32m---> 15\u001b[0;31m             \u001b[0;32mraise\u001b[0m \u001b[0mValueError\u001b[0m\u001b[0;34m(\u001b[0m\u001b[0;34m'Too low!'\u001b[0m\u001b[0;34m)\u001b[0m\u001b[0;34m\u001b[0m\u001b[0;34m\u001b[0m\u001b[0m\n\u001b[0m\u001b[1;32m     16\u001b[0m \u001b[0;34m\u001b[0m\u001b[0m\n\u001b[1;32m     17\u001b[0m         \u001b[0;32mif\u001b[0m \u001b[0mnew_temp\u001b[0m \u001b[0;34m>\u001b[0m \u001b[0;36m40\u001b[0m\u001b[0;34m:\u001b[0m\u001b[0;34m\u001b[0m\u001b[0;34m\u001b[0m\u001b[0m\n",
      "\u001b[0;31mValueError\u001b[0m: Too low!"
     ]
    }
   ],
   "source": [
    "t.temp = -10"
   ]
  },
  {
   "cell_type": "code",
   "execution_count": 24,
   "id": "c53ab304",
   "metadata": {},
   "outputs": [
    {
     "data": {
      "text/plain": [
       "int"
      ]
     },
     "execution_count": 24,
     "metadata": {},
     "output_type": "execute_result"
    }
   ],
   "source": [
    "type(t.temp)  # request the attribute temp from t, an instance"
   ]
  },
  {
   "cell_type": "code",
   "execution_count": 25,
   "id": "c60fa331",
   "metadata": {},
   "outputs": [
    {
     "data": {
      "text/plain": [
       "property"
      ]
     },
     "execution_count": 25,
     "metadata": {},
     "output_type": "execute_result"
    }
   ],
   "source": [
    "type(Thermostat.temp)  # request the attribute temp from Thermostat, the class"
   ]
  },
  {
   "cell_type": "markdown",
   "id": "ff8983ed",
   "metadata": {},
   "source": [
    "# Descriptor\n",
    "\n",
    "Properties implement the descriptor protocol:\n",
    "\n",
    "- If I have a class attribute,\n",
    "- and I request its via the instance,\n",
    "- and if the object in the class attribute has the `__get__` method,\n",
    "- then the `__get__` method runs, and we get its value."
   ]
  },
  {
   "cell_type": "code",
   "execution_count": 30,
   "id": "3717ffed",
   "metadata": {},
   "outputs": [
    {
     "name": "stdout",
     "output_type": "stream",
     "text": [
      "Called SafeTemp.__get__: instance=<__main__.Thermostat object at 0x11b18bd30>, owner_class=<class '__main__.Thermostat'>\n",
      "Called SafeTemp.__set__: instance=<__main__.Thermostat object at 0x11b18bd30>, new_value=25\n"
     ]
    }
   ],
   "source": [
    "# Properties\n",
    "# looks like data, acts like getter/setter\n",
    "\n",
    "class SafeTemp:\n",
    "    def __init__(self):\n",
    "        self._temp = 20\n",
    "        \n",
    "    def __get__(self, instance, owner_class):\n",
    "        print(f'Called SafeTemp.__get__: {instance=}, {owner_class=}')\n",
    "        return self._temp\n",
    "    \n",
    "    def __set__(self, instance, new_value):\n",
    "        print(f'Called SafeTemp.__set__: {instance=}, {new_value=}')\n",
    "        self._temp = new_value\n",
    "\n",
    "class Thermostat:\n",
    "    temp = SafeTemp()   # class attribute, instance of SafeTemp\n",
    "    \n",
    "t = Thermostat()\n",
    "t.temp  # class attribute, ask for the value via the instance\n",
    "t.temp = 25   # "
   ]
  },
  {
   "cell_type": "code",
   "execution_count": 31,
   "id": "54774c98",
   "metadata": {},
   "outputs": [
    {
     "name": "stdout",
     "output_type": "stream",
     "text": [
      "Called SafeTemp.__get__: instance=<__main__.Thermostat object at 0x11b18bd30>, owner_class=<class '__main__.Thermostat'>\n"
     ]
    },
    {
     "data": {
      "text/plain": [
       "25"
      ]
     },
     "execution_count": 31,
     "metadata": {},
     "output_type": "execute_result"
    }
   ],
   "source": [
    "t.temp"
   ]
  },
  {
   "cell_type": "code",
   "execution_count": 32,
   "id": "c44230f3",
   "metadata": {},
   "outputs": [
    {
     "name": "stdout",
     "output_type": "stream",
     "text": [
      "Called SafeTemp.__set__: instance=<__main__.Thermostat object at 0x11b18bd30>, new_value=20\n"
     ]
    }
   ],
   "source": [
    "t.temp = 20"
   ]
  },
  {
   "cell_type": "code",
   "execution_count": 33,
   "id": "781d4b77",
   "metadata": {},
   "outputs": [
    {
     "data": {
      "text/plain": [
       "20"
      ]
     },
     "execution_count": 33,
     "metadata": {},
     "output_type": "execute_result"
    }
   ],
   "source": [
    "class MyClass:\n",
    "    def __init__(self, x):\n",
    "        self.x = x\n",
    "        \n",
    "    def x2(self):\n",
    "        return self.x * 2\n",
    "    \n",
    "m = MyClass(10)\n",
    "m.x2()"
   ]
  },
  {
   "cell_type": "code",
   "execution_count": 34,
   "id": "4954c286",
   "metadata": {},
   "outputs": [
    {
     "data": {
      "text/plain": [
       "<bound method MyClass.x2 of <__main__.MyClass object at 0x11b18af20>>"
      ]
     },
     "execution_count": 34,
     "metadata": {},
     "output_type": "execute_result"
    }
   ],
   "source": [
    "m.x2"
   ]
  },
  {
   "cell_type": "code",
   "execution_count": null,
   "id": "242b4d32",
   "metadata": {},
   "outputs": [],
   "source": [
    "m.x2()  #  --->  MyClass.x2(m)"
   ]
  },
  {
   "cell_type": "code",
   "execution_count": 35,
   "id": "fd17ae2f",
   "metadata": {},
   "outputs": [
    {
     "data": {
      "text/plain": [
       "mappingproxy({'__module__': '__main__',\n",
       "              '__init__': <function __main__.MyClass.__init__(self, x)>,\n",
       "              'x2': <function __main__.MyClass.x2(self)>,\n",
       "              '__dict__': <attribute '__dict__' of 'MyClass' objects>,\n",
       "              '__weakref__': <attribute '__weakref__' of 'MyClass' objects>,\n",
       "              '__doc__': None})"
      ]
     },
     "execution_count": 35,
     "metadata": {},
     "output_type": "execute_result"
    }
   ],
   "source": [
    "MyClass.__dict__"
   ]
  },
  {
   "cell_type": "code",
   "execution_count": 36,
   "id": "6502b9e5",
   "metadata": {},
   "outputs": [
    {
     "data": {
      "text/plain": [
       "'Hello!'"
      ]
     },
     "execution_count": 36,
     "metadata": {},
     "output_type": "execute_result"
    }
   ],
   "source": [
    "class MyClass:\n",
    "    def __init__(self, x):\n",
    "        self.x = x\n",
    "        \n",
    "    @staticmethod\n",
    "    def hello():\n",
    "        return 'Hello!'\n",
    "    \n",
    "m = MyClass(10)\n",
    "m.hello()"
   ]
  },
  {
   "cell_type": "code",
   "execution_count": 37,
   "id": "01d49e06",
   "metadata": {},
   "outputs": [
    {
     "data": {
      "text/plain": [
       "'Hello!'"
      ]
     },
     "execution_count": 37,
     "metadata": {},
     "output_type": "execute_result"
    }
   ],
   "source": [
    "MyClass.hello()"
   ]
  },
  {
   "cell_type": "code",
   "execution_count": 38,
   "id": "548dfbef",
   "metadata": {},
   "outputs": [
    {
     "data": {
      "text/plain": [
       "function"
      ]
     },
     "execution_count": 38,
     "metadata": {},
     "output_type": "execute_result"
    }
   ],
   "source": [
    "type(MyClass.hello)"
   ]
  },
  {
   "cell_type": "code",
   "execution_count": 39,
   "id": "7cc4a10c",
   "metadata": {},
   "outputs": [
    {
     "data": {
      "text/plain": [
       "function"
      ]
     },
     "execution_count": 39,
     "metadata": {},
     "output_type": "execute_result"
    }
   ],
   "source": [
    "type(m.hello)"
   ]
  },
  {
   "cell_type": "markdown",
   "id": "38fab193",
   "metadata": {},
   "source": [
    "# Iterators"
   ]
  },
  {
   "cell_type": "code",
   "execution_count": 40,
   "id": "bc73d0d0",
   "metadata": {},
   "outputs": [
    {
     "name": "stdout",
     "output_type": "stream",
     "text": [
      "a\n",
      "b\n",
      "c\n",
      "d\n"
     ]
    }
   ],
   "source": [
    "for one_item in 'abcd':\n",
    "    print(one_item)"
   ]
  },
  {
   "cell_type": "code",
   "execution_count": 41,
   "id": "3d03c837",
   "metadata": {},
   "outputs": [
    {
     "ename": "TypeError",
     "evalue": "'int' object is not iterable",
     "output_type": "error",
     "traceback": [
      "\u001b[0;31m---------------------------------------------------------------------------\u001b[0m",
      "\u001b[0;31mTypeError\u001b[0m                                 Traceback (most recent call last)",
      "\u001b[0;32m/var/folders/rr/0mnyyv811fs5vyp22gf4fxk00000gn/T/ipykernel_40969/1987108268.py\u001b[0m in \u001b[0;36m<module>\u001b[0;34m\u001b[0m\n\u001b[0;32m----> 1\u001b[0;31m \u001b[0;32mfor\u001b[0m \u001b[0mone_item\u001b[0m \u001b[0;32min\u001b[0m \u001b[0;36m5\u001b[0m\u001b[0;34m:\u001b[0m\u001b[0;34m\u001b[0m\u001b[0;34m\u001b[0m\u001b[0m\n\u001b[0m\u001b[1;32m      2\u001b[0m     \u001b[0mprint\u001b[0m\u001b[0;34m(\u001b[0m\u001b[0mone_item\u001b[0m\u001b[0;34m)\u001b[0m\u001b[0;34m\u001b[0m\u001b[0;34m\u001b[0m\u001b[0m\n",
      "\u001b[0;31mTypeError\u001b[0m: 'int' object is not iterable"
     ]
    }
   ],
   "source": [
    "for one_item in 5:\n",
    "    print(one_item)"
   ]
  },
  {
   "cell_type": "code",
   "execution_count": 42,
   "id": "4be93b08",
   "metadata": {},
   "outputs": [
    {
     "data": {
      "text/plain": [
       "<str_iterator at 0x11b18bf70>"
      ]
     },
     "execution_count": 42,
     "metadata": {},
     "output_type": "execute_result"
    }
   ],
   "source": [
    "s = 'abcd'\n",
    "\n",
    "# ask if the object is iterable\n",
    "iter('abcd')"
   ]
  },
  {
   "cell_type": "code",
   "execution_count": 43,
   "id": "a6682508",
   "metadata": {},
   "outputs": [
    {
     "data": {
      "text/plain": [
       "<str_iterator at 0x11b18b430>"
      ]
     },
     "execution_count": 43,
     "metadata": {},
     "output_type": "execute_result"
    }
   ],
   "source": [
    "iter('abcd')"
   ]
  },
  {
   "cell_type": "code",
   "execution_count": 44,
   "id": "78adb9d5",
   "metadata": {},
   "outputs": [
    {
     "data": {
      "text/plain": [
       "<str_iterator at 0x11b18b370>"
      ]
     },
     "execution_count": 44,
     "metadata": {},
     "output_type": "execute_result"
    }
   ],
   "source": [
    "iter('abcd')"
   ]
  },
  {
   "cell_type": "code",
   "execution_count": 45,
   "id": "cbff1d97",
   "metadata": {},
   "outputs": [],
   "source": [
    "# if it is iterable, store the iterator object in i\n",
    "i = iter('abcd')"
   ]
  },
  {
   "cell_type": "code",
   "execution_count": 46,
   "id": "23611b6d",
   "metadata": {},
   "outputs": [
    {
     "data": {
      "text/plain": [
       "'a'"
      ]
     },
     "execution_count": 46,
     "metadata": {},
     "output_type": "execute_result"
    }
   ],
   "source": [
    "# ask for the next item\n",
    "next(i)"
   ]
  },
  {
   "cell_type": "code",
   "execution_count": 47,
   "id": "e6fd0bc4",
   "metadata": {},
   "outputs": [
    {
     "data": {
      "text/plain": [
       "'b'"
      ]
     },
     "execution_count": 47,
     "metadata": {},
     "output_type": "execute_result"
    }
   ],
   "source": [
    "next(i)"
   ]
  },
  {
   "cell_type": "code",
   "execution_count": 48,
   "id": "97b3a0d5",
   "metadata": {},
   "outputs": [
    {
     "data": {
      "text/plain": [
       "'c'"
      ]
     },
     "execution_count": 48,
     "metadata": {},
     "output_type": "execute_result"
    }
   ],
   "source": [
    "next(i)"
   ]
  },
  {
   "cell_type": "code",
   "execution_count": 49,
   "id": "9fc4affe",
   "metadata": {},
   "outputs": [
    {
     "data": {
      "text/plain": [
       "'d'"
      ]
     },
     "execution_count": 49,
     "metadata": {},
     "output_type": "execute_result"
    }
   ],
   "source": [
    "next(i)"
   ]
  },
  {
   "cell_type": "code",
   "execution_count": 50,
   "id": "018f2ddd",
   "metadata": {},
   "outputs": [
    {
     "ename": "StopIteration",
     "evalue": "",
     "output_type": "error",
     "traceback": [
      "\u001b[0;31m---------------------------------------------------------------------------\u001b[0m",
      "\u001b[0;31mStopIteration\u001b[0m                             Traceback (most recent call last)",
      "\u001b[0;32m/var/folders/rr/0mnyyv811fs5vyp22gf4fxk00000gn/T/ipykernel_40969/1939748483.py\u001b[0m in \u001b[0;36m<module>\u001b[0;34m\u001b[0m\n\u001b[0;32m----> 1\u001b[0;31m \u001b[0mnext\u001b[0m\u001b[0;34m(\u001b[0m\u001b[0mi\u001b[0m\u001b[0;34m)\u001b[0m\u001b[0;34m\u001b[0m\u001b[0;34m\u001b[0m\u001b[0m\n\u001b[0m",
      "\u001b[0;31mStopIteration\u001b[0m: "
     ]
    }
   ],
   "source": [
    "next(i)"
   ]
  },
  {
   "cell_type": "markdown",
   "id": "b0e4647a",
   "metadata": {},
   "source": [
    "1. Ask for an object's iterator with `iter`\n",
    "   - If not iterable, we get a `TypeError` exception\n",
    "   - If iterable, we get an iterator object back\n",
    "2. Run `next` on that iterator that we got back\n",
    "   - If we get a `StopIteration` exception, we stop\n",
    "   - Or we get an object back, the next value\n",
    "-    "
   ]
  }
 ],
 "metadata": {
  "kernelspec": {
   "display_name": "Python 3 (ipykernel)",
   "language": "python",
   "name": "python3"
  },
  "language_info": {
   "codemirror_mode": {
    "name": "ipython",
    "version": 3
   },
   "file_extension": ".py",
   "mimetype": "text/x-python",
   "name": "python",
   "nbconvert_exporter": "python",
   "pygments_lexer": "ipython3",
   "version": "3.10.1"
  }
 },
 "nbformat": 4,
 "nbformat_minor": 5
}
