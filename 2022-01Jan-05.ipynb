{
 "cells": [
  {
   "cell_type": "markdown",
   "id": "5083334d",
   "metadata": {},
   "source": [
    "# Agenda\n",
    "\n",
    "1. Descriptors (vs. properties)\n",
    "2. Iterators\n",
    "     - Iterators and classes\n",
    "     - Generator functions\n",
    "     - Generator expressions\n",
    "3. Decorators\n",
    "4. Concurrency\n",
    "    - Threads\n",
    "    - Processes\n",
    "    - Executors"
   ]
  },
  {
   "cell_type": "code",
   "execution_count": 2,
   "id": "a35a17b7",
   "metadata": {},
   "outputs": [],
   "source": [
    "d = {'a':1, 'b':2, 'c':3}"
   ]
  },
  {
   "cell_type": "code",
   "execution_count": 3,
   "id": "c9b1f055",
   "metadata": {},
   "outputs": [
    {
     "ename": "TypeError",
     "evalue": "unhashable type: 'list'",
     "output_type": "error",
     "traceback": [
      "\u001b[0;31m---------------------------------------------------------------------------\u001b[0m",
      "\u001b[0;31mTypeError\u001b[0m                                 Traceback (most recent call last)",
      "\u001b[0;32m/var/folders/rr/0mnyyv811fs5vyp22gf4fxk00000gn/T/ipykernel_40969/1716297533.py\u001b[0m in \u001b[0;36m<module>\u001b[0;34m\u001b[0m\n\u001b[1;32m      1\u001b[0m \u001b[0mmylist\u001b[0m \u001b[0;34m=\u001b[0m \u001b[0;34m[\u001b[0m\u001b[0;36m100\u001b[0m\u001b[0;34m,\u001b[0m \u001b[0;36m200\u001b[0m\u001b[0;34m,\u001b[0m \u001b[0;36m300\u001b[0m\u001b[0;34m]\u001b[0m\u001b[0;34m\u001b[0m\u001b[0;34m\u001b[0m\u001b[0m\n\u001b[0;32m----> 2\u001b[0;31m \u001b[0md\u001b[0m\u001b[0;34m[\u001b[0m\u001b[0mmylist\u001b[0m\u001b[0;34m]\u001b[0m \u001b[0;34m=\u001b[0m \u001b[0;36m4\u001b[0m\u001b[0;34m\u001b[0m\u001b[0;34m\u001b[0m\u001b[0m\n\u001b[0m",
      "\u001b[0;31mTypeError\u001b[0m: unhashable type: 'list'"
     ]
    }
   ],
   "source": [
    "mylist = [100, 200, 300]\n",
    "d[mylist] = 4"
   ]
  },
  {
   "cell_type": "code",
   "execution_count": 4,
   "id": "10a39cec",
   "metadata": {},
   "outputs": [],
   "source": [
    "t = (10, 20, 30)     # tuple is immutable, thus hashable\n",
    "d[t] = 100"
   ]
  },
  {
   "cell_type": "code",
   "execution_count": 6,
   "id": "ee8d02a6",
   "metadata": {},
   "outputs": [
    {
     "ename": "TypeError",
     "evalue": "unhashable type: 'list'",
     "output_type": "error",
     "traceback": [
      "\u001b[0;31m---------------------------------------------------------------------------\u001b[0m",
      "\u001b[0;31mTypeError\u001b[0m                                 Traceback (most recent call last)",
      "\u001b[0;32m/var/folders/rr/0mnyyv811fs5vyp22gf4fxk00000gn/T/ipykernel_40969/377402531.py\u001b[0m in \u001b[0;36m<module>\u001b[0;34m\u001b[0m\n\u001b[1;32m      1\u001b[0m \u001b[0mt\u001b[0m \u001b[0;34m=\u001b[0m \u001b[0;34m(\u001b[0m\u001b[0;36m10\u001b[0m\u001b[0;34m,\u001b[0m \u001b[0;36m20\u001b[0m\u001b[0;34m,\u001b[0m \u001b[0;34m[\u001b[0m\u001b[0;36m100\u001b[0m\u001b[0;34m,\u001b[0m \u001b[0;36m200\u001b[0m\u001b[0;34m,\u001b[0m \u001b[0;36m300\u001b[0m\u001b[0;34m]\u001b[0m\u001b[0;34m)\u001b[0m  \u001b[0;31m# tuple is immutable, *BUT* contains mutable, so *NOT* hashable\u001b[0m\u001b[0;34m\u001b[0m\u001b[0;34m\u001b[0m\u001b[0m\n\u001b[0;32m----> 2\u001b[0;31m \u001b[0md\u001b[0m\u001b[0;34m[\u001b[0m\u001b[0mt\u001b[0m\u001b[0;34m]\u001b[0m \u001b[0;34m=\u001b[0m \u001b[0;36m100\u001b[0m\u001b[0;34m\u001b[0m\u001b[0;34m\u001b[0m\u001b[0m\n\u001b[0m",
      "\u001b[0;31mTypeError\u001b[0m: unhashable type: 'list'"
     ]
    }
   ],
   "source": [
    "t = (10, 20, [100, 200, 300])  # tuple is immutable, *BUT* contains mutable, so *NOT* hashable\n",
    "d[t] = 100"
   ]
  },
  {
   "cell_type": "code",
   "execution_count": 7,
   "id": "e90570f7",
   "metadata": {},
   "outputs": [],
   "source": [
    "# mutable and hashable? YES\n",
    "\n",
    "class Person:\n",
    "    def __init__(self, name):\n",
    "        self.name = name\n",
    "        \n",
    "p = Person('Reuven')    \n",
    "\n",
    "d[p] = 100"
   ]
  },
  {
   "cell_type": "code",
   "execution_count": 8,
   "id": "4b4aa8d1",
   "metadata": {},
   "outputs": [
    {
     "data": {
      "text/plain": [
       "'Reuven'"
      ]
     },
     "execution_count": 8,
     "metadata": {},
     "output_type": "execute_result"
    }
   ],
   "source": [
    "p.name"
   ]
  },
  {
   "cell_type": "code",
   "execution_count": 9,
   "id": "be69e22d",
   "metadata": {},
   "outputs": [],
   "source": [
    "p.name = 'something else'"
   ]
  },
  {
   "cell_type": "code",
   "execution_count": 10,
   "id": "66104895",
   "metadata": {},
   "outputs": [
    {
     "data": {
      "text/plain": [
       "100"
      ]
     },
     "execution_count": 10,
     "metadata": {},
     "output_type": "execute_result"
    }
   ],
   "source": [
    "d[p]"
   ]
  },
  {
   "cell_type": "code",
   "execution_count": 11,
   "id": "d40e653e",
   "metadata": {},
   "outputs": [
    {
     "data": {
      "text/plain": [
       "284314249"
      ]
     },
     "execution_count": 11,
     "metadata": {},
     "output_type": "execute_result"
    }
   ],
   "source": [
    "hash(p)"
   ]
  },
  {
   "cell_type": "code",
   "execution_count": 12,
   "id": "36b82d7b",
   "metadata": {},
   "outputs": [
    {
     "data": {
      "text/plain": [
       "4549027984"
      ]
     },
     "execution_count": 12,
     "metadata": {},
     "output_type": "execute_result"
    }
   ],
   "source": [
    "id(p)"
   ]
  },
  {
   "cell_type": "code",
   "execution_count": 13,
   "id": "d7e83a08",
   "metadata": {},
   "outputs": [],
   "source": [
    "class Person:\n",
    "    def __init__(self, name):\n",
    "        self.name = name\n",
    "        \n",
    "    def __hash__(self):\n",
    "        return hash(self.name)\n",
    "        \n",
    "p = Person('Reuven')    \n",
    "\n",
    "d[p] = 100"
   ]
  },
  {
   "cell_type": "code",
   "execution_count": 14,
   "id": "728c0d48",
   "metadata": {},
   "outputs": [
    {
     "data": {
      "text/plain": [
       "100"
      ]
     },
     "execution_count": 14,
     "metadata": {},
     "output_type": "execute_result"
    }
   ],
   "source": [
    "d[p]"
   ]
  },
  {
   "cell_type": "code",
   "execution_count": 15,
   "id": "0202eb4a",
   "metadata": {},
   "outputs": [],
   "source": [
    "p.name = 'something else'"
   ]
  },
  {
   "cell_type": "code",
   "execution_count": 16,
   "id": "da819be7",
   "metadata": {},
   "outputs": [
    {
     "ename": "KeyError",
     "evalue": "<__main__.Person object at 0x10f24ab30>",
     "output_type": "error",
     "traceback": [
      "\u001b[0;31m---------------------------------------------------------------------------\u001b[0m",
      "\u001b[0;31mKeyError\u001b[0m                                  Traceback (most recent call last)",
      "\u001b[0;32m/var/folders/rr/0mnyyv811fs5vyp22gf4fxk00000gn/T/ipykernel_40969/1085101255.py\u001b[0m in \u001b[0;36m<module>\u001b[0;34m\u001b[0m\n\u001b[0;32m----> 1\u001b[0;31m \u001b[0md\u001b[0m\u001b[0;34m[\u001b[0m\u001b[0mp\u001b[0m\u001b[0;34m]\u001b[0m\u001b[0;34m\u001b[0m\u001b[0;34m\u001b[0m\u001b[0m\n\u001b[0m",
      "\u001b[0;31mKeyError\u001b[0m: <__main__.Person object at 0x10f24ab30>"
     ]
    }
   ],
   "source": [
    "d[p]"
   ]
  },
  {
   "cell_type": "code",
   "execution_count": 17,
   "id": "446bb0b2",
   "metadata": {},
   "outputs": [],
   "source": [
    "import random\n",
    "\n",
    "class Person:\n",
    "    def __init__(self, name):\n",
    "        self.name = name\n",
    "        \n",
    "    def __hash__(self):\n",
    "        return random.randint(0, 100_000)\n",
    "        \n",
    "p = Person('Reuven')    \n",
    "d[p] = 100"
   ]
  },
  {
   "cell_type": "code",
   "execution_count": 18,
   "id": "9414e772",
   "metadata": {
    "scrolled": true
   },
   "outputs": [
    {
     "ename": "KeyError",
     "evalue": "<__main__.Person object at 0x10f24ae30>",
     "output_type": "error",
     "traceback": [
      "\u001b[0;31m---------------------------------------------------------------------------\u001b[0m",
      "\u001b[0;31mKeyError\u001b[0m                                  Traceback (most recent call last)",
      "\u001b[0;32m/var/folders/rr/0mnyyv811fs5vyp22gf4fxk00000gn/T/ipykernel_40969/1085101255.py\u001b[0m in \u001b[0;36m<module>\u001b[0;34m\u001b[0m\n\u001b[0;32m----> 1\u001b[0;31m \u001b[0md\u001b[0m\u001b[0;34m[\u001b[0m\u001b[0mp\u001b[0m\u001b[0;34m]\u001b[0m\u001b[0;34m\u001b[0m\u001b[0;34m\u001b[0m\u001b[0m\n\u001b[0m",
      "\u001b[0;31mKeyError\u001b[0m: <__main__.Person object at 0x10f24ae30>"
     ]
    }
   ],
   "source": [
    "d[p]"
   ]
  },
  {
   "cell_type": "code",
   "execution_count": 19,
   "id": "e18af762",
   "metadata": {},
   "outputs": [],
   "source": [
    "# Properties\n",
    "# looks like data, acts like getter/setter\n",
    "\n",
    "class Thermostat:\n",
    "    def __init__(self):\n",
    "        self._temp = 20\n",
    "        \n",
    "    @property\n",
    "    def temp(self):\n",
    "        return self._temp\n",
    "    \n",
    "    @temp.setter\n",
    "    def temp(self, new_temp):\n",
    "        if new_temp < 10:\n",
    "            raise ValueError('Too low!')\n",
    "        \n",
    "        if new_temp > 40:\n",
    "            raise ValueError('Too high!')\n",
    "        \n",
    "        self._temp = new_temp"
   ]
  },
  {
   "cell_type": "code",
   "execution_count": 20,
   "id": "fe49e6fd",
   "metadata": {},
   "outputs": [
    {
     "data": {
      "text/plain": [
       "20"
      ]
     },
     "execution_count": 20,
     "metadata": {},
     "output_type": "execute_result"
    }
   ],
   "source": [
    "t = Thermostat()\n",
    "\n",
    "t.temp"
   ]
  },
  {
   "cell_type": "code",
   "execution_count": 21,
   "id": "1b48e0ed",
   "metadata": {},
   "outputs": [
    {
     "data": {
      "text/plain": [
       "25"
      ]
     },
     "execution_count": 21,
     "metadata": {},
     "output_type": "execute_result"
    }
   ],
   "source": [
    "t.temp = 25\n",
    "t.temp"
   ]
  },
  {
   "cell_type": "code",
   "execution_count": 22,
   "id": "9b64eac3",
   "metadata": {},
   "outputs": [
    {
     "ename": "ValueError",
     "evalue": "Too low!",
     "output_type": "error",
     "traceback": [
      "\u001b[0;31m---------------------------------------------------------------------------\u001b[0m",
      "\u001b[0;31mValueError\u001b[0m                                Traceback (most recent call last)",
      "\u001b[0;32m/var/folders/rr/0mnyyv811fs5vyp22gf4fxk00000gn/T/ipykernel_40969/2997630589.py\u001b[0m in \u001b[0;36m<module>\u001b[0;34m\u001b[0m\n\u001b[0;32m----> 1\u001b[0;31m \u001b[0mt\u001b[0m\u001b[0;34m.\u001b[0m\u001b[0mtemp\u001b[0m \u001b[0;34m=\u001b[0m \u001b[0;34m-\u001b[0m\u001b[0;36m10\u001b[0m\u001b[0;34m\u001b[0m\u001b[0;34m\u001b[0m\u001b[0m\n\u001b[0m",
      "\u001b[0;32m/var/folders/rr/0mnyyv811fs5vyp22gf4fxk00000gn/T/ipykernel_40969/2490019334.py\u001b[0m in \u001b[0;36mtemp\u001b[0;34m(self, new_temp)\u001b[0m\n\u001b[1;32m     13\u001b[0m     \u001b[0;32mdef\u001b[0m \u001b[0mtemp\u001b[0m\u001b[0;34m(\u001b[0m\u001b[0mself\u001b[0m\u001b[0;34m,\u001b[0m \u001b[0mnew_temp\u001b[0m\u001b[0;34m)\u001b[0m\u001b[0;34m:\u001b[0m\u001b[0;34m\u001b[0m\u001b[0;34m\u001b[0m\u001b[0m\n\u001b[1;32m     14\u001b[0m         \u001b[0;32mif\u001b[0m \u001b[0mnew_temp\u001b[0m \u001b[0;34m<\u001b[0m \u001b[0;36m10\u001b[0m\u001b[0;34m:\u001b[0m\u001b[0;34m\u001b[0m\u001b[0;34m\u001b[0m\u001b[0m\n\u001b[0;32m---> 15\u001b[0;31m             \u001b[0;32mraise\u001b[0m \u001b[0mValueError\u001b[0m\u001b[0;34m(\u001b[0m\u001b[0;34m'Too low!'\u001b[0m\u001b[0;34m)\u001b[0m\u001b[0;34m\u001b[0m\u001b[0;34m\u001b[0m\u001b[0m\n\u001b[0m\u001b[1;32m     16\u001b[0m \u001b[0;34m\u001b[0m\u001b[0m\n\u001b[1;32m     17\u001b[0m         \u001b[0;32mif\u001b[0m \u001b[0mnew_temp\u001b[0m \u001b[0;34m>\u001b[0m \u001b[0;36m40\u001b[0m\u001b[0;34m:\u001b[0m\u001b[0;34m\u001b[0m\u001b[0;34m\u001b[0m\u001b[0m\n",
      "\u001b[0;31mValueError\u001b[0m: Too low!"
     ]
    }
   ],
   "source": [
    "t.temp = -10"
   ]
  },
  {
   "cell_type": "code",
   "execution_count": 24,
   "id": "2b3ae288",
   "metadata": {},
   "outputs": [
    {
     "data": {
      "text/plain": [
       "int"
      ]
     },
     "execution_count": 24,
     "metadata": {},
     "output_type": "execute_result"
    }
   ],
   "source": [
    "type(t.temp)  # request the attribute temp from t, an instance"
   ]
  },
  {
   "cell_type": "code",
   "execution_count": 25,
   "id": "6f9287f0",
   "metadata": {},
   "outputs": [
    {
     "data": {
      "text/plain": [
       "property"
      ]
     },
     "execution_count": 25,
     "metadata": {},
     "output_type": "execute_result"
    }
   ],
   "source": [
    "type(Thermostat.temp)  # request the attribute temp from Thermostat, the class"
   ]
  },
  {
   "cell_type": "markdown",
   "id": "5d23281f",
   "metadata": {},
   "source": [
    "# Descriptor\n",
    "\n",
    "Properties implement the descriptor protocol:\n",
    "\n",
    "- If I have a class attribute,\n",
    "- and I request its via the instance,\n",
    "- and if the object in the class attribute has the `__get__` method,\n",
    "- then the `__get__` method runs, and we get its value."
   ]
  },
  {
   "cell_type": "code",
   "execution_count": 30,
   "id": "a3008337",
   "metadata": {},
   "outputs": [
    {
     "name": "stdout",
     "output_type": "stream",
     "text": [
      "Called SafeTemp.__get__: instance=<__main__.Thermostat object at 0x11b18bd30>, owner_class=<class '__main__.Thermostat'>\n",
      "Called SafeTemp.__set__: instance=<__main__.Thermostat object at 0x11b18bd30>, new_value=25\n"
     ]
    }
   ],
   "source": [
    "# Properties\n",
    "# looks like data, acts like getter/setter\n",
    "\n",
    "class SafeTemp:\n",
    "    def __init__(self):\n",
    "        self._temp = 20\n",
    "        \n",
    "    def __get__(self, instance, owner_class):\n",
    "        print(f'Called SafeTemp.__get__: {instance=}, {owner_class=}')\n",
    "        return self._temp\n",
    "    \n",
    "    def __set__(self, instance, new_value):\n",
    "        print(f'Called SafeTemp.__set__: {instance=}, {new_value=}')\n",
    "        self._temp = new_value\n",
    "\n",
    "class Thermostat:\n",
    "    temp = SafeTemp()   # class attribute, instance of SafeTemp\n",
    "    \n",
    "t = Thermostat()\n",
    "t.temp  # class attribute, ask for the value via the instance\n",
    "t.temp = 25   # "
   ]
  },
  {
   "cell_type": "code",
   "execution_count": 31,
   "id": "59fd1e97",
   "metadata": {},
   "outputs": [
    {
     "name": "stdout",
     "output_type": "stream",
     "text": [
      "Called SafeTemp.__get__: instance=<__main__.Thermostat object at 0x11b18bd30>, owner_class=<class '__main__.Thermostat'>\n"
     ]
    },
    {
     "data": {
      "text/plain": [
       "25"
      ]
     },
     "execution_count": 31,
     "metadata": {},
     "output_type": "execute_result"
    }
   ],
   "source": [
    "t.temp"
   ]
  },
  {
   "cell_type": "code",
   "execution_count": 32,
   "id": "bbdf00cb",
   "metadata": {},
   "outputs": [
    {
     "name": "stdout",
     "output_type": "stream",
     "text": [
      "Called SafeTemp.__set__: instance=<__main__.Thermostat object at 0x11b18bd30>, new_value=20\n"
     ]
    }
   ],
   "source": [
    "t.temp = 20"
   ]
  },
  {
   "cell_type": "code",
   "execution_count": 33,
   "id": "2ac2db59",
   "metadata": {},
   "outputs": [
    {
     "data": {
      "text/plain": [
       "20"
      ]
     },
     "execution_count": 33,
     "metadata": {},
     "output_type": "execute_result"
    }
   ],
   "source": [
    "class MyClass:\n",
    "    def __init__(self, x):\n",
    "        self.x = x\n",
    "        \n",
    "    def x2(self):\n",
    "        return self.x * 2\n",
    "    \n",
    "m = MyClass(10)\n",
    "m.x2()"
   ]
  },
  {
   "cell_type": "code",
   "execution_count": 34,
   "id": "33fc423b",
   "metadata": {},
   "outputs": [
    {
     "data": {
      "text/plain": [
       "<bound method MyClass.x2 of <__main__.MyClass object at 0x11b18af20>>"
      ]
     },
     "execution_count": 34,
     "metadata": {},
     "output_type": "execute_result"
    }
   ],
   "source": [
    "m.x2"
   ]
  },
  {
   "cell_type": "code",
   "execution_count": null,
   "id": "640f29c5",
   "metadata": {},
   "outputs": [],
   "source": [
    "m.x2()  #  --->  MyClass.x2(m)"
   ]
  },
  {
   "cell_type": "code",
   "execution_count": 35,
   "id": "612bb3ec",
   "metadata": {},
   "outputs": [
    {
     "data": {
      "text/plain": [
       "mappingproxy({'__module__': '__main__',\n",
       "              '__init__': <function __main__.MyClass.__init__(self, x)>,\n",
       "              'x2': <function __main__.MyClass.x2(self)>,\n",
       "              '__dict__': <attribute '__dict__' of 'MyClass' objects>,\n",
       "              '__weakref__': <attribute '__weakref__' of 'MyClass' objects>,\n",
       "              '__doc__': None})"
      ]
     },
     "execution_count": 35,
     "metadata": {},
     "output_type": "execute_result"
    }
   ],
   "source": [
    "MyClass.__dict__"
   ]
  },
  {
   "cell_type": "code",
   "execution_count": 36,
   "id": "0ed2dc01",
   "metadata": {},
   "outputs": [
    {
     "data": {
      "text/plain": [
       "'Hello!'"
      ]
     },
     "execution_count": 36,
     "metadata": {},
     "output_type": "execute_result"
    }
   ],
   "source": [
    "class MyClass:\n",
    "    def __init__(self, x):\n",
    "        self.x = x\n",
    "        \n",
    "    @staticmethod\n",
    "    def hello():\n",
    "        return 'Hello!'\n",
    "    \n",
    "m = MyClass(10)\n",
    "m.hello()"
   ]
  },
  {
   "cell_type": "code",
   "execution_count": 37,
   "id": "e7d7d557",
   "metadata": {},
   "outputs": [
    {
     "data": {
      "text/plain": [
       "'Hello!'"
      ]
     },
     "execution_count": 37,
     "metadata": {},
     "output_type": "execute_result"
    }
   ],
   "source": [
    "MyClass.hello()"
   ]
  },
  {
   "cell_type": "code",
   "execution_count": 38,
   "id": "1c1f910c",
   "metadata": {},
   "outputs": [
    {
     "data": {
      "text/plain": [
       "function"
      ]
     },
     "execution_count": 38,
     "metadata": {},
     "output_type": "execute_result"
    }
   ],
   "source": [
    "type(MyClass.hello)"
   ]
  },
  {
   "cell_type": "code",
   "execution_count": 39,
   "id": "49e8f7c7",
   "metadata": {},
   "outputs": [
    {
     "data": {
      "text/plain": [
       "function"
      ]
     },
     "execution_count": 39,
     "metadata": {},
     "output_type": "execute_result"
    }
   ],
   "source": [
    "type(m.hello)"
   ]
  },
  {
   "cell_type": "markdown",
   "id": "423bc8b1",
   "metadata": {},
   "source": [
    "# Iterators"
   ]
  },
  {
   "cell_type": "code",
   "execution_count": 40,
   "id": "7dca8e51",
   "metadata": {},
   "outputs": [
    {
     "name": "stdout",
     "output_type": "stream",
     "text": [
      "a\n",
      "b\n",
      "c\n",
      "d\n"
     ]
    }
   ],
   "source": [
    "for one_item in 'abcd':\n",
    "    print(one_item)"
   ]
  },
  {
   "cell_type": "code",
   "execution_count": 41,
   "id": "8815f14a",
   "metadata": {},
   "outputs": [
    {
     "ename": "TypeError",
     "evalue": "'int' object is not iterable",
     "output_type": "error",
     "traceback": [
      "\u001b[0;31m---------------------------------------------------------------------------\u001b[0m",
      "\u001b[0;31mTypeError\u001b[0m                                 Traceback (most recent call last)",
      "\u001b[0;32m/var/folders/rr/0mnyyv811fs5vyp22gf4fxk00000gn/T/ipykernel_40969/1987108268.py\u001b[0m in \u001b[0;36m<module>\u001b[0;34m\u001b[0m\n\u001b[0;32m----> 1\u001b[0;31m \u001b[0;32mfor\u001b[0m \u001b[0mone_item\u001b[0m \u001b[0;32min\u001b[0m \u001b[0;36m5\u001b[0m\u001b[0;34m:\u001b[0m\u001b[0;34m\u001b[0m\u001b[0;34m\u001b[0m\u001b[0m\n\u001b[0m\u001b[1;32m      2\u001b[0m     \u001b[0mprint\u001b[0m\u001b[0;34m(\u001b[0m\u001b[0mone_item\u001b[0m\u001b[0;34m)\u001b[0m\u001b[0;34m\u001b[0m\u001b[0;34m\u001b[0m\u001b[0m\n",
      "\u001b[0;31mTypeError\u001b[0m: 'int' object is not iterable"
     ]
    }
   ],
   "source": [
    "for one_item in 5:\n",
    "    print(one_item)"
   ]
  },
  {
   "cell_type": "code",
   "execution_count": 42,
   "id": "101c6c36",
   "metadata": {},
   "outputs": [
    {
     "data": {
      "text/plain": [
       "<str_iterator at 0x11b18bf70>"
      ]
     },
     "execution_count": 42,
     "metadata": {},
     "output_type": "execute_result"
    }
   ],
   "source": [
    "s = 'abcd'\n",
    "\n",
    "# ask if the object is iterable\n",
    "iter('abcd')"
   ]
  },
  {
   "cell_type": "code",
   "execution_count": 43,
   "id": "979b4f37",
   "metadata": {},
   "outputs": [
    {
     "data": {
      "text/plain": [
       "<str_iterator at 0x11b18b430>"
      ]
     },
     "execution_count": 43,
     "metadata": {},
     "output_type": "execute_result"
    }
   ],
   "source": [
    "iter('abcd')"
   ]
  },
  {
   "cell_type": "code",
   "execution_count": 44,
   "id": "8715b590",
   "metadata": {},
   "outputs": [
    {
     "data": {
      "text/plain": [
       "<str_iterator at 0x11b18b370>"
      ]
     },
     "execution_count": 44,
     "metadata": {},
     "output_type": "execute_result"
    }
   ],
   "source": [
    "iter('abcd')"
   ]
  },
  {
   "cell_type": "code",
   "execution_count": 45,
   "id": "ff8075de",
   "metadata": {},
   "outputs": [],
   "source": [
    "# if it is iterable, store the iterator object in i\n",
    "i = iter('abcd')"
   ]
  },
  {
   "cell_type": "code",
   "execution_count": 46,
   "id": "d76213a7",
   "metadata": {},
   "outputs": [
    {
     "data": {
      "text/plain": [
       "'a'"
      ]
     },
     "execution_count": 46,
     "metadata": {},
     "output_type": "execute_result"
    }
   ],
   "source": [
    "# ask for the next item\n",
    "next(i)"
   ]
  },
  {
   "cell_type": "code",
   "execution_count": 47,
   "id": "92748edd",
   "metadata": {},
   "outputs": [
    {
     "data": {
      "text/plain": [
       "'b'"
      ]
     },
     "execution_count": 47,
     "metadata": {},
     "output_type": "execute_result"
    }
   ],
   "source": [
    "next(i)"
   ]
  },
  {
   "cell_type": "code",
   "execution_count": 48,
   "id": "1a7735ea",
   "metadata": {},
   "outputs": [
    {
     "data": {
      "text/plain": [
       "'c'"
      ]
     },
     "execution_count": 48,
     "metadata": {},
     "output_type": "execute_result"
    }
   ],
   "source": [
    "next(i)"
   ]
  },
  {
   "cell_type": "code",
   "execution_count": 49,
   "id": "0d96ced7",
   "metadata": {},
   "outputs": [
    {
     "data": {
      "text/plain": [
       "'d'"
      ]
     },
     "execution_count": 49,
     "metadata": {},
     "output_type": "execute_result"
    }
   ],
   "source": [
    "next(i)"
   ]
  },
  {
   "cell_type": "code",
   "execution_count": 50,
   "id": "083c22be",
   "metadata": {},
   "outputs": [
    {
     "ename": "StopIteration",
     "evalue": "",
     "output_type": "error",
     "traceback": [
      "\u001b[0;31m---------------------------------------------------------------------------\u001b[0m",
      "\u001b[0;31mStopIteration\u001b[0m                             Traceback (most recent call last)",
      "\u001b[0;32m/var/folders/rr/0mnyyv811fs5vyp22gf4fxk00000gn/T/ipykernel_40969/1939748483.py\u001b[0m in \u001b[0;36m<module>\u001b[0;34m\u001b[0m\n\u001b[0;32m----> 1\u001b[0;31m \u001b[0mnext\u001b[0m\u001b[0;34m(\u001b[0m\u001b[0mi\u001b[0m\u001b[0;34m)\u001b[0m\u001b[0;34m\u001b[0m\u001b[0;34m\u001b[0m\u001b[0m\n\u001b[0m",
      "\u001b[0;31mStopIteration\u001b[0m: "
     ]
    }
   ],
   "source": [
    "next(i)"
   ]
  },
  {
   "cell_type": "markdown",
   "id": "c09b3fc5",
   "metadata": {},
   "source": [
    "1. Ask for an object's iterator with `iter`\n",
    "   - If not iterable, we get a `TypeError` exception\n",
    "   - If iterable, we get an iterator object back\n",
    "2. Run `next` on that iterator that we got back\n",
    "   - If we get a `StopIteration` exception, we stop\n",
    "   - Or we get an object back, the next value\n",
    "3. Return to step 2   "
   ]
  },
  {
   "cell_type": "code",
   "execution_count": 57,
   "id": "31215cb1",
   "metadata": {},
   "outputs": [
    {
     "name": "stdout",
     "output_type": "stream",
     "text": [
      "\tMyIterator.__init__, data='abcd'\n",
      "\tMyIterator.__iter__, self.data='abcd', self.index=0\n",
      "\tMyIterator.__next__, self.data='abcd', self.index=0\n",
      "\tReturning a\n",
      "a\n",
      "\tMyIterator.__next__, self.data='abcd', self.index=1\n",
      "\tReturning b\n",
      "b\n",
      "\tMyIterator.__next__, self.data='abcd', self.index=2\n",
      "\tReturning c\n",
      "c\n",
      "\tMyIterator.__next__, self.data='abcd', self.index=3\n",
      "\tReturning d\n",
      "d\n",
      "\tMyIterator.__next__, self.data='abcd', self.index=4\n",
      "\tStopping the iteration\n"
     ]
    }
   ],
   "source": [
    "class MyIterator:\n",
    "    def __init__(self, data):\n",
    "        print(f'\\tMyIterator.__init__, {data=}')\n",
    "        self.data = data\n",
    "        self.index = 0\n",
    "        \n",
    "    def __iter__(self):    # returns the object that implements \"next\"\n",
    "        print(f'\\tMyIterator.__iter__, {self.data=}, {self.index=}')\n",
    "        return self\n",
    "    \n",
    "    def __next__(self):\n",
    "        print(f'\\tMyIterator.__next__, {self.data=}, {self.index=}')\n",
    "        if self.index >= len(self.data):\n",
    "            print(f'\\tStopping the iteration')\n",
    "            raise StopIteration\n",
    "            \n",
    "        value = self.data[self.index]\n",
    "        self.index += 1\n",
    "        print(f'\\tReturning {value}')\n",
    "        return value\n",
    "\n",
    "m = MyIterator('abcd')\n",
    "\n",
    "for one_item in m:\n",
    "    print(one_item)"
   ]
  },
  {
   "cell_type": "markdown",
   "id": "187c3e48",
   "metadata": {},
   "source": [
    "# Exercise: Circle\n",
    "\n",
    "1. Implement a `Circle` class that is an iterator.\n",
    "2. `Circle` takes two arguments:\n",
    "    - `data`, a sequence (string, list, tuple)\n",
    "    - `n`, number of results we'll get from our object\n",
    "3. If `n` is more than the number of objects in `data`, it returns to the start\n",
    "\n",
    "```python\n",
    "c = Circle('abcd', 7)\n",
    "\n",
    "for one_item in c:\n",
    "    print(one_item)   # a b c d a b c\n",
    "\n",
    "```"
   ]
  },
  {
   "cell_type": "code",
   "execution_count": 60,
   "id": "ac566991",
   "metadata": {},
   "outputs": [
    {
     "name": "stdout",
     "output_type": "stream",
     "text": [
      "a\n",
      "b\n",
      "c\n",
      "d\n",
      "a\n",
      "b\n",
      "c\n"
     ]
    }
   ],
   "source": [
    "class Circle:\n",
    "    def __init__(self, data, n):\n",
    "        self.data = data\n",
    "        self.n = n\n",
    "        self.index = 0\n",
    "        \n",
    "    def __iter__(self):\n",
    "        return self\n",
    "    \n",
    "    def __next__(self):\n",
    "        if self.index >= self.n:\n",
    "            raise StopIteration\n",
    "            \n",
    "        value = self.data[self.index % len(self.data)]\n",
    "        self.index += 1\n",
    "        return value\n",
    "    \n",
    "c = Circle('abcd', 7)    \n",
    "\n",
    "for one_item in c:\n",
    "    print(one_item)"
   ]
  },
  {
   "cell_type": "code",
   "execution_count": 61,
   "id": "655e2d90",
   "metadata": {},
   "outputs": [],
   "source": [
    "s = 'abcd'\n",
    "i1 = iter(s)\n",
    "i2 = iter(s)"
   ]
  },
  {
   "cell_type": "code",
   "execution_count": 62,
   "id": "566e1e0f",
   "metadata": {},
   "outputs": [
    {
     "data": {
      "text/plain": [
       "<str_iterator at 0x11b189f30>"
      ]
     },
     "execution_count": 62,
     "metadata": {},
     "output_type": "execute_result"
    }
   ],
   "source": [
    "i1"
   ]
  },
  {
   "cell_type": "code",
   "execution_count": 63,
   "id": "b0df600a",
   "metadata": {},
   "outputs": [
    {
     "data": {
      "text/plain": [
       "<str_iterator at 0x11b18be80>"
      ]
     },
     "execution_count": 63,
     "metadata": {},
     "output_type": "execute_result"
    }
   ],
   "source": [
    "i2"
   ]
  },
  {
   "cell_type": "code",
   "execution_count": 64,
   "id": "686d766d",
   "metadata": {},
   "outputs": [
    {
     "data": {
      "text/plain": [
       "'a'"
      ]
     },
     "execution_count": 64,
     "metadata": {},
     "output_type": "execute_result"
    }
   ],
   "source": [
    "next(i1)"
   ]
  },
  {
   "cell_type": "code",
   "execution_count": 65,
   "id": "01560112",
   "metadata": {},
   "outputs": [
    {
     "data": {
      "text/plain": [
       "'b'"
      ]
     },
     "execution_count": 65,
     "metadata": {},
     "output_type": "execute_result"
    }
   ],
   "source": [
    "next(i1)"
   ]
  },
  {
   "cell_type": "code",
   "execution_count": 66,
   "id": "78563615",
   "metadata": {},
   "outputs": [
    {
     "data": {
      "text/plain": [
       "'c'"
      ]
     },
     "execution_count": 66,
     "metadata": {},
     "output_type": "execute_result"
    }
   ],
   "source": [
    "next(i1)"
   ]
  },
  {
   "cell_type": "code",
   "execution_count": 67,
   "id": "dbc58596",
   "metadata": {},
   "outputs": [
    {
     "data": {
      "text/plain": [
       "'a'"
      ]
     },
     "execution_count": 67,
     "metadata": {},
     "output_type": "execute_result"
    }
   ],
   "source": [
    "next(i2)"
   ]
  },
  {
   "cell_type": "code",
   "execution_count": 68,
   "id": "d8eeacf2",
   "metadata": {},
   "outputs": [
    {
     "data": {
      "text/plain": [
       "'b'"
      ]
     },
     "execution_count": 68,
     "metadata": {},
     "output_type": "execute_result"
    }
   ],
   "source": [
    "next(i2)"
   ]
  },
  {
   "cell_type": "code",
   "execution_count": 69,
   "id": "ad91cc51",
   "metadata": {},
   "outputs": [
    {
     "data": {
      "text/plain": [
       "'d'"
      ]
     },
     "execution_count": 69,
     "metadata": {},
     "output_type": "execute_result"
    }
   ],
   "source": [
    "next(i1)"
   ]
  },
  {
   "cell_type": "code",
   "execution_count": 71,
   "id": "f498efd5",
   "metadata": {},
   "outputs": [
    {
     "name": "stdout",
     "output_type": "stream",
     "text": [
      "*** A  ***\n",
      "a\n",
      "b\n",
      "c\n",
      "d\n",
      "a\n",
      "b\n",
      "c\n",
      "*** B  ***\n",
      "a\n",
      "b\n",
      "c\n",
      "d\n",
      "a\n",
      "b\n",
      "c\n"
     ]
    }
   ],
   "source": [
    "class CircleIterator:\n",
    "    def __init__(self, data, n):\n",
    "        self.data = data\n",
    "        self.n = n\n",
    "        self.index = 0\n",
    "        \n",
    "    def __next__(self):\n",
    "        if self.index >= self.n:\n",
    "            raise StopIteration\n",
    "            \n",
    "        value = self.data[self.index % len(self.data)]\n",
    "        self.index += 1\n",
    "        return value\n",
    "\n",
    "class Circle:\n",
    "    def __init__(self, data, n):\n",
    "        self.data = data\n",
    "        self.n = n\n",
    "        \n",
    "    def __iter__(self):\n",
    "        return CircleIterator(self.data, self.n)\n",
    "    \n",
    "    \n",
    "c = Circle('abcd', 7)    \n",
    "\n",
    "print('*** A  ***')\n",
    "for one_item in c:\n",
    "    print(one_item)\n",
    "    \n",
    "print('*** B  ***')\n",
    "for one_item in c:\n",
    "    print(one_item)    "
   ]
  },
  {
   "cell_type": "code",
   "execution_count": 72,
   "id": "ee9bd190",
   "metadata": {},
   "outputs": [
    {
     "name": "stdout",
     "output_type": "stream",
     "text": [
      "*** A  ***\n",
      "a\n",
      "b\n",
      "c\n",
      "d\n",
      "a\n",
      "b\n",
      "c\n",
      "*** B  ***\n",
      "a\n",
      "b\n",
      "c\n",
      "d\n",
      "a\n",
      "b\n",
      "c\n"
     ]
    }
   ],
   "source": [
    "class CircleIterator:\n",
    "    def __init__(self, circle):\n",
    "        self.circle = circle\n",
    "        self.index = 0\n",
    "        \n",
    "    def __next__(self):\n",
    "        if self.index >= self.circle.n:\n",
    "            raise StopIteration\n",
    "            \n",
    "        value = self.circle.data[self.index % len(self.circle.data)]\n",
    "        self.index += 1\n",
    "        return value\n",
    "\n",
    "class Circle:\n",
    "    def __init__(self, data, n):\n",
    "        self.data = data\n",
    "        self.n = n\n",
    "        \n",
    "    def __iter__(self):\n",
    "        return CircleIterator(self)\n",
    "    \n",
    "    \n",
    "c = Circle('abcd', 7)    \n",
    "\n",
    "print('*** A  ***')\n",
    "for one_item in c:\n",
    "    print(one_item)\n",
    "    \n",
    "print('*** B  ***')\n",
    "for one_item in c:\n",
    "    print(one_item)    "
   ]
  },
  {
   "cell_type": "code",
   "execution_count": 73,
   "id": "4ae3b574",
   "metadata": {},
   "outputs": [],
   "source": [
    "def myfunc():\n",
    "    return 1\n",
    "    return 2\n",
    "    return 3"
   ]
  },
  {
   "cell_type": "code",
   "execution_count": 74,
   "id": "b3124005",
   "metadata": {},
   "outputs": [
    {
     "data": {
      "text/plain": [
       "1"
      ]
     },
     "execution_count": 74,
     "metadata": {},
     "output_type": "execute_result"
    }
   ],
   "source": [
    "myfunc()"
   ]
  },
  {
   "cell_type": "code",
   "execution_count": 75,
   "id": "2d4c42f5",
   "metadata": {},
   "outputs": [
    {
     "name": "stdout",
     "output_type": "stream",
     "text": [
      "  2           0 LOAD_CONST               1 (1)\n",
      "              2 RETURN_VALUE\n"
     ]
    }
   ],
   "source": [
    "import dis\n",
    "dis.dis(myfunc)"
   ]
  },
  {
   "cell_type": "code",
   "execution_count": 76,
   "id": "216f25d5",
   "metadata": {},
   "outputs": [],
   "source": [
    "def myfunc():      # generator function\n",
    "    yield 1\n",
    "    yield 2\n",
    "    yield 3"
   ]
  },
  {
   "cell_type": "code",
   "execution_count": 77,
   "id": "e27dabe9",
   "metadata": {},
   "outputs": [
    {
     "data": {
      "text/plain": [
       "<generator object myfunc at 0x11af83b50>"
      ]
     },
     "execution_count": 77,
     "metadata": {},
     "output_type": "execute_result"
    }
   ],
   "source": [
    "myfunc()   # returns a generator"
   ]
  },
  {
   "cell_type": "code",
   "execution_count": 78,
   "id": "c9071751",
   "metadata": {},
   "outputs": [],
   "source": [
    "g = myfunc()"
   ]
  },
  {
   "cell_type": "code",
   "execution_count": 79,
   "id": "00d5e172",
   "metadata": {},
   "outputs": [
    {
     "data": {
      "text/plain": [
       "1"
      ]
     },
     "execution_count": 79,
     "metadata": {},
     "output_type": "execute_result"
    }
   ],
   "source": [
    "next(g)   # runs the generator function through the next yield"
   ]
  },
  {
   "cell_type": "code",
   "execution_count": 80,
   "id": "e30e57fb",
   "metadata": {},
   "outputs": [
    {
     "data": {
      "text/plain": [
       "2"
      ]
     },
     "execution_count": 80,
     "metadata": {},
     "output_type": "execute_result"
    }
   ],
   "source": [
    "next(g)"
   ]
  },
  {
   "cell_type": "code",
   "execution_count": 81,
   "id": "71f02ceb",
   "metadata": {},
   "outputs": [
    {
     "data": {
      "text/plain": [
       "3"
      ]
     },
     "execution_count": 81,
     "metadata": {},
     "output_type": "execute_result"
    }
   ],
   "source": [
    "next(g)"
   ]
  },
  {
   "cell_type": "code",
   "execution_count": 82,
   "id": "8b0505e3",
   "metadata": {},
   "outputs": [
    {
     "ename": "StopIteration",
     "evalue": "",
     "output_type": "error",
     "traceback": [
      "\u001b[0;31m---------------------------------------------------------------------------\u001b[0m",
      "\u001b[0;31mStopIteration\u001b[0m                             Traceback (most recent call last)",
      "\u001b[0;32m/var/folders/rr/0mnyyv811fs5vyp22gf4fxk00000gn/T/ipykernel_40969/4253931490.py\u001b[0m in \u001b[0;36m<module>\u001b[0;34m\u001b[0m\n\u001b[0;32m----> 1\u001b[0;31m \u001b[0mnext\u001b[0m\u001b[0;34m(\u001b[0m\u001b[0mg\u001b[0m\u001b[0;34m)\u001b[0m\u001b[0;34m\u001b[0m\u001b[0;34m\u001b[0m\u001b[0m\n\u001b[0m",
      "\u001b[0;31mStopIteration\u001b[0m: "
     ]
    }
   ],
   "source": [
    "next(g)"
   ]
  },
  {
   "cell_type": "code",
   "execution_count": 83,
   "id": "ebcf1d38",
   "metadata": {},
   "outputs": [],
   "source": [
    "def myfunc():      # generator function\n",
    "    yield 1\n",
    "    yield 2\n",
    "    yield 3"
   ]
  },
  {
   "cell_type": "code",
   "execution_count": 84,
   "id": "970523d3",
   "metadata": {},
   "outputs": [],
   "source": [
    "g = myfunc()"
   ]
  },
  {
   "cell_type": "code",
   "execution_count": 85,
   "id": "124df1d2",
   "metadata": {},
   "outputs": [
    {
     "data": {
      "text/plain": [
       "1"
      ]
     },
     "execution_count": 85,
     "metadata": {},
     "output_type": "execute_result"
    }
   ],
   "source": [
    "next(g)"
   ]
  },
  {
   "cell_type": "code",
   "execution_count": 87,
   "id": "193beb61",
   "metadata": {},
   "outputs": [
    {
     "data": {
      "text/plain": [
       "2"
      ]
     },
     "execution_count": 87,
     "metadata": {},
     "output_type": "execute_result"
    }
   ],
   "source": [
    "g.gi_frame.f_lineno"
   ]
  },
  {
   "cell_type": "code",
   "execution_count": 88,
   "id": "2572df22",
   "metadata": {},
   "outputs": [
    {
     "data": {
      "text/plain": [
       "2"
      ]
     },
     "execution_count": 88,
     "metadata": {},
     "output_type": "execute_result"
    }
   ],
   "source": [
    "next(g)"
   ]
  },
  {
   "cell_type": "code",
   "execution_count": 89,
   "id": "6deff891",
   "metadata": {},
   "outputs": [
    {
     "data": {
      "text/plain": [
       "3"
      ]
     },
     "execution_count": 89,
     "metadata": {},
     "output_type": "execute_result"
    }
   ],
   "source": [
    "g.gi_frame.f_lineno"
   ]
  },
  {
   "cell_type": "code",
   "execution_count": 90,
   "id": "963057a7",
   "metadata": {},
   "outputs": [],
   "source": [
    "def fib():\n",
    "    first = 0\n",
    "    second = 1\n",
    "    while True:\n",
    "        yield first\n",
    "        first, second = second, first+second"
   ]
  },
  {
   "cell_type": "code",
   "execution_count": 92,
   "id": "c8e08fe7",
   "metadata": {},
   "outputs": [
    {
     "name": "stdout",
     "output_type": "stream",
     "text": [
      "0 1 1 2 3 5 8 13 21 34 55 89 144 233 377 610 987 1597 2584 4181 6765 10946 17711 28657 46368 75025 121393 196418 317811 514229 832040 1346269 2178309 3524578 5702887 9227465 14930352 24157817 39088169 63245986 102334155 165580141 267914296 433494437 701408733 1134903170 1836311903 2971215073 4807526976 7778742049 12586269025 "
     ]
    }
   ],
   "source": [
    "for one_item in fib():\n",
    "    print(one_item, end=' ')\n",
    "    \n",
    "    if one_item > 10_000_000_000:\n",
    "        break"
   ]
  },
  {
   "cell_type": "code",
   "execution_count": 94,
   "id": "c5baef66",
   "metadata": {},
   "outputs": [
    {
     "data": {
      "text/plain": [
       "[0, 1, 4, 9, 16, 25, 36, 49, 64, 81]"
      ]
     },
     "execution_count": 94,
     "metadata": {},
     "output_type": "execute_result"
    }
   ],
   "source": [
    "list(map(lambda x: x**2, range(10)))"
   ]
  },
  {
   "cell_type": "code",
   "execution_count": 95,
   "id": "b4c7dc54",
   "metadata": {},
   "outputs": [],
   "source": [
    "def myfunc():\n",
    "    yield 1\n",
    "    yield 2\n",
    "    return 3\n",
    "\n",
    "g = myfunc()"
   ]
  },
  {
   "cell_type": "code",
   "execution_count": 96,
   "id": "9b2587e2",
   "metadata": {},
   "outputs": [
    {
     "data": {
      "text/plain": [
       "1"
      ]
     },
     "execution_count": 96,
     "metadata": {},
     "output_type": "execute_result"
    }
   ],
   "source": [
    "next(g)"
   ]
  },
  {
   "cell_type": "code",
   "execution_count": 97,
   "id": "4eadd851",
   "metadata": {},
   "outputs": [
    {
     "data": {
      "text/plain": [
       "2"
      ]
     },
     "execution_count": 97,
     "metadata": {},
     "output_type": "execute_result"
    }
   ],
   "source": [
    "next(g)"
   ]
  },
  {
   "cell_type": "code",
   "execution_count": 98,
   "id": "63b012e3",
   "metadata": {},
   "outputs": [
    {
     "ename": "StopIteration",
     "evalue": "3",
     "output_type": "error",
     "traceback": [
      "\u001b[0;31m---------------------------------------------------------------------------\u001b[0m",
      "\u001b[0;31mStopIteration\u001b[0m                             Traceback (most recent call last)",
      "\u001b[0;32m/var/folders/rr/0mnyyv811fs5vyp22gf4fxk00000gn/T/ipykernel_40969/4253931490.py\u001b[0m in \u001b[0;36m<module>\u001b[0;34m\u001b[0m\n\u001b[0;32m----> 1\u001b[0;31m \u001b[0mnext\u001b[0m\u001b[0;34m(\u001b[0m\u001b[0mg\u001b[0m\u001b[0;34m)\u001b[0m\u001b[0;34m\u001b[0m\u001b[0;34m\u001b[0m\u001b[0m\n\u001b[0m",
      "\u001b[0;31mStopIteration\u001b[0m: 3"
     ]
    }
   ],
   "source": [
    "next(g)"
   ]
  },
  {
   "cell_type": "markdown",
   "id": "e78e0b66",
   "metadata": {},
   "source": [
    "# Exercise: `read_n`\n",
    "\n",
    "1. Define a generator function, `read_n`:\n",
    "    - First argument is a filename\n",
    "    - Second argument, `n`, is an integer\n",
    "2. Each iteration should return `n` lines from the file.\n",
    "3. The final iteration might have fewer than `n` lines.\n"
   ]
  },
  {
   "cell_type": "code",
   "execution_count": null,
   "id": "2e37533b",
   "metadata": {},
   "outputs": [],
   "source": [
    "for one_line in open('/etc/passwd'):\n",
    "    print(one_line)\n",
    "    \n",
    "for one_chunk in read_n('/etc/passwd', 5):\n",
    "    print(one_chunk)"
   ]
  }
 ],
 "metadata": {
  "kernelspec": {
   "display_name": "Python 3 (ipykernel)",
   "language": "python",
   "name": "python3"
  },
  "language_info": {
   "codemirror_mode": {
    "name": "ipython",
    "version": 3
   },
   "file_extension": ".py",
   "mimetype": "text/x-python",
   "name": "python",
   "nbconvert_exporter": "python",
   "pygments_lexer": "ipython3",
   "version": "3.10.1"
  }
 },
 "nbformat": 4,
 "nbformat_minor": 5
}
