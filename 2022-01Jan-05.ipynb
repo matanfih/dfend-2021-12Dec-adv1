{
 "cells": [
  {
   "cell_type": "markdown",
   "id": "acd5dd87",
   "metadata": {},
   "source": [
    "# Agenda\n",
    "\n",
    "1. Descriptors (vs. properties)\n",
    "2. Iterators\n",
    "     - Iterators and classes\n",
    "     - Generator functions\n",
    "     - Generator expressions\n",
    "3. Decorators\n",
    "4. Concurrency\n",
    "    - Threads\n",
    "    - Processes\n",
    "    - Executors"
   ]
  },
  {
   "cell_type": "code",
   "execution_count": 2,
   "id": "134461c3",
   "metadata": {},
   "outputs": [],
   "source": [
    "d = {'a':1, 'b':2, 'c':3}"
   ]
  },
  {
   "cell_type": "code",
   "execution_count": 3,
   "id": "7f7bb40f",
   "metadata": {},
   "outputs": [
    {
     "ename": "TypeError",
     "evalue": "unhashable type: 'list'",
     "output_type": "error",
     "traceback": [
      "\u001b[0;31m---------------------------------------------------------------------------\u001b[0m",
      "\u001b[0;31mTypeError\u001b[0m                                 Traceback (most recent call last)",
      "\u001b[0;32m/var/folders/rr/0mnyyv811fs5vyp22gf4fxk00000gn/T/ipykernel_40969/1716297533.py\u001b[0m in \u001b[0;36m<module>\u001b[0;34m\u001b[0m\n\u001b[1;32m      1\u001b[0m \u001b[0mmylist\u001b[0m \u001b[0;34m=\u001b[0m \u001b[0;34m[\u001b[0m\u001b[0;36m100\u001b[0m\u001b[0;34m,\u001b[0m \u001b[0;36m200\u001b[0m\u001b[0;34m,\u001b[0m \u001b[0;36m300\u001b[0m\u001b[0;34m]\u001b[0m\u001b[0;34m\u001b[0m\u001b[0;34m\u001b[0m\u001b[0m\n\u001b[0;32m----> 2\u001b[0;31m \u001b[0md\u001b[0m\u001b[0;34m[\u001b[0m\u001b[0mmylist\u001b[0m\u001b[0;34m]\u001b[0m \u001b[0;34m=\u001b[0m \u001b[0;36m4\u001b[0m\u001b[0;34m\u001b[0m\u001b[0;34m\u001b[0m\u001b[0m\n\u001b[0m",
      "\u001b[0;31mTypeError\u001b[0m: unhashable type: 'list'"
     ]
    }
   ],
   "source": [
    "mylist = [100, 200, 300]\n",
    "d[mylist] = 4"
   ]
  },
  {
   "cell_type": "code",
   "execution_count": 4,
   "id": "2a7fbedd",
   "metadata": {},
   "outputs": [],
   "source": [
    "t = (10, 20, 30)     # tuple is immutable, thus hashable\n",
    "d[t] = 100"
   ]
  },
  {
   "cell_type": "code",
   "execution_count": 6,
   "id": "4aa12bdf",
   "metadata": {},
   "outputs": [
    {
     "ename": "TypeError",
     "evalue": "unhashable type: 'list'",
     "output_type": "error",
     "traceback": [
      "\u001b[0;31m---------------------------------------------------------------------------\u001b[0m",
      "\u001b[0;31mTypeError\u001b[0m                                 Traceback (most recent call last)",
      "\u001b[0;32m/var/folders/rr/0mnyyv811fs5vyp22gf4fxk00000gn/T/ipykernel_40969/377402531.py\u001b[0m in \u001b[0;36m<module>\u001b[0;34m\u001b[0m\n\u001b[1;32m      1\u001b[0m \u001b[0mt\u001b[0m \u001b[0;34m=\u001b[0m \u001b[0;34m(\u001b[0m\u001b[0;36m10\u001b[0m\u001b[0;34m,\u001b[0m \u001b[0;36m20\u001b[0m\u001b[0;34m,\u001b[0m \u001b[0;34m[\u001b[0m\u001b[0;36m100\u001b[0m\u001b[0;34m,\u001b[0m \u001b[0;36m200\u001b[0m\u001b[0;34m,\u001b[0m \u001b[0;36m300\u001b[0m\u001b[0;34m]\u001b[0m\u001b[0;34m)\u001b[0m  \u001b[0;31m# tuple is immutable, *BUT* contains mutable, so *NOT* hashable\u001b[0m\u001b[0;34m\u001b[0m\u001b[0;34m\u001b[0m\u001b[0m\n\u001b[0;32m----> 2\u001b[0;31m \u001b[0md\u001b[0m\u001b[0;34m[\u001b[0m\u001b[0mt\u001b[0m\u001b[0;34m]\u001b[0m \u001b[0;34m=\u001b[0m \u001b[0;36m100\u001b[0m\u001b[0;34m\u001b[0m\u001b[0;34m\u001b[0m\u001b[0m\n\u001b[0m",
      "\u001b[0;31mTypeError\u001b[0m: unhashable type: 'list'"
     ]
    }
   ],
   "source": [
    "t = (10, 20, [100, 200, 300])  # tuple is immutable, *BUT* contains mutable, so *NOT* hashable\n",
    "d[t] = 100"
   ]
  },
  {
   "cell_type": "code",
   "execution_count": 7,
   "id": "8075ae3a",
   "metadata": {},
   "outputs": [],
   "source": [
    "# mutable and hashable? YES\n",
    "\n",
    "class Person:\n",
    "    def __init__(self, name):\n",
    "        self.name = name\n",
    "        \n",
    "p = Person('Reuven')    \n",
    "\n",
    "d[p] = 100"
   ]
  },
  {
   "cell_type": "code",
   "execution_count": 8,
   "id": "5960856f",
   "metadata": {},
   "outputs": [
    {
     "data": {
      "text/plain": [
       "'Reuven'"
      ]
     },
     "execution_count": 8,
     "metadata": {},
     "output_type": "execute_result"
    }
   ],
   "source": [
    "p.name"
   ]
  },
  {
   "cell_type": "code",
   "execution_count": 9,
   "id": "1ebf83ba",
   "metadata": {},
   "outputs": [],
   "source": [
    "p.name = 'something else'"
   ]
  },
  {
   "cell_type": "code",
   "execution_count": 10,
   "id": "88b83e57",
   "metadata": {},
   "outputs": [
    {
     "data": {
      "text/plain": [
       "100"
      ]
     },
     "execution_count": 10,
     "metadata": {},
     "output_type": "execute_result"
    }
   ],
   "source": [
    "d[p]"
   ]
  },
  {
   "cell_type": "code",
   "execution_count": 11,
   "id": "02bbeeaf",
   "metadata": {},
   "outputs": [
    {
     "data": {
      "text/plain": [
       "284314249"
      ]
     },
     "execution_count": 11,
     "metadata": {},
     "output_type": "execute_result"
    }
   ],
   "source": [
    "hash(p)"
   ]
  },
  {
   "cell_type": "code",
   "execution_count": 12,
   "id": "56d90839",
   "metadata": {},
   "outputs": [
    {
     "data": {
      "text/plain": [
       "4549027984"
      ]
     },
     "execution_count": 12,
     "metadata": {},
     "output_type": "execute_result"
    }
   ],
   "source": [
    "id(p)"
   ]
  },
  {
   "cell_type": "code",
   "execution_count": 13,
   "id": "03d23942",
   "metadata": {},
   "outputs": [],
   "source": [
    "class Person:\n",
    "    def __init__(self, name):\n",
    "        self.name = name\n",
    "        \n",
    "    def __hash__(self):\n",
    "        return hash(self.name)\n",
    "        \n",
    "p = Person('Reuven')    \n",
    "\n",
    "d[p] = 100"
   ]
  },
  {
   "cell_type": "code",
   "execution_count": 14,
   "id": "a2ef1d27",
   "metadata": {},
   "outputs": [
    {
     "data": {
      "text/plain": [
       "100"
      ]
     },
     "execution_count": 14,
     "metadata": {},
     "output_type": "execute_result"
    }
   ],
   "source": [
    "d[p]"
   ]
  },
  {
   "cell_type": "code",
   "execution_count": 15,
   "id": "dcaf52e1",
   "metadata": {},
   "outputs": [],
   "source": [
    "p.name = 'something else'"
   ]
  },
  {
   "cell_type": "code",
   "execution_count": 16,
   "id": "b753cd48",
   "metadata": {},
   "outputs": [
    {
     "ename": "KeyError",
     "evalue": "<__main__.Person object at 0x10f24ab30>",
     "output_type": "error",
     "traceback": [
      "\u001b[0;31m---------------------------------------------------------------------------\u001b[0m",
      "\u001b[0;31mKeyError\u001b[0m                                  Traceback (most recent call last)",
      "\u001b[0;32m/var/folders/rr/0mnyyv811fs5vyp22gf4fxk00000gn/T/ipykernel_40969/1085101255.py\u001b[0m in \u001b[0;36m<module>\u001b[0;34m\u001b[0m\n\u001b[0;32m----> 1\u001b[0;31m \u001b[0md\u001b[0m\u001b[0;34m[\u001b[0m\u001b[0mp\u001b[0m\u001b[0;34m]\u001b[0m\u001b[0;34m\u001b[0m\u001b[0;34m\u001b[0m\u001b[0m\n\u001b[0m",
      "\u001b[0;31mKeyError\u001b[0m: <__main__.Person object at 0x10f24ab30>"
     ]
    }
   ],
   "source": [
    "d[p]"
   ]
  },
  {
   "cell_type": "code",
   "execution_count": 17,
   "id": "5dc5ae83",
   "metadata": {},
   "outputs": [],
   "source": [
    "import random\n",
    "\n",
    "class Person:\n",
    "    def __init__(self, name):\n",
    "        self.name = name\n",
    "        \n",
    "    def __hash__(self):\n",
    "        return random.randint(0, 100_000)\n",
    "        \n",
    "p = Person('Reuven')    \n",
    "d[p] = 100"
   ]
  },
  {
   "cell_type": "code",
   "execution_count": 18,
   "id": "ba160c0d",
   "metadata": {
    "scrolled": true
   },
   "outputs": [
    {
     "ename": "KeyError",
     "evalue": "<__main__.Person object at 0x10f24ae30>",
     "output_type": "error",
     "traceback": [
      "\u001b[0;31m---------------------------------------------------------------------------\u001b[0m",
      "\u001b[0;31mKeyError\u001b[0m                                  Traceback (most recent call last)",
      "\u001b[0;32m/var/folders/rr/0mnyyv811fs5vyp22gf4fxk00000gn/T/ipykernel_40969/1085101255.py\u001b[0m in \u001b[0;36m<module>\u001b[0;34m\u001b[0m\n\u001b[0;32m----> 1\u001b[0;31m \u001b[0md\u001b[0m\u001b[0;34m[\u001b[0m\u001b[0mp\u001b[0m\u001b[0;34m]\u001b[0m\u001b[0;34m\u001b[0m\u001b[0;34m\u001b[0m\u001b[0m\n\u001b[0m",
      "\u001b[0;31mKeyError\u001b[0m: <__main__.Person object at 0x10f24ae30>"
     ]
    }
   ],
   "source": [
    "d[p]"
   ]
  },
  {
   "cell_type": "code",
   "execution_count": 19,
   "id": "c271b9b1",
   "metadata": {},
   "outputs": [],
   "source": [
    "# Properties\n",
    "# looks like data, acts like getter/setter\n",
    "\n",
    "class Thermostat:\n",
    "    def __init__(self):\n",
    "        self._temp = 20\n",
    "        \n",
    "    @property\n",
    "    def temp(self):\n",
    "        return self._temp\n",
    "    \n",
    "    @temp.setter\n",
    "    def temp(self, new_temp):\n",
    "        if new_temp < 10:\n",
    "            raise ValueError('Too low!')\n",
    "        \n",
    "        if new_temp > 40:\n",
    "            raise ValueError('Too high!')\n",
    "        \n",
    "        self._temp = new_temp"
   ]
  },
  {
   "cell_type": "code",
   "execution_count": null,
   "id": "34db4ec5",
   "metadata": {},
   "outputs": [],
   "source": []
  }
 ],
 "metadata": {
  "kernelspec": {
   "display_name": "Python 3 (ipykernel)",
   "language": "python",
   "name": "python3"
  },
  "language_info": {
   "codemirror_mode": {
    "name": "ipython",
    "version": 3
   },
   "file_extension": ".py",
   "mimetype": "text/x-python",
   "name": "python",
   "nbconvert_exporter": "python",
   "pygments_lexer": "ipython3",
   "version": "3.10.1"
  }
 },
 "nbformat": 4,
 "nbformat_minor": 5
}
